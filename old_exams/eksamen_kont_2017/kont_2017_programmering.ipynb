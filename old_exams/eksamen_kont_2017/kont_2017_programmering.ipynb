{
 "cells": [
  {
   "cell_type": "markdown",
   "metadata": {
    "deletable": false,
    "editable": false,
    "run_control": {
     "frozen": true
    }
   },
   "source": [
    "## Eksamen kont 2017 Programmering\n",
    "\n",
    "**Merk at teori og kodeforståelse ikke er med her.**\n",
    "Hele eksamen ligger på BlackBoard. Her ligger også funksjoner som var vedlagt oppgaven, som kan være nyttig å bruke mens du arbeider med oppgavene under."
   ]
  },
  {
   "cell_type": "markdown",
   "metadata": {
    "deletable": false,
    "editable": false,
    "run_control": {
     "frozen": true
    }
   },
   "source": [
    "## *Oppgave 2 Programmering Priskrig (25%)*\n",
    "\n",
    "Du kan anta at alle funksjonene mottar gyldige argumenter\n",
    "(inn-verdier). Du kan benytte deg av funksjoner fra\n",
    "deloppgaver selv om du ikke har løst deloppgaven.\n",
    "\n",
    "I denne oppgaven skal du lage et program for å\n",
    "sammenlikne priser på utvalgte varer fra forskjellige\n",
    "butikker. Utgangspunktet for denne sammenlikningen er ei\n",
    "tekstfil der hver linje består av tre elementer adskilt med\n",
    "tabulator (”`\\t`”): Navn på butikkjede, Navn på vare, og Pris\n",
    "(se tekstboks). Merk at en slik tekst fil kan ha varierende\n",
    "antall butikkjeder, samt varierende antall varer som\n",
    "sammenliknes.\n",
    "\n",
    "(De oppgitte prisene er fiktive og ikke reelle priser fra de oppgitte butikkjedene.)\n",
    "\n",
    "<img src=\"img/pricewar.png\" width=\"250px\" align=\"left\">"
   ]
  },
  {
   "cell_type": "markdown",
   "metadata": {
    "deletable": false,
    "editable": false,
    "run_control": {
     "frozen": true
    }
   },
   "source": [
    "## Oppgave 2a (5%)\n",
    "\n",
    "Skriv funksjonen `file_to_list` som har en inputparameter `filename`. Denne funksjonen skal lese inn en\n",
    "tekstfil `filename` og returnere en tabell (liste av lister),\n",
    "der hver rekke inneholder navn på butikkjede, navn på vare,\n",
    "og pris på vare. Merk at pris på vare skal representeres som et flyttall (float).\n",
    "\n",
    "Eksempel på kall av funksjon med filen ’pricewar.txt’ som vist ovenfor:\n",
    "\n",
    "<img src=\"img/2a_ex.png\" width=\"700px\" align=\"left\">"
   ]
  },
  {
   "cell_type": "code",
   "execution_count": 12,
   "metadata": {},
   "outputs": [],
   "source": [
    "# Skriv ditt svar her..."
   ]
  },
  {
   "cell_type": "markdown",
   "metadata": {
    "deletable": false,
    "editable": false,
    "run_control": {
     "frozen": true
    }
   },
   "source": [
    "## Oppgave 2b (4%)\n",
    "\n",
    "Skriv funksjonen `list_stores` som har `dataList` som input-parameter. `dataList` er en tabell\n",
    "(liste av lister) lik den som blir returnert fra funksjonen `file_to_list` i Oppgave 2a. Funksjonen\n",
    "skal returnere en komplett liste av butikkjeder den finner i tabellen `dataList`. Hver butikkjede skal\n",
    "kun ha ett innslag i lista. Merk også at man aldri vet hvilke butikkjeder som lista vil inneholde.\n",
    "Rekkefølgen på butikkjedene skal samsvare med rekkefølgen de kommer i tabellen `dataList`.\n",
    "\n",
    "Eksempel på kall av funksjon med filen ’pricewar.txt’ som vist ovenfor:\n",
    "\n",
    "<img src=\"img/2b_ex.png\" width=\"700px\" align=\"left\">"
   ]
  },
  {
   "cell_type": "code",
   "execution_count": 13,
   "metadata": {},
   "outputs": [],
   "source": [
    "# Skriv ditt svar her..."
   ]
  },
  {
   "cell_type": "markdown",
   "metadata": {
    "deletable": false,
    "editable": false,
    "run_control": {
     "frozen": true
    }
   },
   "source": [
    "## Oppgave 2c (5%)\n",
    "\n",
    "Skriv funksjonen `sum_prices_stores` som har input-parameterne `dataList` og `storeList`\n",
    "(fra Oppgave 2a og 2b). Funksjonen skal returnere en liste av totalsummen for alle varene per\n",
    "butikkjede. Rekkefølgen på totalsummene skal være den samme som rekkefølgen på butikkjedene i\n",
    "`storeList`.\n",
    "\n",
    "Eksempel på kall av funksjon med fila ’pricewar.txt’ som vist ovenfor. Resultatet er summen av\n",
    "priser for butikkjedene Rema, Extra, Kiwi og Bunnpris (i samme rekkefølgen som Oppgave 2b).\n",
    "\n",
    "<img src=\"img/2c_ex.png\" width=\"700px\" align=\"left\">"
   ]
  },
  {
   "cell_type": "code",
   "execution_count": 14,
   "metadata": {},
   "outputs": [],
   "source": [
    "# Skriv ditt svar her..."
   ]
  },
  {
   "cell_type": "markdown",
   "metadata": {
    "deletable": false,
    "editable": false,
    "run_control": {
     "frozen": true
    }
   },
   "source": [
    "## Oppgave 2d (6%)\n",
    "\n",
    "Skriv funksjonen `rank_stores` som har input-parameterne `storeList` og `sumStores` (fra\n",
    "oppgave 2b og 2c). Funksjonen skal returnere ei liste med navnene til butikkjedene sortert fra kjeden\n",
    "med lavest pris til høyest pris.\n",
    "\n",
    "Eksempel på kall av funksjon med fila ’pricewar.txt’ som vist ovenfor. Merk at før `rank_stores`\n",
    "kjøres, er lista av butikkjeder i samme rekkefølge som i tekstfila ’pricewar.txt’. Etter å ha kjørt\n",
    "funksjonen `rank_stores`, er rekkefølgen sortert etter butikkjeder med lavest pris.\n",
    "\n",
    "<img src=\"img/2d_ex.png\" width=\"700px\" align=\"left\">"
   ]
  },
  {
   "cell_type": "code",
   "execution_count": 15,
   "metadata": {},
   "outputs": [],
   "source": [
    "# Skriv ditt svar her..."
   ]
  },
  {
   "cell_type": "markdown",
   "metadata": {
    "deletable": false,
    "editable": false,
    "run_control": {
     "frozen": true
    }
   },
   "source": [
    "## Oppgave 2e (5%)\n",
    "\n",
    "Skriv funksjonen `store_analysis` som har input-parameteren `filename`. Funksjonen skal laste\n",
    "inn ei fil med filnavnet `filename`, og deretter skrive ut summen for varene for hver butikk, og\n",
    "deretter skrive ut ranking av butikkjeder sortert etter der varene i fila `filename` er billigst.\n",
    "Funksjonen skal ikke returnere noe, men ha en utskrift til skjerm som vist under.\n",
    "\n",
    "\n",
    "Eksempel på kall av funksjon med fila ’pricewar.txt’ som vist ovenfor.\n",
    "\n",
    "<img src=\"img/2e_ex.png\" width=\"700px\" align=\"left\">"
   ]
  },
  {
   "cell_type": "code",
   "execution_count": 16,
   "metadata": {},
   "outputs": [],
   "source": [
    "# Skriv ditt svar her..."
   ]
  },
  {
   "cell_type": "markdown",
   "metadata": {
    "deletable": false,
    "editable": false,
    "run_control": {
     "frozen": true
    }
   },
   "source": [
    "## *Oppgave 3 Programmering Storskjerm (30%)*\n",
    "\n",
    "I denne oppgaven skal du hjelpe *Katpiss Everbeen* til å lage funksjoner som skal brukes til å lage et\n",
    "system for å vise fram tekst på storskjerm ved store arrangementer. Denne storskjermen kan vise 6\n",
    "linjer med tekst, der hver linje består av 30 tegn eller bokstaver som vist under.\n",
    "\n",
    "<img src=\"img/storskjerm.png\" width=\"700px\">\n",
    "\n",
    "Storskjermen kommer med funksjonen `show_display` for å vise fram tekst på skjermen som du\n",
    "kan bruke i din kode. Funksjonen har input-parameteren `content`, som er en liste av seks elementer,\n",
    "der hvert element er en tekststreng på nøyaktig 30 tegn eller bokstaver. Hvis man prøver å kalle\n",
    "funksjonen med en liste med feil dimensjoner, vil ikke noe vises på storskjermen og funksjonen gir\n",
    "feilmeldingen ”`Error: Wrong dimensions`”. Storskjermen kan bare vise fram store\n",
    "bokstaver, men funksjonen `show_display` vil selv sørge for å oversette fra små til store bokstaver\n",
    "hvis det trengs.\n",
    "\n",
    "I denne oppgaven anbefales det å gjenbruke funksjoner fra andre deloppgaver der det er naturlig. Du\n",
    "kan bruke funksjoner fra andre deloppgaver selv om du ikke har løst denne deloppgaven."
   ]
  },
  {
   "cell_type": "markdown",
   "metadata": {
    "deletable": false,
    "editable": false,
    "run_control": {
     "frozen": true
    }
   },
   "source": [
    "## Oppgave 3a (4%)\n",
    "\n",
    "Skriv funksjonen `enter_line` som har to input-parametere `prompt` og `length`. Funksjonen skal\n",
    "spørre brukeren om å skrive inn en setning som skal returneres som en tekststreng. Setningen skal\n",
    "være av lengde spesifisert av input-parameteren `length`. Hvis setningen ikke er av spesifisert\n",
    "lengde, skal funksjonen gi feilmeldingen: ”The text must be `[length]` characters long”, og fortsette\n",
    "å spørre om en ny setning til brukeren har gitt en med korrekt lengde. Parameteren `prompt`\n",
    "spesifiserer hva brukeren skal spørres om.\n",
    "\n",
    "Eksempel på kall av funksjon (bruker-input er skrevet med **fet font**):\n",
    "\n",
    "<img src=\"img/3a_ex.png\" width=\"700px\" align=\"left\">"
   ]
  },
  {
   "cell_type": "code",
   "execution_count": 17,
   "metadata": {},
   "outputs": [],
   "source": [
    "# Skriv ditt svar her..."
   ]
  },
  {
   "cell_type": "markdown",
   "metadata": {
    "deletable": false,
    "editable": false,
    "run_control": {
     "frozen": true
    }
   },
   "source": [
    "## Oppgave 3b (4%)\n",
    "\n",
    "Skriv funksjonen `adjust_string` som har to input-parametere `text` og `length`. Funksjonen\n",
    "skal returnere en ny utgave av tekststrengen `text` som har lengde `length`. Hvis strengen `text` har\n",
    "flere tegn enn `length`, skal den resterende teksten kuttes. Hvis strengen `text` har færre tegn enn\n",
    "`length`, skal teksten midtstilles og man skal legge til mellomrom (space) slik at lengden på strengen\n",
    "som returneres blir akkurat `length`.\n",
    "\n",
    "Eksempel kall av funksjonen `adjust_string` er vist under:\n",
    "\n",
    "<img src=\"img/3b_ex.png\" width=\"700px\" align=\"left\">"
   ]
  },
  {
   "cell_type": "code",
   "execution_count": 18,
   "metadata": {},
   "outputs": [],
   "source": [
    "# Skriv ditt svar her..."
   ]
  },
  {
   "cell_type": "markdown",
   "metadata": {
    "deletable": false,
    "editable": false,
    "run_control": {
     "frozen": true
    }
   },
   "source": [
    "## Oppgave 3c (3%)\n",
    "\n",
    "Skriv en smartere versjon av versjon av funksjonen `enter_line_smart` (fra Oppgave 3a) som\n",
    "har to input-parametere `prompt` og `length`. Funksjonen skal ta imot input fra brukeren ved å bruke\n",
    "spørreteksten `prompt`, og returnere en streng på lengde `length`. Hvis teksten brukeren skriver inn\n",
    "er lengre enn `length` skal resterende teksten kuttes, og hvis teksten brukeren skriver inn er kortere\n",
    "skal teksten midtstilles og fylles ut med mellomrom (space) slik at teksten blir på `length` antall\n",
    "tegn.\n",
    "\n",
    "Eksempel kall av funksjonen `enter_line_smart` er vist under:\n",
    "\n",
    "<img src=\"img/3c_ex.png\" width=\"700px\" align=\"left\">"
   ]
  },
  {
   "cell_type": "code",
   "execution_count": 19,
   "metadata": {},
   "outputs": [],
   "source": [
    "# Skriv ditt svar her..."
   ]
  },
  {
   "cell_type": "markdown",
   "metadata": {
    "deletable": false,
    "editable": false,
    "run_control": {
     "frozen": true
    }
   },
   "source": [
    "## Oppgave 3d (4%)\n",
    "\n",
    "Skriv funksjonen `enter_show_text` som spør brukeren om å legge inn seks linjer med tekst på 30\n",
    "tegn, og deretter viser innholdet på storskjermen. Funksjonen har ingen input-parametere og\n",
    "returnerer ingen ting. Hvis teksten som brukeren skriver inn er over 30 tegn, skal overflødig tekst\n",
    "kuttes bort. Hvis teksten som brukeren skriver inn er under 30 tegn, skal teksten midtstilles og fylles\n",
    "ut med mellomrom (space) slik at teksten blir på 30 tegn.\n",
    "\n",
    "Eksempel på kjøring (bruker-input er skrevet med **fet font**):\n",
    "\n",
    "<img src=\"img/3d_ex.png\" width=\"700px\" align=\"left\">"
   ]
  },
  {
   "cell_type": "markdown",
   "metadata": {
    "deletable": false,
    "editable": false,
    "run_control": {
     "frozen": true
    }
   },
   "source": [
    "Følgende blir da vist på storskjermen:\n",
    "\n",
    "<img src=\"img/3dstorskjerm.png\" width=\"700px\" align=\"left\">"
   ]
  },
  {
   "cell_type": "code",
   "execution_count": 20,
   "metadata": {},
   "outputs": [],
   "source": [
    "# Skriv ditt svar her..."
   ]
  },
  {
   "cell_type": "markdown",
   "metadata": {
    "deletable": false,
    "editable": false,
    "run_control": {
     "frozen": true
    }
   },
   "source": [
    "## Oppgave 3e (5%)\n",
    "\n",
    "Skriv funksjonen `scroll_display` som har to input-parametere `content` og `line`. Funksjonen\n",
    "returnerer ingen ting. Parameteren `content` er ei liste bestående av 6 tekststrenger på 30 tegn, og\n",
    "parameteren `line` er et heltall mellom 1 og 6. Funksjonen skal vise fram innholdet fra lista\n",
    "`content` på storskjermen, der teksten på linje `line` skal roteres mot venstre (scrolle) helt til teksten\n",
    "på denne linja er tilbake der den startet (som vist på figurene nederst). Oppdatering av storskjermen\n",
    "skal skje hvert tiendedels sekund (0,1 sek). Teksten på linje `line` vil altså forflytte seg 30 ganger\n",
    "mot venstre før funksjonen avslutter. Du kan anta at funksjonen kalles med riktige argumenter\n",
    "(`content` inneholder 6 strenger på 30 tegn og `line` er heltall mellom 1 og 6). Tidsforsinkelse\n",
    "gjøres ved å bruke funksjonen `sleep(s)` fra biblioteket `time`, der s spesifiserer antall sekunder\n",
    "tidsforsinkelse. Eks på bruk: `time.sleep(0.5)` gir en pause på ½ sekund.\n",
    "\n",
    "Eksempel på kjøring der linje 1 (øverste linja) roteres (scrolles) mot venstre:\n",
    "\n",
    "<img src=\"img/3e_ex.png\" width=\"700px\" align=\"left\">"
   ]
  },
  {
   "cell_type": "markdown",
   "metadata": {
    "deletable": false,
    "editable": false,
    "run_control": {
     "frozen": true
    }
   },
   "source": [
    "<img src=\"img/3estorskjerm.png\" width=\"700px\" align=\"left\">"
   ]
  },
  {
   "cell_type": "code",
   "execution_count": 21,
   "metadata": {},
   "outputs": [],
   "source": [
    "# Skriv ditt svar her..."
   ]
  },
  {
   "cell_type": "markdown",
   "metadata": {
    "deletable": false,
    "editable": false,
    "run_control": {
     "frozen": true
    }
   },
   "source": [
    "## Oppgave 3f (10%)\n",
    "\n",
    "Skriv funksjonen `display_from_file` som har en input-parameter `filename`. Funksjonen skal\n",
    "lese inn fra tekstfila `filename`, og vise fram innholdet i tekstfila på storskjermen seks linjer av\n",
    "gangen. Funksjonen returnerer ingen ting. Hvis teksten på ei linje i fila er over 30 tegn, skal\n",
    "resterende tekst kuttes. Hvis teksten på ei linje i fila er under 30 tegn, skal teksten midtstilles og fylles\n",
    "ut med mellomrom (space). Funksjonen skal ha 10 sekunders pause mellom hver gang nytt innhold\n",
    "vises på skjermen. Man kan anta at fila har et antall linjer som går opp i seks-gangen.\n",
    "\n",
    "Anta at innholdet på tekstfila `message.txt` er:\n",
    "\n",
    "<img src=\"img/message.png\" width=\"700px\" align=\"left\">"
   ]
  },
  {
   "cell_type": "markdown",
   "metadata": {
    "deletable": false,
    "editable": false,
    "run_control": {
     "frozen": true
    }
   },
   "source": [
    "Eksempel på kall av funksjonen med innholdet av `message.txt` som vist over blir:\n",
    "\n",
    "<img src=\"img/3f_ex.png\" width=\"700px\" align=\"left\">"
   ]
  },
  {
   "cell_type": "markdown",
   "metadata": {
    "deletable": false,
    "editable": false,
    "run_control": {
     "frozen": true
    }
   },
   "source": [
    "<img src=\"img/3fstorskjerm.png\" width=\"700px\" align=\"left\">"
   ]
  },
  {
   "cell_type": "code",
   "execution_count": null,
   "metadata": {},
   "outputs": [],
   "source": [
    "# Skriv ditt svar her..."
   ]
  }
 ],
 "metadata": {
  "kernelspec": {
   "display_name": "Python 3",
   "language": "python",
   "name": "python3"
  },
  "language_info": {
   "codemirror_mode": {
    "name": "ipython",
    "version": 3
   },
   "file_extension": ".py",
   "mimetype": "text/x-python",
   "name": "python",
   "nbconvert_exporter": "python",
   "pygments_lexer": "ipython3",
   "version": "3.7.6"
  }
 },
 "nbformat": 4,
 "nbformat_minor": 2
}
