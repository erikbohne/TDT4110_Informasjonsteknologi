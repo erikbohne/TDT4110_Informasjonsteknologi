{
 "cells": [
  {
   "cell_type": "code",
   "execution_count": 2,
   "metadata": {
    "ExecuteTime": {
     "end_time": "2019-07-09T12:18:58.995920Z",
     "start_time": "2019-07-09T12:18:58.987647Z"
    },
    "hide_input": true
   },
   "outputs": [],
   "source": [
    "import os\n",
    "import sys\n",
    "module_path = os.path.abspath(os.path.join('../..'))\n",
    "if module_path not in sys.path:\n",
    "    sys.path.append(module_path)\n",
    "    \n",
    "from Resources.mc_generator import *"
   ]
  },
  {
   "cell_type": "markdown",
   "metadata": {},
   "source": [
    "## Oppgave 2a - Kodeforståelse"
   ]
  },
  {
   "cell_type": "markdown",
   "metadata": {},
   "source": [
    ">```python\n",
    "def myst(val1, val2):\n",
    "\tif(val1 and val2):\n",
    "\t\treturn 'a'\n",
    "\telif(val1 and not val2):\n",
    "\t\treturn 'b'\n",
    "\telif(not val1 and val2):\n",
    "\t\treturn 'c'\n",
    "\telse:\n",
    "        return 'd'\n",
    " ```\n",
    "    \n",
    "    Hva returneres ved funksjonskallet under?\n",
    "    \n",
    "```python\n",
    "myst(not(not False and True), not(not False or False))\n",
    "``` "
   ]
  },
  {
   "cell_type": "code",
   "execution_count": 3,
   "metadata": {
    "ExecuteTime": {
     "end_time": "2019-07-09T12:18:59.114879Z",
     "start_time": "2019-07-09T12:18:59.001957Z"
    },
    "hide_input": true
   },
   "outputs": [
    {
     "name": "stdout",
     "output_type": "stream",
     "text": [
      "\u001b[1m Velg et alternativ \u001b[0m\n"
     ]
    },
    {
     "data": {
      "application/vnd.jupyter.widget-view+json": {
       "model_id": "8a43a4c2ae28443099ae9c77df82d347",
       "version_major": 2,
       "version_minor": 0
      },
      "text/plain": [
       "RadioButtons(layout=Layout(width='1500px'), options=('c', 'a', 'd', 'b'), value='c')"
      ]
     },
     "metadata": {},
     "output_type": "display_data"
    },
    {
     "data": {
      "application/vnd.jupyter.widget-view+json": {
       "model_id": "83c1cc30fab2430c8f144774e824cf7d",
       "version_major": 2,
       "version_minor": 0
      },
      "text/plain": [
       "Button(description='Sjekk svaret', style=ButtonStyle())"
      ]
     },
     "metadata": {},
     "output_type": "display_data"
    },
    {
     "data": {
      "application/vnd.jupyter.widget-view+json": {
       "model_id": "14739b813bca417a89ab7e8d636d95da",
       "version_major": 2,
       "version_minor": 0
      },
      "text/plain": [
       "Output()"
      ]
     },
     "metadata": {},
     "output_type": "display_data"
    }
   ],
   "source": [
    "generate_mc([\"c\",\"d\",\"a\",\"b\"],\"Velg et alternativ\",2)"
   ]
  },
  {
   "cell_type": "markdown",
   "metadata": {},
   "source": [
    "## Oppgave 2b - Kodeforståelse"
   ]
  },
  {
   "cell_type": "markdown",
   "metadata": {},
   "source": [
    ">```python\n",
    "def myst(number, flag):\n",
    "    n = []\n",
    "    for i in numbers:\n",
    "        if(flag and (i%2==0)) or (not flag and (i%2!=0)):\n",
    "            if i not in n:\n",
    "                n.append(i)\n",
    "        n.sort()\n",
    "    return n\n",
    "```\n",
    "\n",
    "Hva skrives ut når følgende funksjonskall kjøres:\n",
    "```python\n",
    "print(myst([1,8,6,2,5,4,9,4,8,0],True))\n",
    "```"
   ]
  },
  {
   "cell_type": "code",
   "execution_count": 4,
   "metadata": {
    "ExecuteTime": {
     "end_time": "2019-07-09T12:18:59.304220Z",
     "start_time": "2019-07-09T12:18:59.190091Z"
    },
    "hide_input": true
   },
   "outputs": [
    {
     "name": "stdout",
     "output_type": "stream",
     "text": [
      "\u001b[1m Velg et alternativ \u001b[0m\n"
     ]
    },
    {
     "data": {
      "application/vnd.jupyter.widget-view+json": {
       "model_id": "2c16380a78924595ab382c16bbfc6153",
       "version_major": 2,
       "version_minor": 0
      },
      "text/plain": [
       "RadioButtons(layout=Layout(width='1500px'), options=('[1\\t,5,\\t9]', '[2,\\t4,\\t6,\\t8]', '[8\\t,6,\\t2,\\t4,\\t4,\\t8…"
      ]
     },
     "metadata": {},
     "output_type": "display_data"
    },
    {
     "data": {
      "application/vnd.jupyter.widget-view+json": {
       "model_id": "3808559434f44d0db0771dc0ceb57bec",
       "version_major": 2,
       "version_minor": 0
      },
      "text/plain": [
       "Button(description='Sjekk svaret', style=ButtonStyle())"
      ]
     },
     "metadata": {},
     "output_type": "display_data"
    },
    {
     "data": {
      "application/vnd.jupyter.widget-view+json": {
       "model_id": "1a27c6fa0a284171b9452e39a373b3dd",
       "version_major": 2,
       "version_minor": 0
      },
      "text/plain": [
       "Output()"
      ]
     },
     "metadata": {},
     "output_type": "display_data"
    }
   ],
   "source": [
    "generate_mc([\"[9\t,5,\t1],\tTrue\",\"[1\t,5,\t9]\",\"[8\t,6,\t2,\t4,\t4,\t8,\t0]\",\"[0,\t2,\t4,\t4,\t6,\t8,\t8]\",\"[0,\t2,\t4,\t6,\t8]\",\"[2,\t4,\t6,\t8]\"],\"Velg et alternativ\",5)"
   ]
  },
  {
   "cell_type": "markdown",
   "metadata": {},
   "source": [
    "## Oppgave 2c - Kodeforståelse (5%)"
   ]
  },
  {
   "cell_type": "markdown",
   "metadata": {},
   "source": [
    "Funksjonen\t**`count_items`**\ttar\tinn\tei\tliste\tmed\tnavn\tpå\tpersoner\t(tekststrenger)\tog\tteller\tantall forekomster\tav\thvert\tnavn\ti\tlista.\tFunksjonen\tskal\treturnere\ten\t*dictionary*\thvor\thvert\tnavn\ti\tlista\ter\n",
    "representert\tén\tgang\tog\tsom\tinneholder\tinformasjon\thvor\tmange\tganger\tnavnet\tforekommer\ti\tlista.\n",
    "```python\n",
    "def count_items(names):\n",
    "    d = {}\n",
    "    for name in names:\n",
    "        #KODE1\n",
    "    return d\n",
    "```\n",
    "\n",
    "Eksempel\tpå\tkall\tav\tfunksjonen\t`count_items`:\n",
    "```python\n",
    ">>>print(count_items(['Anna','John','John','Thomas','Jane','Anna','Lis']))\n",
    "{'Anna':2,'John':2,'Thomas':1,'Jane':1,'Lis':1}\n",
    "```\n",
    "\n",
    "Hvordan\tskal\tlinjen\tmed\tinnholdet\t**#KODE1**\ti\tkoden\ttil\t*count_items*\tse\tut\tfor\tat\tfunksjonen\n",
    "skal\tfungere\tpå\tmåten\tbeskrevet\tved\tkjøring?"
   ]
  },
  {
   "cell_type": "code",
   "execution_count": 5,
   "metadata": {
    "ExecuteTime": {
     "end_time": "2019-07-09T12:18:59.496898Z",
     "start_time": "2019-07-09T12:18:59.388016Z"
    },
    "hide_input": true
   },
   "outputs": [
    {
     "name": "stdout",
     "output_type": "stream",
     "text": [
      "\u001b[1m Velg et alternativ \u001b[0m\n"
     ]
    },
    {
     "data": {
      "application/vnd.jupyter.widget-view+json": {
       "model_id": "ecfaa6f8567c4449b8b5699b80730091",
       "version_major": 2,
       "version_minor": 0
      },
      "text/plain": [
       "RadioButtons(layout=Layout(width='1500px'), options=('d[name]\\t=\\td.get(name,0)', 'd[name]\\t=\\td.get(name,1)+1…"
      ]
     },
     "metadata": {},
     "output_type": "display_data"
    },
    {
     "data": {
      "application/vnd.jupyter.widget-view+json": {
       "model_id": "c9ebc645883b40ecacb1e05c8385da4c",
       "version_major": 2,
       "version_minor": 0
      },
      "text/plain": [
       "Button(description='Sjekk svaret', style=ButtonStyle())"
      ]
     },
     "metadata": {},
     "output_type": "display_data"
    },
    {
     "data": {
      "application/vnd.jupyter.widget-view+json": {
       "model_id": "5a112f0db5404192b481cde9ef76e8d3",
       "version_major": 2,
       "version_minor": 0
      },
      "text/plain": [
       "Output()"
      ]
     },
     "metadata": {},
     "output_type": "display_data"
    }
   ],
   "source": [
    "generate_mc([\"d[name]\t=\td.get(name,0)+1\",\"d[name]\t=\td.get(name,0)\",\"d[names]\t=\td.get(name,0)+1\",\"d[name]\t=\td.get(name,1)+1\",\"d[name]\t=\td.get(name,1)\",\"d\t==\tnames.count(name)\"],\"Velg et alternativ\",1)"
   ]
  },
  {
   "cell_type": "markdown",
   "metadata": {},
   "source": [
    "## Oppgave 2d - Kodeforståelse (5%)"
   ]
  },
  {
   "cell_type": "markdown",
   "metadata": {},
   "source": [
    "Gitt\tfunksjonen:\n",
    "```python\n",
    "def myst(t1,t2):\n",
    "    n=2\n",
    "    while(t1%n!=0) or (t2%n!=0):\n",
    "        n+=1\n",
    "    return n\n",
    "```\n",
    "Hva\tskrives\tut\tnår\tfølgende\tkode\tkjøres?\n",
    "```python\n",
    "print(myst(49,42))\n",
    "```"
   ]
  },
  {
   "cell_type": "code",
   "execution_count": 6,
   "metadata": {
    "ExecuteTime": {
     "end_time": "2019-07-09T12:18:59.610716Z",
     "start_time": "2019-07-09T12:18:59.500427Z"
    },
    "hide_input": true
   },
   "outputs": [
    {
     "name": "stdout",
     "output_type": "stream",
     "text": [
      "\u001b[1m Velg et alternativ \u001b[0m\n"
     ]
    },
    {
     "data": {
      "application/vnd.jupyter.widget-view+json": {
       "model_id": "c986bdf43100456289e4c9b33d089c31",
       "version_major": 2,
       "version_minor": 0
      },
      "text/plain": [
       "RadioButtons(layout=Layout(width='1500px'), options=('4', '7', '6', '5', '8', '9'), value='4')"
      ]
     },
     "metadata": {},
     "output_type": "display_data"
    },
    {
     "data": {
      "application/vnd.jupyter.widget-view+json": {
       "model_id": "fc943d0560ef484fb33ab6ec856822ca",
       "version_major": 2,
       "version_minor": 0
      },
      "text/plain": [
       "Button(description='Sjekk svaret', style=ButtonStyle())"
      ]
     },
     "metadata": {},
     "output_type": "display_data"
    },
    {
     "data": {
      "application/vnd.jupyter.widget-view+json": {
       "model_id": "6acb42d5c2e94405809ad283931f8e1c",
       "version_major": 2,
       "version_minor": 0
      },
      "text/plain": [
       "Output()"
      ]
     },
     "metadata": {},
     "output_type": "display_data"
    }
   ],
   "source": [
    "generate_mc([\"4\",\"9\",\"8\",\"6\",\"5\",\"7\"],\"Velg et alternativ\",6)"
   ]
  },
  {
   "cell_type": "markdown",
   "metadata": {},
   "source": [
    "## Oppgave 2e - Kodeforståelse (10%)"
   ]
  },
  {
   "cell_type": "markdown",
   "metadata": {},
   "source": [
    "Funksjonen\t**`bin_search`**\tbeskrevet\tunder\ter\tment\tå\tutføre\tet\tet\titerativt\tbinærsøk:\n",
    "```python\n",
    "def bin_search(values,val,imin,imax):\n",
    "    while imin<imax:\n",
    "        #KODE1\n",
    "        if #KODE2\n",
    "            return True\n",
    "        elif #KODE3\n",
    "            imin = imid+1\n",
    "        else:\n",
    "            imax = imid-1\n",
    "    return False\n",
    "```\n",
    "\n",
    "Eksempel\tpå\tkall\tav\tfunksjonen\t**`bin_search`**:\n",
    "```python\n",
    ">>>A=[1,2,3,9,11,13,17,25,57,90]\n",
    ">>>print(bin_search(A,57,0,len(A)-1))\n",
    "True\n",
    "```\n",
    "\n",
    "Hva er riktig kode for **#KODE1**, **#KODE2** og **#KODE3**?"
   ]
  },
  {
   "cell_type": "code",
   "execution_count": 7,
   "metadata": {
    "ExecuteTime": {
     "end_time": "2019-07-09T12:19:00.012948Z",
     "start_time": "2019-07-09T12:18:59.613417Z"
    },
    "hide_input": true
   },
   "outputs": [
    {
     "name": "stdout",
     "output_type": "stream",
     "text": [
      "\u001b[1m Velg et alternativ for #KODE1 \u001b[0m\n"
     ]
    },
    {
     "data": {
      "application/vnd.jupyter.widget-view+json": {
       "model_id": "7d489630899c49af9e7279059c14a483",
       "version_major": 2,
       "version_minor": 0
      },
      "text/plain": [
       "RadioButtons(layout=Layout(width='1500px'), options=('imid\\t=\\t(imin+imax)*2', 'imid\\t=\\t(imax-imin)//2', 'imi…"
      ]
     },
     "metadata": {},
     "output_type": "display_data"
    },
    {
     "data": {
      "application/vnd.jupyter.widget-view+json": {
       "model_id": "dd6cdbf930364fa1b0921c51a1e8a526",
       "version_major": 2,
       "version_minor": 0
      },
      "text/plain": [
       "Button(description='Sjekk svaret', style=ButtonStyle())"
      ]
     },
     "metadata": {},
     "output_type": "display_data"
    },
    {
     "data": {
      "application/vnd.jupyter.widget-view+json": {
       "model_id": "c7cc41d30d464954883e7ffc7640513c",
       "version_major": 2,
       "version_minor": 0
      },
      "text/plain": [
       "Output()"
      ]
     },
     "metadata": {},
     "output_type": "display_data"
    },
    {
     "name": "stdout",
     "output_type": "stream",
     "text": [
      "\u001b[1m Velg et alternativ for #KODE2 \u001b[0m\n"
     ]
    },
    {
     "data": {
      "application/vnd.jupyter.widget-view+json": {
       "model_id": "83c78d387e0646dab5e78c729d87d94c",
       "version_major": 2,
       "version_minor": 0
      },
      "text/plain": [
       "RadioButtons(layout=Layout(width='1500px'), options=('val\\t==\\tliste[imax]', 'val\\t==\\timin:', 'val\\t==\\timid:…"
      ]
     },
     "metadata": {},
     "output_type": "display_data"
    },
    {
     "data": {
      "application/vnd.jupyter.widget-view+json": {
       "model_id": "144432a9b7da4e3aa0f155eb407c5eed",
       "version_major": 2,
       "version_minor": 0
      },
      "text/plain": [
       "Button(description='Sjekk svaret', style=ButtonStyle())"
      ]
     },
     "metadata": {},
     "output_type": "display_data"
    },
    {
     "data": {
      "application/vnd.jupyter.widget-view+json": {
       "model_id": "3cd7ad849a1946ac9c32af5a35aae4ae",
       "version_major": 2,
       "version_minor": 0
      },
      "text/plain": [
       "Output()"
      ]
     },
     "metadata": {},
     "output_type": "display_data"
    },
    {
     "name": "stdout",
     "output_type": "stream",
     "text": [
      "\u001b[1m Velg et alternativ for #KODE3 \u001b[0m\n"
     ]
    },
    {
     "data": {
      "application/vnd.jupyter.widget-view+json": {
       "model_id": "4c6676774f0d438f8bd2466df71e383b",
       "version_major": 2,
       "version_minor": 0
      },
      "text/plain": [
       "RadioButtons(layout=Layout(width='1500px'), options=('val\\t<\\tvalues[imid]:', 'val\\t>\\tvalues[imid]:', 'val\\t=…"
      ]
     },
     "metadata": {},
     "output_type": "display_data"
    },
    {
     "data": {
      "application/vnd.jupyter.widget-view+json": {
       "model_id": "297c12893d324662ba89d03a3db1a32f",
       "version_major": 2,
       "version_minor": 0
      },
      "text/plain": [
       "Button(description='Sjekk svaret', style=ButtonStyle())"
      ]
     },
     "metadata": {},
     "output_type": "display_data"
    },
    {
     "data": {
      "application/vnd.jupyter.widget-view+json": {
       "model_id": "8938ecd3a087426d8a9c16f9bd2f3b31",
       "version_major": 2,
       "version_minor": 0
      },
      "text/plain": [
       "Output()"
      ]
     },
     "metadata": {},
     "output_type": "display_data"
    }
   ],
   "source": [
    "generate_mc([\"imid\t=\timin+imax\",\"imid\t=\t(imin+imax)//2\",\"imid\t=\t(imin+imax)*2\",\"imid\t=\timax//2\",\"imid\t=\t(imax-imin)//2\",\"imid\t=\t(imin+imax)%2\"],\"Velg et alternativ for #KODE1\",2)\n",
    "generate_mc([\"val\t==\timid:\",\"val\t==\timax:\",\"val\t==\timin:\",\"val\t==\tliste[imin]\",\"val\t==\tliste[imid]:\",\"val\t==\tliste[imax]\"],\"Velg et alternativ for #KODE2\",5)\n",
    "generate_mc([\"val\t<\tvalues[imid]:\",\"val\t==\timax:\",\"val\t>\tvalues[imid]:\",\"val\t>=\tvalues[imid]:\",\"val\t>\tvalues[imin]:\",\"val\t>\tvalues[imax]:\"],\"Velg et alternativ for #KODE3\",3)"
   ]
  },
  {
   "cell_type": "markdown",
   "metadata": {},
   "source": [
    "## Oppgave 2f - Kodeforståelse (5%)"
   ]
  },
  {
   "cell_type": "markdown",
   "metadata": {},
   "source": [
    "Funksjonen\t**`sumofn`**\t(beskrevet\tunder)\ter\tment\tå\tvære\ten\trekursiv\tfunksjon\tsom\tberegner\tsummen\tav\n",
    "alle\theltall\tfra\tog\tmed\t1\ttil\tog\tmed\tverdien\tfunksjonen\ttar\tinn.\n",
    "\n",
    "```python\n",
    "def sumofn(n):\n",
    "    if n==1:\n",
    "        return 1\n",
    "    #KODE1\n",
    "    ```\n",
    "    \n",
    "    Eksempel på kall av funksjonen **sumofn:**\n",
    "```python\n",
    ">>>sumofn(5)\n",
    "15\n",
    "```\n",
    "Hvordan\tskal\tlinjen\tmerket\t**#KODE1**\ti\tfunksjonen\t**`sumofn`**\tse\tut\tfor\tat\tfunksjonen\tskal\tfungere\tslik\n",
    "beskrevet\tover?"
   ]
  },
  {
   "cell_type": "code",
   "execution_count": 8,
   "metadata": {
    "ExecuteTime": {
     "end_time": "2019-07-09T12:19:00.207776Z",
     "start_time": "2019-07-09T12:19:00.091644Z"
    },
    "hide_input": true
   },
   "outputs": [
    {
     "name": "stdout",
     "output_type": "stream",
     "text": [
      "\u001b[1m Velg et alternativ \u001b[0m\n"
     ]
    },
    {
     "data": {
      "application/vnd.jupyter.widget-view+json": {
       "model_id": "b185841e701e4b24a6c612d7dd73cc65",
       "version_major": 2,
       "version_minor": 0
      },
      "text/plain": [
       "RadioButtons(layout=Layout(width='1500px'), options=('return\\tsumofn(sumofn-1)', 'return\\tn+sumofn(n-1)', 'ret…"
      ]
     },
     "metadata": {},
     "output_type": "display_data"
    },
    {
     "data": {
      "application/vnd.jupyter.widget-view+json": {
       "model_id": "06746a9cf1184102a68364325af8a5d3",
       "version_major": 2,
       "version_minor": 0
      },
      "text/plain": [
       "Button(description='Sjekk svaret', style=ButtonStyle())"
      ]
     },
     "metadata": {},
     "output_type": "display_data"
    },
    {
     "data": {
      "application/vnd.jupyter.widget-view+json": {
       "model_id": "6a28681ce9bb4695b0f0fe851b056257",
       "version_major": 2,
       "version_minor": 0
      },
      "text/plain": [
       "Output()"
      ]
     },
     "metadata": {},
     "output_type": "display_data"
    }
   ],
   "source": [
    "generate_mc([\"return\tsumofn(sumofn-1)\",\"return\tn*(n-1)\",\"return\tsumofn(n-1)\",\"return\tn+sumofn(n+1)\",\"return\tn+sumofn(n-1)\",\"return\tsumofn*n\"],\"Velg et alternativ\",5)"
   ]
  },
  {
   "cell_type": "markdown",
   "metadata": {},
   "source": [
    "## Oppgave 3 - Oppgavebeskrivelse"
   ]
  },
  {
   "cell_type": "markdown",
   "metadata": {},
   "source": [
    "**Auksjonshjelp**\n",
    "\n",
    "En\tvenninne\tav\tdeg\tjobber\tdeltid\ti\tet\tlite\tauksjonsfirma.\tFirmaet\tholder\tauksjoner\tpå\tnett. Hun\thar\tfått\ti\toppdrag\tå\tprogrammere\ten\tløsning\tfor\tå\tholde\trede\tpå\tauksjonsdata.\tHun\thar kommet\tet\tstykke,\tmen\ter\tikke\thelt\ti\tmål.\tSiden\tdu\thar\ttatt\tkurs\ti\tprogrammering\thar\tdet\tnå blitt\tdin\toppgave\tå\thjelpe\thenne\tet\tstykke\tpå\tveien. \n",
    "\n",
    "**Oppgavens\tdatastruktur**\n",
    "\n",
    "Du\tvil\ti\tdenne\toppgaven\tforholde\tdeg\ttil\ten\tdatastruktur\tsom\tbestår\tav\ten\ttodimensjonal liste,\tkalt\t**data**.\tDu\tvil\tsnart\tse\thvordan\tdu\tkan\thente\tden\tut,\tmen\tden\thar\tdette\tformatet:\n",
    "```\n",
    ">>>\tdata\n",
    "[['Customer','vase','painting','bicycle','lego','tv'],\n",
    "['Per',100,0,200,0,1500],\n",
    "['Ida',110,50,200,0,1500],\n",
    "['Ottar',200,600,200,0,1700],\n",
    "['Dag',200,600,200,0,1700],\n",
    "['Lise',400,600,0,0,0]]\n",
    "```\n",
    "Første\telement\ti\tlisten\t*data*\ter\ten\tliste\tsom\tinneholder\t‘navnene’\tpå\talle\tgjenstandene\tsom auksjoneres\tut.\t**Gjenstandene\tstår\ti\ten\ttilfeldig\trekkefølge**\t–\tdu\tkan\taltså\tikke\tforvente at\tdu\tfinner\tgjenstanden\t‘vase’\tsom\telement\t1\tsom\tdet\tgjør\tover.\tDe\tresterende\telementene i\tlisten\tdata\ter\ten\tny\t‘subliste’\tmed\thver\tenkelt\tkundes\tnavn,\tog\tså\tderes\tbud\tpå\thvergjenstand.\tGjenstander\ten\tkunde\tikke\thar\tbydd\tpå\tvil\tstå\toppført\tmed\tbudverdi\t0.\t**Navnene står\ti\ttilfeldig\trekkefølge**,\tdu\tkan\taltså\tikke\tforvente\tat\tPer\tsine\tbud\tstår\ti\tdata[1]\tslikeksempelet\tover\tviser.\tDu\tkan\tderimot\tforvente\tat\tdersom\t‘vase’\ter\tpå\tplass\t1\ti\tdata[0],\tsåbefinner\thver\tkunde\tsitt\tbud\tpå\tvasen\tseg\togså\tpå\tplass\t1\ti\tkundens\tsubliste.\n",
    "\n",
    "**Eksisterende\tfunksjoner**\n",
    "\n",
    "Det\teksisterer\tallerede\tnoen\tfunksjoner\tsom\tdet\tkan\tvære\tlurt\tå\tforholde\tseg\ttil. Disse funksjonene\ter\tskrevet\ti\tmodulen\tauction.py\tsom\tligger\ti\tdenne folderen.\tDisse\tskal altså\tIKKE\tprogrammeres\tav\tdeg,\tmen\tdu\tmå\tvise\thvordan\tdu\teventuelt\tbruker\tdem! Venninnen\tdin\thar\tallerede\tskrevet\tfunksjonen\t`get_auction_data`\tfor\tå\tlage\tden todimensjonale\tlisten\tdata\tbasert\tpå\ten\tfil\tsom\tinneholder\talle\tauksjonsdata.\n",
    "\n",
    "**`get_auction_data`**:\n",
    "```python\n",
    "def\tget_auction_data(filename):\t#\tExisting\tfunction,\tpopulates\tyour\tneeded\t2d-list\n",
    "    return\tdata\t#\tdata\tis\ta\ttwo-dimensional\tlist,\tformat\tdescribed\tbelow\n",
    "```\n",
    "get_auction_data tar\tinn\tet\tfilnavn\t(du\tkan\tbruke\t'auctiondata.txt').\tDen\treturnerer\tden todimensjonale\tlisten\tdata\tbeskrevet\tover.\n",
    "\n",
    "Eksempel:\n",
    "```\n",
    ">>>\tdata=auction.get_auction_data('auctiondata.txt')\n",
    ">>>\tdata\n",
    "[['Customer','vase','painting','bicycle','lego','tv'],\n",
    "['Per',100,0,200,0,1500],\n",
    "['Ida',110,50,200,0,1500],\n",
    "['Ottar',200,600,200,0,1700],\n",
    "['Dag',200,600,200,0,1700],\n",
    "['Lise',400,600,0,0,0]]\n",
    "```\n",
    "**`bid`**:\n",
    "```python\n",
    "def\tbid(customer,\titem,\tdata):\t#\tfinds\tone\tcustomers\tbid\ton\ta\tparticular\titem\ton\tdatasetdata.\n",
    "    return\tcustomer_bid_on_item\t#\tReturns\tan\tinteger\twhich\tis\tthe\tcustomers\tbid\ton\titem.\n",
    "```\n",
    "bid(customer,\titem,\tdata)\thar\tsom\tinput\tkundens\tnavn,\tgjenstandens\tnavn,\tog datastrukturen\tnevnt\tover.\tDen\treturnerer\tkundens\tbud\tpå\tden\taktuelle\tgjenstanden.\n",
    "\n",
    "Eksempel:\n",
    "```\n",
    ">>>\tauction.bid('Per','tv',data)\n",
    "1500 #Pers bid on the tv.\n",
    "```\n",
    "**`sort_list`**:\n",
    "```python\n",
    "def sort_list(mylist,column): #list is a two-dimensional list, column is the column in each sub-list\n",
    "    #to sort everything by\n",
    "    return two_dimensional_list #sorted by values in column number column\n",
    "```\n",
    "sort_list(list,\tcolumn)\ter\ten\tfunksjon\tsom\ttar\timot\ten\ttodimensjonal\tliste,\tog\tsorterer\tdenetter\tkolonnenummeret\tsom\toppgis\tsom\tparameter\t2.\n",
    "\n",
    "Eksempel:\n",
    "```python\n",
    ">>> auction.sort_list([['a',3],['b',12],['c',10]],1)\n",
    "[['b',12],['c',10],['a',3]]\n",
    "#the sublist ['b',12] comes first, as 12 is the highest of 3, 12 and 1 we sort by column 1.\n",
    "\n",
    "```"
   ]
  },
  {
   "cell_type": "markdown",
   "metadata": {},
   "source": [
    "### Oppgave 3a - Programmering (5%)"
   ]
  },
  {
   "cell_type": "markdown",
   "metadata": {},
   "source": [
    "Skriv\tfunksjonen\t**`menu`**\tsom\tskal\tskrive\tut\ttil\tskjerm\tulike\toppgaver\tauksjonsprogrammet støtter,\tog\tla\tbrukeren\ttaste\tinn\t(via\ttastatur)\thvilken\toppgave\than/hun\tvil\tha\tgjennomført. Funksjonen\thar\tingen\tparametre.\tEksemplet\tunder\tviser\thvordan\tmenyen\tskal\tse\tut\tnår funksjonen\t**`menu`**\tkalles.\tDersom\tbrukeren\ttaster\tet\tgyldig\tvalg\t(dvs.\ttegnet\ti,\ts\teller\tq\t–\tse eksemplet\tunder)\tskal\tfunksjonen\treturnere\ten\tstreng\tbetående\tav\ttegnet\tsom\tble\ttastet.\tI motsatt\ttilfelle\tskal\tfunksjonen\treturnere\t*None*.\n",
    "\n",
    "Eksempel på bruk av funksjonen:\n",
    "```\n",
    ">>> menu()\n",
    "Select task:\n",
    "'i' to show the highes bid of an item,\n",
    "'s' to save all winning bids to file,\n",
    "'q' to exit.\n",
    "Choice:\n",
    "```"
   ]
  },
  {
   "cell_type": "code",
   "execution_count": null,
   "metadata": {},
   "outputs": [],
   "source": [
    "#skriv svaret ditt her"
   ]
  },
  {
   "cell_type": "markdown",
   "metadata": {},
   "source": [
    "### Oppgave 3b - Programmering (10%)"
   ]
  },
  {
   "cell_type": "markdown",
   "metadata": {},
   "source": [
    "Skriv\tfunksjonen\t**`item_offers`**\tsom\thar\tinn-parametrene\t**item**\tog\t**data**.\tParameteren **item**\ter\ten\ten\tstreng\tangir\tnavnet\tpå\ten\tauksjonsgjenstand\t(f.eks.\ttv). Parameteren\t**data**\tangir\ten\tto-dimensjonal\tliste\tmed\tauksjonsdata\tformatert\tsom\tbeskrevet i\tden\tinnledende\toppgavebeskrivelsen\t(også\tvist\tførst\ti\teksemplet\tnedenfor).\tFunksjonen skal\treturnere\ten\tto-dimensjonal\tliste\tsom\tinneholder\tnavnet\ttil\tbudgiverne\tog\tbudene\tde har\tgitt\tpå\tden\tangitte\tauksjonsgjenstanden\t(se\tunder\tfor\teksempel på struktur).\n",
    "\n",
    "Eksempel på bruk:\n",
    "```\n",
    ">>>data\n",
    "[['Customer','vase','painting','bicycle','lego','tv'],\n",
    "['Per',100,0,200,0,1500],\n",
    "['Ida',110,50,200,0,1500],\n",
    "['Ottar',200,600,200,0,1700],\n",
    "['Dag',200,600,200,0,1700],\n",
    "['Lise',400,600,0,0,0]]\n",
    "\n",
    ">>>item_offers('tv',data)\n",
    "[['Per',1500],['Ida',1500],['Ottar',1700],['Dag',1700],['Lise',0]]\n",
    "```"
   ]
  },
  {
   "cell_type": "code",
   "execution_count": 16,
   "metadata": {},
   "outputs": [],
   "source": [
    "#skriv svaret ditt her"
   ]
  },
  {
   "cell_type": "markdown",
   "metadata": {},
   "source": [
    "### Oppgave 3c - Programmering (10%)"
   ]
  },
  {
   "cell_type": "markdown",
   "metadata": {},
   "source": [
    "Skriv\tfunksjonen\t**`item_winner`**\tsom\ttar\tinn-parametrene\t**item**\tog\t**data**.\tParameteren\t**item**\ter en\tstreng\tsom\tangir\tnavnet\tpå\ten\tauksjonsgjenstand\t(f.eks.\ttv).\tParameteren\t**data**\tangir\ten to-dimensjonal\tliste\tmed\tauksjonsdata\tformatert\tsom\tbeskrevet\ti\tden\tinnledende oppgavebeskrivelsen.\tFunksjonen\tskal\treturnere\ten\tliste\tsom\tinneholder\tto\telementer:  \n",
    "\n",
    "Navnet\tpå\tbudgiveren\tmed\tdet\thøyeste\tbudet\tog\thvor\thøyt\tbudet\tvar.  \n",
    "\n",
    "Dersom\tdet\tikke eksisterer\tet\tbud\tpå\ten\tgitt\tgjenstand\tskal\tfunksjonen\treturnere\ten\ttom\tliste.\tForutsett\tat parameteren\t**item**\talltid\tidentifiserer\ten\tgjenstand\tsom\tfinnes\tpå\tauksjonen.\n",
    "\n",
    "Bruk\tgjerne\tfunksjonen\t`sort_list`\tbeskrevet\ti\tden\tinnledende\toppgavebeskrivelsen(bruken\ter\tillustrert\tnedfor)\ti\tforbindelse\tmed\tsortering. \n",
    "\n",
    "Dersom\tflere\tbudgivere\thar\tbudt\thøyeste\tverdi\ter\tvinneren\tden\tførste\t–\tdet\ter\tdenne budgiveren\tsom\tga\tbudet\tførst\thvis\tdu\tbruker\tsort_list.\t\n",
    "\n",
    "Eksempel\tpå\tbruk\tav\tfunksjonen\t**`sort_list`**:\n",
    "```\n",
    ">>>\tauction.sort_list([['a',3],['b',12],['c',10]],1) #Du trenger ikke programmere denne.\n",
    "[['b',12],['c',10],['a',3]]\n",
    "```\n",
    "Eksempel på bruk av funksjonen **`item_winner`**:\n",
    "```\n",
    ">>>\tdata\n",
    "[['Customer','vase','painting','bicycle','lego','tv'],\n",
    "['Per',100,0,200,0,1500],\n",
    "['Ida',110,50,200,0,1500],\n",
    "['Ottar',200,600,200,0,1700],\n",
    "['Dag',200,600,200,0,1700],\n",
    "['Lise',400,600,0,0,0]]\n",
    "\n",
    ">>> item_winner('tv',data)\n",
    "['Ottar',1700]\n",
    "```"
   ]
  },
  {
   "cell_type": "code",
   "execution_count": 18,
   "metadata": {},
   "outputs": [],
   "source": [
    "#skriv svaret ditt her"
   ]
  },
  {
   "cell_type": "markdown",
   "metadata": {},
   "source": [
    "### Oppgave 3d - Programmering (5%)"
   ]
  },
  {
   "cell_type": "markdown",
   "metadata": {},
   "source": [
    "Skriv\tfunksjonen\t**`all_winners_dict`**\tsom\ttar\tinn-parameteren\t**data**,\tsom\ter\ten\ttodimensjonal liste\tformatert\tsom\tbeskrevet\ti\tinnledningen\ttil\tprogrameringsoppgavene\t(også\tillustrert under).\tFunksjonen\tskal\tfinne\tut\thvilken\tbudgiver\tsom\thar\tgitt\tdet\thøyeste\tbudet\tfor\thver enkelt\tauksjonsgjenstand.\tFunksjonen skal\treturnere\ten\tdictionary.\tDenne\tskal\tbruke\tnavnet på\thver\tgjenstand\tsom\tnøkkel.\tTil\thver\tnøkkel\tskal\tdet\tknyttes\ten\tverdi\ti\tform\tav\ten liste\tbestående\tav\tto\telementer:\t(1)\tnavnet\tpå\tbudgiveren\t(vinneren\tav\tauksjonen)\tog\t(2)vinnerbudet.\n",
    "\n",
    "Eksempel\tpå\tbruk:\n",
    "```\n",
    ">>>    data\n",
    "[['Customer','vase','painting','bicycle','lego','tv'],\n",
    "['Per',100,0,200,0,1500],\n",
    "['Ida',110,50,200,0,1500],\n",
    "['Ottar',200,600,200,0,1700],\n",
    "['Dag',200,600,200,0,1700],\n",
    "['Lise',400,600,0,0,0]]\n",
    "\n",
    ">>> all_winners_dict(data){'vase':['Lise',400],'painting':['Ottar',600],\n",
    "'bicycle':['Per',200],'lego':[],'tv':['Ottar',1700]}\n",
    "```"
   ]
  },
  {
   "cell_type": "code",
   "execution_count": 19,
   "metadata": {},
   "outputs": [],
   "source": [
    "#skriv svaret ditt her"
   ]
  },
  {
   "cell_type": "markdown",
   "metadata": {},
   "source": [
    "### Oppgave 3e - Programmering (5%)"
   ]
  },
  {
   "cell_type": "markdown",
   "metadata": {},
   "source": [
    "Skriv\tfunksjonen\t**`save_auction_data`**\tsom\ttar\tinn-parameteren\t**data**.\tParameteren\t**data**\ter en\tto-dimensjonal\tliste\tmed\tauksjonsdata\tformatert\tslik\tsom\tbeskrevet\ti\tden\tinnledende beskrivelsen\ttil\tOppgave\t3.\tFunksjonen\tskal\tlagre\tresultatet\t(return-verdien)\tav funksjonskallet\t**all_winners_dict(data)**\ttil\tbinærfilen\tauction_winners.db\tsom\tligger\ti\tdensamme\tmappen/katalogen\tsom\tauksjonsprogrammet.\tBrukeren\tskal\tfå\tbeskjed\tom\thvorvidtdet\thar\tlyktes\tå\tskrive\tdataene\ttil\tbinærfilen\teller\tikke\t(se\teksempel\tunder).\n",
    "\n",
    "Eksempel\tpå\tvellykket\tlagring:\n",
    "```\n",
    ">>> save_auction_data(data)\n",
    "Dictionary data successfully written to file.\n",
    "```\n",
    "Eksempel på feil ved lagring:\n",
    "```\n",
    ">>> save_auction_data(data)\n",
    "Could not write dictionary data to file\n",
    "```\n"
   ]
  },
  {
   "cell_type": "code",
   "execution_count": 20,
   "metadata": {},
   "outputs": [],
   "source": [
    "#skriv svaret ditt her"
   ]
  },
  {
   "cell_type": "markdown",
   "metadata": {},
   "source": [
    "### Oppgave\t3f\t-\tProgrammering"
   ]
  },
  {
   "cell_type": "markdown",
   "metadata": {},
   "source": [
    "Skriv\tfunksjonen\t**`task`**.\tFunksjonen\tskal\tførst\topprette\ten\tvariabel\t*data*,\tog\tsette\tdenne\ttil\tresultatet\tav kallet\ttil\tfunksjonen\t`get_auction_data('auctiondata.txt')`\tfra\tmodulen auction.\n",
    "\n",
    "Deretter\tskal\tfunksjonen\tkalle\t`menu`\tog\tlagre\treturverdien\tfra\tdenne\ti\ten\tvariabel.\tHva\tfunksjonen task\tså\tskal\tgjøre\tavhenger\tav\tverdien\ttil\tvariabelen:\n",
    "\n",
    "- 'i':\tBrukeren\tskal\tbli\tbedt\tom\tå\tskrive\tinn\tnavnet\tpå\ten\tauksjonsgjenstand.\tDeretter\tskal funksjonen\tkalle\t`item_winner`\t(Oppgave\t3c)\tmed\tnavnet\tpå\tauksjonsgjenstanden,\tog variabelen\tdata\tsom\targument.\tFunksjonen\tskal\tså\tskrive\tut\thvem\tsom\thar\tvunnet\tgjenstanden, og\thva\tbudet\tvar\t(eksempelvis\tVinner\tav\ttv\ter\tOttar\tsom\tbød\t1700.) Hvis\tdet\tikke\thar\tkommet\tinn\tnoe\tbud\tpå\ten\tgjenstand\t(som\tbilbanen\ti\teksempelet)\tskal\tdet skrives\tut\t*Ingen\tbud\tpå\tlego*.\n",
    "- 's':\tFunksjonen\tskal\tkalle\t`save_auction_data`\t(Oppgave\t3e)\tmed\tvariabelen\t**data**\tsomargument.\n",
    "- 'q':\tProgrammet\tskal\tavsluttes.\n",
    "\n",
    "Menyen\tskal\tpresenteres\tigjen\thelt\ttil\tbrukeren\tvelger\tå avslutte med q."
   ]
  },
  {
   "cell_type": "code",
   "execution_count": null,
   "metadata": {},
   "outputs": [],
   "source": [
    "#skriv svaret ditt her"
   ]
  }
 ],
 "metadata": {
  "kernelspec": {
   "display_name": "Python 3",
   "language": "python",
   "name": "python3"
  },
  "language_info": {
   "codemirror_mode": {
    "name": "ipython",
    "version": 3
   },
   "file_extension": ".py",
   "mimetype": "text/x-python",
   "name": "python",
   "nbconvert_exporter": "python",
   "pygments_lexer": "ipython3",
   "version": "3.7.3"
  },
  "toc": {
   "base_numbering": 1,
   "nav_menu": {},
   "number_sections": false,
   "sideBar": true,
   "skip_h1_title": false,
   "title_cell": "Table of Contents",
   "title_sidebar": "Contents",
   "toc_cell": false,
   "toc_position": {},
   "toc_section_display": true,
   "toc_window_display": false
  }
 },
 "nbformat": 4,
 "nbformat_minor": 2
}
