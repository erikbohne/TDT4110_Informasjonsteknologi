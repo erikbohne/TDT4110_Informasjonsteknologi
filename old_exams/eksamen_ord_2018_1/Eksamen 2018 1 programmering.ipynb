{
 "cells": [
  {
   "cell_type": "markdown",
   "metadata": {},
   "source": [
    " \n",
    "\n",
    "***I denne versjonen har vi fjernet fjervalgsoppgavene som til vanlig teller 25% av eksamen. Topp prosentscore er da altså 75%.***\n",
    "\n",
    "# Eksamen 2018"
   ]
  },
  {
   "cell_type": "code",
   "execution_count": 16,
   "metadata": {
    "hide_input": false
   },
   "outputs": [],
   "source": [
    "import os\n",
    "import sys\n",
    "module_path = os.path.abspath(os.path.join('../..'))\n",
    "if module_path not in sys.path:\n",
    "    sys.path.append(module_path)\n",
    "    \n",
    "from Resources.mc_generator import *"
   ]
  },
  {
   "cell_type": "markdown",
   "metadata": {},
   "source": [
    "## Oppgave 2a - Kodeforståelse (5%)"
   ]
  },
  {
   "cell_type": "markdown",
   "metadata": {},
   "source": [
    "Funksjonen **myst** har følgende kode:\n",
    ">```python\n",
    "def myst(val1, val2):\n",
    "    if(val1 and val2):\n",
    "        return 1\n",
    "    elif(val1 and not val2):\n",
    "        return 2\n",
    "    elif(not val1 and val2):\n",
    "        return 3\n",
    "    else:\n",
    "        return 4\n",
    "        ```\n",
    "        \n",
    "Hva returnes ved funksjonskallet under?\n",
    "```python\n",
    "myst(((True and False) or (False and True)),((False or True) and (not(not True))))```"
   ]
  },
  {
   "cell_type": "code",
   "execution_count": 32,
   "metadata": {
    "hide_input": false
   },
   "outputs": [
    {
     "name": "stdout",
     "output_type": "stream",
     "text": [
      "\u001b[1m Hvilket alternativ er riktig? \u001b[0m\n"
     ]
    },
    {
     "data": {
      "application/vnd.jupyter.widget-view+json": {
       "model_id": "e8294bc8c24541b79fcaaf9a5ea482ef",
       "version_major": 2,
       "version_minor": 0
      },
      "text/plain": [
       "RadioButtons(layout=Layout(width='1500px'), options=('1', '3', '4', '2'), value='1')"
      ]
     },
     "metadata": {},
     "output_type": "display_data"
    },
    {
     "data": {
      "application/vnd.jupyter.widget-view+json": {
       "model_id": "40ed6d60c5064f55a1a1ff2920794b80",
       "version_major": 2,
       "version_minor": 0
      },
      "text/plain": [
       "Button(description='Sjekk svaret', style=ButtonStyle())"
      ]
     },
     "metadata": {},
     "output_type": "display_data"
    },
    {
     "data": {
      "application/vnd.jupyter.widget-view+json": {
       "model_id": "fc40827af2cb4743aac054f2164e56e6",
       "version_major": 2,
       "version_minor": 0
      },
      "text/plain": [
       "Output()"
      ]
     },
     "metadata": {},
     "output_type": "display_data"
    }
   ],
   "source": [
    "generate_mc([\"1\",\"2\",\"3\",\"4\"],\"Hvilket alternativ er riktig?\",3,[\"\",\"\",\"Vi kaller funksjonen med val1=False og val2=True. Da vil funksjonen returnere 3.\",\"\"])"
   ]
  },
  {
   "cell_type": "markdown",
   "metadata": {
    "hide_input": true
   },
   "source": [
    "## Oppgave 2b - Kodeforståelse (5%)\n",
    "\n",
    "Funksjonen **sqr** skal ta innen liste (**numbers**) bestående av heltall som parameter. Funksjonen skal endre annethvert heltall i listen (fra og og med andre element) til kvadratet av heltallet(heltallet multiplisert med seg selv). Til slutt skal funksjonen returnere den endrede listen.\n",
    "\n",
    "Gitt funksjonen.\n",
    "\n",
    ">```python  \n",
    "def sqr(numbers)\n",
    "    <#KODE1>\n",
    "        numbers[x]=numbers[x]**2\n",
    "    return numbers\n",
    "```\n",
    "\n",
    "Eksempel på kall av funksjonen sqr:\n",
    "\n",
    ">```python\n",
    ">>>>numbers=sqr([2,4,6,8,10,12])\n",
    ">>>>print(numbers)\n",
    "[2,16,6,64,10,144]\n",
    "```\n",
    "    "
   ]
  },
  {
   "cell_type": "code",
   "execution_count": 18,
   "metadata": {
    "hide_input": true
   },
   "outputs": [
    {
     "name": "stdout",
     "output_type": "stream",
     "text": [
      "\u001b[1m Hvordan skal linjen med innholdet <#KODE1> i koden til sqr se ut  for at funksjonen skal fungere på måten beskrevet over ved kjøring? \u001b[0m\n"
     ]
    },
    {
     "data": {
      "application/vnd.jupyter.widget-view+json": {
       "model_id": "874cfd14299a4c9badc43413baa0657b",
       "version_major": 2,
       "version_minor": 0
      },
      "text/plain": [
       "RadioButtons(layout=Layout(width='1500px'), options=('for x in range(2, len(numbers)-1,2):', 'for x in range(1…"
      ]
     },
     "metadata": {},
     "output_type": "display_data"
    },
    {
     "data": {
      "application/vnd.jupyter.widget-view+json": {
       "model_id": "845d06a597f54da1a4b15c11c9628f4f",
       "version_major": 2,
       "version_minor": 0
      },
      "text/plain": [
       "Button(description='Sjekk svaret', style=ButtonStyle())"
      ]
     },
     "metadata": {},
     "output_type": "display_data"
    },
    {
     "data": {
      "application/vnd.jupyter.widget-view+json": {
       "model_id": "b106b39e3dfb47c494a179f3808c7541",
       "version_major": 2,
       "version_minor": 0
      },
      "text/plain": [
       "Output()"
      ]
     },
     "metadata": {},
     "output_type": "display_data"
    }
   ],
   "source": [
    "generate_mc([\"for x in range(2, len(numbers)-1,2):\",\"for x in range(1, len(numbers)-1,2):\",\"for x in range(1, len(numbers),2):\",\"for x in range(len(numbers),2):\",'for x in numbers:','while x in range(1,len(numbers),2):'],\"Hvordan skal linjen med innholdet <#KODE1> i koden til sqr se ut  for at funksjonen skal fungere på måten beskrevet over ved kjøring?\",3,[\"\",\"\",\"Vi vil begynne med andre element, så må vi ha 1 som nedre grense, deretter vil gå gjennom hele lista, altså len(numbers) som øvre grense, men bare ta med hvert andre element, dermed 2 i steglengde.\",\"\",\"\",\n",
    "                \"\"])"
   ]
  },
  {
   "cell_type": "markdown",
   "metadata": {},
   "source": [
    "## Oppgave 2c - Kodeforståelse (10%)"
   ]
  },
  {
   "cell_type": "markdown",
   "metadata": {
    "hide_input": true
   },
   "source": [
    "Funksjonen\t**`prime_numbers`**\ter\tment\tå\treturnere\ten\tliste\tsom\tinneholder\talle\tprimtall,\tdvs.\ttall\tsom bare\tkan\tdeles\tmed\tseg\tselv\tog\t1,\ti\tet\tbestemt\tintervall\tangitt\tav\tparametrene\t**start**\tog\t**stopp**.\tAnta\tat start\talltid\tvil\tvære\tstørre\tenn\t0\tog\tmindre enn stopp.\n",
    "\n",
    "Gitt funksjonen:\n",
    ">```python\n",
    "def prime_numers(start,stopp):\n",
    "    primes=[]\n",
    "    for num in range(start,stop+1):\n",
    "        if num>1:\n",
    "            prime = True\n",
    "            for i in range(2,num):\n",
    "                <#KODE1>\n",
    "                    prime = False\n",
    "                    break\n",
    "            if prime:\n",
    "                <#KODE2>\n",
    "    return primes\n",
    "    ```\n",
    "    \n",
    "Eksempel på\tkall\tav\tfunksjonen\t**prime_numbers**:\n",
    ">```python\n",
    ">>>\tprimes = prime_numbers(1,16)\n",
    ">>>\tprint(primes)\n",
    "[2,3,5,7,11,13]```\n",
    "\n",
    "Hvordan\tskal\tlinjene\tmed\tinnholdet\t**#KODE1**\tog\t**#KODE2**\ti\tkoden\ttil\t**`prime_numbers`**\tse\tut\tfor\tat funksjonen\tskal\tha\tden\ttiltenkte\tvirkemåten\tunder kjøring?\n"
   ]
  },
  {
   "cell_type": "code",
   "execution_count": 19,
   "metadata": {
    "hide_input": true,
    "scrolled": false
   },
   "outputs": [
    {
     "name": "stdout",
     "output_type": "stream",
     "text": [
      "\u001b[1m Velg et alternativ for #KODE1: \u001b[0m\n"
     ]
    },
    {
     "data": {
      "application/vnd.jupyter.widget-view+json": {
       "model_id": "d0567572eaf141c7bef91faef7aceadc",
       "version_major": 2,
       "version_minor": 0
      },
      "text/plain": [
       "RadioButtons(layout=Layout(width='1500px'), options=('if (num/i) == 0:', 'if num == i:', 'if(num//i) == 0:', '…"
      ]
     },
     "metadata": {},
     "output_type": "display_data"
    },
    {
     "data": {
      "application/vnd.jupyter.widget-view+json": {
       "model_id": "f8fd6c5d2f0a417092c926c2c12c098b",
       "version_major": 2,
       "version_minor": 0
      },
      "text/plain": [
       "Button(description='Sjekk svaret', style=ButtonStyle())"
      ]
     },
     "metadata": {},
     "output_type": "display_data"
    },
    {
     "data": {
      "application/vnd.jupyter.widget-view+json": {
       "model_id": "e677e6beb7ea4e0c9202cbb58fbf85ab",
       "version_major": 2,
       "version_minor": 0
      },
      "text/plain": [
       "Output()"
      ]
     },
     "metadata": {},
     "output_type": "display_data"
    },
    {
     "name": "stdout",
     "output_type": "stream",
     "text": [
      "\u001b[1m Velg et alternativ for #KODE2: \u001b[0m\n"
     ]
    },
    {
     "data": {
      "application/vnd.jupyter.widget-view+json": {
       "model_id": "235ebdb97cb14dd5ac2c990066b90466",
       "version_major": 2,
       "version_minor": 0
      },
      "text/plain": [
       "RadioButtons(layout=Layout(width='1500px'), options=('break', 'primes + num', 'primes.extend(num)', 'primes.ap…"
      ]
     },
     "metadata": {},
     "output_type": "display_data"
    },
    {
     "data": {
      "application/vnd.jupyter.widget-view+json": {
       "model_id": "359483c9855f4fa086b51927125e1af8",
       "version_major": 2,
       "version_minor": 0
      },
      "text/plain": [
       "Button(description='Sjekk svaret', style=ButtonStyle())"
      ]
     },
     "metadata": {},
     "output_type": "display_data"
    },
    {
     "data": {
      "application/vnd.jupyter.widget-view+json": {
       "model_id": "b56a732743ab4cc992444f59243361cd",
       "version_major": 2,
       "version_minor": 0
      },
      "text/plain": [
       "Output()"
      ]
     },
     "metadata": {},
     "output_type": "display_data"
    }
   ],
   "source": [
    "generate_mc(['if(num//i) == 0:','if num == i:','if (num % i) == 0:','if (num/i) == 0:','if (num/i) == 1:','for j in range (2, num):'],'Velg et alternativ for #KODE1:',3,[\"\",\"\",\"Vi vil sjekke om et tall ikke er primtall, viss num modulo et annet tall blir null, er ikke num et primtall\",\"\",\"\",\"\"])\n",
    "                \n",
    "generate_mc(['break','primes + num','primes.append(i)','continue','primes.append(num)','primes.extend(num)'],'Velg et alternativ for #KODE2:',5,[\"\",\"\",\"\",\"\",\"Dersom num er et primtall må vi legge det til i lista med append\",\"\"])"
   ]
  },
  {
   "cell_type": "markdown",
   "metadata": {},
   "source": [
    "## Oppgave 2d - Kodeforståelse (5%)\n",
    "\n",
    "Funksjonen\t**palindrome**\ttar\tinn\ten\tstreng\t\tsom\tparameter\tog\thar\ttil\thensikt\tå\tsjekke\tom\tordet\teller uttrykket\trepresentert\ti\tstrengen\tgir\tsamme\tresultat\tenten\tdet\tleses\tfra\thøyre\teller\tvenstre.\tHvis\tordet  eller\tutrykket\tgir\tsamme\tresultat\tskal\tfunksjonen\treturnere\tTrue.\tHvis\tikke\tskal\tden\treturnere\tFalse. Funksjonen\tskal\tkun\treturnere\tTrue\ti\ttilfeller\thvor\ttegnsetting\ti\tstrengen\tblir\thelt\tlik\tuavhengig\tavhvilken\tvei\tstrengen\tleses.\tDet\tbetyr\tat\tfunksjonskallet\tpalindrome(\"Radar\")\tvil\treturnere\tFalse\tsiden funksjonen skiller på store og små bokstaver.\n",
    "\n",
    "Gitt funksjonen:\n",
    ">```python\n",
    "def palindrome(s):\n",
    "    <#KODE1>\n",
    "    ```\n",
    "   \n",
    "Eksempel på kjøring av funksjonen palindrome:\n",
    ">```python\n",
    ">>>>palindrome(\"radar\")\n",
    "True\n",
    "```\n"
   ]
  },
  {
   "cell_type": "code",
   "execution_count": 20,
   "metadata": {
    "ExecuteTime": {
     "end_time": "2019-07-08T18:12:29.690532Z",
     "start_time": "2019-07-08T18:12:29.494303Z"
    },
    "hide_input": true
   },
   "outputs": [
    {
     "name": "stdout",
     "output_type": "stream",
     "text": [
      "\u001b[1m Hvordan skal linjen med innholder #KODE1 (return-setningen) i koden til palindrome se ut for at funksjonen skal fungere som beskrevet over ved kjøring?: \u001b[0m\n"
     ]
    },
    {
     "data": {
      "application/vnd.jupyter.widget-view+json": {
       "model_id": "91947068f6d24664a6306f42322e806f",
       "version_major": 2,
       "version_minor": 0
      },
      "text/plain": [
       "RadioButtons(layout=Layout(width='1500px'), options=('return bool(s.find(s[len(s):1]))', 'return not(bool(s.fi…"
      ]
     },
     "metadata": {},
     "output_type": "display_data"
    },
    {
     "data": {
      "application/vnd.jupyter.widget-view+json": {
       "model_id": "c7698277b3394955bcdf650009f87beb",
       "version_major": 2,
       "version_minor": 0
      },
      "text/plain": [
       "Button(description='Sjekk svaret', style=ButtonStyle())"
      ]
     },
     "metadata": {},
     "output_type": "display_data"
    },
    {
     "data": {
      "application/vnd.jupyter.widget-view+json": {
       "model_id": "fe87e7bd34ee486e8d93a320b0feeb87",
       "version_major": 2,
       "version_minor": 0
      },
      "text/plain": [
       "Output()"
      ]
     },
     "metadata": {},
     "output_type": "display_data"
    }
   ],
   "source": [
    "       \n",
    "generate_mc(['return not(bool(s.find(s[0.len(s):)))','return bool(s.find(s[len(s).1]))','return not(bool(s.find(s[len(s):1])))','return bool(s.find(s[len(s):1]))','return bool(s.find(s[::-1]))','return not(bool(s.find(s[::-1])))'],'Hvordan skal linjen med innholder #KODE1 (return-setningen) i koden til palindrome se ut for at funksjonen skal fungere som beskrevet over ved kjøring?:',6,[\"\",\"\",\"\",\"\",\"\",\n",
    "                \"s[::-1] vil gi oss strengen s i motsatt rekkefølge. s.find(s[::-1]) vil da gi 0 dersom s er et palindrom, siden s er lik s baklengs. Bool funksjonen fungerer slik at alt annen enn 0 blir True, mens 0 blir False. Dermed må vi slenge på en not, slik at et palindrom gir True, mens ord som ikke er det gir False.\"])"
   ]
  },
  {
   "cell_type": "markdown",
   "metadata": {},
   "source": [
    "## Oppgave 2e - Kodeforståelse (5%)"
   ]
  },
  {
   "cell_type": "markdown",
   "metadata": {},
   "source": [
    "Gitt funksjonen.\n",
    ">```python\n",
    "def myst(tall1,tall2,nr):\n",
    "    for i in range(2,nr):\n",
    "        nytt = tall1 + tall2\n",
    "        tall1 = tall2\n",
    "        tall2 = nytt\n",
    "    return nytt\n",
    "    ```\n",
    "    \n",
    "Hva skrives ut når følgende kode kjøres?\n",
    "\n",
    ">```python \n",
    "print(myst(0,1,7))```"
   ]
  },
  {
   "cell_type": "code",
   "execution_count": 21,
   "metadata": {
    "hide_input": true
   },
   "outputs": [
    {
     "name": "stdout",
     "output_type": "stream",
     "text": [
      "\u001b[1m Hvilket alternativ er riktig? \u001b[0m\n"
     ]
    },
    {
     "data": {
      "application/vnd.jupyter.widget-view+json": {
       "model_id": "f6007b37054b44cd8de034f9f3785c93",
       "version_major": 2,
       "version_minor": 0
      },
      "text/plain": [
       "RadioButtons(layout=Layout(width='1500px'), options=('11', '8.0', '13.0', 8, '5', '13'), value='11')"
      ]
     },
     "metadata": {},
     "output_type": "display_data"
    },
    {
     "data": {
      "application/vnd.jupyter.widget-view+json": {
       "model_id": "e0a4271774fc4c3080d674d61574719c",
       "version_major": 2,
       "version_minor": 0
      },
      "text/plain": [
       "Button(description='Sjekk svaret', style=ButtonStyle())"
      ]
     },
     "metadata": {},
     "output_type": "display_data"
    },
    {
     "data": {
      "application/vnd.jupyter.widget-view+json": {
       "model_id": "8cfc2438403143d382fd2b5b5cce5095",
       "version_major": 2,
       "version_minor": 0
      },
      "text/plain": [
       "Output()"
      ]
     },
     "metadata": {},
     "output_type": "display_data"
    }
   ],
   "source": [
    "generate_mc([\"5\",\"8.0\",\"11\",\"13\",\"13.0\",8],\"Hvilket alternativ er riktig?\",6,[\"\",\"\",\"\",\"\",\"\",\"Her må vi bare jobbe oss gjennom lista, det kan være lurt å skrive ned resultatet for hver iterasjon\"])"
   ]
  },
  {
   "cell_type": "markdown",
   "metadata": {},
   "source": [
    "## Oppgave 2f - Kodeforståelse (5%)"
   ]
  },
  {
   "cell_type": "markdown",
   "metadata": {},
   "source": [
    "Gitt funksjonen:\n",
    "\n",
    ">```python\n",
    "def myst(x,y):\n",
    "    if x%y==0:\n",
    "        return y\n",
    "    else:\n",
    "        return myst(y,x%y)\n",
    "```\n",
    "\n",
    "Hva skrives ut når følgende kode kjøres?\n",
    ">```python\n",
    "print(myst(24,88)) \n",
    "```"
   ]
  },
  {
   "cell_type": "code",
   "execution_count": 22,
   "metadata": {
    "ExecuteTime": {
     "end_time": "2019-07-09T06:41:42.492979Z",
     "start_time": "2019-07-09T06:41:42.298709Z"
    },
    "hide_input": true
   },
   "outputs": [
    {
     "name": "stdout",
     "output_type": "stream",
     "text": [
      "\u001b[1m Hvilket alternativ er riktig? \u001b[0m\n"
     ]
    },
    {
     "data": {
      "application/vnd.jupyter.widget-view+json": {
       "model_id": "7861f3c9af294a2ab5756c8966df5f79",
       "version_major": 2,
       "version_minor": 0
      },
      "text/plain": [
       "RadioButtons(layout=Layout(width='1500px'), options=('6', '18', '4', '8', '12', '16'), value='6')"
      ]
     },
     "metadata": {},
     "output_type": "display_data"
    },
    {
     "data": {
      "application/vnd.jupyter.widget-view+json": {
       "model_id": "4f9d6e0469db4fc4a7e4070100ccd8a1",
       "version_major": 2,
       "version_minor": 0
      },
      "text/plain": [
       "Button(description='Sjekk svaret', style=ButtonStyle())"
      ]
     },
     "metadata": {},
     "output_type": "display_data"
    },
    {
     "data": {
      "application/vnd.jupyter.widget-view+json": {
       "model_id": "d78030ae706046aba63bed01b5022fbd",
       "version_major": 2,
       "version_minor": 0
      },
      "text/plain": [
       "Output()"
      ]
     },
     "metadata": {},
     "output_type": "display_data"
    }
   ],
   "source": [
    "generate_mc([\"8\",\"6\",\"16\",\"4\",\"12\",\"18\"],\"Hvilket alternativ er riktig?\",6)"
   ]
  },
  {
   "cell_type": "markdown",
   "metadata": {},
   "source": [
    "## Task 3 - multigames: beskrivelse"
   ]
  },
  {
   "cell_type": "markdown",
   "metadata": {},
   "source": [
    "Du\ter\tmed\ti\tarrangementskomitéen\tfor\tde\tårlige\tflerkamplekene\tsom\tarrangeres\ti\tbygården du\tbor\ti.\tAlle\tdeltakere\ter\tmed\tpå\tfem\tulike\tøvelser,\tog\tresultatene\tlagres\ti\ten\tfil\tpå\tfølgende format\t(se\togså\tnederst\ti\tfunksjonshjelpen\ttil\tvenstre):\n",
    "\n",
    "Name,\t\t\t\tPoker,\t\tHighjump,\t\tBalloonshooting,\tSausageEating,\t\tHoldBreath\n",
    "\n",
    "John,  8,\t\t\t\t\t\t\t\t\t1.67,\t\t\t\t\t\t17,\t\t\t\t\t\t\t\t\t\t\t\t\t\t23,\t\t\t\t\t\t\t\t\t\t\t\t\t2:01.65\n",
    "\n",
    "Lisa,\t\t\t\t12,\t\t\t\t\t\t\t\t1.30,\t\t\t\t\t\t12,\t\t\t\t\t\t\t\t\t\t\t\t\t\t13,\t\t\t\t\t\t\t\t\t\t\t\t\t1:13.02\n",
    "\n",
    "Per,\t\t\t\t\t8,\t\t\t\t\t\t\t\t\t1.55,\t\t\t\t\t\t8,\t\t\t\t\t\t\t\t\t\t\t\t\t\t\t0,\t\t\t\t\t\t\t\t\t\t\t\t\t\t1:51.35\n",
    "\n",
    "Nelly,\t\t\t2,\t\t\t\t\t\t\t\t\t1.34,\t\t\t\t\t\t9,\t\t\t\t\t\t\t\t\t\t\t\t\t\t\t17,\t\t\t\t\t\t\t\t\t\t\t\t\t0:31.18\n",
    "\n",
    "Jørn,\t\t\t\t5,\t\t\t\t\t\t\t\t\t1.87,\t\t\t\t\t\t13,\t\t\t\t\t\t\t\t\t\t\t\t\t\t5,\t\t\t\t\t\t\t\t\t\t\t\t\t\t2:01.65\n",
    "\n",
    "...\tlisten\tfortsetter\tmed\tén\tlinje\tfor\thver\tdeltaker.\tDu\tkan\tforutsette\tat\talle\tdeltakerne\thar verdier\tfor\talle\tøvelsene,\tselv\tom\tnoen\tav\tdem\tkan\tha\t0.\tDu\tkan\togså\tforutsette\tat\ti\tsenere oppgaver\tbetyr\thøyere\tverdi\ti\ten\tøvelse\tet\tBEDRE\tresultat.\n",
    "\n",
    "For\tå\tgi\tlesbarhet\thar\tdenne\tfilen\tlitt\tspesiell\tstruktur.\tHvert\telement\ter\tseparert\tmed\tet komma\t‘,’\tog\tet\t**variabelt**\tantall\tmellomrom\t(whitespace)\t‘    ‘.\n",
    "\n",
    "Deltakernes\tnavn\ter\tskrevet\ti\tførste\tkolonne.\t**Deltakernes\trekkefølge\ter\tukjent**. Tilsvarende\tinneholder\tden\tførste\traden\tnavnet\tpå\tøvelsene.\t**Øvelsenes\trekkefølge\tkan også\tvariere\t(men\tden\ter\tlik\tfor\talle\tdeltakerne)**.\tI\tde\tfølgende\toppgavene\tmå\tdere derfor\tvelge\ten\tløsning\tsom\ttar\thensyn\ttil\tat\tman\tikke\tkan\tvite\tat\tresultatene\tfra ballongskytingen\tkommer\ti\tkolonne\t3\tog\tliknende.\tDu\tkan\tderimot\tforutsette\tat\tresultatet\ttil hver\tdeltaker\ti\ten\tøvelse\ter\ti\tsamme\tkollonne\tsom\tøvelsens\tnavn.\n",
    "\n",
    "**Eksisterende\tfunksjon\tdu\tkan\tbruke\tved\tbehov**\n",
    "\n",
    "Det\teksisterer\ten\tallerede\tkodet\tfunksjon\tdere\tkan\tbruke\tved\tbehov,\tkalt sort_list(mylist,elemnum).\tDen\ttar\tto\tparametre.\tDen\tførste\ter\ten\ttodimensjonal\tliste.\tDen andre\tparameteren\tbestemmer\thvilken\tkolonne\tlisten\tskal\tsorteres\tpå.\tFunksjonen returnerer\tden\tsamme\tlisten,\tmen\tmed\telementene\tsortert\tetter\tvalgt\telementnummer.Eksempel\tpå\tbruk\tav\tsort_list(mylist,elemnum):\tLegg\tmerke\ttil\tat\tden\tsorterer\tpå\tverdien\tav den\tandre\telementet\ti\thver\tsubliste\tved\tå\tkalle\tsort_list med parameteren 1.\n",
    "```python\n",
    ">>>\tsort_list([['John',8],['Lisa',12],['Per',8]],1)\n",
    "[['Lisa',12],['John',8],['Per',8]]\n",
    "#Her kom ['Lisa', 12] først siden 12 var det høyeste tallet\t\n",
    "```"
   ]
  },
  {
   "cell_type": "code",
   "execution_count": 1,
   "metadata": {
    "ExecuteTime": {
     "end_time": "2019-07-08T18:12:30.095359Z",
     "start_time": "2019-07-08T18:12:30.088710Z"
    }
   },
   "outputs": [],
   "source": [
    "def sort_list(mylist,elemnum):\n",
    "    return sorted(mylist,key=lambda l:l[elemnum], reverse=True)\n",
    "\n",
    "#Du trenger ikke henge deg opp i hvordan denne koden fungerer. Du kan benytte deg av den likevel.\n",
    "\n"
   ]
  },
  {
   "cell_type": "markdown",
   "metadata": {},
   "source": [
    "## Oppgave 3a - Programmering (5%)"
   ]
  },
  {
   "cell_type": "markdown",
   "metadata": {},
   "source": [
    "Skriv\tfunksjonen\t**read_file**\tsom\ttar\ten\tinn-parameter\t**filename**.\tDenne\tfunksjonen\tskal\tlese inn\ten\ttekstfil\t**filename**,\tsom\tbekriver\tresultatene\tfra\tårets\tflerkamp-konkurranse.Resultatene\ter\tlagret\ti\ttekstfilen\t*flerkamp.txt*,\tsom\tligger\ti\tdenne\tmappen.\tResultatene\ti\ttekstfilen\ter\tpå\tformatet\tbeskrevet over.\tFunksjonen\tskal\treturnere\tinnholdet\ti\ttekstfilen\ti\tform\tav\tén\tlang\tstreng.\tDersom\tfilen ikke\tfinnes\tskal\tfunksjonen\tskrive\tut\tfeilmeldingen\t\"Kan\tikke\tfinne\tfilen\tflerkamp.txt\"\ttil skjermen,\tog\treturnere\tverdien\t*None*.\n",
    "\n",
    "Eksempel\tpå\tkjøring\tav\tfunksjonen\tog\tutskrift\tav\treturverdi:\n",
    ">```python\n",
    ">>>>\tresultater\t=\tread_file('flerkamp.txt')\n",
    ">>>>\tresultater\n",
    "'Name,\t\t\t\tPoker,\t\tHighjump,\t\tBalloonshooting,\tSausageEating,\t\tHoldBreath\\nJohn,\t\t\t\t8,\t\t\t\t\t\t\t\t1.67,\t\t\t\t\t\t17,\t\t\t\t\t\t\t\t\t\t\t\t\t\t23,\t\t\t\t\t\t\t\t\t\t\t\t\t2:01.65\\nLisa,\t\t\t\t12,\t\t\t\t\t\t\t\t1.30,\t\t\t\t\t\t12,\t\t\t\t\t\t\t\t\t\t\t\t\t\t13,\t\t\t\t\t\t\t\t\t\t\t\t1:13.02\\nPer,\t\t\t\t\t8,\t\t\t\t\t\t\t\t\t1.55,\t\t\t\t\t\t8,\t\t\t\t\t\t\t\t\t\t\t\t\t\t\t0,\t\t\t\t\t\t\t\t\t\t\t\t\t\t1:51.35\\nNelly,\t\t\t2,\t\t\t\t\t\t\t\t1.34,\t\t\t\t\t\t9,\t\t\t\t\t\t\t\t\t\t\t\t\t\t\t17,\t\t\t\t\t\t\t\t\t\t\t\t\t0:31.18\\nNora,\t\t\t\t5,\t\t\t\t\t\t\t\t\t1.87,\t\t\t\t\t\t13,\t\t\t\t\t\t\t\t\t\t\t\t\t\t5,\t\t\t\t\t\t\t\t\t\t\t\t\t2:01.65\\n\n",
    "```"
   ]
  },
  {
   "cell_type": "code",
   "execution_count": 24,
   "metadata": {
    "ExecuteTime": {
     "end_time": "2019-07-08T18:12:30.122188Z",
     "start_time": "2019-07-08T18:12:30.097632Z"
    }
   },
   "outputs": [],
   "source": [
    "#skriv koden din her"
   ]
  },
  {
   "cell_type": "markdown",
   "metadata": {},
   "source": [
    "## Oppgave 3b - programmering (5%)"
   ]
  },
  {
   "cell_type": "markdown",
   "metadata": {},
   "source": [
    "Skriv\tfunksjonen\t**`list_from_string`**\tsom\ttar\tinn\tstrengen\t**txt**\tsom\tinn-parameter.\tForutsett at\t**txt**\thar\tet\tformat\ttilsvarende\tén\tenkelt\tlinje\ti\t*flerkamp.txt*,\tdvs.\tet\tsett\tmed\tverdier\t(navn og\tresultat\tper\tøvelse)\tseparert\tmed\tkomma\tog\tet\tvilkårlig\tantall\tmellomrom\t(whitespace). Funksjonen\tskal\treturnere\ten\tliste\tmed\tstrenger\tsom\tbeskriver\tde\tenkelte\tverdiene. Eventuelle\tmellomrom,\tlinjeskift\teller\ttabulatorer\t(whitespace)\ti\tstrengen\tmå\tfjernes\tfra hvert\telement\ti\tlisten\tfør\tlisten returneres.\n",
    "\n",
    "Eksempel på bruk:\n",
    "\n",
    "```python \n",
    ">>>>\tlist_from_string(\"Lisa,\t\t12,\t\t\t1.30,\t\t\t12,\t\t\t\t13,\t\t1:13.02\\n\")\n",
    "['Lisa','12','1.30','12','13','1:13.02']\n",
    "```"
   ]
  },
  {
   "cell_type": "code",
   "execution_count": 25,
   "metadata": {
    "ExecuteTime": {
     "end_time": "2019-07-08T18:12:30.218767Z",
     "start_time": "2019-07-08T18:12:30.188006Z"
    }
   },
   "outputs": [],
   "source": [
    "#skriv koden din her"
   ]
  },
  {
   "cell_type": "markdown",
   "metadata": {},
   "source": [
    "## Oppgave 3c - Programmering (5%)"
   ]
  },
  {
   "cell_type": "markdown",
   "metadata": {},
   "source": [
    "Skriv\tfunksjonen\t**`make_result_list`**\tsom\ttar\tinn\tstrengen\treturnert\tav\tfunksjonen\t**read_file**(Oppgave\t3a)\tsom\tinn-parameter.\tFunksjonen\t**`make_result_list`**\tskal\treturnere\ten\tto-dimensjonal\tliste\tder\thvert\tlisteelement\ter\ten\tliste\tsom\tinnholder\tverdiene\tfra\thver\tlinje\ti filen\t*flerkamp.txt*.\tBruk\tgjerne\tfunksjonen\t**`list_from_string`**\t(Oppgave\t3b)\ti\tløsningen\tdin.\n",
    "\n",
    "Eksempel\tpå\tbruk:\n",
    ">```python\n",
    ">>>\tstring=read_file('flerkamp.txt')\n",
    ">>>\tstring\n",
    "'Name,\t\t\t\tPoker,\t\tHighjump,\t\tBalloonshooting,\tSausageEating,\t\tHoldBreath\\nJohn,\t\t\t\t8,\t\t\t\t\t\t\t\t1.67,\t\t\t\t\t\t17,\t\t\t\t\t\t\t\t\t\t\t\t\t\t23,\t\t\t\t\t\t\t\t\t\t\t\t\t2:01.65\\nLisa,\t\t\t\t12,\t\t\t\t\t\t\t\t1.30,\t\t\t\t\t\t12,\t\t\t\t\t\t\t\t\t\t\t\t\t\t13,\t\t\t\t\t\t\t\t\t\t\t\t1:13.02\\nPer,\t\t\t\t\t8,\t\t\t\t\t\t\t\t\t1.55,\t\t\t\t\t\t8,\t\t\t\t\t\t\t\t\t\t\t\t\t\t\t0,\t\t\t\t\t\t\t\t\t\t\t\t\t\t1:51.35\\nNelly,\t\t\t2,\t\t\t\t\t\t\t\t\t1.34,\t\t\t\t\t\t9,\t\t\t\t\t\t\t\t\t\t\t\t\t\t17,\t\t\t\t\t\t\t\t\t\t\t\t\t0:31.18\\nNora,\t\t\t\t5,\t\t\t\t\t\t\t\t\t1.87,\t\t\t\t\t\t13,\t\t\t\t\t\t\t\t\t\t\t\t\t\t5,\t\t\t\t\t\t\t\t\t\t\t\t\t\t2:01.65'\n",
    ">>>\tresults=make_result_list(string)\n",
    ">>>\tresults\n",
    "[['Name','Poker','Highjump','Balloonshooting','SausageEating','HoldBreath'],['John','8','1.67','17','23','2:01.65'],['Lisa','12','1.30','12','13','1:13.02'],['Per','8','1.55','8','0','1:51.35'],['Nelly','2','1.34','9','17','0:31.18'],['Nora','5','1.87','13','5','2:01.65']]\n",
    "```"
   ]
  },
  {
   "cell_type": "code",
   "execution_count": 26,
   "metadata": {
    "ExecuteTime": {
     "end_time": "2019-07-08T18:12:30.250446Z",
     "start_time": "2019-07-08T18:12:30.222959Z"
    }
   },
   "outputs": [],
   "source": [
    "#skriv koden din her"
   ]
  },
  {
   "cell_type": "markdown",
   "metadata": {},
   "source": [
    "## Oppgave 3d - Programmering (6%)"
   ]
  },
  {
   "cell_type": "markdown",
   "metadata": {},
   "source": [
    "Skriv\tfunksjonen\t**`time_to_seconds`**\tsom\ttar\tstrengen\t**time**\tsom\tinn-parameter.\tStrengen\tangir\ten\tdeltakers\tsluttid\ti\ten\tøvelse\t(f.eks.\tholde\tpusten\tlengst\tmulig)\tog\tvil\tha følgende\tformat:\t*min:sek.hundredeler*.\tFunksjonen\tskal\tgjøre\tom\tstrengen\ttil\tet\tflyttall med\tformatet\t*sekunder.hundredeler*\tog\treturnere\tdette\tflyttallet.\tEksempel\tpå\tbruk:\n",
    ">```python\n",
    ">>>> time_to_seconds('2:01.65')\n",
    "121.65\n",
    ">>>> print(type(time_to_seconds('2:21.65'))\n",
    "<class 'float'>\n",
    "```"
   ]
  },
  {
   "cell_type": "code",
   "execution_count": 27,
   "metadata": {
    "ExecuteTime": {
     "end_time": "2019-07-08T18:12:30.292560Z",
     "start_time": "2019-07-08T18:12:30.253757Z"
    }
   },
   "outputs": [],
   "source": [
    "#skriv koden din her"
   ]
  },
  {
   "cell_type": "markdown",
   "metadata": {},
   "source": [
    "## Oppgave 3e - Programmering (9%)"
   ]
  },
  {
   "cell_type": "markdown",
   "metadata": {},
   "source": [
    "Skriv\tfunksjonen\t**`str_to_numbers`**\tsom\ttar\tinn\t**results**,\ten\tto-dimensjonal liste,\tsom\tparameter.\tFunksjonen\tskal\tkunne\tta\tinn\tden\tto-dimensjonale\tlisten\tsom returneres\tfra\tfunksjonen\t**`make_result_list`**\t(Oppgave\t3c)\tog\tgjøre\tom\ttall\tpå\tstrengformat til\theltall\teller\tflyttall.\tHvis\tet\telement\thar\tformatet\t‘2:23.56’\tskal\tdisse\tgjøres\tom\ttil\tantall sekunder\tog\tantall\thundredeler\t(altså\ther\t143.56\tsom\tflyttall).\tHvis\telementet\thar\tformatet '1.3'\tskal\tdet\tgjøres\tom\ttil\tet\tflyttall,\tmens\thvis\tstrengen\tbare\tinneholder\tet\ttall\tsom\t'12' skal\tden\tgjøres\tom\ttil\tet\theltall.\tFunksjonen\tstr_to_numbers\tskal\treturnere\tden\tformaterte(to-dimensjonale)\tlisten.\n",
    "\n",
    "Eksempel\tpå\tbruk:\n",
    "```python\n",
    ">>>\t#results inneholder resultatet fra oppgave 3c, og den har følgende format:\n",
    ">>>\tresults\t#Dette er formatet fra oppgave 3c\n",
    "[['Name','Poker','Highjump','Balloonshooting','SausageEating','HoldBreath'],['John','8','1.67','17','23','2:01.65'],['Lisa','12','1.30','12','13','1:13.02'],['Per','8','1.55','8','0','1:51.35'],['Nelly','2','1.34','9','17','0:31.18'],['Nora','5','1.87','13','5','2:01.65']]\n",
    ">>>\tresults=str_to_number(results)\n",
    ">>>\tresults\t#Dette er results fra oppgave 3e\n",
    "[['Name','Poker','Highjump','Balloonshooting','SausageEating','HoldBreath'],['John',8,1.67,17,23,121.65],\n",
    " ['Lisa',12,1.3,12,13,73.02],['Per',8,1.55,8,0,111.35],['Nelly',2,1.34,9,17,31.18],\n",
    " ['Nora',5,1.87,13,5,121.65]\n",
    "```"
   ]
  },
  {
   "cell_type": "code",
   "execution_count": 28,
   "metadata": {
    "ExecuteTime": {
     "end_time": "2019-07-08T18:12:30.323772Z",
     "start_time": "2019-07-08T18:12:30.295841Z"
    }
   },
   "outputs": [],
   "source": [
    "#skriv svaret ditt her"
   ]
  },
  {
   "cell_type": "markdown",
   "metadata": {},
   "source": [
    "## Oppgave 3f – Programmering (5%)"
   ]
  },
  {
   "cell_type": "markdown",
   "metadata": {},
   "source": [
    "Skriv\tfunksjonen\t**`find_data`**,\tsom\thar\tinput-parametrene\t**event**,\t**name**\tog\t**results**.Parametrene\tinneholder,\ti\tden\trekkefølgen,\ten\tøvelse,\tdeltagerens\tnavn\tog\tresultatlisten\tfor en\tfullstendig\tflerkamps-konkurranse.\tDenne\tlisten\ter\tformattert\tslik\tsom\tden\treturneres fra\tfunksjonen **`str_to_numbers`**\t(i\toppgave\t3e).\tNavnet\tpå\tøvelsene\tog\tdeltagerne\ter\ti ukjent\trekkefølge.\n",
    "\n",
    "Funksjonen\tskal\tbruke\tlisten\ttil\tå\tfinne\tresultatet\tfor\ten\tdeltager\ti\tden\toppgitte\tøvelsen,\tog returnere\tdenne\tverdien.\n",
    "\n",
    "I\teksempelet\tunder\ter\tdet\tvist\thvordan\tresultatet\t(returverdien\tfra\t**`str_to_numbers`**)\tser\tut før\t**`find_data`**\tblir\tkjørt:\n",
    ">```python\n",
    ">>>>results\n",
    "[['Name','Poker','Highjump','Balloonshooting','SausageEating','HoldBreath'],['John',8,1.67,17,23,121.65],['Lisa',12,1.3,12,13,73.02],['Per',8,1.55,8,0,111.35],['Nelly',2,1.34,9,17,31.18],['Nora',5,1.87,13,5,121.65]]\n",
    ">>>>find_data('SausageEating','John',results)\n",
    "23\n",
    "```"
   ]
  },
  {
   "cell_type": "code",
   "execution_count": 29,
   "metadata": {},
   "outputs": [],
   "source": [
    "#skriv koden din her"
   ]
  },
  {
   "cell_type": "markdown",
   "metadata": {},
   "source": [
    "## Oppgave 3g – Programmering (5%)"
   ]
  },
  {
   "cell_type": "markdown",
   "metadata": {},
   "source": [
    "Skriv\tfunksjonen\t**`event_results`**\tsom\ttar\tinn-parametrene\t**event**\tog\t**results**.\tParameteren event\ter\ten\tstreng\tsom\tangir\tén\tbestemt\tøvelse\t(f.eks.\tPoker),\tmens\tresults\tvil\tvære datastrukturen\tsom\treturneres\tav\tfunksjonen\t**`str_to_numbers`**\t(Oppgave\t3e).\tFunksjonen **`event_results`**\tskal\treturnere\ten\tto-dimensonal\tliste,\tslik\tsom\ti\teksemplet\tnedenfor.\tListen skal\tvære\tsortert\tetter\tresultat\tslik\tat\tvinneren\tav\tden\tangitte\tøvelsen\tog\thans/hennesresultat\tskal\tkommer\tførst\ti\tlisten,\tmens\ttaperen\tog\thans/hennes\tresultat\tkommer\tsist. Du\tmå\tgjerne\tbruke\tden\teksisterende\tfunksjonen\t**`sort_list`**\thvis\tdu\tønsker\tdet.\tDen\tstår beskrevet\ti\tstarten\tav\toppgave\t3, \tmen\toppsummert\tsorterer\tden\ten\ttodimensjonal\tliste\tliste list på\telementnummer\telem.\n",
    ">```python\n",
    ">>>>sort_list([['John',8],['Lisa',12],['Per',8]],1)\n",
    "[['Lisa',12],['John',8],['Per',8]]\n",
    "```\n",
    ">```python\n",
    ">>>>results # Fra oppgave 3e\n",
    "[['Name','Poker','Highjump','Balloonshooting','SausageEating','HoldBreath'],['John',8,1.67,17,23,121.65],['Lisa',12,1.3,12,\t13,73.02],['Per',8,1.55,8,0,111.35],['Nelly',2,1.34,9,17,31.18],['Nora',5,1.87,13,5,121.65]]\n",
    ">>>>event_results('Poker',results)\n",
    "[['Lisa',12],['John',8],['Per',8],['Nora',5],['Nelly',2]\n",
    "```"
   ]
  },
  {
   "cell_type": "code",
   "execution_count": 30,
   "metadata": {},
   "outputs": [],
   "source": [
    "#skriv koden din her"
   ]
  }
 ],
 "metadata": {
  "kernelspec": {
   "display_name": "Python 3",
   "language": "python",
   "name": "python3"
  },
  "language_info": {
   "codemirror_mode": {
    "name": "ipython",
    "version": 3
   },
   "file_extension": ".py",
   "mimetype": "text/x-python",
   "name": "python",
   "nbconvert_exporter": "python",
   "pygments_lexer": "ipython3",
   "version": "3.7.3"
  },
  "toc": {
   "base_numbering": 1,
   "nav_menu": {},
   "number_sections": false,
   "sideBar": true,
   "skip_h1_title": false,
   "title_cell": "Table of Contents",
   "title_sidebar": "Contents",
   "toc_cell": false,
   "toc_position": {},
   "toc_section_display": true,
   "toc_window_display": false
  }
 },
 "nbformat": 4,
 "nbformat_minor": 2
}