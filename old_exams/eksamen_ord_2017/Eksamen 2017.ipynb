{
 "cells": [
  {
   "cell_type": "markdown",
   "metadata": {},
   "source": [
    "## Oppgave 2 Kodeforståelse (20%)"
   ]
  },
  {
   "cell_type": "markdown",
   "metadata": {},
   "source": [
    "### 2a (5%)"
   ]
  },
  {
   "cell_type": "markdown",
   "metadata": {},
   "source": [
    "Funksjonen **`bin_search`** er ment til å skulle utføre binærsøk, men resulterer i feilmeldingen.\n",
    "\n",
    "`IndexError: list index out of range`\n",
    "\n",
    "I hvilken linje er feilen? (2%)\n",
    "\n",
    "Hva skulle det egentlig ståttpå den linjenfor at funksjonen skal virke etter sin hensikt?(3%)\n",
    "\n",
    ">```python\n",
    "def bin_search(liste, verdi, imin, imax):\n",
    "    if(imax < imin):\n",
    "        return False\n",
    "    else:\n",
    "        imid = (imin+imax)\n",
    "        if(verdi<liste[imid]):\n",
    "            return bin_search(liste,verdi,imin,imid-1)\n",
    "        elif(verdi>liste[imid]):\n",
    "            return bin_search(liste,verdi,imid+1,imax)\n",
    "        else:\n",
    "            return imid\n",
    "```"
   ]
  },
  {
   "cell_type": "code",
   "execution_count": null,
   "metadata": {},
   "outputs": [],
   "source": [
    "#Skriv svaret ditt her som en kommentar"
   ]
  },
  {
   "cell_type": "markdown",
   "metadata": {},
   "source": [
    "### Oppgave 2b (5%)"
   ]
  },
  {
   "cell_type": "markdown",
   "metadata": {},
   "source": [
    "Hva blir returnert hvis myst([1,2,3,5,7,9])med kode som vist under blir kjørt? (3%)\n",
    "\n",
    "Forklar med **en setning** hva funksjonen mystgjør? (2 %)\n",
    "\n",
    ">```python\n",
    "def myst(A):\n",
    "    L=len(A)-1\n",
    "    for i in range(len(A)//2):\n",
    "        t=A[i]\n",
    "        A[i] = A[L-i]\n",
    "        A[L-i]=t\n",
    "    return A\n",
    "```"
   ]
  },
  {
   "cell_type": "code",
   "execution_count": null,
   "metadata": {},
   "outputs": [],
   "source": [
    "#Skriv svaret ditt her som en kommentar"
   ]
  },
  {
   "cell_type": "markdown",
   "metadata": {},
   "source": [
    "### Oppgave 2c (5%)"
   ]
  },
  {
   "cell_type": "markdown",
   "metadata": {},
   "source": [
    "Hva returneres ved kjøring av funksjonen myst2(345) med kode som vist under? (3 %)  \n",
    "Forklar med en setninghva funksjonen myst2 gjør? (2 %)\n",
    ">```python\n",
    "def myst2(a):\n",
    "    b=''\n",
    "    while a or b=='':\n",
    "        b=str(a%2)+b\n",
    "        a=a//2\n",
    "        return b\n",
    "```"
   ]
  },
  {
   "cell_type": "code",
   "execution_count": null,
   "metadata": {},
   "outputs": [],
   "source": [
    "#Skriv svaret ditt her som en kommentar"
   ]
  },
  {
   "cell_type": "markdown",
   "metadata": {},
   "source": [
    "### Oppgave 2d (5%)"
   ]
  },
  {
   "cell_type": "markdown",
   "metadata": {},
   "source": [
    "Forklar med en setning hva funksjonen `myst3([1,2,3,4,5,6,7,8,9,10])` med kode som vist under gjør? (5%)\n",
    "\n",
    "```python\n",
    "import random\n",
    "def myst3(a):\n",
    "    b =[0]*len(a)\n",
    "    for c in range(len(a)):\n",
    "        d = random.randint(0,len(a)-1)\n",
    "        b[c] = a[d]\n",
    "        del a[d]\n",
    "        return b\n",
    "```"
   ]
  },
  {
   "cell_type": "code",
   "execution_count": null,
   "metadata": {},
   "outputs": [],
   "source": [
    "#Skriv svaret ditt her som en kommentar"
   ]
  },
  {
   "cell_type": "markdown",
   "metadata": {},
   "source": [
    "## Oppgave 3 Programmering Gjennomsnittsmåling (30%)"
   ]
  },
  {
   "cell_type": "markdown",
   "metadata": {},
   "source": [
    "Du kan anta at alle funksjonene mottar gyldige argumenter, og at filer alltid lar seg åpne. Du kan benytte deg av funksjoner fra andre deloppgaver selv om du ikke har løst de deloppgavene.\n",
    "\n",
    "I denne oppgaven skal du hjelpe politiet med å lage programvare for to fotobokser (fotoboks A og fotoboks B) som blant annet kan brukes til å måle gjennomsnittsfart på kjøretøy. Hver fotoboks gjenkjenner registreringsnummer, dato (år, måned, dag) og tidspunkt (timer, minutter, sekund) for alle biler som passerer i en retning (først fotoboks A, deretter fotoboks B)og lagrer dette i to tekstfiler ’box_a.txt’og ’box_b.txt’(se figuren under). **De to tekstfilene ligger i denne mappen**\n",
    "\n",
    "![img](cameras.png)"
   ]
  },
  {
   "cell_type": "markdown",
   "metadata": {},
   "source": [
    "### Oppgave 3a (6%)"
   ]
  },
  {
   "cell_type": "markdown",
   "metadata": {},
   "source": [
    "Skriv funksjonen **`file_to_table`** som har en parameter **filename**. Denne funksjonen skal lese inn en tekstfil **filename** fra en fotoboks, som inneholder dato, tid og bilnummer for hver passering. Hver linje i tekstfila er formatert som vist i figuren ovenfor, der første linje har registrert passering av bil med registreringsnummer HB69082 som passerte 17.november 2017 klokken 6:21:12.Funksjonen skal returnereen todimensjonal tabell (liste av lister), der hver linje inneholder dato, tid og bilnummer. Dato skal oppgis med år, måned og dag som heltall. Tid skal oppgis med time, minutter og sekunder som heltall. Registreringsnummer skal være av typen tekststreng. Eksempel på kjøring av funksjon på fila box_a.txt som vist i figuren:\n",
    "```python\n",
    ">>> table = file_to_table('box_a.txt')\n",
    ">>> print(table)\n",
    "[[2017, 11, 17, 6, 21, 12, 'HB69082'], [2017, 11, 17, 6, 21, 53, 'CV86023'], [2017, 11, 17, 6, 23, 0, 'HD27560'], [2017, 11, 17, 6, 23, 2, 'UT29891'], [2017, 11, 17, 6, 24, 25, 'IS11293'], [2017, 11,17, 6, 24, 40, 'EL73840'], [2017, 11, 17, 6, 24, 41, 'UT55227'], [2017, 11, 17, 6, 26, 55, 'NB59108'], [2017, 11, 17, 6, 27, 29, 'UT46408'], [2017, 11, 17, 6, 28, 19, 'LE68228']]\n",
    "```"
   ]
  },
  {
   "cell_type": "code",
   "execution_count": null,
   "metadata": {},
   "outputs": [],
   "source": [
    "#skriv koden din her"
   ]
  },
  {
   "cell_type": "markdown",
   "metadata": {},
   "source": [
    "## Oppgave 3b (3%)"
   ]
  },
  {
   "cell_type": "markdown",
   "metadata": {},
   "source": [
    "Skriv funksjonen `time_diff` som tar inn to lister (**start** og **end**), der hver liste beskriver et tidspunkt angitt med dato og klokkeslett. Den første lista (start) er tidspunktet for passering av fotoboks A, mens den andre liste (end) er tidspunkt for passering av fotoboks B (senere tidspunkt enn A). Funksjonen skal returnere differansen mellom tidspunktene angitt i sekunder. Funksjonen skal også fungere for forskjellige datoer for å ta hensyn til kjøring rundt midnatt. For å beregne antall dager mellom datoer, kan du bruke funksjonen diff_date(d1,d2)som returnerer antall dager mellom d2 og d1, der d1 og d2 er dato spesifisert som ei liste på formatet [y,m,d], for eksempel [2017,11,17].\n",
    "\n",
    "Eksempel på kjøring for å finne differansen i sekunder på passering for bil som passerte fotoboks A 6:24:40 den 17.november 2017 og fotoboksB 6:32:40 samme dag, og et eksempel på en bil som passerte fotoboks A 23:59:59 17.november og fotoboks B 00:09:12 18. november 2017:\n",
    "\n",
    "```python\n",
    ">>> diff = time_diff([2017,11,17,6,24,40],[2017,11,17,6,32,40])\n",
    ">>> print(diff)\n",
    "480\n",
    ">>>diff = time_diff([2017,11,17,23,59,59],[2017,11,18,0,9,12])\n",
    ">>> print(diff)\n",
    "553\n",
    "```"
   ]
  },
  {
   "cell_type": "code",
   "execution_count": 3,
   "metadata": {},
   "outputs": [
    {
     "name": "stdout",
     "output_type": "stream",
     "text": [
      "14\n"
     ]
    }
   ],
   "source": [
    "from datetime import date\n",
    "def diff_date(d1,d2):\n",
    "    d1 = date(d1[0], d1[1], d1[2])\n",
    "    d2 = date(d2[0], d2[1], d2[2])\n",
    "    delta = d2 - d1\n",
    "    return delta.days\n",
    "\n",
    "#Du trenger ikke henge deg opp i hvordan koden fungerer. \n",
    "#Denne koden ble opprinnelig ikke oppgitt på eksamen, men du kan benytte deg av den."
   ]
  },
  {
   "cell_type": "code",
   "execution_count": null,
   "metadata": {},
   "outputs": [],
   "source": [
    "#skriv koden din her"
   ]
  },
  {
   "cell_type": "markdown",
   "metadata": {},
   "source": [
    "### Oppgave 3c (5%)"
   ]
  },
  {
   "cell_type": "markdown",
   "metadata": {},
   "source": [
    "Skriv funksjonen **`check_min_distance`** som har parameterne **car_table** og **diff**. Parameteren **car_table** er en todimensjonal tabell av passeringer som spesifisert i oppgave 3a), mens **diff** er avstand som kreves mellom biler angitt i sekunder. Funksjonen skal returnere registreringsnummer på alle biler som har mindre avstand i sekunder til bilen foran enn **diff**.\n",
    "\n",
    "Eksempel på kall av funksjonen **`check_min_distance`** med passeringer fra fotoboks A og for avstand mellom biler på mindre enn 3 sekunder:\n",
    "```python\n",
    ">>> car_table=file_to_table('box_a.txt')\n",
    ">>> crazy_drivers=check_min_distance(car_table,3)\n",
    ">>> print(crazy_drivers)\n",
    "['UT29891', 'UT55227']\n",
    "```"
   ]
  },
  {
   "cell_type": "code",
   "execution_count": null,
   "metadata": {},
   "outputs": [],
   "source": [
    "#skriv koden din her"
   ]
  },
  {
   "cell_type": "markdown",
   "metadata": {},
   "source": [
    "## Oppgave 3d (4%)"
   ]
  },
  {
   "cell_type": "markdown",
   "metadata": {},
   "source": [
    "Skriv funksjonen **`list_el_cars`** som har en parameter **car_table** som er en todimensjonal tabell av passeringer som spesifisert i oppgave 3a). Funksjonen skal returnere antall el-biler som har passert. El-biler har registreringsnummer som starter med EK,EL eller EV. Eksempel på kall av funksjonen `list_el_cars` med passeringer fra fotoboks A:\n",
    "```\n",
    ">>> car_table=file_to_table('box_a.txt')\n",
    ">>> el_cars=list_el_cars(car_table)\n",
    ">>> print(el_cars)\n",
    "1\n",
    "```"
   ]
  },
  {
   "cell_type": "code",
   "execution_count": null,
   "metadata": {},
   "outputs": [],
   "source": [
    "#skriv koden din her"
   ]
  },
  {
   "cell_type": "markdown",
   "metadata": {},
   "source": [
    "### Oppgave 3e (5%)"
   ]
  },
  {
   "cell_type": "markdown",
   "metadata": {},
   "source": [
    "Skriv funksjonen **`generate_license_numbers`** som har en parameter **amount**. Denne funksjonen skal returnere ei liste av **amount** antall unike vilkårlige registreringsnummer som kan brukes til testing av systemet. Bokstavene i registreringsnummeret kan være en av følgende: BS, CV, EL, FY, KU, LE, NB, PC, SY, og WC. Tallet i registreringsnummeret skal være mellom 10000 og 99999. Eksempel på kall av funksjonen generate_license_numbers:\n",
    "```python\n",
    ">>> cars=generate_license_numbers(10)\n",
    ">>> print(cars)\n",
    "['CV29728', 'KU73709', 'EL87605', 'NB76581', 'KU65980', 'WC71086', 'PC48338', 'KU36868', 'NB44194', 'KU10621']\n",
    "```"
   ]
  },
  {
   "cell_type": "code",
   "execution_count": null,
   "metadata": {},
   "outputs": [],
   "source": [
    "#skriv koden din her"
   ]
  },
  {
   "cell_type": "markdown",
   "metadata": {},
   "source": [
    "### Oppgave 3f (7%)"
   ]
  },
  {
   "cell_type": "markdown",
   "metadata": {},
   "source": [
    "Skriv funksjonen **`list_speeders`** som har fire parameterere **filename_a**,**filename_b**,**speed_limit** og **distance**. De to første parameterne er filnavn på filer som henholdsvis fotoboks A og B har skrevet ut som inneholder passeringer av biler angitt med dato, tidspunkt og registreringsnummer som angitt i oppgave 3a). Parameteren **speed_limit** angir fartsgrensen for strekningen oppgitt i km/t, mens parameteren distance oppgir avstand mellom fotoboksene angitt i km. Funksjonen skal returnere en liste av registreringsnummer til alle biler som har kjørt over fartsgrensa (speed_limit) for angitt strekning (distance). Det vil i praksis si at funksjonen skal liste opp registreringsnummer til alle biler som har brukt for kort tid mellom fotoboksene. \n",
    "\n",
    "Eksempel på kall av funksjonen **`list_speeders`** med filene som beskrevet i oppgave 3a) , med fartsgrense 60km/t og distanse på 10km:\n",
    "```\n",
    ">>> speeders = list_speeders('box_a.txt','box_b.txt',60,10)\n",
    ">>> print(speeders)\n",
    "['UT29891', 'EL73840', 'LE68228']\n",
    "```"
   ]
  },
  {
   "cell_type": "code",
   "execution_count": null,
   "metadata": {},
   "outputs": [],
   "source": [
    "#skriv koden din her"
   ]
  },
  {
   "cell_type": "markdown",
   "metadata": {},
   "source": [
    "## Oppgave 4 Programmering Tidevann (25%)"
   ]
  },
  {
   "cell_type": "markdown",
   "metadata": {},
   "source": [
    "I denne oppgaven skal vi se på tidspunktene for tidevann i Trondheim. Tidevann er varierende vannstand som forårsakes av solens og månens påvirkning på Jorda. Det er høyvann når man har maksimal vannstand, mens ved lavvann har man laveste vannstand. Det går 12 timer, 25 minutter og 12 sekunder mellom to høyvann. Midt mellom høyvann er det lavvann. \n",
    "\n",
    "Som et eksempel: dersom det erhøyvann klokka 00:00:00, så er det også høyvann klokka 12:25:12, samt at det er lavvann klokka 06:12:36 og klokka 18:37:48. Vi skal i denne oppgaven begrense oss til tidevannet i Trondheim i desember 2018. Det første tidevannet i byen denne måneden er 1. desember 2018 kl.03:18, og det var lavvann."
   ]
  },
  {
   "cell_type": "markdown",
   "metadata": {},
   "source": [
    "### Oppgave 4a (3%)"
   ]
  },
  {
   "cell_type": "markdown",
   "metadata": {},
   "source": [
    "Skriv funksjonen **`formatTime`** som har en parameter **seconds** som er antall sekunder som har gått siden midnatt. Funksjonen skal returnere en streng som inneholder klokkeslettet på formatet *hh:mm:ss*. Både timer, minutter og sekunder skal skrives med to siffer, og det skal brukes innledende null brukes dersom det er nødvendig.Funksjonen trenger ikke å håndtere verdier over 86400 sekunder (dvs. over ett døgn).\n",
    "\n",
    "Eksempel på kall av funksjonen **`formatTime`**:\n",
    "```\n",
    ">>> time = formatTime(12305)\n",
    ">>> print(time)\n",
    "03:25:05\n",
    "```"
   ]
  },
  {
   "cell_type": "code",
   "execution_count": null,
   "metadata": {},
   "outputs": [],
   "source": [
    "#skriv koden din her"
   ]
  },
  {
   "cell_type": "markdown",
   "metadata": {},
   "source": [
    "### Oppgave 4b (2%)"
   ]
  },
  {
   "cell_type": "markdown",
   "metadata": {},
   "source": [
    "Skriv en funksjon **`valuesDecember`** som har null parametere, men som skal returnere to konstanter **first** og **period**. Den første returverdien (**first**) angir tidspunktet for første lavvann som skal være antall sekunder tidspunktet klokka 03:18 er siden midnatt natt til 1.desember. Den andre returverdien (**period**) angir tiden i antall sekunder mellom to høyvann (eller to lavvann) for desember måned som er satt til å være 12 timer, 25 minutter og 12 sekunder.\n",
    "\n",
    "Eksempel på kall av funksjonen valuesDecember:\n",
    "```\n",
    ">>> first, period = valuesDecember()\n",
    ">>> print(first)\n",
    "11880\n",
    ">>> print(period)\n",
    "44712\n",
    "```"
   ]
  },
  {
   "cell_type": "code",
   "execution_count": null,
   "metadata": {},
   "outputs": [],
   "source": [
    "#skriv koden din her"
   ]
  },
  {
   "cell_type": "markdown",
   "metadata": {},
   "source": [
    "### Oppgave 4c (5%)"
   ]
  },
  {
   "cell_type": "markdown",
   "metadata": {},
   "source": [
    "Skriv en funksjon **`genTides`** som har ingen parametere, men skal benytte seg av funksjonen i 4b)for å finne verdier for desember måned. Funksjonen genTides skal returnere to ulike returverdier. Den første er en liste med tidspunktene for alle lavvann i desember, der tidspunktene er angitt som antall sekunder siden midnatt på natten til 1. desember. Den andre returverdien er en tilsvarende liste med tidspunktene for alle høyvann for samme måned–i samme format.Det er 31 dager i desember. \n",
    "\n",
    "Eksempel på kall av funksjonen genTides og utskrift av de åtte første elementene av resultatet:\n",
    "```\n",
    ">>> lows,highs=genTides()\n",
    ">>> print(lows[:8])\n",
    "[11880, 56592, 101304, 146016, 190728, 235440, 280152, 324864]\n",
    ">>> print(highs[:8])\n",
    "[34236, 78948, 123660, 168372, 213084, 257796, 302508, 347220]\n",
    "```"
   ]
  },
  {
   "cell_type": "code",
   "execution_count": null,
   "metadata": {},
   "outputs": [],
   "source": [
    "#skriv koden din her "
   ]
  },
  {
   "cell_type": "markdown",
   "metadata": {},
   "source": [
    "### Oppgave 4d (3%)"
   ]
  },
  {
   "cell_type": "markdown",
   "metadata": {},
   "source": [
    "Skriv en funksjon **`genTidesStr`** som har parameteren **tideList** som er ei liste av tidspunkter angitt i antall sekunder siden starten av måneden på likt format med hva som ble returnert i oppgave 4c). Funksjonen skal returnere ei liste av tekststrenger, der hver tekststreng inneholder først tallet for dagen i måneden og deretter klokkeslett formatert angitt med timer, minutter og sekunder. \n",
    "\n",
    "Eksempel på kall av funksjonen **`genTidesStr`** og utskrift av de fem første elementene av resultatet:\n",
    "```\n",
    ">>> lows, highs = genTides()\n",
    ">>> lowStrings = genTidesStr(lows)\n",
    ">>> for item in lowStrings[:5]:\n",
    "     print(item)\n",
    "     \n",
    "1 03:18:00\n",
    "1 15:43:12\n",
    "2 04:08:24\n",
    "2 16:33:36\n",
    "3 04:58:48\n",
    "```"
   ]
  },
  {
   "cell_type": "code",
   "execution_count": null,
   "metadata": {},
   "outputs": [],
   "source": [
    "#skriv koden din her"
   ]
  },
  {
   "cell_type": "markdown",
   "metadata": {},
   "source": [
    "### Oppgave 4e (7%)"
   ]
  },
  {
   "cell_type": "markdown",
   "metadata": {},
   "source": [
    "Skriv en funksjon **`checkTides`** som har parameteren **dayInMonth** som er et heltall. Funksjonen sjekker om det er høyvann eller lavvann i eksamenstiden på denne dagen i måneden, det vil si mellom klokken 09:00 og 13:00. Funksjonen skal skrive ut en streng på ett av følgende format: ’no tides’, ’high tide at 09:10:11’ eller ’low tide at 12:13:14’. De faktiske klokkeslettene skal stemme overens med dataene som funksjonen `genTides` returnerer. \n",
    "\n",
    "Eksempel på kall av funksjonen **`checkTides`** for 12., 18. og 24. desember:\n",
    "```\n",
    ">>> checkTides(12)\n",
    "no tides\n",
    ">>> checkTides(18)\n",
    "high tide at 12:12:36\n",
    ">>> checkTides(24)\n",
    "low tide at 11:02:24\n",
    "```"
   ]
  },
  {
   "cell_type": "code",
   "execution_count": null,
   "metadata": {},
   "outputs": [],
   "source": [
    "#skriv koden din her"
   ]
  },
  {
   "cell_type": "markdown",
   "metadata": {},
   "source": [
    "### Oppgave 4f (5%)"
   ]
  },
  {
   "cell_type": "markdown",
   "metadata": {},
   "source": [
    "Skriv en funksjon **`listTides`** som ikke har noen parametere og skal heller ikke returnere noe. Funksjonen skal skrive ut alle lavvann for desember måned 2018 i en tabell, slik at alle lavvann på samme dato listes på samme linje i den rekkefølgen de kommer. Funksjonen skal hente data fra funksjonen `genTides`. Utskriften skal skrives ut i tre kolonner: første kolonne er dagen i måneden, andre kolonne er tidspunkt for dagens første lavvann, og tredjekolonne er tidspunkt for et eventuelt andre lavvann den dagen. Alle data skal være satt opp og justert under hverandre som vist i eksemplet på kjøring under.\n",
    "\n",
    "Eksempel på kall av funksjonen **`listTides`** for desember:\n",
    "```\n",
    ">>> listTides()\n",
    "Day  First    Second\n",
    "  1 03:18:00 15:43:12\n",
    "  2 04:08:24 16:33:36\n",
    "  3 04:58:48 17:24:00\n",
    "  4 05:49:12 18:14:24\n",
    "  5 06:39:36 19:04:48\n",
    "  6 07:30:00 19:55:12\n",
    "  7 08:20:24 20:45:36\n",
    "  8 09:10:48 21:36:00\n",
    "  9 10:01:12 22:26:24\n",
    " 10 10:51:36 23:16:48\n",
    " 11 11:42:00 \n",
    " 12 00:07:12 12:32:24 \n",
    " 13 00:57:36 13:22:48 \n",
    " 14 01:48:00 14:13:12 \n",
    " 15 02:38:24 15:03:36 \n",
    " 16 03:28:48 15:54:00 \n",
    " 17 04:19:12 16:44:24 \n",
    " 18 05:09:36 17:34:48 \n",
    " 19 06:00:00 18:25:12 \n",
    " 20 06:50:24 19:15:36 \n",
    " 21 07:40:48 20:06:00 \n",
    " 22 08:31:12 20:56:24\n",
    " 23 09:21:36 21:46:48 \n",
    " 24 10:12:00 22:37:12 \n",
    " 25 11:02:24 23:27:36 \n",
    " 26 11:52:48 \n",
    " 27 00:18:00 12:43:12\n",
    " 28 01:08:24 13:33:36 \n",
    " 29 01:58:48 14:24:00 \n",
    " 30 02:49:12 15:14:24 \n",
    " 31 03:39:36 16:04:48\n",
    "```"
   ]
  },
  {
   "cell_type": "code",
   "execution_count": null,
   "metadata": {},
   "outputs": [],
   "source": [
    "#skriv koden din her"
   ]
  }
 ],
 "metadata": {
  "kernelspec": {
   "display_name": "Python 3",
   "language": "python",
   "name": "python3"
  },
  "language_info": {
   "codemirror_mode": {
    "name": "ipython",
    "version": 3
   },
   "file_extension": ".py",
   "mimetype": "text/x-python",
   "name": "python",
   "nbconvert_exporter": "python",
   "pygments_lexer": "ipython3",
   "version": "3.7.3"
  }
 },
 "nbformat": 4,
 "nbformat_minor": 2
}
