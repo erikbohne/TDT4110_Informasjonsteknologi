{
 "cells": [
  {
   "cell_type": "markdown",
   "metadata": {},
   "source": [
    "### Kopi av forside\n",
    "**Institutt for Datateknologi og Informatikk**\n",
    "\n",
    "**Eksamensoppgave i TDT4110 Informasjonsteknologi Grunnkurs**\n",
    "\n",
    "**Eksamensdato**: 8. desember 2022\n",
    "\n",
    "**Eksamenstid (fra-til)**: 15:00-19:00\n",
    "\n",
    "**Hjelpemiddelkode/Tillatte hjelpemidler: D**\n",
    "Ingen trykte eller håndskrevne hjelpemidler tillatt. Bestemt, enkel kalkulator tillatt.\n",
    "\n",
    "Faglig kontakt under eksamen: Dag Olav Kjellemo, Guttorm Sindre\n",
    "    Tlf.: 47681639\n",
    "    Tlf.: 94430245\n",
    "\n",
    "**Faglig kontakt møter i eksamenslokalet**: NEI\n",
    "\n",
    "<br />\n",
    "\n",
    "**ANNEN INFORMASJON:**\n",
    "\n",
    "**Skaff deg overblikk over oppgavesettet** før du begynner på besvarelsen din.\n",
    "\n",
    "**Les oppgavene nøye**, gjør dine egne antagelser og presiser i besvarelsen hvilke forutsetninger du\n",
    "har lagt til grunn i tolkning/avgrensing av oppgaven. Faglig kontaktperson skal kun kontaktes\n",
    "dersom det er direkte feil eller mangler i oppgavesettet. Henvend deg til en eksamensvakt hvis du\n",
    "ønsker å kontakte faglærer. Noter gjerne spørsmålet ditt på forhånd.\n",
    "\n",
    "**Vekting av oppgavene**: Vekting i prosent er angitt for hver deloppgave.\n",
    "\n",
    "**Varslinger**: Hvis det oppstår behov for å gi beskjeder til kandidatene underveis i eksamen (f.eks.\n",
    "ved feil i oppgavesettet), vil dette bli gjort via varslinger i Inspera. Et varsel vil dukke opp som en\n",
    "dialogboks på skjermen. Du kan finne igjen varselet ved å klikke på bjella øverst til høyre.\n",
    "\n",
    "**Trekk fra/avbrutt eksamen**: Blir du syk under eksamen, eller av andre grunner ønsker å levere\n",
    "blankt/avbryte eksamen, gå til “hamburgermenyen” i øvre høyre hjørne og velg «Lever blankt».\n",
    "Dette kan ikke angres selv om prøven fremdeles er åpen.\n",
    "\n",
    "**Tilgang til besvarelse**: Etter eksamen finner du besvarelsen din i arkivet i Inspera. Merk at det\n",
    "kan ta én virkedag før eventuelle håndtegninger vil være tilgjengelige i arkivet."
   ]
  },
  {
   "cell_type": "markdown",
   "metadata": {},
   "source": [
    "## **Merk**\n",
    "\n",
    "- Flervalgsoppgavene for eksamen H22 er ekskludert fra denne notebooken. For å se disse, gå til PDFen på Blackboard\n",
    "- Noen av kodeoppgavene var originalt oppgaver som gikk ut på å dra kodeblokker til riktig steg. Det vil være litt vanskeligere å implementere disse funksjonene fra bunn, som det er lagt opp til i denne notebooken, men det er god trening."
   ]
  },
  {
   "cell_type": "markdown",
   "metadata": {},
   "source": [
    "# 6 `sum_larger` (6%)\n",
    "\n",
    "Funksjonen `sum_larger(numlist, n)` skal få inn ei liste med heltall (`numlist`) og et heltall `n`. Den\n",
    "skal returnere summen av de tallene i lista som er større enn n.\n",
    "<br/>\n",
    "\n",
    "Eksempel på kjøring:\n",
    "\n",
    "\\>\\>\\> sum_larger([2,5,4,7,3,8], 5)\n",
    "\n",
    "15\n",
    "\n",
    "Dette kallet returnerer 15 fordi bare tallene 7 og 8 (som er større enn 5) kommer med i summen,\n",
    "altså 7+8.\n",
    "<br/>\n",
    "\n",
    "**Skriv koden for funksjonen `sum_larger()`**"
   ]
  },
  {
   "cell_type": "code",
   "execution_count": 2,
   "metadata": {},
   "outputs": [],
   "source": [
    "def sum_larger(numlist: list, n: int):\n",
    "    return sum([num if num > n else 0 for num in numlist])"
   ]
  },
  {
   "cell_type": "code",
   "execution_count": 6,
   "metadata": {},
   "outputs": [
    {
     "name": "stdout",
     "output_type": "stream",
     "text": [
      "15\n"
     ]
    }
   ],
   "source": [
    "print(sum_larger([2,5,4,7,3,8], 5))"
   ]
  },
  {
   "cell_type": "markdown",
   "metadata": {},
   "source": [
    "# 7 Cars (7%)\n",
    "\n",
    "Kjøretøyforskriften definerer følgende kategorier av kjøretøy for persontransport:\n",
    "- M1 (personbil): max 8 sitteplasser i tillegg til førersetet.\n",
    "- M2 (buss): over 8 sitteplasser, totalvekt ikke over 5000 kg\n",
    "- M3 (buss): over 8 sitteplasser, totalvekt over 5000 kg\n",
    "\n",
    "Og følgende for varetransport:\n",
    "- N1 (varebil): tillatt totalvekt ikke over 3500 kg.\n",
    "- N2 (lastebil): tillatt totalvekt på over 3500 kg men ikke over 12000 kg.\n",
    "- N3 (lastebil): tillatt totalvekt over 12000 kg.\n",
    "\n",
    "Funksjonen `car_type(n_pass, wt, person)` har parametre `n_pass` (antall sitteplasser utover\n",
    "førersetet), `wt` (vekt) og `person` (`True` hvis persontransport, `False` hvis varetransport). Funksjonen\n",
    "skal returnere enten \"M1\", \"M2\", \"M3\", \"N1\", \"N2\", \"N3\" alt etter hvilken kategori kjøretøyet passer\n",
    "i.\n",
    "<br/>\n",
    "\n",
    "**Skriv koden for funksjonen `car_type()`**"
   ]
  },
  {
   "cell_type": "code",
   "execution_count": 7,
   "metadata": {},
   "outputs": [],
   "source": [
    "def car_type(n_pass, wt, person):\n",
    "    \n",
    "    if person:\n",
    "        if n_pass <= 8:\n",
    "            return 'M1'\n",
    "        elif wt < 5000:\n",
    "            return 'M2'\n",
    "        else:\n",
    "            return 'M3'\n",
    "    else:\n",
    "        if wt < 3500:\n",
    "            return 'N1'\n",
    "        elif wt >= 3500 and wt < 12000:\n",
    "            return 'N2'\n",
    "        else:\n",
    "            return 'N3'"
   ]
  },
  {
   "cell_type": "code",
   "execution_count": 11,
   "metadata": {},
   "outputs": [
    {
     "name": "stdout",
     "output_type": "stream",
     "text": [
      "M1\n",
      "N2\n",
      "M3\n",
      "N2\n"
     ]
    }
   ],
   "source": [
    "# Test\n",
    "print(car_type(4, 3500, True))\n",
    "print(car_type(4, 3500, False))\n",
    "print(car_type(9, 12000, True))\n",
    "print(car_type(12, 5600, False))"
   ]
  },
  {
   "cell_type": "markdown",
   "metadata": {},
   "source": [
    "#  8 Globetrotters (5%)\n",
    "\n",
    "En globetrotterklubb registrerer for hver medlem hvilke land de har vært i utenom Europa. Her\n",
    "antar vi for enkelhets skyld at hvert medlem sine land fins i set-variable. Vi ønsker å lage fire\n",
    "funksjoner:\n",
    "- countries_either(m, m2) skal returnere mengden av land som det ene (m) og/eller det\n",
    "andre medlemmet (m2) har vært i\n",
    "-  countries_both(m, m2) skal returnere mengden av land som har vært besøkt av både\n",
    "m og m2\n",
    "- countries_covered(club_members) får inn ei liste av klubbmedlemmer - hver av dem\n",
    "representert ved ei mengde, og skal returnere mengda av alle land som noen i klubben har\n",
    "vært i\n",
    "- countries_exclusive(m, club_members) skal returnere mengden av land som medlemmet\n",
    "m har besøkt, men som ingen av de andre medlemmene har besøkt\n",
    "<br/>\n",
    "\n",
    "**Eksempel på kjøring**, hvor testkoden som kjøres er vist i grå boks, og det som returneres fra\n",
    "funksjonene står under boksen:\n",
    "\n",
    "<img src=\"img/8_globetrotters_1.png\" width=\"500\"/>\n",
    "\n",
    "**Erstatt `(...)` med kode slik at kodeblokken under gir riktig resultat**\n",
    "\n",
    "Kodehint:\n",
    "\n",
    "<img src=\"img/8_globetrotters_2.png\" width=\"500\"/>\n"
   ]
  },
  {
   "cell_type": "code",
   "execution_count": 24,
   "metadata": {},
   "outputs": [],
   "source": [
    "def countries_either(m, m2):\n",
    "    result = m.union(m2)\n",
    "    return result\n",
    "\n",
    "\n",
    "def countries_both(m, m2):\n",
    "    result = m.intersection(m2)\n",
    "    return result\n",
    "\n",
    "\n",
    "def countries_covered(club_members):\n",
    "    result = set()\n",
    "    for m2 in club_members:\n",
    "        result = result.union(m2)\n",
    "    return result\n",
    "\n",
    "\n",
    "def countries_exclusive(m, club_members):\n",
    "    result = m\n",
    "    club_members.remove(m)\n",
    "    for m2 in club_members:\n",
    "        result = result.difference(m2)\n",
    "    return result"
   ]
  },
  {
   "cell_type": "code",
   "execution_count": 28,
   "metadata": {},
   "outputs": [
    {
     "name": "stdout",
     "output_type": "stream",
     "text": [
      "{'Peru', 'Mali', 'Laos', 'Niger'}\n",
      "{'Peru', 'Mali'}\n",
      "{'Peru', 'Mali', 'China', 'Laos', 'Japan', 'Niger'}\n",
      "{'Niger'}\n"
     ]
    }
   ],
   "source": [
    "joe = {'Mali', 'Laos', 'Peru'}\n",
    "ada = {'Mali', 'Niger', 'Peru'}\n",
    "zac = {'Japan', 'China', 'Mali'}\n",
    "club_members = [joe, ada, zac]\n",
    "print(countries_either(joe,ada))\n",
    "print(countries_both(joe,ada))\n",
    "print(countries_covered(club_members))\n",
    "print(countries_exclusive(ada, club_members))"
   ]
  },
  {
   "cell_type": "markdown",
   "metadata": {},
   "source": [
    "# 9 Adjust (5%)\n",
    "\n",
    "Vi ønsker å justere en liste av lister med tall til å være av en bestemt lengde, og ønsker å lage to\n",
    "funksjoner for dette:\n",
    "- adjust_lists(L, length) som muterer listen, og listene i listen\n",
    "- lists_adjusted(L, length) , som returnerer ny versjon av listen og listene i listen, uten å\n",
    "endre originalen.\n",
    "\n",
    "I begge tilfeller er parameteren L den lista som gis inn, og length er ønsket lengde på de indre\n",
    "listene. I resulterende liste skal\n",
    "- lister som er kortere enn length, endres ved å legge til 0'ere bakerst slik at listens lengde blir\n",
    "length.\n",
    "- lister som er for lange, kuttes de bakerste elementene, slik at lengden blir length.\n",
    "\n",
    "For den muterende adjust_lists skal endringene skje i samme liste, og mutere listene i listen.\n",
    "\n",
    "For lists_adjusted skal det lages en ny liste med nye lister som elementer.\n",
    "\n",
    "<br/>\n",
    "\n",
    "**Eksempel på kjøring:**\n",
    "```\n",
    "L = [ [3,1,4], [9,8,7,6,5], [1,2,3,4,5], [1,1,2,3,5,8,13,21]]\n",
    "print(lists_adjusted(L, 5)) # viser justerte lister men har ikke endret original liste\n",
    "print(L) # printer original liste\n",
    "adjust_lists(L, 5) # endrer original liste ved mutering\n",
    "print(L) # printer original liste på nytt\n",
    "```\n",
    "\n",
    "Gjør at følgende printes:\n",
    "```\n",
    "[[3,1,4,0,0], [9,8,7,6,5], [1,2,3,4,5], [1,1,2,3,5]]\n",
    "[ [3,1,4], [9,8,7,6,5], [1,2,3,4,5], [1,1,2,3,5,8,13,21]]\n",
    "[[3,1,4,0,0], [9,8,7,6,5], [1,2,3,4,5], [1,1,2,3,5]]\n",
    "```\n",
    "<br/>\n",
    "\n",
    "**Erstatt `(...)` med kode slik at kodeblokken under gir riktig resultat**\n",
    "\n",
    "Kodehint:\n",
    "\n",
    "<img src=\"img/9_adjust.png\" width=\"500\"/>\n"
   ]
  },
  {
   "cell_type": "code",
   "execution_count": 36,
   "metadata": {},
   "outputs": [],
   "source": [
    "def adjust_lists(L, length): # Mutating the lists\n",
    "    for i in range(len(L)):\n",
    "        if len(L[i]) < length:\n",
    "            L[i] += [0] * (length - len(L[i]))\n",
    "        else:\n",
    "            del L[i][length:]\n",
    "\n",
    "def lists_adjusted(L, length): # Returning new lists\n",
    "    new_L = []\n",
    "    for lst in L:\n",
    "        if len(lst) >= length:\n",
    "            new_L.append(lst[:length])\n",
    "        else:\n",
    "            new_L.append(lst + [0] * (length - len(lst)))\n",
    "    return new_L"
   ]
  },
  {
   "cell_type": "code",
   "execution_count": 37,
   "metadata": {},
   "outputs": [
    {
     "name": "stdout",
     "output_type": "stream",
     "text": [
      "[[3, 1, 4, 0, 0], [9, 8, 7, 6, 5], [1, 2, 3, 4, 5], [1, 1, 2, 3, 5]]\n",
      "[[3, 1, 4], [9, 8, 7, 6, 5], [1, 2, 3, 4, 5], [1, 1, 2, 3, 5, 8, 13, 21]]\n",
      "[[3, 1, 4, 0, 0], [9, 8, 7, 6, 5], [1, 2, 3, 4, 5], [1, 1, 2, 3, 5]]\n"
     ]
    }
   ],
   "source": [
    "# Test code\n",
    "L = [ [3,1,4], [9,8,7,6,5], [1,2,3,4,5], [1,1,2,3,5,8,13,21]]\n",
    "print(lists_adjusted(L, 5)) # viser justerte lister men har ikke endret original liste\n",
    "print(L) # printer original liste\n",
    "adjust_lists(L, 5) # endrer original liste ved mutering\n",
    "print(L) # printer original liste på nytt"
   ]
  },
  {
   "cell_type": "markdown",
   "metadata": {},
   "source": [
    "# 10 `edit_file` (5%)\n",
    "\n",
    "Vi har ei tekstfil med tall over flere linjer, innad i hver linje adskilt med mellomrom. Tallene kan\n",
    "antas å være mellom -100 og 100, og fila kan antas å ha like mange tall på hver av linjene. Vi\n",
    "ønsker å lage en funksjon som får inn filnavn som parameter og skal endre fila på følgende måte:\n",
    "- alle tall x > 50, skal endres til 100 - x\n",
    "- alle tall -50 <= x < 0 skal endres til 100 + x\n",
    "\n",
    "For øvrig skal filas innhold være det samme som før. Eksempel på kjøring, hvis fila numbers.txt\n",
    "har innhold:\n",
    "\n",
    "`75.0 90.0 13.0 -30.0 -2.0`\n",
    "\n",
    "`5.0 -60.0 -10.0 80.0 -15.0`\n",
    "\n",
    "så skal kjøring av `edit_file('numbers.txt')` gjøre at fila etter dette har innhold:\n",
    "\n",
    "`25.0 10.0 13.0 70.0 98.0`\n",
    "\n",
    "`5.0 -60.0 90.0 20.0 85.0`\n",
    "\n",
    "<br/>\n",
    "\n",
    "**Erstatt `(...)` med kode slik at kodeblokken under gir riktig resultat**\n",
    "\n",
    "Kodehint:\n",
    "\n",
    "<img src=\"img/10_edit_file.png\" width=\"500\"/>"
   ]
  },
  {
   "cell_type": "code",
   "execution_count": 43,
   "metadata": {},
   "outputs": [],
   "source": [
    "import numpy as np\n",
    "\n",
    "def edit_file(filename):\n",
    "\n",
    "    A = np.loadtxt(filename)\n",
    "    \n",
    "    for i in range(len(A)):\n",
    "        for j in range(len(A[i])):\n",
    "            if A[i,j] > 50 or -50 <= A[i,j] < 0:\n",
    "                A[i,j] = 100 - abs(A[i,j])\n",
    "    np.savetxt(filename, A, fmt='%.1f')"
   ]
  },
  {
   "cell_type": "code",
   "execution_count": 45,
   "metadata": {},
   "outputs": [],
   "source": [
    "# test\n",
    "edit_file(\"numbers.txt\")"
   ]
  },
  {
   "cell_type": "markdown",
   "metadata": {},
   "source": [
    "# 11 `same_product`\n",
    "\n",
    "Funksjonen `equal_products_row_col(A, zero)` får inn to parametre:\n",
    "- A, som er et todimensjonalt numpy array\n",
    "- zero, som er True eller False\n",
    "\n",
    "Funksjonen skal returnere ei liste av lister med tre element `[produkt, rad, kolonne]` der rad og\n",
    "kolonne er indekser til rader og kolonner i arrayet A, men bare slike der produktet av tallene i rada\n",
    "er identisk med produktet av tallene i kolonna. Dersom andre parameter zero er `True`, skal\n",
    "resultatet også inkludere tilfeller der produktet var null, mens disse skal utelates dersom zero var\n",
    "`False`.\n",
    "\n",
    "<br/>\n",
    "\n",
    "**Eksempel på kjøring:**\n",
    "\n",
    "Som en kan se av eksemplet under, med True for zero kommer både rad 1, kolonne 1 (med\n",
    "produktet 0.0) og rad 0, kolonne 3 (med produktet er 7.0) med i svaret. Med False for zero blir\n",
    "bare [7.0, 0, 3] inkludert i resultatet gitt arrayet Ma.\n",
    "\n",
    "<img src=\"img/11_same_product.png\" width=\"500\"/>\n",
    "\n",
    "<br/>\n",
    "\n",
    "**Erstatt `<...>` med din egen kode slik at kodeblokka under gir riktig resultat**"
   ]
  },
  {
   "cell_type": "code",
   "execution_count": 51,
   "metadata": {},
   "outputs": [],
   "source": [
    "def equal_products_row_col(A, zero):\n",
    "    result = []\n",
    "    for i in range(len(A)):\n",
    "        p = np.prod(A[i])\n",
    "        for j in range(len(A[i])):\n",
    "            if((zero or p > 0) and\n",
    "               p == np.prod(A[:, j])):\n",
    "                result.append([p, i, j])\n",
    "    return result"
   ]
  },
  {
   "cell_type": "code",
   "execution_count": 52,
   "metadata": {},
   "outputs": [
    {
     "name": "stdout",
     "output_type": "stream",
     "text": [
      "[[7.0, 0, 3], [0.0, 1, 1]]\n",
      "[[7.0, 0, 3]]\n"
     ]
    }
   ],
   "source": [
    "import numpy as np\n",
    "Ma = np.array([[1.0, 2.0, 3.5, 1.0],\n",
    "               [2.0, 0.0, 2.5, 2.0],\n",
    "               [2.0, 1.0, 2.5, 3.5],\n",
    "               [3.5, 3.5, 2.5, 1.0]])\n",
    "print(equal_products_row_col(Ma, True))\n",
    "print(equal_products_row_col(Ma, False))"
   ]
  },
  {
   "cell_type": "markdown",
   "metadata": {},
   "source": [
    "# 12 Plot (5%)\n",
    "\n",
    "Koden vår skal plotte følgende:\n",
    "\n",
    "<img src=\"img/12_plot_1.png\" width=\"500\"/>\n",
    "\n",
    "<br/>\n",
    "\n",
    "**Erstatt `(...)` med kode slik at kodeblokken under gir riktig resultat**\n",
    "\n",
    "Kodehint:\n",
    "\n",
    "<img src=\"img/12_plot_2.png\" width=\"500\"/>"
   ]
  },
  {
   "cell_type": "code",
   "execution_count": 70,
   "metadata": {},
   "outputs": [
    {
     "data": {
      "text/plain": [
       "[<matplotlib.lines.Line2D at 0x126999cf0>]"
      ]
     },
     "execution_count": 70,
     "metadata": {},
     "output_type": "execute_result"
    },
    {
     "data": {
      "image/png": "[encoded data removed]",
      "text/plain": [
       "<Figure size 640x480 with 1 Axes>"
      ]
     },
     "metadata": {},
     "output_type": "display_data"
    }
   ],
   "source": [
    "import numpy as np\n",
    "import matplotlib.pyplot as plt\n",
    "\n",
    "def f(x):\n",
    "    return -0.1*x**3 + 0.2*x**2 + x\n",
    "\n",
    "def g(x):\n",
    "    return (-x) % 2 - 2\n",
    "\n",
    "def h(x):\n",
    "    return np.abs(x) + 0.5*np.sin(3*x)\n",
    "\n",
    "fig, ax = plt.subplots()\n",
    "x = np.linspace(-4, 4, 100)\n",
    "ax.plot(x, f(x))\n",
    "x  = np.arange(-3,5,.75)\n",
    "ax.plot(x, h(x))\n",
    "x = np.linspace(-3,3,100)\n",
    "ax.plot(x, g(x))"
   ]
  },
  {
   "cell_type": "markdown",
   "metadata": {},
   "source": [
    "# 13 Card number (4%)\n",
    "\n",
    "Vi ønsker å lage en funksjon card_no(card) som får inn en streng som representerer et spillkort\n",
    "og returnerer kortets tallverdi. Eksempel på strenger er '♥3', '♠4', '♣10', '♣Q', '♦A', dvs. første\n",
    "tegn i strengen er alltid et symbol for kortets farge (♥/♠/♣/♦), øvrige 1-2 tegn (2 i tilfelle tallet er 10)\n",
    "representerer tallverdien. Bokstavene J, Q, K, A teller som 11, 12, 13, 14.\n",
    "<br/>\n",
    "\n",
    "Eksempel på kjøring:\n",
    "`print(f\"{card_no('♣10')} {card_no('♥3')} {card_no('♣Q')} {card_no('♦A')}\" )`\n",
    "gir utskriften\n",
    "`10 3 12 14`\n",
    "\n",
    "<br/>\n",
    "\n",
    "**Erstatt `<...>` med din egen kode slik at kodeblokka under gir riktig resultat**"
   ]
  },
  {
   "cell_type": "code",
   "execution_count": 97,
   "metadata": {},
   "outputs": [],
   "source": [
    "def card_no(card):\n",
    "    if card[1] in 'JQKA':\n",
    "        return 11 + 'JQKA'.find(card[1])\n",
    "    else:\n",
    "        return int(card[1:])"
   ]
  },
  {
   "cell_type": "code",
   "execution_count": 90,
   "metadata": {},
   "outputs": [
    {
     "name": "stdout",
     "output_type": "stream",
     "text": [
      "10 3 12 14\n"
     ]
    }
   ],
   "source": [
    "print(f\"{card_no('♣10')} {card_no('♥3')} {card_no('♣Q')} {card_no('♦A')}\" )"
   ]
  },
  {
   "cell_type": "markdown",
   "metadata": {},
   "source": [
    "# 14 Card games  (6%)\n",
    "\n",
    "I denne oppgaven skal vi lage enda to funksjoner som kan brukes i kortspill, nemlig\n",
    "`sorted_cards(hand)` og `n_plays(cards)`.\n",
    "\n",
    "Funksjonen `sorted_cards(hand)` får inn ei liste av kort som en spiller har fått utdelt, gjerne hulter\n",
    "til bulter i forhold til farge og tallverdi. Funksjonen skal returnere en dictionary med samme kort\n",
    "gruppert etter farge og sortert etter tallverdi.\n",
    "\n",
    "<br/>\n",
    "\n",
    "**Eksempel på kjøring**\n",
    "\n",
    "`sorted_cards(['♥3', '♥5', '♠7', '♦9', '♦J', '♦10', '♦A', '♦K', '♥4'])`\n",
    "\n",
    "skal returnere\n",
    "\n",
    "`{'♥': [3, 4, 5], '♠': [7], '♦': [9, 10, 11, 13, 14]}`\n",
    "\n",
    "<br/>\n",
    "\n",
    "Konvertering av J, Q, K, A til tall gjøres ved hjelp av funksjonen `card_no()` som ble laget i forrige\n",
    "deloppgave.\n",
    "\n",
    "Funksjonen `n_plays(cards)` får inn som parameter en dictionary som nettopp vist over (hvilke\n",
    "tallverdier av kort man har i hver farge). Denne funksjonen skal brukes for å regne ut hvor mange\n",
    "runder man trenger for å bli kvitt alle kortene, gitt at man har lov å legge en hel rekke av kort på\n",
    "en runde, så sant kortene er av samme farge og i løpende nummerrekkefølge.\n",
    "\n",
    "<br/>\n",
    "\n",
    "**Eksempel på kjøring:**\n",
    "\n",
    "`n_plays({'♥': [3, 4, 5], '♠': [7], '♦': [9, 10, 11, 13, 14]})`\n",
    "\n",
    "skal returnere 4\n",
    "\n",
    "Dette fordi man trenger ett utspill på å bli kvitt rekka '♥': `[3, 4, 5]`, ett på den ene '♠': `[7]`, og to\n",
    "runder på å bli kvitt '♦', nemlig 9,10,11 og 13,14 fordi man mangler nr 12.\n",
    "\n",
    "<br/>\n",
    "\n",
    "**Velg riktig alternativ slik at koden under kjører**"
   ]
  },
  {
   "cell_type": "code",
   "execution_count": 111,
   "metadata": {},
   "outputs": [],
   "source": [
    "def sorted_cards(hand):\n",
    "    kinds = {}\n",
    "\n",
    "    for card in hand:\n",
    "        if card[0] in kinds:\n",
    "            kinds[card[0]].append(card_no(card))\n",
    "        else:\n",
    "            kinds[card[0]] = [card_no(card)]\n",
    "\n",
    "    for k in kinds:\n",
    "        kinds[k].sort()\n",
    "\n",
    "    return kinds\n",
    "\n",
    "\n",
    "def n_plays(cards):\n",
    "    n = 0\n",
    "    for kind in cards:\n",
    "        n += 1\n",
    "        for i in range(1, len(cards[kind])):\n",
    "            if cards[kind][i] > cards[kind][i-1] + 1:\n",
    "                n += 1\n",
    "    return n"
   ]
  },
  {
   "cell_type": "code",
   "execution_count": 112,
   "metadata": {},
   "outputs": [
    {
     "name": "stdout",
     "output_type": "stream",
     "text": [
      "{'♥': [3, 4, 5], '♠': [7], '♦': [9, 10, 11, 13, 14]}\n",
      "4\n"
     ]
    }
   ],
   "source": [
    "# Test\n",
    "print(sorted_cards(['♥3', '♥5', '♠7', '♦9', '♦J', '♦10', '♦A', '♦K', '♥4']))\n",
    "print(n_plays({'♥': [3, 4, 5], '♠': [7], '♦': [9, 10, 11, 13, 14]}))"
   ]
  },
  {
   "cell_type": "markdown",
   "metadata": {},
   "source": [
    "# 15 Func as param 1 (6%)\n",
    "\n",
    "Vi ønsker å lage en funksjon `strict_larger(f, g, x_values)` som får inn som parametre to andre\n",
    "funksjoner $f$ og $g$, samt et array x_values som inneholder en serie x-verdier. Funksjonen\n",
    "`strict_larger()` skal returnere True hvis $f (x)$ er større enn $g(x)$ over hele den gitte serien av xverdier,\n",
    "ellers `False`.\n",
    "\n",
    "<br/>\n",
    "\n",
    "**Eksempel**:\n",
    "\n",
    "Hvis $f(x)$ er `x**2 + 2*x` (blå kurve) og $g(x)$ er `3*x + 5` (oransje linje), som vist i figuren\n",
    "nedenfor, så skal `strict_larger(f, g, x_values)` returnere `True` hvis `x_values` er `np.arange(-4, -2,\n",
    "0.1)` siden $f(x) > g(x)$ for alle x-verdiene `-4.0, -3.9, ..., -2.1`. Hvis derimot `x_values` er `np.arange(-4,\n",
    "0, 0.1)` skal den returnere `False`, siden $f(x)$ ikke er større enn $g(x)$ i den siste halvdelen av dette\n",
    "arrayet, f.eks. for `x = (-1.0)` er derimot $g(x)$ størst.\n",
    "\n",
    "<img src=\"img/15_func_as_param_1.png\" width=\"500\"/>\n",
    "\n",
    "<br/>\n",
    "\n",
    "**Erstatt `(...)` med kode slik at kodeblokken under gir riktig resultat**\n",
    "\n",
    "Kodehint:\n",
    "\n",
    "<img src=\"img/15_func_as_param_2.png\" width=\"500\"/>"
   ]
  },
  {
   "cell_type": "code",
   "execution_count": 116,
   "metadata": {},
   "outputs": [],
   "source": [
    "def strict_larger(f, g, x_values):\n",
    "    result = True\n",
    "    for x in x_values:\n",
    "        if f(x) < g(x):\n",
    "            result = False\n",
    "            break\n",
    "    return result"
   ]
  },
  {
   "cell_type": "code",
   "execution_count": 117,
   "metadata": {},
   "outputs": [
    {
     "name": "stdout",
     "output_type": "stream",
     "text": [
      "Test 1 (Forventer True): True\n",
      "Test 2 (Forventer False): False\n"
     ]
    }
   ],
   "source": [
    "import numpy as np\n",
    "\n",
    "def f(x):\n",
    "    return x**2 + 2*x\n",
    "\n",
    "def g(x):\n",
    "    return 3*x + 5\n",
    "\n",
    "# Test 1: Forventer True\n",
    "x_values = np.arange(-4, -2, 0.1)\n",
    "print(\"Test 1 (Forventer True):\", strict_larger(f, g, x_values))\n",
    "\n",
    "# Test 2: Forventer False\n",
    "x_values = np.arange(-4, 0, 0.1)\n",
    "print(\"Test 2 (Forventer False):\", strict_larger(f, g, x_values))"
   ]
  },
  {
   "cell_type": "markdown",
   "metadata": {},
   "source": [
    "# 16 Func as param 2 (6%)\n",
    "\n",
    "Vi ønsker nå en funksjon `longest_larger(f, g, x_values)` som gitt et array `x_values` med xverdier,\n",
    "skal finne det lengste intervallet innenfor `x_values` hvor $f(x)$ hele tiden er større enn $g(x)$.\n",
    "\n",
    "<br/>\n",
    "\n",
    "**Eksempel**:\n",
    "\n",
    "Gitt de samme funksjonene som i vist i plott i forrige oppgave (og vist igjen under),\n",
    "skal kallet\n",
    "\n",
    "`longest_larger(f, g, np.arange(-4.0, 4.0, 0.01))`\n",
    "\n",
    "returnere et tuppel `(-4.0, -1.8)`\n",
    "\n",
    "siden dette er det lengste intervallet av x-verdier innenfor x_values hvor $f(x) > g(x)$ (mens for `x =\n",
    "-1.7` og større, blir $f(x)$ mindre enn $g(x)$, og selv om $f(x)$ blir større enn $g(x)$ igjen i høyre side av\n",
    "bildet, er det over en kortere strekning).\n",
    "\n",
    "<br/>\n",
    "\n",
    "I tilfeller hvor $f(x)$ ikke er større enn $g(x)$ noe sted blant de gitte x-verdiene (f.eks. hvis `x_values`\n",
    "var intervallet (-1.0, 1.0) hvor derimot $g(x)$ er størst hele veien), skal funksjonen `longest_larger`\n",
    "returnere `(None, None)`.\n",
    "\n",
    "<img src=\"img/16_func_as_param_1.png\" width=\"500\"/>\n",
    "\n",
    "**Erstatt `(...)` med kode slik at kodeblokken under gir riktig resultat**\n",
    "\n",
    "**Merk at den ene if-setningen hvor det allerede står if, går over 2 linjer, dette gir ikke\n",
    "syntaksfeil siden det står parentes rundt hele betingelsen.**\n",
    "\n",
    "Kodehint:\n",
    "\n",
    "<img src=\"img/16_func_as_param_2.png\" width=\"500\"/>"
   ]
  },
  {
   "cell_type": "code",
   "execution_count": 114,
   "metadata": {},
   "outputs": [],
   "source": [
    "def longest_larger(f, g, x_values):\n",
    "    start = end = None\n",
    "    long = (start, end)\n",
    "    for x in x_values:\n",
    "        if f(x) > g(x):\n",
    "            if start == None:\n",
    "                start = end = x\n",
    "            if( long[0] == None or x - start > long[1] - long[0] ):\n",
    "                long = (start, x)\n",
    "        else:\n",
    "            start = end = None\n",
    "    return long"
   ]
  },
  {
   "cell_type": "code",
   "execution_count": 118,
   "metadata": {},
   "outputs": [
    {
     "name": "stdout",
     "output_type": "stream",
     "text": [
      "Test 1 (Forventer (-4.0, -1.8)): (-4.0, -1.800000000000047)\n",
      "Test 2 (Forventer (None, None)): (None, None)\n"
     ]
    }
   ],
   "source": [
    "def f(x):\n",
    "    return x**2 + 2*x\n",
    "\n",
    "def g(x):\n",
    "    return 3*x + 5\n",
    "\n",
    "# Test 1: Forventer (-4.0, -1.8)\n",
    "x_values = np.arange(-4.0, 4.0, 0.01)\n",
    "print(\"Test 1 (Forventer (-4.0, -1.8)):\", longest_larger(f, g, x_values))\n",
    "\n",
    "# Test 2: Forventer (None, None) siden f(x) er aldri større enn g(x) i dette intervallet\n",
    "x_values = np.arange(-1.0, 1.0, 0.01)\n",
    "print(\"Test 2 (Forventer (None, None)):\", longest_larger(f, g, x_values))\n"
   ]
  },
  {
   "cell_type": "markdown",
   "metadata": {},
   "source": [
    "# 17 Tax (5%)\n",
    "\n",
    "Se pdf-versjonen eksamenssettet."
   ]
  },
  {
   "cell_type": "markdown",
   "metadata": {},
   "source": [
    "# 18 `sum_near_whole` (12%)\n",
    "\n",
    "Funksjonen `sum_near_whole(A)` får inn som parameter et todimensjonalt numpy array med\n",
    "flyttall, og skal returnere summen av tall i arrayet, men ikke sum av alle tallene - bare de tallene\n",
    "som står over, under eller ved siden av et helt tall (dvs. hvor desimaldelen er null). Som\n",
    "eksempel, anta at funksjonen får inn arrayet vist i figuren. Her er det tre flyttall som har\n",
    "desimaldel lik null, her vist med tykk rød boks rundt: `1.0` øverst til venstre, `1.0` nederst til venstre,\n",
    "og `7.0` nest nederst til høyre. Tallene som skal summeres er da, som omgitt med tynne streker:\n",
    "`1.4 + 2.6 + 5.8 + 7.8 + 5.4 + 6.6 + 8.6 = 38.2` som altså skulle bli returnert fra funksjonen gitt dette\n",
    "arrayet. Hvert tall skal bare med i summen én gang, så om f.eks. `1.8` i øverste rad i stedet var\n",
    "`2.0`, skulle `1.4` likevel ikke adderes inn to ganger, bare én.\n",
    "\n",
    "<img src=\"img/18_sum_near_whole.png\" width=\"500\"/>\n",
    "\n",
    "**Skriv koden for funksjonen `sum_near_whole(A)`**"
   ]
  },
  {
   "cell_type": "code",
   "execution_count": 129,
   "metadata": {},
   "outputs": [],
   "source": [
    "def find_neighbors(i, j, rows, cols):\n",
    "    \n",
    "    possible_neighbors = [\n",
    "        (i - 1, j),\n",
    "        (i, j - 1),\n",
    "        (i, j + 1),\n",
    "        (i + 1, j)\n",
    "    ]\n",
    "    neighbors = []\n",
    "    \n",
    "    for n, k in possible_neighbors:\n",
    "        if (n < 0 or n >= rows) or (k < 0 or k >= cols):\n",
    "            continue\n",
    "        else:\n",
    "            neighbors.append((n, k))\n",
    "            \n",
    "    return neighbors\n",
    "\n",
    "def sum_near_whole(A):\n",
    "    \n",
    "    rows, cols = A.shape\n",
    "        \n",
    "    # Set to store the coordinates to sum\n",
    "    to_sum = set()\n",
    "    \n",
    "    # Iterate over all rows and columns\n",
    "    for i in range(len(A)):\n",
    "        for j in range(len(A[i])):\n",
    "            \n",
    "            # Figure out if that is a whole number\n",
    "            if A[i][j] % 1 == 0:\n",
    "                \n",
    "                # Find its neighbors and add to set to sum\n",
    "                to_sum.update(find_neighbors(i, j, rows, cols))\n",
    "            \n",
    "    # Sum the values of our coordinates\n",
    "    total = 0\n",
    "    for i, j in to_sum:\n",
    "        total += A[i][j]\n",
    "        \n",
    "    return total"
   ]
  },
  {
   "cell_type": "code",
   "execution_count": 130,
   "metadata": {},
   "outputs": [
    {
     "name": "stdout",
     "output_type": "stream",
     "text": [
      "38.2\n"
     ]
    }
   ],
   "source": [
    "A = np.array([[1. , 1.4, 1.8, 2.2],\n",
    "              [2.6, 3.8, 3.4, 3.8],\n",
    "              [4.2, 4.6, 0.9, 5.4],\n",
    "              [5.8, 6.2, 6.6, 7. ],\n",
    "              [1. , 7.8, 8.2, 8.6]])\n",
    "print(sum_near_whole(A))"
   ]
  }
 ],
 "metadata": {
  "kernelspec": {
   "display_name": "venv",
   "language": "python",
   "name": "python3"
  },
  "language_info": {
   "codemirror_mode": {
    "name": "ipython",
    "version": 3
   },
   "file_extension": ".py",
   "mimetype": "text/x-python",
   "name": "python",
   "nbconvert_exporter": "python",
   "pygments_lexer": "ipython3",
   "version": "3.10.13"
  },
  "orig_nbformat": 4
 },
 "nbformat": 4,
 "nbformat_minor": 2
}
