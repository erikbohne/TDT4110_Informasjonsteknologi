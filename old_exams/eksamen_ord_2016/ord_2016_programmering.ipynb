{
 "cells": [
  {
   "cell_type": "markdown",
   "metadata": {
    "deletable": false,
    "editable": false,
    "run_control": {
     "frozen": true
    }
   },
   "source": [
    "# Eksamen 2016 Programmering\n",
    "\n",
    "**Merk at teori og kodeforståelse ikke er med her.**\n",
    "\n",
    "Hele eksamen ligger på BlackBoard. Her ligger også funksjoner som var vedlagt oppgaven, som kan være nyttig å bruke mens du arbeider med oppgavene under."
   ]
  },
  {
   "cell_type": "markdown",
   "metadata": {
    "deletable": false,
    "editable": false,
    "run_control": {
     "frozen": true
    }
   },
   "source": [
    "## Oppgave 3: Programmering Valg (25%)\n",
    "\n",
    "I et land langt borte skal det avholdes valg. Hvert valgdistrikt telles manuelt. Du skal skrive kode for\n",
    "å regne sammen resultatene som rapporteres inn. Landet er delt inn i 92 valgdistrikt som hver velger\n",
    "én representant til parlamentet, samt at presidenten velges ved flertall blant de stemmeberettigete på\n",
    "tvers av alle valgdistriktene.\n",
    "\n",
    "Du kan anta at innparameterne til funksjonene alltid inneholder lovlige verdier."
   ]
  },
  {
   "cell_type": "markdown",
   "metadata": {
    "deletable": false,
    "editable": false,
    "run_control": {
     "frozen": true
    }
   },
   "source": [
    "## Oppgave 3a: Initialisering (5%)\n",
    "\n",
    "Det er registrert fem ulike partier i landet, og navnene er definert i en liste kalt `parties`. Skriv en\n",
    "funksjon `initElection` som oppretter en tabell for å lagre stemmetall for hvert parti i hvert av de\n",
    "92 valgdistriktene, og la funksjonen returnere denne tabellen initialisert til situasjonen før valget - dvs\n",
    "at alle har 0 stemmer.\n",
    "\n",
    "Eksempel på bruk av funksjonen til å opprette tabellen med 92 linjer og en kolonne for hvert parti,\n",
    "pluss utlisting av de tre første linjene er vist her:\n",
    "\n",
    "<img src=\"img/3a_ex.png\" width=\"700px\" align=\"left\">"
   ]
  },
  {
   "cell_type": "code",
   "execution_count": 10,
   "metadata": {},
   "outputs": [],
   "source": [
    "# Skriv ditt svar her..."
   ]
  },
  {
   "cell_type": "markdown",
   "metadata": {
    "deletable": false,
    "editable": false,
    "run_control": {
     "frozen": true
    }
   },
   "source": [
    "## Oppgave 3b: Oppdatering (5%)\n",
    "\n",
    "Etter hvert som resultatene strømmer på, må de settes inn i tabellen som ble opprettet av funksjonen i\n",
    "oppgave (a). Skriv en funksjon `updateElection` som tar tre parametere inn: tabellen med\n",
    "valgdata, nummeret på valgdistriktet, og en liste med stemmetall for de deltakende partiene, i samme\n",
    "rekkefølge som de er listet i variabelen `parties`. Hvert valgdistrikt kan ha flere stemmelokaler, slik\n",
    "at det kan bli lagt inn stemmer for et distrikt flere ganger. Nye tall som kommer inn skal plusses\n",
    "sammen med tall som ligger der fra før. Funksjonen skal returnere en oppdatert tabell.\n",
    "\n",
    "Eksempel på kjøring:\n",
    "\n",
    "<img src=\"img/3b_ex.png\" width=\"700px\" align=\"left\">"
   ]
  },
  {
   "cell_type": "code",
   "execution_count": 11,
   "metadata": {},
   "outputs": [],
   "source": [
    "# Skriv ditt svar her..."
   ]
  },
  {
   "cell_type": "markdown",
   "metadata": {
    "deletable": false,
    "editable": false,
    "run_control": {
     "frozen": true
    }
   },
   "source": [
    "## Oppgave 3c: Presidentvalget (5%)\n",
    "\n",
    "Skriv funksjonen `printLeadP` som tar resultatene i tabellen `election` med valgdata, og regner ut\n",
    "hvilket parti som totalt har fått flest stemmer, og som skriver ut at dette partiet leder.\n",
    "I denne deloppgaven kan du gjøre en forenklende antagelse at funksjonen `printLeadP` kun kalles\n",
    "etter at det har blitt registrert noen stemmer (dvs. ikke hele tabellen er null), og at det ikke er delt\n",
    "ledelse mellom flere partier, dvs. ett unikt parti har flest stemmer.\n",
    "\n",
    "Eksempel på kjøring (NB: eksemplene her og videre utover antar at det er satt inn vesentlig mer\n",
    "data i tabellen enn bare det som ble gjort i eksemplet i 3b):\n",
    "\n",
    "<img src=\"img/3c_ex.png\" width=\"700px\" align=\"left\">"
   ]
  },
  {
   "cell_type": "code",
   "execution_count": 12,
   "metadata": {},
   "outputs": [],
   "source": [
    "# Skriv ditt svar her..."
   ]
  },
  {
   "cell_type": "markdown",
   "metadata": {
    "deletable": false,
    "editable": false,
    "run_control": {
     "frozen": true
    }
   },
   "source": [
    "## Oppgave 3d: Parlamentsvalget (10%)\n",
    "\n",
    "Siden det kun er en person som velges i hver enmannskrets, er det partiet med flest stemmer i kretsen\n",
    "som får valgt inn sin kandidat.\n",
    "\n",
    "Skriv funksjonen `printResults` som skriver ut på skjerm gjeldende mandatfordeling i\n",
    "parlamentet basert på data som hittil har kommet inn for valgdistriktene. For å få full pott må tallene\n",
    "komme ut høyrejustert på en jevn kolonne, som vist under. Hvis et parti kun har 1 delegat hittil, skal\n",
    "man skrive ordet `delegate` i entall, ellers `delegates` (også for null). Det kan antas at maksimalt\n",
    "antall delegater er tresifret. I denne deloppgaven skal det tas høyde for at to eller flere partier kan\n",
    "ligge likt i teten i et valgdistrikt. Hvis ett parti er alene i teten i et valgdistrikt, skal distriktet telles for\n",
    "dette partiet. Hvis flere partier deler ledelsen, skal distriktet telles som `Undecided (tied)`. Hvis\n",
    "det ennå ikke har blitt registrert noen stemmer i distriktet, skal det derimot telles som `Undecided (no votes)`.\n",
    "\n",
    "Eksempel på kjøring:\n",
    "\n",
    "<img src=\"img/3d_ex.png\" width=\"700px\" align=\"left\">"
   ]
  },
  {
   "cell_type": "code",
   "execution_count": 13,
   "metadata": {},
   "outputs": [],
   "source": [
    "# Skriv ditt svar her..."
   ]
  },
  {
   "cell_type": "markdown",
   "metadata": {
    "deletable": false,
    "editable": false,
    "run_control": {
     "frozen": true
    }
   },
   "source": [
    "## Oppgave 4: Programmering Penger (30%)\n",
    "\n",
    "Firmaer som setter opp kjøpskontrakter har ofte behov for å oppgi beløpet som skal betales både med\n",
    "tall og tekst. Store beløp blir en lang tekst og ansatte har lett for å skrive feil slik at tall og tekst ikke\n",
    "stemmer overens. Man ønsker derfor et program som automatisk kan oversette tall til tekst. I denne\n",
    "oppgaven skal tallene omformes til engelsk tekst. Du kan anta at det allerede er deklarert to globale\n",
    "variable D og L som du kan benytte deg av i koden din hvis du ønsker det, men det er ikke noe krav\n",
    "at disse må brukes.\n",
    "\n",
    "Skriv funksjonene under slik at du kan gjenbruke dem. Hvis du ikke klarer å løse en del-oppgave kan\n",
    "du likevel anta at funksjonen virker som oppgitt og gjenbruke den i en senere del-oppgave. Du kan\n",
    "anta at funksjonene alltid får inn lovlige verdier.\n",
    "D og L inneholder følgende konstante verdier (skal ikke endres underveis).\n",
    "\n",
    "<img src=\"img/4_beskrivelse.png\" width=\"700px\" align=\"left\">"
   ]
  },
  {
   "cell_type": "markdown",
   "metadata": {
    "deletable": false,
    "editable": false,
    "run_control": {
     "frozen": true
    }
   },
   "source": [
    "## Oppgave 4a: 2-digit (7%)\n",
    "\n",
    "Skriv en funksjon `i2_txt` som kan ta som argument et positivt heltall med maksimalt to siffer\n",
    "(dvs. 1 <= tallet <= 99) og returnere samme tall som engelsk tekst. Eksempel på bruk:\n",
    "\n",
    "<img src=\"img/4a_ex.png\" width=\"700px\" align=\"left\">"
   ]
  },
  {
   "cell_type": "code",
   "execution_count": 14,
   "metadata": {},
   "outputs": [],
   "source": [
    "# Skriv ditt svar her..."
   ]
  },
  {
   "cell_type": "markdown",
   "metadata": {
    "deletable": false,
    "editable": false,
    "run_control": {
     "frozen": true
    }
   },
   "source": [
    "## Oppgave 4b: 3-digit (7%)\n",
    "\n",
    "Skriv en funksjon `i3_txt` som kan ta som argument et positivt heltall med maksimalt tre siffer (dvs.\n",
    "1 <= tallet <= 999) og returnere samme tall som engelsk tekst. Tall med bare ett eller to siffer skal gi\n",
    "samme resultat som i (a). Eksempel på bruk med tresifrede tall:\n",
    "\n",
    "<img src=\"img/4b_ex.png\" width=\"700px\" align=\"left\">"
   ]
  },
  {
   "cell_type": "code",
   "execution_count": 15,
   "metadata": {},
   "outputs": [],
   "source": [
    "# Skriv ditt svar her..."
   ]
  },
  {
   "cell_type": "markdown",
   "metadata": {
    "deletable": false,
    "editable": false,
    "run_control": {
     "frozen": true
    }
   },
   "source": [
    "## Oppgave 4c: 9-digit (7%)\n",
    "\n",
    "Skriv en funksjon `i9_txt` som kan ta som argument et positivt heltall med maksimalt ni siffer (dvs.\n",
    "1 <= tallet <= 999 999 999) og returnere samme tall i dets tekstlige form. Tall med tre eller færre\n",
    "siffer skal gi resultat som vist i (a) og (b). Eksempel på bruk med større tall:\n",
    "\n",
    "<img src=\"img/4c_ex.png\" width=\"700px\" align=\"left\">"
   ]
  },
  {
   "cell_type": "code",
   "execution_count": 16,
   "metadata": {},
   "outputs": [],
   "source": [
    "# Skriv ditt svar her..."
   ]
  },
  {
   "cell_type": "markdown",
   "metadata": {
    "deletable": false,
    "editable": false,
    "run_control": {
     "frozen": true
    }
   },
   "source": [
    "## Oppgave 4d: Sett inn tekst (9%)\n",
    "\n",
    "Skriv en funksjon `add_words` som kan ta inn som argument en setning (tekststreng) som potensielt\n",
    "inneholder ett eller flere beløp gitt som en serie siffer, og returnere samme setning med tekstlige\n",
    "varianter av beløpene innskutt bak tallet omsluttet av tankestreker. Hvis man ikke finner noen tall,\n",
    "skal setningen være uendret, og du kan anta at det kun er snakk om heltall, ikke beløp med desimaler.\n",
    "Eksempler på bruk:\n",
    "\n",
    "<img src=\"img/4d_ex.png\" width=\"700px\" align=\"left\">"
   ]
  },
  {
   "cell_type": "code",
   "execution_count": 17,
   "metadata": {},
   "outputs": [],
   "source": [
    "# Skriv ditt svar her..."
   ]
  }
 ],
 "metadata": {
  "kernelspec": {
   "display_name": "Python 3",
   "language": "python",
   "name": "python3"
  },
  "language_info": {
   "codemirror_mode": {
    "name": "ipython",
    "version": 3
   },
   "file_extension": ".py",
   "mimetype": "text/x-python",
   "name": "python",
   "nbconvert_exporter": "python",
   "pygments_lexer": "ipython3",
   "version": "3.7.6"
  }
 },
 "nbformat": 4,
 "nbformat_minor": 2
}
