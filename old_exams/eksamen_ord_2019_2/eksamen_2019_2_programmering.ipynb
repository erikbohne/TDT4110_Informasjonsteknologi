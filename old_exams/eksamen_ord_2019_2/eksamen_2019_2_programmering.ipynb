{
 "cells": [
  {
   "cell_type": "markdown",
   "metadata": {
    "deletable": false,
    "editable": false,
    "run_control": {
     "frozen": true
    }
   },
   "source": [
    "# Eksamen 2019 2 Programmering\n",
    "\n",
    "**Merk at teori og kodeforståelse ikke er med her.**\n",
    "\n",
    "Hele eksamen ligger på BlackBoard. Her ligger også funksjoner som var vedlagt oppgaven, som kan være nyttig å bruke mens du arbeider med oppgavene under."
   ]
  },
  {
   "cell_type": "markdown",
   "metadata": {
    "deletable": false,
    "editable": false,
    "run_control": {
     "frozen": true
    }
   },
   "source": [
    "## Oppgave 3 - Programmering (50%)"
   ]
  },
  {
   "cell_type": "markdown",
   "metadata": {
    "deletable": false,
    "editable": false,
    "run_control": {
     "frozen": true
    }
   },
   "source": [
    "Under finner du innholdet i filen nameregister.py, som ligger i samme folder som pythonkoden du skal lage:\n",
    "\n",
    "<img src=\"img/nameregister_img.png\" width=\"800px\">"
   ]
  },
  {
   "cell_type": "markdown",
   "metadata": {
    "deletable": false,
    "editable": false,
    "run_control": {
     "frozen": true
    }
   },
   "source": [
    "**Førerkortprikker og botbetaling**\n",
    "\n",
    "I denne eksamenen skal du lage et system for registrering av prikker som norske borgere får når de begår trafikkforseelser. Du skal lage et sett funksjoner, som oppfyller en del krav til systemet, disse blir beskrevet under hver oppgave. Dette er et oversiktsbilde av systemet, så følger en beskrivelse av datastrukturen som skal lages og modulen som allerede eksisterer. Merk for øvrig at dette oppgavesettet kun er inspirert av det faktisk prikkbelastningssystemet som finnes i Norge.\n",
    "\n",
    "**Modulen nameregister.py**\n",
    "\n",
    "Alle personer som registreres i systemet må registreres med fødselsnummer og navn (fornavn etternavn). Begge disse er av type strenger. Modulen *nameregister* inneholder tre funksjoner som hjelper deg med å registrere denne koblingen. Modulen ligger i den samme folderen som koden du skal skrive, du skal altså bruke disse i koden din. De tre funksjonene er\n",
    "\n",
    "- *register_name(...)*: Denne brukes til å legge til nye fødselsnummer og knytte dem til et navn.\n",
    "- *find_name(...)*: Denne funksjonen brukes til å finne et navn gitt at en oppgir et fødselsnummer (11 siffer som streng).\n",
    "- Begge disse funksjonene kalles med en variabel *people*. Denne kan du forvente å ha etablert i koden du skriver i alle funksjonene på denne eksamenen. For en ytterligere beskrivelse av funksjonene, inkludert parametere, refererer vi til beskrivelsen av modulen som ligger i bunnen av funksjonsbeskrivelsen til venstre for oppgavesettet. Du skal altså ikke gå rett inn og endre på *people*, dette er kun tillatt gjennom funksjonene i modulen.\n",
    "- *days_in_month(...)*: Denne funksjonen tar inn et heltall mellom 1 og 12, og returnerer hvor mange dager det er i denne måneden. Funksjonen ignorerer skuddår. Funksjonen krasjer for andre innverdier enn tallene 1-12! Eksempel: days_in_month(1) returnerer 31\n",
    "\n",
    "**Oppgavens struktur**\n",
    "\n",
    "En funksjon du skal lage i en oppgave kan med hell benytte seg av funksjoner som allerede er beskrevet i *tidligere* oppgaver. Du står fritt til å bruke tidligere funksjoner slik de står beskrevet selv om du ikke har klart å løse dem - bruk funksjonene slik de er spesifisert å virke. Det vil aldri være tilfelle at du skal bruke funksjoner som blir gitt som oppgaver i senere oppgaver. Oppgavene kan løses i nedadgående rekkefølge. Noen oppgaver er vanskeligere enn andre. Det er lurt å bruke litt tid til å lese igjennom alle først, for å danne seg et inntrykk av hvordan en skal angripe oppgaven.\n",
    "\n",
    "**Datastruktur**\n",
    "\n",
    "Datastrukturen som du skal utvikle består denne av en *dictionary* som kalles *register*. Nøkkelen er et *fødselsnummer* (11 siffer lang streng). Verdien knyttet til hver nøkkel er prikkene som hver fører har fått så langt. Prikkene er lagret i form av en *liste*, der nye forseelser legges inn til slutt i listen. Eksempelvis vil et register med to førere som begge har fått noen prikker se slik ut:\n",
    "register = {'12046712125':[2,2,3],'23099045653':[3]}\n",
    "\n",
    "Det er ikke nødvendig å tenke på strukturen til det som finnes i modulen - her trenger en bare å bruke modulens funksjoner på korrekt måte. Du kan forvente at det eksisterer en variabel *people* som brukes når en kaller opp funksjonene her.\n",
    "\n",
    "Alle oppgavene krever at du skal skrive en funksjon. Når dere ser beskrivelsen (...) etter en funksjon betyr det at en skal fylle inn antall parametre og navnet på dem slik det står beskrevet i oppgavene.\n",
    "\n",
    "Oppgave 3a teller 7 poeng\n",
    "\n",
    "Oppgave 3b teller 8 poeng\n",
    "\n",
    "Oppgave 3c teller 7 poeng\n",
    "\n",
    "Oppgave 3d teller 7 poeng\n",
    "\n",
    "Oppgave 3e teller 7 poeng\n",
    "\n",
    "Oppgave 3f teller 7 poeng\n",
    "\n",
    "Oppgave 3g teller 7 poeng"
   ]
  },
  {
   "cell_type": "markdown",
   "metadata": {
    "deletable": false,
    "editable": false,
    "run_control": {
     "frozen": true
    }
   },
   "source": [
    "## Oppgave 3a - Datosjekk (7%)\n",
    "\n",
    "Nye førere må registreres (mer om det senere), og da må en legge inn folks fødselsnummer (streng med 11 siffer). Vi ønsker ikke å legge inn verdier som er feil i systemet. Derfor må det kontrolleres at datoer som legges inn i alle fall er reelle.\n",
    "\n",
    "Skriv funksjonen **check_date**\n",
    "\n",
    "- Funksjonen skal ta inn en streng som skal verifiseres som en reell dato. Strengen er hele fødselsnummeret til føreren, der de seks første dekker fødselsdatoen. Disse er på formatet ddmmyy - 12 mars 1979 blir da '120379'. Litt informasjon og krav:\n",
    "- Alder: år personen er født (kun de to siste sifrene). Du kan se bort fra alder på personene, altså ingen sjekk om på om de gamle nok til å ha førerkort.\n",
    "- Måned: tallet må være mellom 01 og 12, og alltid med to siffer (mars blir '03'\n",
    "- Dag: dag passer inn med måneden brukt.\n",
    "- Det finnes allerede en funksjon days_in_month(month). Denne ligger i modulen nameregister.py i den samme mappen som programmet ditt. Denne må du gjerne bruke, og du finner en beskrivelse av den nederst på funksjonsarket.\n",
    "- Du kan også se bort fra alt som har med skuddår å gjøre.\n",
    "- Hvis datoen er reell skal funksjonen returnere True, ellers skal den returnere False.\n",
    "\n",
    "**Eksempel:**\n",
    "\n",
    "\n",
    ">```python\n",
    ">>>> print(check_date('29127311245'))\n",
    "True\n",
    ">>>> print(check_date('31117532456'))\n",
    "False\n",
    "```"
   ]
  },
  {
   "cell_type": "code",
   "execution_count": null,
   "metadata": {},
   "outputs": [],
   "source": [
    "# Skriv ditt svar her..."
   ]
  },
  {
   "cell_type": "markdown",
   "metadata": {
    "deletable": false,
    "editable": false,
    "run_control": {
     "frozen": true
    }
   },
   "source": [
    "## Oppgave 3b - Registrer ny fører (8%)\n",
    "\n",
    "Når en ny person begår en trafikkforseelse må denne registreres. Her er det to ulike systemer dette skal registreres i - *people* og *register*.\n",
    "\n",
    "Skriv funksjonen **register_person** \n",
    "\n",
    "Funksjonen tar fire parametre:\n",
    "\n",
    "- *people*: En dictionary som gir kobling mellom fødselsnummer og navn.\n",
    "- *register*: En dictionary som har fødselsnummer (streng) som nøkkel og en liste over prikker som verdi.\n",
    "- *fnr*: En streng som inneholder fødselsnummeret til den som skal registreres. Du kan forvente at datoen her er korrekt, og at det ikke finnes noen med dette fødselsnummeret fra før.\n",
    "- *name*: En streng som inneholder navnet til den som skal registreres.\n",
    "\n",
    "Funksjonen skal gjøre følgende:\n",
    "- I *people* skal du legge til et nytt innslag med fnr og navn. *register_name* i modulen *nameregister* bør være til hjelp.\n",
    "- I *register* skal det registreres et nytt innslag med nøkkel *fnr*, verdien skal være en tom liste.\n",
    "- Variablene *people* og *register* kan du forutsette at du har tilgang på allerede - du trenger altså ikke lage dem. Dette gjelder også seinere oppgaver.\n",
    "\n",
    "**Eksempel:**\n",
    "\n",
    "<img src=\"img/3b_ex.png\" width=\"800px\" align=\"left\">"
   ]
  },
  {
   "cell_type": "code",
   "execution_count": null,
   "metadata": {},
   "outputs": [],
   "source": [
    "# Skriv ditt svar her..."
   ]
  },
  {
   "cell_type": "markdown",
   "metadata": {
    "deletable": false,
    "editable": false,
    "run_control": {
     "frozen": true
    }
   },
   "source": [
    "## Oppgave 3c - Telle prikker (7%)\n",
    "\n",
    "Personer får registrert prikker i en dictionary kalt *register*. Denne har som nøkkel et personnummer (streng med 11 siffer). Verdien er en liste som inneholder alle prikkene personen har fått, den første først. \n",
    "\n",
    "Skriv funksjonen **count_dots**\n",
    "\n",
    "- Du kan forvente at du har tilgang til variabelen *register*\n",
    "- Funksjonen skal ha to parametre:\n",
    "    - Den første er *register* (dictionary), som er nevnt over.\n",
    "    - Den andre er *fnr* (streng, 11 siffer), fødselsnummeret til føreren man skal finne antall prikker til.\n",
    "- Funksjonen skal returnere summen av prikker (som heltall) denne personen har fått.\n",
    "- Du kan forvente at fødselsnummeret som oppgis finnes i *register*.\n",
    "\n",
    "**Eksempel:**\n",
    "\n",
    "<img src=\"img/3c_ex.png\" width=\"800px\" align=\"left\">"
   ]
  },
  {
   "cell_type": "code",
   "execution_count": null,
   "metadata": {},
   "outputs": [],
   "source": [
    "# Skriv ditt svar her..."
   ]
  },
  {
   "cell_type": "markdown",
   "metadata": {
    "deletable": false,
    "editable": false,
    "run_control": {
     "frozen": true
    }
   },
   "source": [
    "## Oppgave 3d - Legg til prikker (7%)\n",
    "\n",
    "Prikker legges inn som verdi i dictionary *register*, knyttet til nøkkelen fødselsnummer (streng med 11 siffer). Prikkene er lagret i listeform, og nye prikker registreres på slutten av den eksisterende listen. Listen består av heltall, og kan se slik ut: [2, 2, 3]. Når nye prikker har blitt lagt til må en sjekke om totalt antall prikker er 10 eller mer. Hvis de er det skal det skrives ut en beskjed om at føreren har gått over grensen, og førerkortet skal beslaglegges. Her holder det å skrive ut en beskjed til brukeren som legger inn prikkene.\n",
    "\n",
    "Skriv funksjonen **add_dots**\n",
    "\n",
    "- Funksjonen skal ha tre parametre\n",
    "    - *register* - dictionary som inneholder fødselsnummer og prikker for alle, som før.\n",
    "    - *fnr* - fødselsnummeret til den som har kjørt i grøfta. Du kan forvente at dette fødselsnummeret allerede er registrert.\n",
    "    - *dots* - antallet prikker som skal legges til i slutten av denne førerens liste.\n",
    "- Hvis antallet prikker for føreren etter innlegging av nye prikker er 10 eller mer, skal det skrives ut en beskjed. Se eksempelet under. Husk funksjoner som er laget før selv om du ikke har skrevet dem selv.\n",
    "- Du kan forvente å ha tilgang til variablene *people* og *register*.\n",
    "\n",
    "**Eksempel:**\n",
    "\n",
    "<img src=\"img/3d_ex.png\" widht=\"700px\" align=\"left\">"
   ]
  },
  {
   "cell_type": "code",
   "execution_count": null,
   "metadata": {},
   "outputs": [],
   "source": [
    "# Skriv ditt svar her..."
   ]
  },
  {
   "cell_type": "markdown",
   "metadata": {
    "deletable": false,
    "editable": false,
    "run_control": {
     "frozen": true
    }
   },
   "source": [
    "## Oppgave 3e - Manuell innlegging av prikker (7%)\n",
    "\n",
    "Funksjonene som er skrevet til nå har alle basert seg på at informasjon som skal legges inn allerede er definert. Nå har vi kommet til delen der brukeren av systemet må skrive inn ting.\n",
    "\n",
    "Skriv funksjonen **manual_registration**\n",
    "\n",
    "- Funksjonen har to parametre - *register* og *people*. De er like som i oppgavene før. \n",
    "- Brukeren skal først skrive inn et fødselsnummer (streng med 11 siffer).\n",
    "- Det må sjekkes om fødselsdatoen i fødselsnummeret er en reell dato. Hvis ikke - avbryt funksjonen. Fødselsdatoen er de seks første sifrene i fødselsnummeret.\n",
    "- Hvis dette fødselsnummeret ikke allerede er registrert må denne nye personen registreres i både *people* og *register*, i tråd med funksjonsbeskrivelsene gitt i tidligere oppgaver. Husk å spørre om navn!\n",
    "- Til slutt skal funksjonen spørre om hvor mange prikker denne føreren har fått, og registrere dem.\n",
    "\n",
    "**Eksempel:**\n",
    "\n",
    "<img src=\"img/3e_ex.png\" width=\"800px\" align=\"left\">"
   ]
  },
  {
   "cell_type": "code",
   "execution_count": null,
   "metadata": {},
   "outputs": [],
   "source": [
    "# Skriv ditt svar her..."
   ]
  },
  {
   "attachments": {},
   "cell_type": "markdown",
   "metadata": {
    "deletable": false,
    "editable": false,
    "run_control": {
     "frozen": true
    }
   },
   "source": [
    "## Oppgave 3f - Betale seg ut av problemer (7%)\n",
    "\n",
    "Det er alltid mulig å betale seg ut av problemer i dette systemet. En fører har mulighet til å betale for å redusere antallet prikker som er registrert på seg.\n",
    "\n",
    "Skriv funksjonen **pay**\n",
    "\n",
    "Funksjonen **pay** har en parameter:\n",
    "\n",
    "- *register*: Registeret over fødselsnummer og nåværende prikker.\n",
    "\n",
    "Den fungerer på følgende måte:\n",
    "- Brukeren skal bli spurt om å skrive inn fødselsnummeret og summen føreren skal betale.\n",
    "- Funksjonen skal legge inn negative prikker. 1 prikk per 10 000 kroner. Hvis en fører vil betale 35 000 kroner skal tallet -3 legges til på slutten av listen, som i eksempelet under. Husk tidligere funksjoner.\n",
    "- Hvis føreren ikke er registrert skal meldingen 'Fører ikke registrert' skrives ut og funksjonen avsluttes.\n",
    "\n",
    "**Eksempel:**\n",
    "\n",
    "<img src=\"img/3f_ex.png\" width=\"700px\" align=\"left\">"
   ]
  },
  {
   "cell_type": "code",
   "execution_count": null,
   "metadata": {},
   "outputs": [],
   "source": [
    "# Skriv ditt svar her..."
   ]
  },
  {
   "cell_type": "markdown",
   "metadata": {
    "deletable": false,
    "editable": false,
    "run_control": {
     "frozen": true
    }
   },
   "source": [
    "## Oppgave 3g - Lagring til fil (7%)\n",
    "\n",
    "Vi ønsker å lagre informasjon om førerne som er registrert på fil.\n",
    "\n",
    "Skriv funksjonen **save_to_file**\n",
    "\n",
    "- Funksjonen tar to parametre, *register* og *people*\n",
    "- Filen det skal skrives til skal hete 'dots.txt'.\n",
    "- For hver av de registrerte førerne skal det lages en linje der følgende streng står (uten ' foran og bak): '11010154321 (Terje Rydland) har 7 prikker.'\n",
    "\n",
    "**Eksempel:**\n",
    "\n",
    "<img src=\"img/3g_examp.png\" width=\"700px\" align=\"left\">"
   ]
  },
  {
   "cell_type": "markdown",
   "metadata": {
    "deletable": false,
    "editable": false,
    "run_control": {
     "frozen": true
    }
   },
   "source": [
    "Etter at koden over har kjørt, vil dots.txt inneholde følgende:\n",
    "\n",
    "<img src=\"img/prikker.png\" width=\"400px\" align=\"left\">"
   ]
  },
  {
   "cell_type": "code",
   "execution_count": null,
   "metadata": {},
   "outputs": [],
   "source": [
    "# Skriv ditt svar her..."
   ]
  }
 ],
 "metadata": {
  "kernelspec": {
   "display_name": "Python 3",
   "language": "python",
   "name": "python3"
  },
  "language_info": {
   "codemirror_mode": {
    "name": "ipython",
    "version": 3
   },
   "file_extension": ".py",
   "mimetype": "text/x-python",
   "name": "python",
   "nbconvert_exporter": "python",
   "pygments_lexer": "ipython3",
   "version": "3.7.6"
  }
 },
 "nbformat": 4,
 "nbformat_minor": 4
}
