{
 "cells": [
  {
   "cell_type": "markdown",
   "metadata": {},
   "source": [
    "### Kopi av forside\n",
    "**Institutt for Datateknologi og Informatikk**\n",
    "\n",
    "**Eksamensoppgave i TDT4110 Informasjonsteknologi Grunnkurs**\n",
    "\n",
    "**Eksamensdato**: 8. desember 2022\n",
    "\n",
    "**Eksamenstid (fra-til)**: 09:00-13:00\n",
    "\n",
    "**Hjelpemiddelkode/Tillatte hjelpemidler: D**\n",
    "Ingen trykte eller håndskrevne hjelpemidler tillatt. Bestemt, enkel kalkulator tillatt.\n",
    "\n",
    "Faglig kontakt under eksamen: Dag Olav Kjellemo, Guttorm Sindre\n",
    "    Tlf.: 47681639\n",
    "    Tlf.: 94430245\n",
    "\n",
    "**Faglig kontakt møter i eksamenslokalet**: NEI\n",
    "\n",
    "<br />\n",
    "\n",
    "**ANNEN INFORMASJON:**\n",
    "\n",
    "**Skaff deg overblikk over oppgavesettet** før du begynner på besvarelsen din.\n",
    "\n",
    "**Les oppgavene nøye**, gjør dine egne antagelser og presiser i besvarelsen hvilke forutsetninger du\n",
    "har lagt til grunn i tolkning/avgrensing av oppgaven. Faglig kontaktperson skal kun kontaktes\n",
    "dersom det er direkte feil eller mangler i oppgavesettet. Henvend deg til en eksamensvakt hvis du\n",
    "ønsker å kontakte faglærer. Noter gjerne spørsmålet ditt på forhånd.\n",
    "\n",
    "**Vekting av oppgavene**: Vekting i prosent er angitt for hver deloppgave.\n",
    "\n",
    "**Varslinger**: Hvis det oppstår behov for å gi beskjeder til kandidatene underveis i eksamen (f.eks.\n",
    "ved feil i oppgavesettet), vil dette bli gjort via varslinger i Inspera. Et varsel vil dukke opp som en\n",
    "dialogboks på skjermen. Du kan finne igjen varselet ved å klikke på bjella øverst til høyre.\n",
    "\n",
    "**Trekk fra/avbrutt eksamen**: Blir du syk under eksamen, eller av andre grunner ønsker å levere\n",
    "blankt/avbryte eksamen, gå til “hamburgermenyen” i øvre høyre hjørne og velg «Lever blankt».\n",
    "Dette kan ikke angres selv om prøven fremdeles er åpen.\n",
    "\n",
    "**Tilgang til besvarelse**: Etter eksamen finner du besvarelsen din i arkivet i Inspera. Merk at det\n",
    "kan ta én virkedag før eventuelle håndtegninger vil være tilgjengelige i arkivet."
   ]
  },
  {
   "cell_type": "markdown",
   "metadata": {},
   "source": [
    "## **Merk**\n",
    "\n",
    "- Flervalgsoppgavene for eksamen H22 er ekskludert fra denne notebooken. For å se disse, gå til PDFen på Blackboard\n",
    "- Noen av kodeoppgavene var originalt oppgaver som gikk ut på å dra kodeblokker til riktig steg. Det vil være litt vanskeligere å implementere disse funksjonene fra bunn, som det er lagt opp til i denne notebooken, men det er god trening."
   ]
  },
  {
   "cell_type": "markdown",
   "metadata": {},
   "source": [
    "# 6 `sum_except` (6%)"
   ]
  },
  {
   "cell_type": "markdown",
   "metadata": {},
   "source": [
    "Funksjonen `sum_except(numlist, n)` skal få inn ei liste med heltall (`numlist`) og et heltall `n`. Den\n",
    "skal returnere summen av tallene i lista, unntatt eventuelle forekomster av tallet `n`.\n",
    "Eksempel på kjøring:\n",
    "\n",
    "\\>\\>\\> `sum_except([3, 4, 3, 7 ], 3)`\n",
    "`11`\n",
    "Dette kallet returnerer 11 fordi de to 3-tallene i lista ikke blir med i summen, slik at resultatet blir\n",
    "4+7.\n",
    "\n",
    "<br/>\n",
    "\n",
    "**Skriv koden for funksjonen `sum_except()`**\n"
   ]
  },
  {
   "cell_type": "code",
   "execution_count": 6,
   "metadata": {},
   "outputs": [],
   "source": [
    "def sum_except(numlist: list, n: int) -> int:\n",
    "    return sum([x if x != n else 0 for x in numlist])"
   ]
  },
  {
   "cell_type": "code",
   "execution_count": 7,
   "metadata": {},
   "outputs": [
    {
     "name": "stdout",
     "output_type": "stream",
     "text": [
      "11\n"
     ]
    }
   ],
   "source": [
    "# test code\n",
    "print(sum_except([3, 4, 3, 7], 3))"
   ]
  },
  {
   "cell_type": "markdown",
   "metadata": {},
   "source": [
    "# 7 Fotball (7%)\n",
    "\n",
    "Regler for størrelse på fotballbaner er som følger:\n",
    "- lengde må være mellom 90 og 120 meter\n",
    "- bredde må være mellom 45 og 90 meter\n",
    "\n",
    "Hvis banen skal brukes i internasjonale kamper, er kravene mer restriktive:\n",
    "- lengde 100-110 meter\n",
    "- bredde 64-75 meter\n",
    "\n",
    "Lag funksjonen `ok_size(length, width, intl)` hvor de to første parametrene er henholdsvis lengde\n",
    "og bredde (flyttall), og den siste parameteren er `True` hvis kampen er internasjonal, ellers `False`.\n",
    "Funksjonen skal returnere `True` hvis banens størrelse er akseptabel, ellers `False`. En størrelse\n",
    "som er akkurat på grensa vil være ok (f.eks. lengde 90.0 meter) men såvidt utenfor grensa er ikke\n",
    "ok (f.eks. lengde 89.99 meter er uakseptabelt).\n",
    "\n",
    "<br/>\n",
    "\n",
    "**Skriv koden for funksjonen `ok_size()`**"
   ]
  },
  {
   "cell_type": "code",
   "execution_count": 8,
   "metadata": {},
   "outputs": [],
   "source": [
    "def ok_size(length: float, width: float, intl: bool) -> bool:\n",
    "    \"\"\"Checks if the pitch is ok size\"\"\"\n",
    "    \n",
    "    if intl:\n",
    "        ok_length = True if length >= 100 and length <= 110 else False\n",
    "        ok_width = True if width >= 64 and width <= 75 else False\n",
    "    else:\n",
    "        ok_length = True if length >= 90 and length <= 120 else False\n",
    "        ok_width = True if width >= 45 and width <= 90 else False\n",
    "        \n",
    "    return True if ok_length and ok_width else False"
   ]
  },
  {
   "cell_type": "code",
   "execution_count": 9,
   "metadata": {},
   "outputs": [
    {
     "name": "stdout",
     "output_type": "stream",
     "text": [
      "False\n",
      "False\n",
      "True\n",
      "True\n"
     ]
    }
   ],
   "source": [
    "# Test\n",
    "print(ok_size(50, 100, True))\n",
    "print(ok_size(90, 70, True))\n",
    "print(ok_size(100, 70, True))\n",
    "print(ok_size(90, 90, False))"
   ]
  },
  {
   "cell_type": "markdown",
   "metadata": {},
   "source": [
    "# 8 `car_club` (5%)\n",
    "\n",
    "En klubb med bilentusiaster holder spesielt rede på hvilke sjeldne bilmerker medlemmene har\n",
    "kjørt. Medlemmene sine bilmerker er registrert i hver sin mengde-variabel (set). Vi ønsker å lage\n",
    "fire funksjoner:\n",
    "- a_and_b(A, B) skal returnere mengden av bilmerker som både medlem A og medlem B\n",
    "har kjørt\n",
    "- a_butnot_B(A, B) skal derimot returnere mengden av bilmerker som A har kjørt, men\n",
    "B ikke har kjørt\n",
    "- common_cars(car_geeks) skal returnere mengden av bilmerker som har det felles at hvert\n",
    "eneste medlem i klubben har kjørt dem\n",
    "- all_cars(car_geeks) skal returnere mengden av bilmerker som har vært kjørt av minst ett\n",
    "klubbmedlem\n",
    "\n",
    "Eksempel på kjøring er vist med testkode i den grå boksen og mengdene som blir returnert like\n",
    "under den grå boksen.\n",
    "\n",
    "![Alt text](./img/8_car_club.png)\n",
    "\n",
    "<br/>\n",
    "\n",
    "**Fullfør den påbegynte koden** (erstatt '...')"
   ]
  },
  {
   "cell_type": "code",
   "execution_count": 15,
   "metadata": {},
   "outputs": [],
   "source": [
    "def a_and_b(A, B):\n",
    "    result = A.intersection(B)\n",
    "    return result\n",
    "\n",
    "def a_butnot_b(A, B):\n",
    "    result = A.difference(B)\n",
    "    return result\n",
    "\n",
    "def common_cars(car_geeks):\n",
    "    \n",
    "    result = car_geeks[0]\n",
    "    for geek in car_geeks:\n",
    "        result = result.intersection(geek)\n",
    "        \n",
    "    return result\n",
    "\n",
    "def all_cars(car_geeks):\n",
    "    result = set()\n",
    "    for geek in car_geeks:\n",
    "        result.update(geek)\n",
    "        \n",
    "    return result"
   ]
  },
  {
   "cell_type": "code",
   "execution_count": 16,
   "metadata": {},
   "outputs": [
    {
     "name": "stdout",
     "output_type": "stream",
     "text": [
      "{'Piech', 'Effa'}\n",
      "{'Ultima'}\n",
      "{'Piech'}\n",
      "{'Denza', 'Ultima', 'Piech', 'Zenvo', 'Effa'}\n"
     ]
    }
   ],
   "source": [
    "# Test\n",
    "dan = {'Effa', 'Ultima', 'Piech'}\n",
    "bo = {'Zenvo', 'Ultima', 'Piech'}\n",
    "leah = {'Effa', 'Piech', 'Denza'}\n",
    "car_geeks = [dan, bo, leah]\n",
    "print(a_and_b(dan, leah))\n",
    "print(a_butnot_b(dan, leah))\n",
    "print(common_cars(car_geeks))\n",
    "print(all_cars(car_geeks))"
   ]
  },
  {
   "cell_type": "markdown",
   "metadata": {},
   "source": [
    "# 9 Flip (5%)\n",
    "\n",
    "Vi er gitt en liste med lister (dvs. 2d liste). De indre listene består av heltall. Vi ønsker å lage en\n",
    "tilsvarende 2d liste hvor en del av verdiene er endret fra x til m-x.\n",
    "\n",
    "Vi skal lage to funksjoner for dette:\n",
    "\n",
    "`flip_values(L, m)` og `values_flipped(L, m)`\n",
    "\n",
    "I begge tilfeller er input en liste L bestående av lister av heltall, og en verdi m.\n",
    "\n",
    "Listene i L med partalls-indeks (dvs. L[0], L[2], osv.) skal **ikke** endres.\n",
    "\n",
    "Listene i L med oddetalls-indeks (dvs. L[1], L[3] osv.) skal endres slik at hver verdi x erstattes\n",
    "med m - x.\n",
    "\n",
    "<br/>\n",
    "\n",
    "`flip_values` skal mutere L og listene i L, dvs. endre selve den originale 2d-lista.\n",
    "\n",
    "<br/>\n",
    "\n",
    "`values_flipped` skal lage ei ny 2d-liste hvor tallene er endret, men uten å endre den originale.\n",
    "\n",
    "<br/>\n",
    "\n",
    "**Eksempel på kjøring**:\n",
    "\n",
    "`L = [ [1,2,3,4,5,6,6], [1,2,3,3,5,4,7], [7,1,3]]`\n",
    "\n",
    "`print(values_flipped(L,8)) # prints a modified copy of the list`\n",
    "\n",
    "`print(L) # prints the original list`\n",
    "\n",
    "`flip_values(L,8) # mutates the original list`\n",
    "\n",
    "`print(L) # prints mutated original list`\n",
    "\n",
    "<br/>\n",
    "\n",
    "\n",
    "**Gjør at følgende printes**:\n",
    "\n",
    "`[[1, 2, 3, 4, 5, 6, 6], [7, 6, 5, 5, 3, 4, 1], [7, 1, 3]]`\n",
    "\n",
    "`[[1, 2, 3, 4, 5, 6, 6], [1, 2, 3, 3, 5, 4, 7], [7, 1, 3]]`\n",
    "\n",
    "`[[1, 2, 3, 4, 5, 6, 6], [7, 6, 5, 5, 3, 4, 1], [7, 1, 3]]`\n",
    "\n",
    "Som vi ser er midterste indre liste (som har oddetallsindeks [1]) blitt endret i første og tredje print,\n",
    "men ikke i andre print, hvor det er den originale lista vi printer før den muteres.\n",
    "\n",
    "<br/>\n",
    "\n",
    "**Implementer funksjonene  `flip_values` og `values_flipped`**"
   ]
  },
  {
   "cell_type": "code",
   "execution_count": 17,
   "metadata": {},
   "outputs": [],
   "source": [
    "def values_flipped(L: list, m: int) -> list:\n",
    "    new_L = L.copy()\n",
    "    \n",
    "    for i in range(1, len(new_L), 2):\n",
    "        new_L[i] = [m - x for x in new_L[i]]\n",
    "        \n",
    "    return new_L\n",
    "\n",
    "def flip_values(L: list, m: int) -> None:\n",
    "    for i in range(1, len(L), 2):\n",
    "        L[i] = [m - x for x in L[i]]\n",
    "        \n",
    "    return\n",
    "            "
   ]
  },
  {
   "cell_type": "code",
   "execution_count": 18,
   "metadata": {},
   "outputs": [
    {
     "name": "stdout",
     "output_type": "stream",
     "text": [
      "[[1, 2, 3, 4, 5, 6, 6], [7, 6, 5, 5, 3, 4, 1], [7, 1, 3]]\n",
      "[[1, 2, 3, 4, 5, 6, 6], [1, 2, 3, 3, 5, 4, 7], [7, 1, 3]]\n",
      "[[1, 2, 3, 4, 5, 6, 6], [7, 6, 5, 5, 3, 4, 1], [7, 1, 3]]\n"
     ]
    }
   ],
   "source": [
    "# Test\n",
    "L = [ [1,2,3,4,5,6,6], [1,2,3,3,5,4,7], [7,1,3]]\n",
    "\n",
    "print(values_flipped(L,8)) # prints a modified copy of the list`\n",
    "print(L) # prints the original list`\n",
    "flip_values(L,8) # mutates the original list`\n",
    "print(L) # prints mutated original list`"
   ]
  },
  {
   "cell_type": "markdown",
   "metadata": {},
   "source": [
    "# 10 `chg_file` (5%)\n",
    "\n",
    "Vi har ei tekstfil med tall over flere linjer, innad i hver linje adskilt med mellomrom. Fila har like\n",
    "mange tall på hver linje, og kan inneholde både positive og negative tall. Vi ønsker å lage en\n",
    "funksjon som får inn filnavn som parameter og skal endre fila på følgende måte:\n",
    "- alle tall som er mindre enn 100 i absoluttverdi skal være positive\n",
    "- alle tall større eller lik 100 i absoluttverdi, skal være negative\n",
    "\n",
    "<br/>\n",
    "\n",
    "For øvrig skal filas innhold være som før. Eksempel på kjøring, hvis fila tall.txt har innhold:\n",
    "\n",
    "`101.2 93.4 213.9 -23.5 -2.0`\n",
    "\n",
    "`22.5 -100.7 -3.2 55.5 -101.5`\n",
    "\n",
    "så skal kjøring av change_file('tall.txt') gjøre at fila etter kjøring har innhold:\n",
    "\n",
    "`-101.2 93.4 -213.9 23.5 2.0`\n",
    "\n",
    "`22.5 -100.7 3.2 55.5 - 101.5`\n",
    "\n",
    "<br/>\n",
    "\n",
    "**Implementer funksjonen `change_file`**"
   ]
  },
  {
   "cell_type": "code",
   "execution_count": 25,
   "metadata": {},
   "outputs": [],
   "source": [
    "import numpy as np\n",
    "\n",
    "def change_file():\n",
    "    \n",
    "    text = np.loadtxt(\"numbers.txt\")\n",
    "    \n",
    "    # Set all numbers lower than 100 in absolute value to the absolute value of that number\n",
    "    text[np.abs(text) < 100] = np.abs(text[np.abs(text) < 100])\n",
    "    \n",
    "    # Set all numbers bigger than 100 in absolute value to the negative of that number\n",
    "    text[np.abs(text) >= 100] = -np.abs(text[np.abs(text) >= 100])\n",
    "    \n",
    "    # Save file\n",
    "    np.savetxt(\"tall.txt\", text, fmt='%1.f')"
   ]
  },
  {
   "cell_type": "code",
   "execution_count": 26,
   "metadata": {},
   "outputs": [],
   "source": [
    "# Test\n",
    "change_file()"
   ]
  },
  {
   "cell_type": "markdown",
   "metadata": {},
   "source": [
    "# 11 `same_numbers` (6%)\n",
    "\n",
    "Funksjonen same_numbers_row_col(M, order) får inn to parametre:\n",
    "- et numpy array M\n",
    "- order, som er True eller False\n",
    "\n",
    "Funksjonen skal returnere indekspar [rad, kolonne] for tilfeller hvor det er slik at ei rad og ei\n",
    "kolonne i arrayet inneholder de samme tallene. Hvis order er True, skal det bare returneres\n",
    "indekspar hvor tallene står i eksakt samme rekkefølge. Med order False kan tallene også stå i\n",
    "annen rekkefølge.\n",
    "\n",
    "<br/>\n",
    "\n",
    "**Eksempel på kjøring**:\n",
    "\n",
    "![Alt text](./img/11_same_numbers.png)\n",
    "\n",
    "<br/>\n",
    "\n",
    "Som eksemplet viser:\n",
    "- Hvis `order` er `True` (første linje i resultat), returneres kun indeksparet `[0,3]` siden både rad\n",
    "`[0]` og kolonne `[3]` i arrayet `T` har akkurat tallsekvensen `1.0, 2.0, 3.5, 1.0`\n",
    "- Hvis `order` er `False` (andre linje i resultat) returnes dessuten `[0,1]` siden kolonne `[1]` også\n",
    "har de fire samme tallene, men i en annen rekkefølge `2.0, 1.0, 1.0, 3.5`\n",
    "\n",
    "<br/>\n",
    "\n",
    "**Fullfør den påbegynte koden** (erstatt '...') **eller**\n",
    "\n",
    "**implementer funksjonen fra bunn dersom du syns det er enklere**"
   ]
  },
  {
   "cell_type": "code",
   "execution_count": 34,
   "metadata": {},
   "outputs": [],
   "source": [
    "def same_numbers_row_col(M, order):\n",
    "    result = []\n",
    "    for i in range(len(M)):\n",
    "        for j in range(len(M)):\n",
    "            row_elements = M[i]\n",
    "            col_elements= M[:, j]\n",
    "            \n",
    "            if order:\n",
    "                if np.array_equal(row_elements, col_elements):\n",
    "                    result.append([i, j])\n",
    "                    \n",
    "            else:\n",
    "                if all(np.sum(row_elements == element) == np.sum(col_elements == element) for element in row_elements):\n",
    "                    result.append([i, j])            \n",
    "            \n",
    "    return result"
   ]
  },
  {
   "cell_type": "code",
   "execution_count": 35,
   "metadata": {},
   "outputs": [
    {
     "name": "stdout",
     "output_type": "stream",
     "text": [
      "[[0, 3]]\n",
      "[[0, 1], [0, 3]]\n"
     ]
    }
   ],
   "source": [
    "import numpy as np\n",
    "T = np.array([[1.0, 2.0, 3.5, 1.0],\n",
    "              [2.0, 1.0, 2.5, 2.0],\n",
    "              [2.0, 1.0, 2.5, 3.5],\n",
    "              [3.5, 3.5, 2.5, 1.0]])\n",
    "\n",
    "print(same_numbers_row_col(T, True))\n",
    "print(same_numbers_row_col(T, False))"
   ]
  },
  {
   "cell_type": "markdown",
   "metadata": {},
   "source": [
    "# 12 `plot` (5%)\n",
    "\n",
    "Koden vår skal plotte de tre grafene som er vist her. For at oppgaven ikke skal bli en\n",
    "matematikk-test, har vi satt på navn som viser hvilken graf som tilhører hvilken funksjon, selv\n",
    "om generering av disse navnene ikke er med i koden.\n",
    "\n",
    "![Alt text](./img/12_plot.png)\n",
    "\n",
    "<br/>\n",
    "\n",
    "**Oppgave: Fullfør koden under slik at den likner på plottet i bildet**"
   ]
  },
  {
   "cell_type": "code",
   "execution_count": 40,
   "metadata": {},
   "outputs": [
    {
     "data": {
      "image/png": "[encoded data removed]",
      "text/plain": [
       "<Figure size 640x480 with 1 Axes>"
      ]
     },
     "metadata": {},
     "output_type": "display_data"
    }
   ],
   "source": [
    "import numpy as np\n",
    "import matplotlib.pyplot as plt\n",
    "\n",
    "def f(x):\n",
    "    return 0.125*x**3 - 0.25*x**2 - 2*x + 1\n",
    "\n",
    "def g(x):\n",
    "    return 2*np.sqrt(np.abs(x))\n",
    "\n",
    "def h(x):\n",
    "    return 3*np.sin(2*x)+ x\n",
    "\n",
    "x1 = np.arange(-4, 4, 1) \n",
    "plt.plot(x1, f(x1))\n",
    "\n",
    "x2 = np.arange(-3, 4, 0.1) \n",
    "plt.plot(x2, g(x2))\n",
    "\n",
    "x3 = np.arange(-3, 3, 0.1) \n",
    "plt.plot(x3, h(x3))\n",
    "\n",
    "plt.show()"
   ]
  },
  {
   "cell_type": "markdown",
   "metadata": {},
   "source": [
    "# 13 Card value (4%)\n",
    "\n",
    "Vi ønsker å lage en funksjon `card_val(card)` som får inn en streng som representerer et spillkort\n",
    "og returnerer kortets tallverdi. Eksempel på strenger er '♥3', '♠4', '♣10', '♣Q', '♦A', dvs. første\n",
    "tegn i strengen er alltid et symbol for kortets farge (♥/♠/♣/♦), øvrige 1-2 tegn (2 tegn i tilfelle tallet\n",
    "er 10) representerer tallverdien. Bokstavene J, Q, K, A teller som 11, 12, 13, 14.\n",
    "<br/>\n",
    "\n",
    "**Eksempel på kjøring**:\n",
    "`print(f\"{card_val('♣10')} {card_val('♥3')} {card_val('♣Q')} {card_val('♦A')}\" )`\n",
    "gir utskriften\n",
    "`10 3 12 14`\n",
    "<br/>\n",
    "\n",
    "**Fullfør den påbegynte koden** (erstatt '...') "
   ]
  },
  {
   "cell_type": "code",
   "execution_count": 43,
   "metadata": {},
   "outputs": [],
   "source": [
    "def card_val(card):\n",
    "    special = {'J': 11, 'Q': 12, 'K': 13, 'A': 14}\n",
    "    if card[1:] in special:\n",
    "        return special[card[1:]]\n",
    "    else:\n",
    "        return int(card[1:])"
   ]
  },
  {
   "cell_type": "code",
   "execution_count": 44,
   "metadata": {},
   "outputs": [
    {
     "name": "stdout",
     "output_type": "stream",
     "text": [
      "10 3 12 14\n"
     ]
    }
   ],
   "source": [
    "# Test\n",
    "print(f\"{card_val('♣10')} {card_val('♥3')} {card_val('♣Q')} {card_val('♦A')}\" )"
   ]
  },
  {
   "cell_type": "markdown",
   "metadata": {},
   "source": [
    "# 14 Straight flush (6%)\n",
    "\n",
    "I en del kortspill betyr \"**straight**\" at man har fem kort i løpende tallrekkefølge, f.eks. 2, 3, 4, 5, 6\n",
    "eller 5, 6, 7, 8, 9 eller 10, J, K, Q, A hvor de fire sistnevnte teller som 11, 12, 13, 14. A kan også\n",
    "telle som 1, så A, 2, 3, 4, 5 vil også være en straight. Kortene trenger ikke å være i samme farge,\n",
    "så f.eks. vil de fem kortene i lista `['♥3', '♥5', '♠4', '♠7', '♦6']` utgjøre en straight. `['♥3', '♥5', '♠4', '♠7',\n",
    "'♦8']` vil derimot ikke være en straight, fordi man hopper over tallet 6.\n",
    "\n",
    "En \"**flush**\" er derimot at alle kortene er av samme farge, f.eks. at man har fem ruter eller fem\n",
    "spar. `['♠K', '♠J', '♠4', '♠7', '♠2']` vil dermed være en flush (kun ♠), mens `['♠K', '♠J', '♠4', '♠7', '♦2']`\n",
    "ikke er det (fire ♠, men en ♦).\n",
    "\n",
    "I denne oppgaven skal vi lage to funksjoner, `straight()` og `flush()`. Hver funksjon skal kunne få inn\n",
    "ei liste med fem kort som parameter, og returnere True (hvis man har hhv. straight eller flush)\n",
    "eller False (hvis man ikke har det). Funksjonen `card_val()` fra forrige deloppgave benyttes i\n",
    "funksjonen `straight()` for å finne kortets tallverdi.\n",
    "<br/>\n",
    "\n",
    "**Fullfør den påbegynte koden ved å velge ett alternativ i '<>'**"
   ]
  },
  {
   "cell_type": "code",
   "execution_count": 69,
   "metadata": {},
   "outputs": [],
   "source": [
    "def straight(cards):\n",
    "    numbers = []\n",
    "    for c in cards:\n",
    "        numbers.append(card_val(c))\n",
    "    \n",
    "    m = min(numbers)\n",
    "\n",
    "    s = sorted(numbers)\n",
    "\n",
    "    return (s == list(range(m, m+5)) or s == [2, 3, 4, 5, 14])\n",
    "\n",
    "\n",
    "def flush(cards):\n",
    "    kinds = []\n",
    "    for c in cards:\n",
    "        kinds.append(c[0])\n",
    "    return len(set(kinds)) == 1"
   ]
  },
  {
   "cell_type": "code",
   "execution_count": 67,
   "metadata": {},
   "outputs": [
    {
     "name": "stdout",
     "output_type": "stream",
     "text": [
      "All tests for straight() passed!\n"
     ]
    }
   ],
   "source": [
    "def test_straight():\n",
    "    assert straight(['♥3', '♥5', '♠4', '♠7', '♦6']) == True, \"Test Case 1 Failed\"  # Continuous sequence\n",
    "    assert straight(['♥3', '♥5', '♠4', '♠7', '♦8']) == False, \"Test Case 2 Failed\"  # Missing a number in sequence\n",
    "    assert straight(['♠10', '♠J', '♠Q', '♠K', '♠A']) == True, \"Test Case 3 Failed\"  # High-end sequence\n",
    "    assert straight(['♠A', '♠2', '♠3', '♠4', '♠5']) == True, \"Test Case 4 Failed\"  # Low-end sequence with Ace\n",
    "    assert straight(['♠9', '♠10', '♠J', '♠Q', '♠K']) == True, \"Test Case 5 Failed\"  # Middle sequence\n",
    "    print(\"All tests for straight() passed!\")\n",
    "\n",
    "# Call the test function\n",
    "test_straight()\n"
   ]
  },
  {
   "cell_type": "code",
   "execution_count": 70,
   "metadata": {},
   "outputs": [
    {
     "name": "stdout",
     "output_type": "stream",
     "text": [
      "All tests for flush() passed!\n"
     ]
    }
   ],
   "source": [
    "def test_flush():\n",
    "    assert flush(['♠K', '♠J', '♠4', '♠7', '♠2']) == True, \"Test Case 1 Failed\"  # All same suit (Spades)\n",
    "    assert flush(['♠K', '♠J', '♠4', '♠7', '♦2']) == False, \"Test Case 2 Failed\"  # Different suits\n",
    "    assert flush(['♥A', '♥10', '♥3', '♥6', '♥Q']) == True, \"Test Case 3 Failed\"  # All same suit (Hearts)\n",
    "    assert flush(['♦5', '♦7', '♦9', '♦J', '♦K']) == True, \"Test Case 4 Failed\"  # All same suit (Diamonds)\n",
    "    assert flush(['♣2', '♣4', '♣6', '♣8', '♣10']) == True, \"Test Case 5 Failed\"  # All same suit (Clubs)\n",
    "    print(\"All tests for flush() passed!\")\n",
    "\n",
    "# Call the test function\n",
    "test_flush()\n"
   ]
  },
  {
   "cell_type": "markdown",
   "metadata": {},
   "source": [
    "# 15 func as parameter, del 1 (6%)\n",
    "\n",
    "Vi ønsker å lage en funksjon `strict_incr(f, x_values)` for å teste om en annen funksjon f (som\n",
    "kommer inn som parameter) er strengt stigende over et array av x-verdier x_values. Hvis f er\n",
    "strengt stigende, skal det returneres `True`, ellers `False`.\n",
    "<br/>\n",
    "\n",
    "Eksempel: Anta at funksjonen som gis inn som parameter er `f(x), x**2 + 2*x + 1` som vist i\n",
    "plottet. Hvis den andre parameteren `x_values` er et array med tallene `-2.0, -1.9, ..., 0.0`, skal\n",
    "`strict_incr(f, x_values)` returnere `False`, siden funksjonen først synker fra `-2.0` til `-1.0` og deretter\n",
    "begynner å stige. Hvis derimot `x_values` har tallserien `-0.9, -0.8, ..., 0.5`, skal funksjonen\n",
    "returnere `True` fordi funksjonen hele tiden stiger over dette intervallet, dvs. `f(x)` for hver nye xverdi\n",
    "er større enn den forrige `f(x)`-verdien. Merk at strengt stigende betyr at hver nye verdi må\n",
    "være større, det er ikke nok at den er lik.\n",
    "\n",
    "![Alt text](./img/15_func_as_parameter_1.png)\n",
    "<br/>\n",
    "\n",
    "**Implementer funksjonen `strict_incr(f, x_values)`**"
   ]
  },
  {
   "cell_type": "code",
   "execution_count": 78,
   "metadata": {},
   "outputs": [],
   "source": [
    "import numpy as np\n",
    "\n",
    "def strict_incr(f, x_values):\n",
    "    \n",
    "    prev = -np.inf\n",
    "    for x in x_values:\n",
    "        fx = f(x)\n",
    "        if fx <= prev:\n",
    "            return False\n",
    "        prev = fx\n",
    "    \n",
    "    return True"
   ]
  },
  {
   "cell_type": "code",
   "execution_count": 79,
   "metadata": {},
   "outputs": [
    {
     "name": "stdout",
     "output_type": "stream",
     "text": [
      "All tests for strict_incr() passed!\n"
     ]
    }
   ],
   "source": [
    "def test_strict_incr():\n",
    "    f1 = lambda x: x**2 + 2*x + 1  # Quadratic function\n",
    "\n",
    "    # Test Case 1: Function decreasing then increasing\n",
    "    assert strict_incr(f1, [-2.0, -1.5, -1.0, -0.5, 0.0]) == False, \"Test Case 1 Failed\"\n",
    "\n",
    "    # Test Case 2: Function strictly increasing\n",
    "    assert strict_incr(f1, [-0.9, -0.8, -0.7, -0.6, -0.5]) == True, \"Test Case 2 Failed\"\n",
    "\n",
    "    f2 = lambda x: x  # Linear function\n",
    "\n",
    "    # Test Case 3: Linearly increasing function\n",
    "    assert strict_incr(f2, [1, 2, 3, 4, 5]) == True, \"Test Case 3 Failed\"\n",
    "\n",
    "    # Test Case 4: Non-strictly increasing (constant value)\n",
    "    assert strict_incr(f2, [2, 2, 2, 2, 2]) == False, \"Test Case 4 Failed\"\n",
    "\n",
    "    print(\"All tests for strict_incr() passed!\")\n",
    "\n",
    "# Call the test function\n",
    "test_strict_incr()\n"
   ]
  },
  {
   "cell_type": "markdown",
   "metadata": {},
   "source": [
    "# 16 func as parameter, del 2 (6%)\n",
    "\n",
    "Vi ønsker nå en funksjon `longest_incr(f, x_values)` som skal finne det lengste intervallet hvor en\n",
    "funksjon f er strengt stigende innenfor serien av x-verdier i arrayet `x_values`. Som et eksempel,\n",
    "anta at funksjonen som gis inn for parameter f er `np.sin(x)` som vist i plottet under, og at\n",
    "`x_values` er `np.arange(-6.0, 6.0, 0.01)`. Funksjonen skal da finne intervallet fra x = -1.57 til x =\n",
    "1.57 siden dette er det lengste strekket hvor funksjonen er stigende her, fra bunnpunktet til\n",
    "toppunktet vist med blå piler. Altså,\n",
    "\n",
    "`longest_incr(np.sin(x), np.arange(-6.0,6.0,0.1))` skal returnere `(-1.57, 1.57)`.\n",
    "<br/>\n",
    "\n",
    "Hvis det ikke fins noen strekning hvor f er stigende i det gitte intervallet, f.eks. hvis vi har samme\n",
    "funksjon men `x_values` er `np.arange(2.0, 4.0, 0.1)`, der funksjonen bare synker, skal\n",
    "`longest_incr()` returnere et tuppel med to like tall, f.eks. `(2.0, 2.0)`, siden programmet som skal\n",
    "bruke funksjonen vår, vil kunne skjønne at med to like tall i retur, fins det egentlig ikke noe\n",
    "intervall med stigning.\n",
    "\n",
    "![Alt text](15_func_as_parameter_2_image.png)\n",
    "<br/>\n",
    "\n",
    "**Implementer funksjonen `longest_incr(f, x_values)`**"
   ]
  },
  {
   "cell_type": "code",
   "execution_count": 107,
   "metadata": {},
   "outputs": [],
   "source": [
    "import numpy as np\n",
    "\n",
    "def longest_incr(f, x_values):\n",
    "    \n",
    "    prev = -np.inf\n",
    "    longest = []\n",
    "    current = []\n",
    "    \n",
    "    for x in x_values:\n",
    "        \n",
    "        fx = f(x)\n",
    "        if fx <= prev:\n",
    "            if len(current) > len(longest):\n",
    "                longest = current\n",
    "            current = []\n",
    "        else:\n",
    "            current.append(x)\n",
    "        \n",
    "        prev = fx\n",
    "        \n",
    "    if len(current) > len(longest):\n",
    "        longest = current\n",
    "        \n",
    "    return (longest[0], longest[-1])"
   ]
  },
  {
   "cell_type": "code",
   "execution_count": 108,
   "metadata": {},
   "outputs": [
    {
     "name": "stdout",
     "output_type": "stream",
     "text": [
      "(-1.500000000000016, 1.599999999999973)\n"
     ]
    },
    {
     "ename": "AssertionError",
     "evalue": "Test 3 feilet",
     "output_type": "error",
     "traceback": [
      "\u001b[0;31m---------------------------------------------------------------------------\u001b[0m",
      "\u001b[0;31mAssertionError\u001b[0m                            Traceback (most recent call last)",
      "\u001b[1;32m/Users/eriknymobohne/Documents/Kybernetikk og Robotikk/1. semester/TDT4110_Informasjonsteknologi/old_exams/eksamen_ord_2022_1/eksamen_2022_1_programmering.ipynb Cell 36\u001b[0m line \u001b[0;36m2\n\u001b[1;32m     <a href='vscode-notebook-cell:/Users/eriknymobohne/Documents/Kybernetikk%20og%20Robotikk/1.%20semester/TDT4110_Informasjonsteknologi/old_exams/eksamen_ord_2022_1/eksamen_2022_1_programmering.ipynb#X54sZmlsZQ%3D%3D?line=23'>24</a>\u001b[0m     \u001b[39mprint\u001b[39m(\u001b[39m\"\u001b[39m\u001b[39mAlle tester bestått.\u001b[39m\u001b[39m\"\u001b[39m)\n\u001b[1;32m     <a href='vscode-notebook-cell:/Users/eriknymobohne/Documents/Kybernetikk%20og%20Robotikk/1.%20semester/TDT4110_Informasjonsteknologi/old_exams/eksamen_ord_2022_1/eksamen_2022_1_programmering.ipynb#X54sZmlsZQ%3D%3D?line=25'>26</a>\u001b[0m \u001b[39m# Husk å definere funksjonen longest_incr før du kjører denne testen\u001b[39;00m\n\u001b[0;32m---> <a href='vscode-notebook-cell:/Users/eriknymobohne/Documents/Kybernetikk%20og%20Robotikk/1.%20semester/TDT4110_Informasjonsteknologi/old_exams/eksamen_ord_2022_1/eksamen_2022_1_programmering.ipynb#X54sZmlsZQ%3D%3D?line=26'>27</a>\u001b[0m test_longest_incr()\n",
      "\u001b[1;32m/Users/eriknymobohne/Documents/Kybernetikk og Robotikk/1. semester/TDT4110_Informasjonsteknologi/old_exams/eksamen_ord_2022_1/eksamen_2022_1_programmering.ipynb Cell 36\u001b[0m line \u001b[0;36m2\n\u001b[1;32m     <a href='vscode-notebook-cell:/Users/eriknymobohne/Documents/Kybernetikk%20og%20Robotikk/1.%20semester/TDT4110_Informasjonsteknologi/old_exams/eksamen_ord_2022_1/eksamen_2022_1_programmering.ipynb#X54sZmlsZQ%3D%3D?line=19'>20</a>\u001b[0m interval \u001b[39m=\u001b[39m longest_incr(custom_function, x_values)\n\u001b[1;32m     <a href='vscode-notebook-cell:/Users/eriknymobohne/Documents/Kybernetikk%20og%20Robotikk/1.%20semester/TDT4110_Informasjonsteknologi/old_exams/eksamen_ord_2022_1/eksamen_2022_1_programmering.ipynb#X54sZmlsZQ%3D%3D?line=20'>21</a>\u001b[0m \u001b[39m# Forventer at det lengste stigende intervallet er fra -π til 0\u001b[39;00m\n\u001b[0;32m---> <a href='vscode-notebook-cell:/Users/eriknymobohne/Documents/Kybernetikk%20og%20Robotikk/1.%20semester/TDT4110_Informasjonsteknologi/old_exams/eksamen_ord_2022_1/eksamen_2022_1_programmering.ipynb#X54sZmlsZQ%3D%3D?line=21'>22</a>\u001b[0m \u001b[39massert\u001b[39;00m np\u001b[39m.\u001b[39misclose(interval[\u001b[39m0\u001b[39m], \u001b[39m-\u001b[39mnp\u001b[39m.\u001b[39mpi, atol\u001b[39m=\u001b[39m\u001b[39m0.1\u001b[39m) \u001b[39mand\u001b[39;00m np\u001b[39m.\u001b[39misclose(interval[\u001b[39m1\u001b[39m], \u001b[39m0\u001b[39m, atol\u001b[39m=\u001b[39m\u001b[39m0.1\u001b[39m), \u001b[39m\"\u001b[39m\u001b[39mTest 3 feilet\u001b[39m\u001b[39m\"\u001b[39m\n\u001b[1;32m     <a href='vscode-notebook-cell:/Users/eriknymobohne/Documents/Kybernetikk%20og%20Robotikk/1.%20semester/TDT4110_Informasjonsteknologi/old_exams/eksamen_ord_2022_1/eksamen_2022_1_programmering.ipynb#X54sZmlsZQ%3D%3D?line=23'>24</a>\u001b[0m \u001b[39mprint\u001b[39m(\u001b[39m\"\u001b[39m\u001b[39mAlle tester bestått.\u001b[39m\u001b[39m\"\u001b[39m)\n",
      "\u001b[0;31mAssertionError\u001b[0m: Test 3 feilet"
     ]
    }
   ],
   "source": [
    "import numpy as np\n",
    "\n",
    "def test_longest_incr():\n",
    "    # Test 1: np.sin, forventet å finne intervallet rundt -π/2 til π/2\n",
    "    x_values = np.arange(-6.0, 6.0, 0.1)\n",
    "    interval = longest_incr(np.sin, x_values)\n",
    "    print(interval)\n",
    "    assert np.isclose(interval[0], -np.pi/2, atol=0.1) and np.isclose(interval[1], np.pi/2, atol=0.1), \"Test 1 feilet\"\n",
    "\n",
    "    # Test 2: Konstant funksjon, forventer et intervall med like tall\n",
    "    constant_function = lambda x: 5\n",
    "    x_values = np.arange(0, 10, 0.1)\n",
    "    interval = longest_incr(constant_function, x_values)\n",
    "    assert interval[0] == interval[1], \"Test 2 feilet\"\n",
    "\n",
    "    # Test 3: Flere stigende intervaller\n",
    "    # Definer en funksjon som har flere stigende intervaller\n",
    "    custom_function = lambda x: np.sin(x) if x < 0 else -np.sin(x)\n",
    "    x_values = np.arange(-6.0, 6.0, 0.1)\n",
    "    interval = longest_incr(custom_function, x_values)\n",
    "    # Forventer at det lengste stigende intervallet er fra -π til 0\n",
    "    assert np.isclose(interval[0], -np.pi, atol=0.1) and np.isclose(interval[1], 0, atol=0.1), \"Test 3 feilet\"\n",
    "\n",
    "    print(\"Alle tester bestått.\")\n",
    "\n",
    "# Husk å definere funksjonen longest_incr før du kjører denne testen\n",
    "test_longest_incr()\n"
   ]
  },
  {
   "cell_type": "markdown",
   "metadata": {},
   "source": [
    "# 17 Export (5%)\n",
    "\n",
    "Landet Y har følgende avgiftssystem for eksport av diamanter:\n",
    "- inntil 10 gram diamanter: ingen avgift\n",
    "- fra 10 inntil 100 gram: 2000 (i lokal valuta) per gram\n",
    "- fra 100 inntil 500 gram: 3000 per gram\n",
    "- fra 500 inntil 1000 gram: 4000 per gram\n",
    "- fra 1000 inntil 5000 gram: 6000 per gram\n",
    "- over 5000 gram: 8000 per gram\n",
    "\n",
    "Merk at hver sats gjelder kun for grammene i det aktuelle intervallet, dvs. om man eksporterer\n",
    "150 gram, er de første 10 grammene fortsatt avgiftsfrie, deretter 2000 per gram for de neste 90\n",
    "grammene, og 3000 per gram for de siste 50 grammene.\n",
    "<br/>\n",
    "\n",
    "**Lag funksjonen `export_fee(wt)` som får inn én parameter (gramvekt diamanter) og returnerer avgiften som skal betales.**"
   ]
  },
  {
   "cell_type": "code",
   "execution_count": 125,
   "metadata": {},
   "outputs": [],
   "source": [
    "def export_fee(wt):\n",
    "    \n",
    "    price = 0\n",
    "    \n",
    "    # If weight is 10g or less\n",
    "    if wt <= 10:\n",
    "        return price\n",
    "    \n",
    "    # Check for next price range\n",
    "    if wt <= 100:\n",
    "        price += (wt - 10)*2000\n",
    "        return price\n",
    "    else:\n",
    "        price += 90*2000\n",
    "        \n",
    "    # Check for next price range\n",
    "    if wt <= 500:\n",
    "        price += (wt - 100)*3000\n",
    "        return price\n",
    "    else:\n",
    "        price += 400*3000\n",
    "        \n",
    "    # Check for next price range\n",
    "    if wt <= 1000:\n",
    "        price += (wt - 500)*4000\n",
    "        return price\n",
    "    else:\n",
    "        price += 500*4000\n",
    "        \n",
    "    # Check for next price range\n",
    "    if wt <= 5000:\n",
    "        price += (wt - 1000)*6000\n",
    "        return price\n",
    "    else:\n",
    "        price += 4000*6000\n",
    "        \n",
    "    # The rest will cost 8000 pr/g\n",
    "    price += (wt - 5000)*8000   \n",
    "    \n",
    "    return price"
   ]
  },
  {
   "cell_type": "code",
   "execution_count": 126,
   "metadata": {},
   "outputs": [
    {
     "name": "stdout",
     "output_type": "stream",
     "text": [
      "Alle tester bestått.\n"
     ]
    }
   ],
   "source": [
    "def test_export_fee():\n",
    "    test_cases = [\n",
    "        {\"weight\": 5, \"expected_fee\": 0},  # Ingen avgift for vekt under 10 gram\n",
    "        {\"weight\": 10, \"expected_fee\": 0},  # Grensen for første avgiftstrinn\n",
    "        {\"weight\": 50, \"expected_fee\": 80000},  # 40 gram * 2000 per gram\n",
    "        {\"weight\": 150, \"expected_fee\": 330000},  # 90 gram * 2000 + 50 gram * 3000\n",
    "        {\"weight\": 600, \"expected_fee\": 1780000},  # 90 gram * 2000 + 400 gram * 3000 + 100 gram * 4000\n",
    "        {\"weight\": 1200, \"expected_fee\": 4580000},  # 90 gram * 2000 + 400 gram * 3000 + 500 gram * 4000 + 200 gram * 6000\n",
    "        {\"weight\": 6000, \"expected_fee\": 35380000},  # 90 gram * 2000 + 400 gram * 3000 + 500 gram * 4000 + 5000 gram * 6000\n",
    "        {\"weight\": 7000, \"expected_fee\": 43380000},  # 90 gram * 2000 + 400 gram * 3000 + 500 gram * 4000 + 5000 gram * 6000 + 1000 gram * 8000\n",
    "    ]\n",
    "\n",
    "    for i, test in enumerate(test_cases, 1):\n",
    "        actual_fee = export_fee(test[\"weight\"])\n",
    "        assert actual_fee == test[\"expected_fee\"], f\"Test {i} feilet: Forventet avgift {test['expected_fee']}, fikk {actual_fee}\"\n",
    "\n",
    "    print(\"Alle tester bestått.\")\n",
    "\n",
    "test_export_fee()\n"
   ]
  },
  {
   "cell_type": "markdown",
   "metadata": {},
   "source": [
    "# 18 `local_min` (12%)\n",
    "\n",
    "Funksjonen `count_local_min(A)` skal få inn et todimensjonalt numpy array med flyttall som\n",
    "parameter, og skal returnere et heltall som er antall lokale minima i dette arrayet. Et lokalt\n",
    "minimum er i denne sammenhengen definert som et element i arrayet som er mindre eller lik alle\n",
    "umiddelbart nærliggende element, både over, under, sidelengs og diagonalt. Som eksempel, hvis\n",
    "arrayet som gis inn til funksjonen er `A` som vist i figuren, så skal funksjonen returnere tallet\n",
    "3 fordi det er tre lokale minima:\n",
    "- 1.4 : <= de umiddelbart nærliggende tallene 1.7, 2.6, 3.8, 3.4, 1.8\n",
    "- 0.9 : <= 3.8, 3.4, 3.8, 4.6, 5.4, 6.2, 6.6, 7.3\n",
    "- 5.2 : <= 6.2, 6.6, 7.3, 7.8, 8.6\n",
    "\n",
    "![Alt text](./img/18_local_min.png)\n",
    "<br/>\n",
    "\n",
    "**Implementer funksjonen `count_local_min(A)`**"
   ]
  },
  {
   "cell_type": "code",
   "execution_count": 149,
   "metadata": {},
   "outputs": [],
   "source": [
    "import numpy as np\n",
    "\n",
    "def find_neighbors(i, j, rows, cols):\n",
    "    \n",
    "    neighbors = []\n",
    "    \n",
    "    for n in [-1, 0, 1]:\n",
    "        for k in [-1, 0, 1]:\n",
    "            if i + n >= 0 and i + n < rows and j + k >= 0 and j + k < cols:\n",
    "                if not (n == 0 and k == 0):\n",
    "                    neighbors.append((n, k))\n",
    "             \n",
    "    return neighbors\n",
    "\n",
    "def count_local_min(A):\n",
    "    \n",
    "    rows, cols = A.shape\n",
    "    local_mins = 0\n",
    "    \n",
    "    for i in range(len(A)):\n",
    "        for j in range(len(A[i])):\n",
    "            \n",
    "            # Find all neighbors\n",
    "            neighbors = find_neighbors(i, j, rows, cols)\n",
    "            \n",
    "            if all(A[i, j] <= A[ni, nj] for ni, nj in neighbors):\n",
    "                local_mins += 1\n",
    "                \n",
    "    return local_mins"
   ]
  },
  {
   "cell_type": "code",
   "execution_count": 150,
   "metadata": {},
   "outputs": [
    {
     "name": "stdout",
     "output_type": "stream",
     "text": [
      "3\n"
     ]
    }
   ],
   "source": [
    "A = np.array([[1.7, 1.4, 1.8, 2.2],\n",
    "              [2.6, 3.8, 3.4, 3.8],\n",
    "              [4.2, 4.6, 0.9, 5.4],\n",
    "              [5.8, 6.2, 6.6, 7.3],\n",
    "              [9.9, 7.8, 5.2, 8.6]])\n",
    "print(count_local_min(A))"
   ]
  }
 ],
 "metadata": {
  "kernelspec": {
   "display_name": "venv",
   "language": "python",
   "name": "python3"
  },
  "language_info": {
   "codemirror_mode": {
    "name": "ipython",
    "version": 3
   },
   "file_extension": ".py",
   "mimetype": "text/x-python",
   "name": "python",
   "nbconvert_exporter": "python",
   "pygments_lexer": "ipython3",
   "version": "3.10.13"
  },
  "orig_nbformat": 4
 },
 "nbformat": 4,
 "nbformat_minor": 2
}
