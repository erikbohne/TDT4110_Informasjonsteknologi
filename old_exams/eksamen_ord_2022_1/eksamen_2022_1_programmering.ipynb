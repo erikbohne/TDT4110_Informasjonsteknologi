{
 "cells": [
  {
   "cell_type": "markdown",
   "metadata": {},
   "source": [
    "### Kopi av forside\n",
    "**Institutt for Datateknologi og Informatikk**\n",
    "\n",
    "**Eksamensoppgave i TDT4110 Informasjonsteknologi Grunnkurs**\n",
    "\n",
    "**Eksamensdato**: 8. desember 2022\n",
    "\n",
    "**Eksamenstid (fra-til)**: 09:00-13:00\n",
    "\n",
    "**Hjelpemiddelkode/Tillatte hjelpemidler: D**\n",
    "Ingen trykte eller håndskrevne hjelpemidler tillatt. Bestemt, enkel kalkulator tillatt.\n",
    "\n",
    "Faglig kontakt under eksamen: Dag Olav Kjellemo, Guttorm Sindre\n",
    "    Tlf.: 47681639\n",
    "    Tlf.: 94430245\n",
    "\n",
    "**Faglig kontakt møter i eksamenslokalet**: NEI\n",
    "\n",
    "<br />\n",
    "\n",
    "**ANNEN INFORMASJON:**\n",
    "\n",
    "**Skaff deg overblikk over oppgavesettet** før du begynner på besvarelsen din.\n",
    "\n",
    "**Les oppgavene nøye**, gjør dine egne antagelser og presiser i besvarelsen hvilke forutsetninger du\n",
    "har lagt til grunn i tolkning/avgrensing av oppgaven. Faglig kontaktperson skal kun kontaktes\n",
    "dersom det er direkte feil eller mangler i oppgavesettet. Henvend deg til en eksamensvakt hvis du\n",
    "ønsker å kontakte faglærer. Noter gjerne spørsmålet ditt på forhånd.\n",
    "\n",
    "**Vekting av oppgavene**: Vekting i prosent er angitt for hver deloppgave.\n",
    "\n",
    "**Varslinger**: Hvis det oppstår behov for å gi beskjeder til kandidatene underveis i eksamen (f.eks.\n",
    "ved feil i oppgavesettet), vil dette bli gjort via varslinger i Inspera. Et varsel vil dukke opp som en\n",
    "dialogboks på skjermen. Du kan finne igjen varselet ved å klikke på bjella øverst til høyre.\n",
    "\n",
    "**Trekk fra/avbrutt eksamen**: Blir du syk under eksamen, eller av andre grunner ønsker å levere\n",
    "blankt/avbryte eksamen, gå til “hamburgermenyen” i øvre høyre hjørne og velg «Lever blankt».\n",
    "Dette kan ikke angres selv om prøven fremdeles er åpen.\n",
    "\n",
    "**Tilgang til besvarelse**: Etter eksamen finner du besvarelsen din i arkivet i Inspera. Merk at det\n",
    "kan ta én virkedag før eventuelle håndtegninger vil være tilgjengelige i arkivet."
   ]
  },
  {
   "cell_type": "markdown",
   "metadata": {},
   "source": [
    "## **Merk**\n",
    "\n",
    "- Flervalgsoppgavene for eksamen H22 er ekskludert fra denne notebooken. For å se disse, gå til PDFen på Blackboard\n",
    "- Noen av kodeoppgavene var originalt oppgaver som gikk ut på å dra kodeblokker til riktig steg. Det vil være litt vanskeligere å implementere disse funksjonene fra bunn, som det er lagt opp til i denne notebooken, men det er god trening."
   ]
  },
  {
   "cell_type": "markdown",
   "metadata": {},
   "source": [
    "# 6 `sum_except` (6%)"
   ]
  },
  {
   "cell_type": "markdown",
   "metadata": {},
   "source": [
    "Funksjonen `sum_except(numlist, n)` skal få inn ei liste med heltall (`numlist`) og et heltall `n`. Den\n",
    "skal returnere summen av tallene i lista, unntatt eventuelle forekomster av tallet `n`.\n",
    "Eksempel på kjøring:\n",
    "\n",
    "\\>\\>\\> `sum_except([3, 4, 3, 7 ], 3)`\n",
    "`11`\n",
    "Dette kallet returnerer 11 fordi de to 3-tallene i lista ikke blir med i summen, slik at resultatet blir\n",
    "4+7.\n",
    "\n",
    "<br/>\n",
    "\n",
    "**Skriv koden for funksjonen `sum_except()`**\n"
   ]
  },
  {
   "cell_type": "code",
   "execution_count": null,
   "metadata": {},
   "outputs": [],
   "source": [
    "# Skriv kode her"
   ]
  },
  {
   "cell_type": "markdown",
   "metadata": {},
   "source": [
    "# 7 Fotball (7%)\n",
    "\n",
    "Regler for størrelse på fotballbaner er som følger:\n",
    "- lengde må være mellom 90 og 120 meter\n",
    "- bredde må være mellom 45 og 90 meter\n",
    "\n",
    "Hvis banen skal brukes i internasjonale kamper, er kravene mer restriktive:\n",
    "- lengde 100-110 meter\n",
    "- bredde 64-75 meter\n",
    "\n",
    "Lag funksjonen `ok_size(length, width, intl)` hvor de to første parametrene er henholdsvis lengde\n",
    "og bredde (flyttall), og den siste parameteren er `True` hvis kampen er internasjonal, ellers `False`.\n",
    "Funksjonen skal returnere `True` hvis banens størrelse er akseptabel, ellers `False`. En størrelse\n",
    "som er akkurat på grensa vil være ok (f.eks. lengde 90.0 meter) men såvidt utenfor grensa er ikke\n",
    "ok (f.eks. lengde 89.99 meter er uakseptabelt).\n",
    "\n",
    "<br/>\n",
    "\n",
    "**Skriv koden for funksjonen `ok_size()`**"
   ]
  },
  {
   "cell_type": "code",
   "execution_count": null,
   "metadata": {},
   "outputs": [],
   "source": [
    "# Skriv kode her"
   ]
  },
  {
   "cell_type": "markdown",
   "metadata": {},
   "source": [
    "# 8 `car_club` (5%)\n",
    "\n",
    "En klubb med bilentusiaster holder spesielt rede på hvilke sjeldne bilmerker medlemmene har\n",
    "kjørt. Medlemmene sine bilmerker er registrert i hver sin mengde-variabel (set). Vi ønsker å lage\n",
    "fire funksjoner:\n",
    "- a_and_b(A, B) skal returnere mengden av bilmerker som både medlem A og medlem B\n",
    "har kjørt\n",
    "- a_butnot_B(A, B) skal derimot returnere mengden av bilmerker som A har kjørt, men\n",
    "B ikke har kjørt\n",
    "- common_cars(car_geeks) skal returnere mengden av bilmerker som har det felles at hvert\n",
    "eneste medlem i klubben har kjørt dem\n",
    "- all_cars(car_geeks) skal returnere mengden av bilmerker som har vært kjørt av minst ett\n",
    "klubbmedlem\n",
    "\n",
    "Eksempel på kjøring er vist med testkode i den grå boksen og mengdene som blir returnert like\n",
    "under den grå boksen.\n",
    "\n",
    "![Alt text](8_car_club_image.png)\n",
    "\n",
    "<br/>\n",
    "\n",
    "**Fullfør den påbegynte koden** (erstatt '...')"
   ]
  },
  {
   "cell_type": "code",
   "execution_count": null,
   "metadata": {},
   "outputs": [],
   "source": [
    "def a_and_b(A, B):\n",
    "    result = ...\n",
    "    return result\n",
    "\n",
    "def a_butnot_b(A, B):\n",
    "    result = ...\n",
    "    return result\n",
    "\n",
    "def common_cars(car_geeks):\n",
    "    result = ...\n",
    "    ... # Løkke her\n",
    "        result = ...\n",
    "    return result\n",
    "\n",
    "def all_cars(car_geeks):\n",
    "    result = ...\n",
    "    ... # Løkke her\n",
    "        result = ...\n",
    "    return result"
   ]
  },
  {
   "cell_type": "markdown",
   "metadata": {},
   "source": [
    "# 9 Flip (5%)\n",
    "\n",
    "Vi er gitt en liste med lister (dvs. 2d liste). De indre listene består av heltall. Vi ønsker å lage en\n",
    "tilsvarende 2d liste hvor en del av verdiene er endret fra x til m-x.\n",
    "\n",
    "Vi skal lage to funksjoner for dette:\n",
    "\n",
    "`flip_values(L, m)` og `values_flipped(L, m)`\n",
    "\n",
    "I begge tilfeller er input en liste L bestående av lister av heltall, og en verdi m.\n",
    "\n",
    "Listene i L med partalls-indeks (dvs. L[0], L[2], osv.) skal **ikke** endres.\n",
    "\n",
    "Listene i L med oddetalls-indeks (dvs. L[1], L[3] osv.) skal endres slik at hver verdi x erstattes\n",
    "med m - x.\n",
    "\n",
    "<br/>\n",
    "\n",
    "`flip_values` skal mutere L og listene i L, dvs. endre selve den originale 2d-lista.\n",
    "\n",
    "<br/>\n",
    "\n",
    "`values_flipped` skal lage ei ny 2d-liste hvor tallene er endret, men uten å endre den originale.\n",
    "\n",
    "<br/>\n",
    "\n",
    "**Eksempel på kjøring**:\n",
    "\n",
    "`L = [ [1,2,3,4,5,6,6], [1,2,3,3,5,4,7], [7,1,3]]`\n",
    "\n",
    "`print(values_flipped(L,8)) # prints a modified copy of the list`\n",
    "\n",
    "`print(L) # prints the original list`\n",
    "\n",
    "`flip_values(L,8) # mutates the original list`\n",
    "\n",
    "`print(L) # prints mutated original list`\n",
    "\n",
    "<br/>\n",
    "\n",
    "\n",
    "**Gjør at følgende printes**:\n",
    "\n",
    "`[[1, 2, 3, 4, 5, 6, 6], [7, 6, 5, 5, 3, 4, 1], [7, 1, 3]]`\n",
    "\n",
    "`[[1, 2, 3, 4, 5, 6, 6], [1, 2, 3, 3, 5, 4, 7], [7, 1, 3]]`\n",
    "\n",
    "`[[1, 2, 3, 4, 5, 6, 6], [7, 6, 5, 5, 3, 4, 1], [7, 1, 3]]`\n",
    "\n",
    "Som vi ser er midterste indre liste (som har oddetallsindeks [1]) blitt endret i første og tredje print,\n",
    "men ikke i andre print, hvor det er den originale lista vi printer før den muteres.\n",
    "\n",
    "<br/>\n",
    "\n",
    "**Implementer funksjonene  `flip_values` og `values_flipped`**"
   ]
  },
  {
   "cell_type": "code",
   "execution_count": null,
   "metadata": {},
   "outputs": [],
   "source": [
    "# Skriv kode her"
   ]
  },
  {
   "cell_type": "markdown",
   "metadata": {},
   "source": [
    "# 10 `chg_file` (5%)\n",
    "\n",
    "Vi har ei tekstfil med tall over flere linjer, innad i hver linje adskilt med mellomrom. Fila har like\n",
    "mange tall på hver linje, og kan inneholde både positive og negative tall. Vi ønsker å lage en\n",
    "funksjon som får inn filnavn som parameter og skal endre fila på følgende måte:\n",
    "- alle tall som er mindre enn 100 i absoluttverdi skal være positive\n",
    "- alle tall større eller lik 100 i absoluttverdi, skal være negative\n",
    "\n",
    "<br/>\n",
    "\n",
    "For øvrig skal filas innhold være som før. Eksempel på kjøring, hvis fila tall.txt har innhold:\n",
    "\n",
    "`101.2 93.4 213.9 -23.5 -2.0`\n",
    "\n",
    "`22.5 -100.7 -3.2 55.5 -101.5`\n",
    "\n",
    "så skal kjøring av change_file('tall.txt') gjøre at fila etter kjøring har innhold:\n",
    "\n",
    "`-101.2 93.4 -213.9 23.5 2.0`\n",
    "\n",
    "`22.5 -100.7 3.2 55.5 - 101.5`\n",
    "\n",
    "<br/>\n",
    "\n",
    "**Implementer funksjonen `change_file`**"
   ]
  },
  {
   "cell_type": "code",
   "execution_count": null,
   "metadata": {},
   "outputs": [],
   "source": [
    "import numpy as np\n",
    "\n",
    "# Skriv kode her"
   ]
  },
  {
   "cell_type": "markdown",
   "metadata": {},
   "source": [
    "# 11 `same_numbers` (6%)\n",
    "\n",
    "Funksjonen same_numbers_row_col(M, order) får inn to parametre:\n",
    "- et numpy array M\n",
    "- order, som er True eller False\n",
    "\n",
    "Funksjonen skal returnere indekspar [rad, kolonne] for tilfeller hvor det er slik at ei rad og ei\n",
    "kolonne i arrayet inneholder de samme tallene. Hvis order er True, skal det bare returneres\n",
    "indekspar hvor tallene står i eksakt samme rekkefølge. Med order False kan tallene også stå i\n",
    "annen rekkefølge.\n",
    "\n",
    "<br/>\n",
    "\n",
    "**Eksempel på kjøring**:\n",
    "\n",
    "![Alt text](11_same_numbers_image.png)\n",
    "\n",
    "<br/>\n",
    "\n",
    "Som eksemplet viser:\n",
    "- Hvis `order` er `True` (første linje i resultat), returneres kun indeksparet `[0,3]` siden både rad\n",
    "`[0]` og kolonne `[3]` i arrayet `T` har akkurat tallsekvensen `1.0, 2.0, 3.5, 1.0`\n",
    "- Hvis `order` er `False` (andre linje i resultat) returnes dessuten `[0,1]` siden kolonne `[1]` også\n",
    "har de fire samme tallene, men i en annen rekkefølge `2.0, 1.0, 1.0, 3.5`\n",
    "\n",
    "<br/>\n",
    "\n",
    "**Fullfør den påbegynte koden** (erstatt '...') **eller**\n",
    "\n",
    "**implementer funksjonen fra bunn dersom du syns det er enklere**"
   ]
  },
  {
   "cell_type": "code",
   "execution_count": null,
   "metadata": {},
   "outputs": [],
   "source": [
    "def same_numbers_row_col(M, order):\n",
    "    result = []\n",
    "    for i in range(len(...)):\n",
    "        for j in range(len(...)):\n",
    "            if list(M[...]) == list(M[..., j]) ... not ... sorted(list(M[i])) ... (list(M[..., j])):\n",
    "                ...\n",
    "    return result"
   ]
  },
  {
   "cell_type": "markdown",
   "metadata": {},
   "source": [
    "# 12 `plot` (5%)\n",
    "\n",
    "Koden vår skal plotte de tre grafene som er vist her. For at oppgaven ikke skal bli en\n",
    "matematikk-test, har vi satt på navn som viser hvilken graf som tilhører hvilken funksjon, selv\n",
    "om generering av disse navnene ikke er med i koden.\n",
    "\n",
    "![Alt text](12_plot_image.png)\n",
    "\n",
    "<br/>\n",
    "\n",
    "**Oppgave: Fullfør koden under slik at den likner på plottet i bildet**"
   ]
  },
  {
   "cell_type": "code",
   "execution_count": null,
   "metadata": {},
   "outputs": [],
   "source": [
    "import numpy as np\n",
    "import matplotlib.pyplot as plt\n",
    "\n",
    "def f(x):\n",
    "    return 0.125*x**3 - 0.25*x**2 - 2*x + 1\n",
    "\n",
    "def g(x):\n",
    "    return 2*np.sqrt(np.abs(x))\n",
    "\n",
    "def h(x):\n",
    "    return 3*np.sin(2*x)+ x\n",
    "\n",
    "# Skriv kode her"
   ]
  },
  {
   "cell_type": "markdown",
   "metadata": {},
   "source": [
    "# 13 Card value (4%)\n",
    "\n",
    "Vi ønsker å lage en funksjon `card_val(card)` som får inn en streng som representerer et spillkort\n",
    "og returnerer kortets tallverdi. Eksempel på strenger er '♥3', '♠4', '♣10', '♣Q', '♦A', dvs. første\n",
    "tegn i strengen er alltid et symbol for kortets farge (♥/♠/♣/♦), øvrige 1-2 tegn (2 tegn i tilfelle tallet\n",
    "er 10) representerer tallverdien. Bokstavene J, Q, K, A teller som 11, 12, 13, 14.\n",
    "<br/>\n",
    "\n",
    "**Eksempel på kjøring**:\n",
    "`print(f\"{card_val('♣10')} {card_val('♥3')} {card_val('♣Q')} {card_val('♦A')}\" )`\n",
    "gir utskriften\n",
    "`10 3 12 14`\n",
    "<br/>\n",
    "\n",
    "**Fullfør den påbegynte koden** (erstatt '...') "
   ]
  },
  {
   "cell_type": "code",
   "execution_count": null,
   "metadata": {},
   "outputs": [],
   "source": [
    "def card_val(card):\n",
    "    special = {'J': 11, 'Q': 12, 'K': 13, 'A': 14}\n",
    "    if card[...] ... special:\n",
    "        return special[card[...]]\n",
    "    else:\n",
    "        return ...(card[...])"
   ]
  },
  {
   "cell_type": "markdown",
   "metadata": {},
   "source": [
    "# 14 Straight flush (6%)\n",
    "\n",
    "I en del kortspill betyr \"**straight**\" at man har fem kort i løpende tallrekkefølge, f.eks. 2, 3, 4, 5, 6\n",
    "eller 5, 6, 7, 8, 9 eller 10, J, K, Q, A hvor de fire sistnevnte teller som 11, 12, 13, 14. A kan også\n",
    "telle som 1, så A, 2, 3, 4, 5 vil også være en straight. Kortene trenger ikke å være i samme farge,\n",
    "så f.eks. vil de fem kortene i lista `['♥3', '♥5', '♠4', '♠7', '♦6']` utgjøre en straight. `['♥3', '♥5', '♠4', '♠7',\n",
    "'♦8']` vil derimot ikke være en straight, fordi man hopper over tallet 6.\n",
    "\n",
    "En \"**flush**\" er derimot at alle kortene er av samme farge, f.eks. at man har fem ruter eller fem\n",
    "spar. `['♠K', '♠J', '♠4', '♠7', '♠2']` vil dermed være en flush (kun ♠), mens `['♠K', '♠J', '♠4', '♠7', '♦2']`\n",
    "ikke er det (fire ♠, men en ♦).\n",
    "\n",
    "I denne oppgaven skal vi lage to funksjoner, `straight()` og `flush()`. Hver funksjon skal kunne få inn\n",
    "ei liste med fem kort som parameter, og returnere True (hvis man har hhv. straight eller flush)\n",
    "eller False (hvis man ikke har det). Funksjonen `card_val()` fra forrige deloppgave benyttes i\n",
    "funksjonen `straight()` for å finne kortets tallverdi.\n",
    "<br/>\n",
    "\n",
    "**Fullfør den påbegynte koden ved å velge ett alternativ i '<>'**"
   ]
  },
  {
   "cell_type": "code",
   "execution_count": null,
   "metadata": {},
   "outputs": [],
   "source": [
    "def straight(cards):\n",
    "    numbers = <len(cards), [], int(cards)>\n",
    "    for c in <range(len(cards)-1), cards, range(len(cards))>:\n",
    "        numbers.append(card_val(c))\n",
    "    \n",
    "    m = <min, len, max>(numbers)\n",
    "\n",
    "s = <set, tuple, sorted>(numbers)\n",
    "\n",
    "return (s == <len(range(m, m+5)), list(range(m, m+1)), set(range(m, m+5))> <and, or, !=> s == {2, 3, 4, 5, <6, 1, 14>})\n",
    "\n",
    "\n",
    "def flush(cards):\n",
    "    kinds = []\n",
    "    for c in cards:\n",
    "        kinds.append(<c[1], c[0], c>)\n",
    "    return <min, set, len>(<list, len, set>(kinds)) == 1"
   ]
  },
  {
   "cell_type": "markdown",
   "metadata": {},
   "source": [
    "# 15 func as parameter, del 1 (6%)\n",
    "\n",
    "Vi ønsker å lage en funksjon `strict_incr(f, x_values)` for å teste om en annen funksjon f (som\n",
    "kommer inn som parameter) er strengt stigende over et array av x-verdier x_values. Hvis f er\n",
    "strengt stigende, skal det returneres `True`, ellers `False`.\n",
    "<br/>\n",
    "\n",
    "Eksempel: Anta at funksjonen som gis inn som parameter er `f(x), x**2 + 2*x + 1` som vist i\n",
    "plottet. Hvis den andre parameteren `x_values` er et array med tallene `-2.0, -1.9, ..., 0.0`, skal\n",
    "`strict_incr(f, x_values)` returnere `False`, siden funksjonen først synker fra `-2.0` til `-1.0` og deretter\n",
    "begynner å stige. Hvis derimot `x_values` har tallserien `-0.9, -0.8, ..., 0.5`, skal funksjonen\n",
    "returnere `True` fordi funksjonen hele tiden stiger over dette intervallet, dvs. `f(x)` for hver nye xverdi\n",
    "er større enn den forrige `f(x)`-verdien. Merk at strengt stigende betyr at hver nye verdi må\n",
    "være større, det er ikke nok at den er lik.\n",
    "\n",
    "![Alt text](15_func_as_parameter_1_image.png)\n",
    "<br/>\n",
    "\n",
    "**Implementer funksjonen `strict_incr(f, x_values)`**"
   ]
  },
  {
   "cell_type": "code",
   "execution_count": null,
   "metadata": {},
   "outputs": [],
   "source": [
    "# Skriv kode her"
   ]
  },
  {
   "cell_type": "markdown",
   "metadata": {},
   "source": [
    "# 16 func as parameter, del 2 (6%)\n",
    "\n",
    "Vi ønsker nå en funksjon `longest_incr(f, x_values)` som skal finne det lengste intervallet hvor en\n",
    "funksjon f er strengt stigende innenfor serien av x-verdier i arrayet `x_values`. Som et eksempel,\n",
    "anta at funksjonen som gis inn for parameter f er `np.sin(x)` som vist i plottet under, og at\n",
    "`x_values` er `np.arange(-6.0, 6.0, 0.01)`. Funksjonen skal da finne intervallet fra x = -1.57 til x =\n",
    "1.57 siden dette er det lengste strekket hvor funksjonen er stigende her, fra bunnpunktet til\n",
    "toppunktet vist med blå piler. Altså,\n",
    "\n",
    "`longest_incr(np.sin(x), np.arange(-6.0,6.0,0.1))` skal returnere `(-1.57, 1.57)`.\n",
    "<br/>\n",
    "\n",
    "Hvis det ikke fins noen strekning hvor f er stigende i det gitte intervallet, f.eks. hvis vi har samme\n",
    "funksjon men `x_values` er `np.arange(2.0, 4.0, 0.1)`, der funksjonen bare synker, skal\n",
    "`longest_incr()` returnere et tuppel med to like tall, f.eks. `(2.0, 2.0)`, siden programmet som skal\n",
    "bruke funksjonen vår, vil kunne skjønne at med to like tall i retur, fins det egentlig ikke noe\n",
    "intervall med stigning.\n",
    "\n",
    "![Alt text](15_func_as_parameter_2_image.png)\n",
    "<br/>\n",
    "\n",
    "**Implementer funksjonen `longest_incr(f, x_values)`**"
   ]
  },
  {
   "cell_type": "code",
   "execution_count": null,
   "metadata": {},
   "outputs": [],
   "source": [
    "# Skriv kode her"
   ]
  },
  {
   "cell_type": "markdown",
   "metadata": {},
   "source": [
    "# 17 Export (5%)\n",
    "\n",
    "Landet Y har følgende avgiftssystem for eksport av diamanter:\n",
    "- inntil 10 gram diamanter: ingen avgift\n",
    "- fra 10 inntil 100 gram: 2000 (i lokal valuta) per gram\n",
    "- fra 100 inntil 500 gram: 3000 per gram\n",
    "- fra 500 inntil 1000 gram: 4000 per gram\n",
    "- fra 1000 inntil 5000 gram: 6000 per gram\n",
    "- over 5000 gram: 8000 per gram\n",
    "\n",
    "Merk at hver sats gjelder kun for grammene i det aktuelle intervallet, dvs. om man eksporterer\n",
    "150 gram, er de første 10 grammene fortsatt avgiftsfrie, deretter 2000 per gram for de neste 90\n",
    "grammene, og 3000 per gram for de siste 50 grammene.\n",
    "<br/>\n",
    "\n",
    "**Lag funksjonen `export_fee(wt)` som får inn én parameter (gramvekt diamanter) og returnerer avgiften som skal betales.**"
   ]
  },
  {
   "cell_type": "code",
   "execution_count": null,
   "metadata": {},
   "outputs": [],
   "source": [
    "# Skriv kode her"
   ]
  },
  {
   "cell_type": "markdown",
   "metadata": {},
   "source": [
    "# 18 `local_min` (12%)\n",
    "\n",
    "Funksjonen `count_local_min(A)` skal få inn et todimensjonalt numpy array med flyttall som\n",
    "parameter, og skal returnere et heltall som er antall lokale minima i dette arrayet. Et lokalt\n",
    "minimum er i denne sammenhengen definert som et element i arrayet som er mindre eller lik alle\n",
    "umiddelbart nærliggende element, både over, under, sidelengs og diagonalt. Som eksempel, hvis\n",
    "arrayet som gis inn til funksjonen er `A` som vist i figuren, så skal funksjonen returnere tallet\n",
    "3 fordi det er tre lokale minima:\n",
    "- 1.4 : <= de umiddelbart nærliggende tallene 1.7, 2.6, 3.8, 3.4, 1.8\n",
    "- 0.9 : <= 3.8, 3.4, 3.8, 4.6, 5.4, 6.2, 6.6, 7.3\n",
    "- 5.2 : <= 6.2, 6.6, 7.3, 7.8, 8.6\n",
    "\n",
    "![Alt text](18_local_min_image.png)\n",
    "<br/>\n",
    "\n",
    "**Implementer funksjonen `count_local_min(A)`**"
   ]
  }
 ],
 "metadata": {
  "language_info": {
   "name": "python"
  },
  "orig_nbformat": 4
 },
 "nbformat": 4,
 "nbformat_minor": 2
}
