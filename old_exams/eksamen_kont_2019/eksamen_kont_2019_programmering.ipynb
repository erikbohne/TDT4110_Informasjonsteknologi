{
 "cells": [
  {
   "cell_type": "markdown",
   "metadata": {
    "deletable": false,
    "editable": false,
    "run_control": {
     "frozen": true
    }
   },
   "source": [
    "# Eksamen kont 2019 Programmering\n",
    "**Merk at teori og kodeforståelse ikke er med her.**\n",
    "\n",
    "Hele eksamen ligger på BlackBoard. Her ligger også funksjoner som var vedlagt oppgaven, som kan være nyttig å bruke mens du arbeider med oppgavene under."
   ]
  },
  {
   "cell_type": "markdown",
   "metadata": {
    "deletable": false,
    "editable": false,
    "run_control": {
     "frozen": true
    }
   },
   "source": [
    "## Oppgave 3 - Programmering"
   ]
  },
  {
   "cell_type": "markdown",
   "metadata": {
    "deletable": false,
    "editable": false,
    "run_control": {
     "frozen": true
    }
   },
   "source": [
    "## Beskrivelse"
   ]
  },
  {
   "cell_type": "markdown",
   "metadata": {
    "deletable": false,
    "editable": false,
    "run_control": {
     "frozen": true
    }
   },
   "source": [
    "Bakgrunn\n",
    "\n",
    "Programmeringsoppgaven tar utgangspunkt i oppskrifter. Et sett med ingredienser til oppskrifter skal leses inn\n",
    "fra fil. Deretter skal du lage funksjoner for å finne oppskrifter med gitte ingredienser, og komme med forslag til\n",
    "en tilfeldig rett som inneholder disse.\n",
    "Et sett med navn på matretter og tilhørende ingredienser befinner seg i filen food.txt. Den har følgene struktur:\n",
    "(Det er ikke et ekstra linjeskift mellom hver rett.)\n",
    "\n",
    "Food.txt:"
   ]
  },
  {
   "cell_type": "markdown",
   "metadata": {
    "deletable": false,
    "editable": false,
    "run_control": {
     "frozen": true
    }
   },
   "source": [
    "<img src=\"img/beskrivelse.png\" width=\"700px\" align=\"left\">"
   ]
  },
  {
   "cell_type": "markdown",
   "metadata": {
    "deletable": false,
    "editable": false,
    "run_control": {
     "frozen": true
    }
   },
   "source": [
    "## Oppgave 3-1 (5%)\n",
    "\n",
    "Oppgave 3-1 Lesing fra fil: **read_file(filename):**\n",
    "\n",
    "Skriv funksjonen **_read_file(filename)_** som skal lese inn en fil, og returnere en liste. Hver linje i filen blir ett\n",
    "element i denne listen, slik som i eksempelet under:\n",
    "\n",
    "<img src=\"img/3-1_ex.png\" width=\"700px\" align=\"left\">"
   ]
  },
  {
   "cell_type": "code",
   "execution_count": 12,
   "metadata": {},
   "outputs": [],
   "source": [
    "# Skriv ditt svar her..."
   ]
  },
  {
   "cell_type": "markdown",
   "metadata": {
    "deletable": false,
    "editable": false,
    "run_control": {
     "frozen": true
    }
   },
   "source": [
    "## Oppgave 3-2 (5%)\n",
    "\n",
    "Oppgave 2 Lag et sett med ingredienser: **fix_ingredients(string)**\n",
    "\n",
    "Gitt en streng med ord atskilt av komma og mellomrom **‘, ‘**, lag funksjonen **fix_ingredients(string)** som\n",
    "returnerer en liste med alle substrenger som elementer i en liste. Funksjonen skal fungere på vilkårlige\n",
    "matvarer, som vist i eksempelet under. Legg merke til hva som skjer med mellomrom og andre ‘whitespace’-\n",
    "tegn.\n",
    "\n",
    "<img src=\"img/3-2_ex.png\" width=\"700px\" align=\"left\">"
   ]
  },
  {
   "cell_type": "code",
   "execution_count": 13,
   "metadata": {},
   "outputs": [],
   "source": [
    "# Skriv ditt svar her..."
   ]
  },
  {
   "cell_type": "markdown",
   "metadata": {
    "deletable": false,
    "editable": false,
    "run_control": {
     "frozen": true
    }
   },
   "source": [
    "## Oppgave 3-3 (5%)\n",
    "\n",
    "Oppgave 3: gjør om liste til dictionary: **make_dict(foodlist)**:\n",
    "\n",
    "Du skal nå lage en funksjon **_make_dict(foodlist)_**. Denne tar inn resultatet av oppgave 3-1, altså en liste med\n",
    "strenger. Funksjonen skal returnere en ordbok (dictionary). Nøkkelen til hvert oppslag skal være alt som står\n",
    "foran det første kolonet ‘:’ i hvert element (altså matretten det er snakk om). Innholdet bak nøkkelen skal være\n",
    "en liste som inneholder ingrediensene til hver matrett. Funksjonen skal fungere for vilkårlige matretter, og som\n",
    "vist under:\n",
    "\n",
    "<img src=\"img/3-3_ex.png\" width=\"700px\" align=\"left\">"
   ]
  },
  {
   "cell_type": "code",
   "execution_count": 14,
   "metadata": {},
   "outputs": [],
   "source": [
    "# Skriv ditt svar her..."
   ]
  },
  {
   "cell_type": "markdown",
   "metadata": {
    "deletable": false,
    "editable": false,
    "run_control": {
     "frozen": true
    }
   },
   "source": [
    "## Oppgave 3-4 (10%)\n",
    "\n",
    "Oppgave 4: Skriv oppsummering og ingredienser for én spesifikk rett: **print_recipe()**:\n",
    "\n",
    "Nå skal du bruke ordboken food_dict fra forrige oppgave. Funksjonen **_print_recipe()_** skal ta inn denne\n",
    "ordboken samt en matrett (streng), og skrive ut informasjon om hvor mange ingredienser retten inneholder og\n",
    "hva disse er. Under vises hva funksjonen har som input, og hva som skal skrives ut. Legg merke til at listen\n",
    "over ingredienser skal skrives ut på en fin måte, f.eks som vist under:\n",
    "\n",
    "<img src=\"img/3-4_ex.png\" width=\"700px\" align=\"left\">"
   ]
  },
  {
   "cell_type": "code",
   "execution_count": 15,
   "metadata": {},
   "outputs": [],
   "source": [
    "# Skriv ditt svar her..."
   ]
  },
  {
   "cell_type": "markdown",
   "metadata": {
    "deletable": false,
    "editable": false,
    "run_control": {
     "frozen": true
    }
   },
   "source": [
    "## Oppgave 3-5 (5%)\n",
    "\n",
    "Oppgave 5: Sorter retter etter ingredienser: **all_recipes_with(food)**:\n",
    "\n",
    "Nå skal du søke i den samme ordboken som i forrige oppgave. Du skal lage en ny ordbok, der nøkkelen er\n",
    "hver type ingrediens. Verdien som er knyttet til hver nøkkel er en liste som inneholder alle matrettene som\n",
    "inneholder akkurat denne ingrediensen. Funksjonen skal returnere den nye ordboken, se eksempel under:\n",
    "\n",
    "<img src=\"img/3-5_ex.png\" width=\"700px\" align=\"left\">"
   ]
  },
  {
   "cell_type": "code",
   "execution_count": 16,
   "metadata": {},
   "outputs": [],
   "source": [
    "# Skriv ditt svar her..."
   ]
  },
  {
   "cell_type": "markdown",
   "metadata": {
    "deletable": false,
    "editable": false,
    "run_control": {
     "frozen": true
    }
   },
   "source": [
    "## Oppgave 3-6 (5%)\n",
    "Oppgave 6: Velg en tilfeldig matrett med en ingrediens og skriv den ut på en fin måte\n",
    "\n",
    "Til nå har du laget to ordbøker som inneholder informasjon om matrettene i tekstfilen. Du skal nå skrive kode\n",
    "som skriver ut antall ingredienser og innholdet til en tilfeldig matrett som inneholder egg. Du har et sett med\n",
    "funksjoner laget over til å hjelpe deg med arbeidet, i tillegg til de to ordbøkene som er beskrevet i tidligere\n",
    "deloppgaver (food_dict og recipe_dishes). Du må selv lage eventuelle hjelpefunksjoner du trenger ut over\n",
    "dette, men i utgangspunket trenger du ikke lage noen nye funksjoner for å gjennomføre denne oppgaven. Du\n",
    "trenger ikke skrive at du importerer moduler dersom det er lett å forstå hva du bruker. Du skal som sagt basere\n",
    "koden din på at du skal vise innholdet til en tilfeldig rett som inneholder egg, noe teksten under baserer seg på:\n",
    "\n",
    "<img src=\"img/3-6_ex.png\" width=\"700px\" align=\"left\">"
   ]
  },
  {
   "cell_type": "code",
   "execution_count": 17,
   "metadata": {},
   "outputs": [],
   "source": [
    "# Skriv ditt svar her..."
   ]
  },
  {
   "cell_type": "markdown",
   "metadata": {
    "deletable": false,
    "editable": false,
    "run_control": {
     "frozen": true
    }
   },
   "source": [
    "## Oppgave 3-7 (5%)\n",
    "\n",
    "<img src=\"img/3-7_ex.png\" width=\"400px\" align=\"left\">"
   ]
  },
  {
   "cell_type": "markdown",
   "metadata": {
    "deletable": false,
    "editable": false,
    "run_control": {
     "frozen": true
    }
   },
   "source": [
    "Oppgave 7: Beregn bokstavverdien til en matrett: **value_food(food)**:\n",
    "Gitt at vokaler (aeiouyæøå) har verdien 5, og konsonanter har verdien 1.\n",
    "\n",
    "Skriv funksjonen **_value_food(dict)_**. Denne skal ta inn en ordbok med matretter slik som food_dict (forklart i\n",
    "oppgave 3-3 / 10). Den skal skrive ut den matretten som har ingredienser med totalt sett høyest bokstavverdi,\n",
    "og verdien av denne matretten.\n",
    "\n",
    "NB: Du må gjerne lage ekstra funksjoner som kan hjelpe deg på veien, alt må ikke gjøres spesifikt i\n",
    "value_food."
   ]
  },
  {
   "cell_type": "code",
   "execution_count": 18,
   "metadata": {},
   "outputs": [],
   "source": [
    "# Skriv ditt svar her..."
   ]
  }
 ],
 "metadata": {
  "kernelspec": {
   "display_name": "Python 3",
   "language": "python",
   "name": "python3"
  },
  "language_info": {
   "codemirror_mode": {
    "name": "ipython",
    "version": 3
   },
   "file_extension": ".py",
   "mimetype": "text/x-python",
   "name": "python",
   "nbconvert_exporter": "python",
   "pygments_lexer": "ipython3",
   "version": "3.7.6"
  }
 },
 "nbformat": 4,
 "nbformat_minor": 2
}
