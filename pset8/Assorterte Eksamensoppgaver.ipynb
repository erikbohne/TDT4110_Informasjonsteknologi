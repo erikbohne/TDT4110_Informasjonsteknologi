{
 "cells": [
  {
   "cell_type": "markdown",
   "metadata": {
    "deletable": false,
    "editable": false,
    "run_control": {
     "frozen": true
    }
   },
   "source": [
    " <nav class=\"navbar navbar-default\">\n",
    "  <div class=\"container-fluid\">\n",
    "    <div class=\"navbar-header\">\n",
    "      <a class=\"navbar-brand\" href=\"_Oving8.ipynb\">Øving 8</a>\n",
    "    </div>\n",
    "    <ul class=\"nav navbar-nav\">\n",
    "    <li ><a href=\"Matplotlib.ipynb\">Matplotlib</a></li>\n",
    "    <li ><a href=\"Assorterte%20Eksamensoppgaver.ipynb\">Assorterte Eksamensoppgaver</a></li>\n",
    "    <li ><a href=\"Sudoku.ipynb\">Sudoku</a></li>\n",
    "    <li ><a href=\"numpy-arrays%20og%20matplotlib.ipynb\">Numpy-arrays og matplotlib</a></li>\n",
    "    <li class=\"active\"><a href=\"Bokanalyse%20med%20plotting.ipynb\">Bokanalyse med plotting</a></li>\n",
    "    <li ><a href=\"Sjakk.ipynb\">Sjakk</a></li>\n",
    "    </ul>\n",
    "  </div>\n",
    "</nav>\n",
    "\n",
    "\n",
    "# Assorterte eksamensoppgaver\n",
    "**NB:** Du må gjøre oppgaver som tilsvarer minst 100 vektingspoeng, altså 100%."
   ]
  },
  {
   "cell_type": "markdown",
   "metadata": {},
   "source": [
    "\n",
    "\n",
    "\n",
    "\n",
    "## Eksamen 2012"
   ]
  },
  {
   "cell_type": "markdown",
   "metadata": {
    "deletable": false,
    "editable": false,
    "run_control": {
     "frozen": true
    }
   },
   "source": [
    "## Oppgave 2 -  Grunnleggende programmering (20%)"
   ]
  },
  {
   "cell_type": "markdown",
   "metadata": {
    "deletable": false,
    "editable": false,
    "run_control": {
     "frozen": true
    }
   },
   "source": [
    "***I denne versjonen har vi fjernet teorien som telte 25% av eksamen. Topp prosentscore er da altså 75%.***\n",
    "\n",
    "Du kan anta at alle fuksjonene mottar gyldige input-verdier."
   ]
  },
  {
   "cell_type": "markdown",
   "metadata": {
    "deletable": false,
    "editable": false,
    "run_control": {
     "frozen": true
    }
   },
   "source": [
    "### Oppgave 2 a) (5%)"
   ]
  },
  {
   "cell_type": "markdown",
   "metadata": {
    "deletable": false,
    "editable": false,
    "run_control": {
     "frozen": true
    }
   },
   "source": [
    "Lag funksjonen **summerOlympics** som har inn-parametere **firstYear** og **lastYear**. Funksjonen skal returnere variabelen **years**,som er ei list emed alle OL-årene fra og med **firstYear** til og med **lastYear** (inkludert framtidige planlagte år for sommer-OL). Fra og med OL i London i 1948,har sommer-OL vært arrangert hvert fjerde år. Du kan anta at **firstYear** ≥ 1948.\n",
    "\n",
    "Eksempel på kjøring av funksjonen og hva den returnerer:\n",
    "\n",
    "```python\n",
    ">>>years = summerOlympics(1999,2012)\n",
    ">>> years\n",
    "[2000, 2004, 2008, 2012]\n",
    ">>>\n",
    "```"
   ]
  },
  {
   "cell_type": "code",
   "execution_count": 1,
   "metadata": {
    "scrolled": false
   },
   "outputs": [
    {
     "name": "stdout",
     "output_type": "stream",
     "text": [
      "[2000, 2004, 2008, 2012]\n"
     ]
    }
   ],
   "source": [
    "def summerOlympics(firstYear, lastYear):\n",
    "    \n",
    "    olympics = []\n",
    "    \n",
    "    for year in range(firstYear, lastYear + 1):\n",
    "        if (year - 1948) % 4 == 0 or firstYear == 1948:\n",
    "            olympics.append(year)\n",
    "            \n",
    "    return olympics\n",
    "\n",
    "print(summerOlympics(1999,2012))"
   ]
  },
  {
   "cell_type": "markdown",
   "metadata": {
    "deletable": false,
    "editable": false,
    "run_control": {
     "frozen": true
    }
   },
   "source": [
    "### Oppgave 2b) (7.5%)"
   ]
  },
  {
   "cell_type": "markdown",
   "metadata": {
    "deletable": false,
    "editable": false,
    "run_control": {
     "frozen": true
    }
   },
   "source": [
    "Lag funksjonen **`findAge`** som har inn-parametere **bYear**, **bMonth**, **bDay** som er tre heltall som beskriver dato for en fødselsdag. Funksjonen skal returnere **age** som beskriver hvor gammel en person med oppgitt fødselsdag (**bYear**, **bMonth** og **bDay**) er i dag angitt i hele år.\n",
    "\n",
    "For å finne år, måned og dag for i dag ***skal du bruke*** en eksisterende funksjon som heter `current_date()`.Funksjonen returnerer tre heltall på formatet **(yyyy,mm,dd)**. \n",
    "\n",
    "Eksempel på bruk av funksjonen **current_date**:  \n",
    "`(yyyy,mm,dd)= current_date()` gir i dag yyyy=2012,mm=12, dd=11.\n",
    "\n",
    "Eksempel på kjøring av funksjonen **`findAge`** og hva den returnerer:\n",
    "\n",
    "```python\n",
    ">>> age = findAge(2000,12,15)\n",
    ">>> age\n",
    "11\n",
    ">>>\n",
    "```"
   ]
  },
  {
   "cell_type": "code",
   "execution_count": 2,
   "metadata": {
    "ExecuteTime": {
     "end_time": "2019-07-05T10:58:13.647340Z",
     "start_time": "2019-07-05T10:58:13.641077Z"
    },
    "scrolled": false
   },
   "outputs": [],
   "source": [
    "from datetime import datetime\n",
    "def current_date():\n",
    "    yyyy = int(datetime.today().strftime('%Y'))\n",
    "    mm = int(datetime.today().strftime('%m'))\n",
    "    dd = int(datetime.today().strftime('%d'))\n",
    "    return yyyy,mm,dd"
   ]
  },
  {
   "cell_type": "code",
   "execution_count": 3,
   "metadata": {
    "scrolled": false
   },
   "outputs": [
    {
     "name": "stdout",
     "output_type": "stream",
     "text": [
      "21\n"
     ]
    }
   ],
   "source": [
    "def findAge(year: int, month: int, date: int) -> int:\n",
    "    \"\"\"Inputs birth date and outputs the age of that person\"\"\"\n",
    "    \n",
    "    yyyy, mm, dd = current_date()\n",
    "    \n",
    "    # First find the whole years\n",
    "    age = yyyy - year\n",
    "\n",
    "    # Ensure this years birthday has passed\n",
    "    if mm < month or (mm == month and dd < date):\n",
    "        age -= 1\n",
    "        \n",
    "    return age\n",
    "\n",
    "age = findAge(2002,4,8) # My birthday\n",
    "print(age)\n",
    "    \n",
    "    "
   ]
  },
  {
   "cell_type": "markdown",
   "metadata": {
    "deletable": false,
    "editable": false,
    "run_control": {
     "frozen": true
    }
   },
   "source": [
    "### Oppgave 2c) (7.5 %)"
   ]
  },
  {
   "cell_type": "markdown",
   "metadata": {
    "deletable": false,
    "editable": false,
    "run_control": {
     "frozen": true
    }
   },
   "source": [
    "Lag en funksjon **`printAgeDiff`** som tar en parameter **table**,som er en to-dimensjonal tabell (liste av lister) der hver rekke beskriver personer med fornavn, etternavn, fødselsår, fødselsmåned og fødselsdato. Funksjonen skal bruke funksjonen **`findAge`** fra oppgave 2b til å sammenlikne alderen i hele år på etterfølgende personer i tabellen (rekke for rekke) og gjøre følgende:\n",
    "\n",
    "* Hvis person n og person n+1 har samme alder angitt i antall hele år, skal følgende skrives ut til skjerm:  \n",
    "``<fornavn n> <etternavn n> is at the same age as <fornavn n+1> <etternavn n+1>``\n",
    "* Hvis person n er eldre enn person n+1 angitt i antall hele år, skal følgende skrives ut til skjerm:  \n",
    "``<fornavn n> <etternavn n> is older than <fornavn n+1> <etternavn n+1>``\n",
    "* Hvis person n er yngre enn person n+1 angitt i antall hele år, skal følgende skrives ut til skjerm:  \n",
    "``<fornavn n> <etternavn n> is younger than <fornavn n+1> <etternavn n+1>``\n",
    "\n",
    "Eksempel på en to-dimensjonal tabell som beskriver fire kjente personer:"
   ]
  },
  {
   "cell_type": "code",
   "execution_count": 4,
   "metadata": {
    "scrolled": false
   },
   "outputs": [],
   "source": [
    "table=[['Justin','Bieber',1994,3,1],\n",
    "       ['Donald','Duck',1934,8,1],\n",
    "       ['George','Clooney',1961,5,6],\n",
    "       ['Eddie','Murphy',1961,4,3]]"
   ]
  },
  {
   "cell_type": "markdown",
   "metadata": {
    "deletable": false,
    "editable": false,
    "run_control": {
     "frozen": true
    }
   },
   "source": [
    "Eksempel på kjøring av funksjonen **`printAgeDiff`** med tabellen **table**, som inneholder listene for bieber, donald, george og eddie:\n",
    "\n",
    "```python\n",
    ">>>printAgeDiff(table)\n",
    "Justin Bieber is younger than Donald Duck\n",
    "Donald Duck is older than George Clooney\n",
    "George Clooney is at the same age as Eddie Murphy\n",
    ">>>\n",
    "```"
   ]
  },
  {
   "cell_type": "code",
   "execution_count": 5,
   "metadata": {
    "scrolled": false
   },
   "outputs": [
    {
     "name": "stdout",
     "output_type": "stream",
     "text": [
      "Justin Bieber is younger than Donald Duck\n",
      "Donald Duck is older than George Clooney\n",
      "George Clooney is the same age as Eddie Murphy\n"
     ]
    }
   ],
   "source": [
    "def printAgeDiff(table: list) -> None:\n",
    "    \n",
    "    for i in range(len(table) - 1):\n",
    "        i_age = findAge(table[i][2], table[i][3], table[i][4])\n",
    "        i_pluss_one_age = findAge(table[i + 1][2], table[i + 1][3], table[i + 1][4]) \n",
    "        \n",
    "        if i_age == i_pluss_one_age:\n",
    "            print(f\"{table[i][0]} {table[i][1]} is the same age as {table[i + 1][0]} {table[i + 1][1]}\")\n",
    "        elif i_age > i_pluss_one_age:\n",
    "            print(f\"{table[i][0]} {table[i][1]} is older than {table[i + 1][0]} {table[i + 1][1]}\")\n",
    "        else:\n",
    "            print(f\"{table[i][0]} {table[i][1]} is younger than {table[i + 1][0]} {table[i + 1][1]}\")\n",
    "        \n",
    "printAgeDiff(table)"
   ]
  },
  {
   "cell_type": "markdown",
   "metadata": {
    "deletable": false,
    "editable": false,
    "run_control": {
     "frozen": true
    }
   },
   "source": [
    "## Oppgave 3 - Kodeforståelse (15%)"
   ]
  },
  {
   "cell_type": "markdown",
   "metadata": {
    "deletable": false,
    "editable": false,
    "run_control": {
     "frozen": true
    }
   },
   "source": [
    "### Oppgave 3a) (5%)"
   ]
  },
  {
   "cell_type": "markdown",
   "metadata": {
    "deletable": false,
    "editable": false,
    "run_control": {
     "frozen": true
    }
   },
   "source": [
    "Hva returneres hvis funksjonen `fu1(1234)`med kode som vist under kjøres?\n",
    "\n",
    "```python\n",
    "def fu1(a):\n",
    "    r = 0\n",
    "    while(a>0):\n",
    "        s = a%10\n",
    "        r = r + s\n",
    "        a = (a-s)/10\n",
    "return r\n",
    "```"
   ]
  },
  {
   "cell_type": "markdown",
   "metadata": {},
   "source": [
    "Svar: Denne funksjonen vil først få inn et tall a, så lenge tallet er positivt vil vi ta moduloen til dette og summere dette med de tidligerer restene. Så vil vi trekke fra denne resten før vi deler a på 10. Dette fortsetter helt til a blir 0 og så vil den retturnere r som er summer av alle restene, og det betyr at du får ut summen av alle sifferen i tallet."
   ]
  },
  {
   "cell_type": "markdown",
   "metadata": {
    "deletable": false,
    "editable": false,
    "run_control": {
     "frozen": true
    }
   },
   "source": [
    "### Oppgave 3b) (5%)"
   ]
  },
  {
   "cell_type": "markdown",
   "metadata": {
    "deletable": false,
    "editable": false,
    "run_control": {
     "frozen": true
    }
   },
   "source": [
    "Hva blir verdiene til a,b,c og d etter kallet  \n",
    "`(a, b, c, d) = fu2(’Ut pa tur, aldri sur’)`  \n",
    "med koden som vist under?\n",
    "\n",
    "```python\n",
    "    def fu2(input):\n",
    "        r = 0\n",
    "        s = 0\n",
    "        t = 0\n",
    "        u = 0\n",
    "        n = len(input)\n",
    "        for c in input:\n",
    "            if(c.isalpha()):\n",
    "                r = r + 1\n",
    "            elif(c.isdigit()):\n",
    "                s = s + 1\n",
    "            elif(c==' '):\n",
    "                t = t + 1\n",
    "            else:\n",
    "                u = u + 1\n",
    "        r = 100*r/n\n",
    "        s = 100*s/n\n",
    "        t = 100*t/n\n",
    "        u = 100*u/n\n",
    "        return(r,s,t,u)\n",
    "```"
   ]
  },
  {
   "cell_type": "markdown",
   "metadata": {},
   "source": [
    "Svar: fu2 tar inn en streng og begynner å definere en rekke variabler til null og n til lengden av input-strengen. Så itererer den gjennom hver char i input og sjekker om det er en bokstav, tall, mellomrom eller noe annet. Til slutt vil funcksjonen finne hvor mange prosent av strengen er bokstaver, tall, mellomrom eller annet, og returnerer dette som en tuple. Dette gir derfor verdiene:\n",
    "```\n",
    "a = 15\n",
    "b = 0\n",
    "c = 4\n",
    "d = 1\n",
    "``````"
   ]
  },
  {
   "cell_type": "markdown",
   "metadata": {
    "deletable": false,
    "editable": false,
    "run_control": {
     "frozen": true
    }
   },
   "source": [
    "### Oppgave 3c) (5%)"
   ]
  },
  {
   "cell_type": "markdown",
   "metadata": {
    "deletable": false,
    "editable": false,
    "run_control": {
     "frozen": true
    }
   },
   "source": [
    "Hva returneres av kallet `fu3(100)`med koden som vist under?\n",
    "```python\n",
    "def fu3(a):\n",
    "    if(a<=2):\n",
    "        r = 1\n",
    "    else:\n",
    "        r = 1 + fu3(a/2)\n",
    "    return r\n",
    "```"
   ]
  },
  {
   "cell_type": "markdown",
   "metadata": {},
   "source": [
    "Svar: Denne funksjonen sjekker først om tallet er mindre eller lik to. Hvis ikke vil den kalle seg selv og kjøre rekursivt til a blir 2 eller mindre. Siden vi starter med 100, vil rekken vår se slik ut: 1 + 1 + ... + 1 Helt til vi har halvert 100 til å bli 2. Det må vi gjøre 50 25 12.5 6.25 3.125 1.0625. Da har vi kallet funksjonen 7 ganger og vi vil derfor få ut 7."
   ]
  },
  {
   "cell_type": "markdown",
   "metadata": {
    "deletable": false,
    "editable": false,
    "run_control": {
     "frozen": true
    }
   },
   "source": [
    "## Oppgave 4 - Programmering (40%)"
   ]
  },
  {
   "cell_type": "markdown",
   "metadata": {
    "deletable": false,
    "editable": false,
    "run_control": {
     "frozen": true
    }
   },
   "source": [
    "Denne oppgaven fokuserer på behandling av data fra fire vær sensorer som måler en verdi per døgn av følgende data:\n",
    "\n",
    "* Temperatur: Angis som heltall i Celsius fra -50C til + 50C\n",
    "* Nedbør: Angis som heltall i mm nedbør per døgn fra 0 til 2000mm\n",
    "* Luftfuktighet. Angis som heltall fra 0 til 100%\n",
    "* Vindstyrke: Angis som heltall fra 0 til 50 meter per sekund\n",
    "\n",
    "Hvis ikke noe annet er oppgitt kan du anta korrekt input til funksjonene."
   ]
  },
  {
   "cell_type": "markdown",
   "metadata": {
    "deletable": false,
    "editable": false,
    "run_control": {
     "frozen": true
    }
   },
   "source": [
    "### Oppgave 4a) (5%)"
   ]
  },
  {
   "cell_type": "markdown",
   "metadata": {
    "deletable": false,
    "editable": false,
    "run_control": {
     "frozen": true
    }
   },
   "source": [
    "Lag en funksjon **`cold_days`** som tar imot parameteren **templist**, som en liste av temperaturer, og returnerer variabelen **days**,som angir antall døgn der temperaturen var under 0 grader.\n",
    "\n",
    "Eksempel på kall av funksjonen og hva den returnerer:\n",
    "```python\n",
    ">>> days = cold_days([1,-5,3,0,-6,-3,15,0])\n",
    ">>> days\n",
    "3\n",
    ">>>\n",
    "```"
   ]
  },
  {
   "cell_type": "code",
   "execution_count": 6,
   "metadata": {
    "scrolled": false
   },
   "outputs": [
    {
     "name": "stdout",
     "output_type": "stream",
     "text": [
      "3\n"
     ]
    }
   ],
   "source": [
    "def cold_days(templist: list) -> int:\n",
    "    \"\"\"Inputs a list with temperatures and outputs the number of days with less than 0 degrees\"\"\"\n",
    "    \n",
    "    return sum([1 for i in templist if i < 0])\n",
    "\n",
    "days = cold_days([1, -5, 3, 0, -6, -3, 15, 0])\n",
    "print(days)"
   ]
  },
  {
   "cell_type": "markdown",
   "metadata": {
    "deletable": false,
    "editable": false,
    "run_control": {
     "frozen": true
    }
   },
   "source": [
    "### Oppgave 4 b) (5 %)"
   ]
  },
  {
   "cell_type": "markdown",
   "metadata": {
    "deletable": false,
    "editable": false,
    "run_control": {
     "frozen": true
    }
   },
   "source": [
    "Lag en funksjon **`cap_data`** som har inn-parameterne **array** (liste med data), **min_value** (minimumsverdi) og **max_value** (maksimumsverdi). Funksjonen skal returnere ei ny liste **result** der alle elementer i lista **array** som har verdi mindre enn **min_value** skal settes lik **min_value** og alle elementer i lista **array** som har verdi høyere enn **max_value** skal settes lik **max_value**.\n",
    "\n",
    "Eksempel på kall av funksjonen og hva den returnerer:\n",
    "```python\n",
    ">>>A=[-70,30,0,90,23,-12,95,12]\n",
    ">>>result = cap_data(A,-50,50)\n",
    ">>>result\n",
    "[-50,30,0,50,23,-12,50,12]\n",
    ">>>\n",
    "```\n",
    "\n",
    "Legg merke til hvilke verdier som endres."
   ]
  },
  {
   "cell_type": "code",
   "execution_count": 7,
   "metadata": {
    "scrolled": false
   },
   "outputs": [
    {
     "name": "stdout",
     "output_type": "stream",
     "text": [
      "[-50, 30, 0, 50, 23, -12, 50, 12]\n"
     ]
    }
   ],
   "source": [
    "def cap_data(array: list, min_value: int, max_value: int) -> list:\n",
    "    \n",
    "    for i in range(len(array)):\n",
    "        if array[i] < min_value:\n",
    "            array[i] = min_value\n",
    "        elif array[i] > max_value:\n",
    "            array[i] = max_value\n",
    "            \n",
    "    return array\n",
    "\n",
    "A = [-70,30,0,90,23,-12,95,12]\n",
    "result = cap_data(A,-50,50)\n",
    "print(result)"
   ]
  },
  {
   "cell_type": "markdown",
   "metadata": {
    "deletable": false,
    "editable": false,
    "run_control": {
     "frozen": true
    }
   },
   "source": [
    "### Oppgave 4c) (10%)"
   ]
  },
  {
   "cell_type": "markdown",
   "metadata": {
    "deletable": false,
    "editable": false,
    "run_control": {
     "frozen": true
    }
   },
   "source": [
    "Lag en funksjon **`generate_testdatasom`** har inn-parameterne **N**, **min_value** (minimumsverdi)og **max_value** (maksimumsverdi). Funksjonen skal returnere tabellen **result** som består av **N** unike *tall* (heltall) som blir trukket tilfeldig der {**min_value** ≤ *tall* ≤ **max_value**}. Unik betyr her at ingen elementer i tabellen **result** skal ha samme verdi. Du kan anta at antall mulige verdier i intervallet tallet blir trukket fra alltid vil være større enn **N**.\n",
    "\n",
    "Eksempel på kall av funksjonen og hva den returnerer:\n",
    "```python\n",
    ">>> result = generate_testdata(10,-5,10)\n",
    ">>> result\n",
    "[-5,3,7,9,-3,4,2,0,-1,5]\n",
    ">>>\n",
    "```"
   ]
  },
  {
   "cell_type": "code",
   "execution_count": 8,
   "metadata": {
    "scrolled": false
   },
   "outputs": [
    {
     "name": "stdout",
     "output_type": "stream",
     "text": [
      "[3, -3, -2, 9, 5, 1, -1, -4, 10, 7]\n"
     ]
    },
    {
     "name": "stderr",
     "output_type": "stream",
     "text": [
      "/var/folders/3v/6dz70lt14pgbfvjsn53t8kdr0000gn/T/ipykernel_89306/2447892775.py:5: DeprecationWarning: Sampling from a set deprecated\n",
      "since Python 3.9 and will be removed in a subsequent version.\n",
      "  return sample(set([n for n in range(min_value, max_value + 1)]), N)\n"
     ]
    }
   ],
   "source": [
    "from random import sample\n",
    "\n",
    "def generate_testdata(N: int, min_value: int, max_value: int) -> list:\n",
    "    \n",
    "    return sample(set([n for n in range(min_value, max_value + 1)]), N)\n",
    "\n",
    "result = generate_testdata(10,-5,10)\n",
    "print(result)\n",
    "                "
   ]
  },
  {
   "cell_type": "markdown",
   "metadata": {
    "deletable": false,
    "editable": false,
    "run_control": {
     "frozen": true
    }
   },
   "source": [
    "### Oppgave 4d) (5%)"
   ]
  },
  {
   "cell_type": "markdown",
   "metadata": {
    "deletable": false,
    "editable": false,
    "run_control": {
     "frozen": true
    }
   },
   "source": [
    "Lag en funksjon **`create_db`** som har inn-parameterne **temp**, **rain**, **humidity** og **wind**,som er fire tabeller av samme størrelse (likt antall elementer) med data for temperatur, nedbør, luftfuktighet og vind.\n",
    "\n",
    "Funksjonen skal lage og returnere *dictionarien* **weather**,der nøkkelen er ett heltall som starter med verdien 1 og teller oppover (representerer dagen for måling). Hvert innslag i *dictionarien* skal være en liste av verdier for temperatur, nedbør, luftfuktighet og vind. Verdiene for **weather** med nøkkel 1 skal inneholde værdata for dag 1, **weather** med nøkkel2 skal inneholde værdata for dag 2 og så videre.\n",
    "\n",
    "Eksempel på kall av funksjonen og hva den returnerer:\n",
    "```python\n",
    ">>> temp = [1,5,3]\n",
    ">>> rain = [0,30,120]\n",
    ">>> humidity = [30,50,65]\n",
    ">>> wind = [3,5,7]\n",
    ">>> weather = create_db(temp,rain,humidity,wind)\n",
    ">>> weather\n",
    "{1: [1, 0, 30, 3], 2: [5, 30, 50, 5], 3: [3, 120, 65, 7]}\n",
    ">>>\n",
    "``` "
   ]
  },
  {
   "cell_type": "code",
   "execution_count": 9,
   "metadata": {
    "scrolled": false
   },
   "outputs": [
    {
     "name": "stdout",
     "output_type": "stream",
     "text": [
      "{1: [1, 0, 30, 3], 2: [5, 30, 50, 5], 3: [3, 120, 65, 7]}\n"
     ]
    }
   ],
   "source": [
    "def create_db(temp: list, rain: list, humidity: list, wind: list) -> dict:\n",
    "    \n",
    "    weather_db = {}\n",
    "    \n",
    "    for i in range(len(temp)):\n",
    "        weather_db[i + 1] = [temp[i], rain[i], humidity[i], wind[i]]\n",
    "        \n",
    "    return weather_db\n",
    "\n",
    "temp = [1,5,3]\n",
    "rain = [0,30,120]\n",
    "humidity = [30,50,65]\n",
    "wind = [3,5,7]\n",
    "weather = create_db(temp,rain,humidity,wind)\n",
    "print(weather)"
   ]
  },
  {
   "cell_type": "markdown",
   "metadata": {
    "deletable": false,
    "editable": false,
    "run_control": {
     "frozen": true
    }
   },
   "source": [
    "### Oppgave 4e) (5%)"
   ]
  },
  {
   "cell_type": "markdown",
   "metadata": {
    "deletable": false,
    "editable": false,
    "run_control": {
     "frozen": true
    }
   },
   "source": [
    "Lag en funksjon **`print_db`** som har inn-parameteren **weather**,som er en dictionary som beskrevet i oppgave 4d. Funksjonen skal skrive ut innholdet i **weather** på skjerm etter følgende format og med overskrift som vist på utskriften nederst i deloppgaven:\n",
    "* Day(dag) –høyrejustert med 4 tegn\n",
    "* Temp (temperatur)–høyrejustert med 6 tegn\n",
    "* Rain (nedbør)–høyrejustert med 6 tegn\n",
    "* Humidity (luftfuktighet)–høyrejustert med 10 tegn\n",
    "* Wind (vind)–høyrejustert med 6 tegn\n",
    "\n",
    "Eksempel på kall av funksjonen ved bruk av dictionarien fra oppgave 4d:\n",
    "```p\n",
    ">>> print_db(weather)\n",
    "Day | Temp | rain | humidity | wind\n",
    "====+======+======+==========+======\n",
    "   1      1      0         30      5\n",
    "   2      5     30         50      3\n",
    "   3      3    120         65      7\n",
    ">>>\n",
    "```"
   ]
  },
  {
   "cell_type": "code",
   "execution_count": 10,
   "metadata": {
    "scrolled": false
   },
   "outputs": [
    {
     "name": "stdout",
     "output_type": "stream",
     "text": [
      " Day |   Temp |   Rain |   Humidity |   Wind\n",
      "====+======+======+==========+======\n",
      "   1 |      1 |      0 |         30 |      3\n",
      "   2 |      5 |     30 |         50 |      5\n",
      "   3 |      3 |    120 |         65 |      7\n"
     ]
    }
   ],
   "source": [
    "def print_db(weather_db: dict) -> None:\n",
    "    \n",
    "    print(f\"{'Day':>4} | {'Temp':>6} | {'Rain':>6} | {'Humidity':>10} | {'Wind':>6}\")\n",
    "    print('=' * 4 + '+' + '=' * 6 + '+' + '=' * 6 + '+' + '=' * 10 + '+' + '=' * 6)\n",
    "    \n",
    "    for day in weather.keys():\n",
    "        print(f\"{day:>4} | {weather[day][0]:>6} | {weather[day][1]:>6} | {weather[day][2]:>10} | {weather[day][3]:>6}\")\n",
    "        \n",
    "print_db(weather)"
   ]
  },
  {
   "cell_type": "markdown",
   "metadata": {
    "deletable": false,
    "editable": false,
    "run_control": {
     "frozen": true
    }
   },
   "source": [
    "### Oppgave 4f) (10%)"
   ]
  },
  {
   "cell_type": "markdown",
   "metadata": {
    "deletable": false,
    "editable": false,
    "run_control": {
     "frozen": true
    }
   },
   "source": [
    "Lag funksjonen **`strange_weather`** som har inn-parameterne **temp** og **rain**,som er to tabeller med data for temperaturer og regn av lik størrelse (samme antall elementer). Funksjonen skal returnere **start** (startdag)og **stop** (sluttdag)for det lengste intervallet der det er minusgrader, samt at temperaturen faller samtidig som nedbørsmengden stiger i etterfølgende dager. Indekseringen av dager starter på 1. Hvis ingen etterfølgende dager har denne karakteristikken, returneres (0,0).\n",
    "\n",
    "Eksempel på kall av funksjonen(med intervall som oppfyller kravet uthevet):\n",
    "```python\n",
    ">>> temp=[1,3, 4,-5,-6,-7,-8,-9,3,0]\n",
    ">>> rain=[0,20,30,0,10,30,50,0,5,2]\n",
    ">>> (start, stop) = strange_weather(temp,rain)\n",
    ">>> start\n",
    "4\n",
    ">>> stop\n",
    "7\n",
    ">>>\n",
    "```"
   ]
  },
  {
   "cell_type": "code",
   "execution_count": 11,
   "metadata": {
    "ExecuteTime": {
     "end_time": "2019-07-05T12:00:04.448245Z",
     "start_time": "2019-07-05T12:00:04.442468Z"
    },
    "scrolled": false
   },
   "outputs": [
    {
     "name": "stdout",
     "output_type": "stream",
     "text": [
      "4\n",
      "7\n"
     ]
    }
   ],
   "source": [
    "def strange_weather(temp, rain):\n",
    "\n",
    "    start = 0\n",
    "    end = 0\n",
    "    \n",
    "    on_streak = False\n",
    "    \n",
    "    for i in range(1, len(temp)):\n",
    "        \n",
    "        if temp[i] >= 0:\n",
    "            end = i if on_streak else end\n",
    "            on_streak = False\n",
    "            \n",
    "        else:\n",
    "            \n",
    "            if temp[i] < temp[i - 1] and rain[i] > rain[i - 1]:\n",
    "                start = i if not on_streak else start\n",
    "                on_streak = True\n",
    "            else:\n",
    "                end = i if on_streak else end\n",
    "                on_streak = False\n",
    "    \n",
    "    return start, end\n",
    "    \n",
    "temp = [1,3, 4,-5,-6,-7,-8,-9,3,0]\n",
    "rain = [0,20,30,0,10,30,50,0,5,2]\n",
    "start, stop = strange_weather(temp,rain)\n",
    "\n",
    "print(start)\n",
    "print(stop)"
   ]
  },
  {
   "cell_type": "markdown",
   "metadata": {},
   "source": [
    "# Eksamensoppgaver fra TDT4127"
   ]
  },
  {
   "cell_type": "markdown",
   "metadata": {},
   "source": [
    "De følgende eksamensoppgavene er tatt fra TDT4127, et fjerdeklassefag hvor pensum er mye større enn i dette faget. Vektingene er tilpasset denne øvingen, og oppgavene er noe modifiserte for å passe inn i pensum. De er tatt med for at den totale arbeidsmengden i notebooken skal være noenlunde likt eksamen som kommer."
   ]
  },
  {
   "cell_type": "markdown",
   "metadata": {},
   "source": [
    "## Høsten 2020"
   ]
  },
  {
   "cell_type": "markdown",
   "metadata": {},
   "source": [
    "### Oppg 1a) (5%)\n",
    "\n",
    "Du er gitt en tekstfil med en liste av navn til studenter. Ta for eksempel fila <a href=\"students.txt\">students.txt</a>, der innholdet er:\n",
    "\n",
    "```txt\n",
    "1 Ola Nordmann\n",
    "2 Kari Olsen\n",
    "3 Otto Hansen\n",
    "```\n",
    "\n",
    "Skriv en funksjon `file_to_list(filename)` som gitt et filnavn `filename` returnerer en liste med strings. Hver string skal være navnet til en student, uten tallet foran.\n",
    "\n",
    "Gitt fila over bør output være \n",
    "```python\n",
    ">>> file_to_list(\"students.txt\")\n",
    "[\"Ola Nordmann\", \"Kari Olsen\", \"Otto Hansen\"]\n",
    "```"
   ]
  },
  {
   "cell_type": "code",
   "execution_count": 12,
   "metadata": {},
   "outputs": [
    {
     "name": "stdout",
     "output_type": "stream",
     "text": [
      "['Ola Nordmann', 'Kari Olsen', 'Otto Hansen']\n"
     ]
    }
   ],
   "source": [
    "def file_to_list(filename):\n",
    "    \n",
    "    students = []\n",
    "    \n",
    "    with open(filename) as f:\n",
    "        for row in f:\n",
    "            students.append(\" \".join(row.split(\" \")[1:]).replace(\"\\n\", \"\"))\n",
    "            \n",
    "    return students\n",
    "        \n",
    "students = file_to_list(\"students.txt\")\n",
    "print(students)"
   ]
  },
  {
   "cell_type": "markdown",
   "metadata": {},
   "source": [
    "### Oppg 1b) (5%)\n",
    "\n",
    "Du ønsker å lage en liste av brukernavn fra en liste med navn. Et brukernavn er de første seks bokstavene i fornavnet konkatenert med de første tre bokstavene i etternavnet. Brukernavnet skal bare ha små bokstaver. Dersom fornavnet er kortere enn seks bokstaver eller etternavnet er kortere enn tre bokstaver skal du ta med alle bokstavene i det navnet.\n",
    "\n",
    "Lag en funksjon `create_username_list(name_list)` som returnerer en liste av brukernavnene til alle navnene i `name_list`.\n",
    "\n",
    "```python\n",
    ">>> create_username_list([\"Ola Nordmann\", \"Kari Olsen\", \"Alexander Hansen\"])\n",
    "[\"olanor\", \"kariols\", \"alexanhan\"]\n",
    "```"
   ]
  },
  {
   "cell_type": "code",
   "execution_count": 13,
   "metadata": {},
   "outputs": [
    {
     "name": "stdout",
     "output_type": "stream",
     "text": [
      "['olanor', 'kariols', 'alexanhan']\n"
     ]
    }
   ],
   "source": [
    "def create_username_list(name_list):\n",
    "    \n",
    "    usernames = []\n",
    "    \n",
    "    for name in name_list:\n",
    "        \n",
    "        first, last = name.split(\" \")\n",
    "        \n",
    "        usernames.append(first.lower()[:6] + last.lower()[:3])\n",
    "\n",
    "    return usernames\n",
    "\n",
    "usernames = create_username_list([\"Ola Nordmann\", \"Kari Olsen\", \"Alexander Hansen\"])\n",
    "print(usernames)"
   ]
  },
  {
   "cell_type": "markdown",
   "metadata": {},
   "source": [
    "### Oppg 1c) (5%)\n",
    "\n",
    "Du er gitt en liste med brukernavn, for eksempel\n",
    "\n",
    "```python\n",
    "username_list = [\"olanor\", \"kariols\", \"ottohan\", \"olanor\", \"kariols\"]\n",
    "```\n",
    "\n",
    "Dessverre er det slik at måten brukernavnene opprettes på ikke er perfekt. Det er fort gjort at flere studenter får samme brukernavn. Lag en funksjon `fix_duplicates(username_list)` som sjekker om det er duplikater og legger til en ekstra `\"a\"` til slutten av ett av de. Du kan anta at det finnes _maks to_ av hvert brukernavn.\n",
    "\n",
    "```python\n",
    ">>> fix_duplicates([\"olanor\", \"kariols\", \"olanor\"])\n",
    "[\"olanor\", \"kariols\", \"olanora\"]\n",
    "```"
   ]
  },
  {
   "cell_type": "code",
   "execution_count": 14,
   "metadata": {},
   "outputs": [
    {
     "name": "stdout",
     "output_type": "stream",
     "text": [
      "['olanora', 'ottohan', 'olanor', 'ottohana', 'kariolsa', 'kariols']\n"
     ]
    }
   ],
   "source": [
    "def fix_duplicates(username_list):\n",
    "    \n",
    "    username_set = set(username_list)\n",
    "    \n",
    "    for username in username_list:\n",
    "        \n",
    "        while True:\n",
    "            if username in username_list:\n",
    "                username = username + \"a\"\n",
    "            else:\n",
    "                break\n",
    "            \n",
    "        username_set.add(username)\n",
    "        \n",
    "    return list(username_set)\n",
    "\n",
    "username_list = [\"olanor\", \"kariols\", \"ottohan\", \"olanor\", \"kariols\"]\n",
    "print(fix_duplicates(username_list))\n"
   ]
  },
  {
   "cell_type": "markdown",
   "metadata": {},
   "source": [
    "### Oppg 1d) (5%)\n",
    "\n",
    "Du er gitt to lister: den ene inneholder en liste av navnene til studentene i klassen, den andre de respektive brukernavnene.\n",
    "\n",
    "Skriv en funksjon `create_username_dict(name_list, username_list)` som lager en dictionary man kan bruke til å finne brukernavn gitt et navn. \n",
    "\n",
    "Eks: \n",
    "```python\n",
    ">>> name_list = [\"Ola Nordmann\", \"Kari Olsen\", \"Roger Jensen\"]\n",
    ">>> username_list = [\"olanor\", \"kariols\", \"rogerjen\"]\n",
    ">>> create_username_dict(name_list, username_list)\n",
    "{\n",
    "    \"Ola Nordmann\": \"olanor\",\n",
    "    \"Kari Olsen\": \"kariols\",\n",
    "    \"Roger Jensen\": \"rogerjen\"\n",
    "}\n",
    "```"
   ]
  },
  {
   "cell_type": "code",
   "execution_count": 15,
   "metadata": {},
   "outputs": [
    {
     "name": "stdout",
     "output_type": "stream",
     "text": [
      "{'Ola Nordmann': 'olanor', 'Kari Olsen': 'kariols', 'Roger Jensen': 'rogerjen'}\n"
     ]
    }
   ],
   "source": [
    "def create_username_dict(name_list, username_list):\n",
    "    \n",
    "    username_dict = {}\n",
    "    \n",
    "    for i, name in enumerate(name_list):\n",
    "        username_dict[name] = username_list[i]\n",
    "    \n",
    "    return username_dict\n",
    "\n",
    "name_list = [\"Ola Nordmann\", \"Kari Olsen\", \"Roger Jensen\"]\n",
    "username_list = [\"olanor\", \"kariols\", \"rogerjen\"]\n",
    "username_dict = create_username_dict(name_list, username_list)\n",
    "\n",
    "print(username_dict)"
   ]
  },
  {
   "cell_type": "markdown",
   "metadata": {},
   "source": [
    "### Oppg 1e) (7.5%)\n",
    "\n",
    "Skriv en funksjon `plot_cos()` som plotter funksjonene $cos(kx)$ for $k = 1, 2, 3$ på intervallet $[0, 2\\pi]$\n",
    "\n",
    "Plottet bør ha de følgende egenskapene:\n",
    "- x-label skal være \"x\"\n",
    "- y-label skal være \"y\"\n",
    "- tittelen skal være \"cos med forskjellige bølgetall\"\n",
    "- legenden må fortelle oss hvilke verdier av $k$ som tilhører hvilken kurve\n",
    "\n",
    "_Hint: Numpy inneholder en cosinusfunksjon,_ `np.cos(x)`"
   ]
  },
  {
   "cell_type": "code",
   "execution_count": 16,
   "metadata": {},
   "outputs": [
    {
     "data": {
      "image/png": "[encoded data removed]",
      "text/plain": [
       "<Figure size 640x480 with 1 Axes>"
      ]
     },
     "metadata": {},
     "output_type": "display_data"
    }
   ],
   "source": [
    "import matplotlib.pyplot as plt\n",
    "import numpy as np\n",
    "\n",
    "def plot_cos():\n",
    "\n",
    "    x = np.linspace(0, 2*np.pi, 1000)\n",
    "    \n",
    "    for k in [1, 2, 3]:\n",
    "        plt.plot(np.cos(k*x), label=k)\n",
    "    \n",
    "    plt.xlabel(\"x\")\n",
    "    plt.ylabel(\"y\")\n",
    "    plt.title(\"cos med forskjellige bølgetall\")\n",
    "    plt.legend()\n",
    "    plt.show()\n",
    "\n",
    "plot_cos()"
   ]
  },
  {
   "cell_type": "markdown",
   "metadata": {},
   "source": [
    "### Oppgave 1f) (7.5%)\n",
    "\n",
    "Du er gitt en liste med elever som hører til et fag. Du skal dele dem opp i _tilfeldige_ grupper på fire. Dessverre er det ikke garantert at antall elever er delelig med fire. Der kan være en, to eller tre elever til overs. Du kan anta at antall elever er større enn seks.\n",
    "\n",
    "Når det er elever til overs skal programmet oppføre seg slik:\n",
    "- Dersom det er 1 elev ekstra skal den settes inn i en eksisterende gruppe slik at det blir en gruppe på 5.\n",
    "- Dersom det er 2 elever ekstra skal de settes inn i en eksisterende gruppe hver slik at det blir to grupper på 5.\n",
    "- Dersom det er 3 elever ekstra skal de bli en gruppe på 3.\n",
    "\n",
    "Lag en funksjon `create_groups(name_list)` som grupperer elevene etter reglene over. Merk at gruppene skal være tilfeldige, og at de skal være tupler. \n",
    "\n",
    "Eksempel, 1 til overs:\n",
    "```python\n",
    ">>> create_groups([\"Ola\", \"Kari\", \"Egil\", \"Hans\", \"Magnus\", \"Kjetil\", \"Hanne\", \"Kristin\", \"Jens\"])\n",
    "[\n",
    "    (\"Kari\", \"Hanne\", \"Jens\", \"Egil\"), \n",
    "    (\"Kjetil\", \"Ola\", \"Hans\", \"Kristin\", \"Magnus\")\n",
    "]\n",
    "```\n",
    "\n",
    "Eksempel, 3 til overs:\n",
    "```python\n",
    ">>> create_groups([\"Ola\", \"Kari\", \"Egil\", \"Hans\", \"Magnus\", \"Kjetil\", \"Hanne\", \"Kristin\", \"Jens\", \"Henriette\", \"Siv\"])\n",
    "[\n",
    "    (\"Kari\", \"Siv\", \"Hanne\", \"Jens\"), \n",
    "    (\"Egil\", \"Henriette\", \"Kristin\", \"Magnus\"), \n",
    "    (\"Kjetil\", \"Ola\", \"Hans\")\n",
    "]\n",
    "```\n",
    "\n",
    "_Tips: I standardbiblioteket til python finnes det en modul for å printe ekstra pent (pretty-print). Den kalles på slik:_ "
   ]
  },
  {
   "cell_type": "code",
   "execution_count": 17,
   "metadata": {},
   "outputs": [
    {
     "name": "stdout",
     "output_type": "stream",
     "text": [
      "{'et': ['komplekst',\n",
      "        'objekt',\n",
      "        'med',\n",
      "        'mange',\n",
      "        'ting',\n",
      "        ['og', 'er', {'nøstet': 'hvorfor?'}]],\n",
      " 'som_er': 0,\n",
      " 'vanskelig å': 'lese'}\n"
     ]
    }
   ],
   "source": [
    "import pprint\n",
    "pprint.pprint({\"et\": [\"komplekst\", \"objekt\", \"med\", \"mange\", \"ting\", [\"og\", \"er\", {\"nøstet\": \"hvorfor?\"}]], \"som_er\": 0, \"vanskelig å\": \"lese\"})"
   ]
  },
  {
   "cell_type": "code",
   "execution_count": 83,
   "metadata": {},
   "outputs": [
    {
     "name": "stdout",
     "output_type": "stream",
     "text": [
      "[('Hanne', 'Ola', 'Jens', 'Egil', 'Kjetil'),\n",
      " ('Kari', 'Kristin', 'Hans', 'Magnus')]\n",
      "[('Henriette', 'Kristin', 'Egil', 'Jens'),\n",
      " ('Kari', 'Siv', 'Hans', 'Kjetil'),\n",
      " ('Magnus', 'Hanne', 'Ola')]\n"
     ]
    }
   ],
   "source": [
    "import random\n",
    "\n",
    "def create_groups(name_list):\n",
    "    \n",
    "    # Find the rest\n",
    "    rest = len(name_list) % 4\n",
    "    \n",
    "    # Create random indexes\n",
    "    random_idx = random.sample([i for i in range(len(name_list))], k=len(name_list))\n",
    "    \n",
    "    # If 3 or more rest, we create three groups\n",
    "    if rest >= 3:\n",
    "        return [\n",
    "            tuple([name_list[n] for n in random_idx[:4]]),\n",
    "            tuple([name_list[n] for n in random_idx[4:8]]),\n",
    "            tuple([name_list[n] for n in random_idx[8:]])\n",
    "        ]\n",
    "    elif rest == 2:\n",
    "        return [\n",
    "            tuple([name_list[n] for n in random_idx[:5]]),\n",
    "            tuple([name_list[n] for n in random_idx[5:10]])\n",
    "        ]\n",
    "    else:\n",
    "        return [\n",
    "            tuple([name_list[n] for n in random_idx[:5]]),\n",
    "            tuple([name_list[n] for n in random_idx[5:]])\n",
    "        ]\n",
    "        \n",
    "group1 = [\"Ola\", \"Kari\", \"Egil\", \"Hans\", \"Magnus\", \"Kjetil\", \"Hanne\", \"Kristin\", \"Jens\"]\n",
    "group2 = [\"Ola\", \"Kari\", \"Egil\", \"Hans\", \"Magnus\", \"Kjetil\", \"Hanne\", \"Kristin\", \"Jens\", \"Henriette\", \"Siv\"]\n",
    "\n",
    "pprint.pprint(create_groups(group1))\n",
    "pprint.pprint(create_groups(group2))"
   ]
  },
  {
   "cell_type": "markdown",
   "metadata": {},
   "source": [
    "### Oppgave 1g) (5%)\n",
    "\n",
    "Skriv en funksjon `flatten(listy)` som tar inn en matrise (2d-liste) av vilkårlige dimensjoner og returnerer en 1d-liste med de samme elementene.\n",
    "\n",
    "```python\n",
    ">>> listy = [[1, 2], [3, 4]]\n",
    ">>> flatten(listy)\n",
    "[1, 2, 3, 4]\n",
    "```\n",
    "\n"
   ]
  },
  {
   "cell_type": "code",
   "execution_count": 85,
   "metadata": {},
   "outputs": [
    {
     "name": "stdout",
     "output_type": "stream",
     "text": [
      "[1, 2, 3, 4]\n"
     ]
    }
   ],
   "source": [
    "def flatten(listy):\n",
    "    \"\"\"Flattens a 2D matrix\"\"\"\n",
    "    \n",
    "    flat_list = []\n",
    "    \n",
    "    for i in range(len(listy)):\n",
    "        for j in range(len(listy[i])):\n",
    "            flat_list.append(listy[i][j])\n",
    "            \n",
    "    return flat_list\n",
    "\n",
    "listy = [[1, 2], [3, 4]]\n",
    "print(flatten(listy))"
   ]
  },
  {
   "cell_type": "markdown",
   "metadata": {},
   "source": [
    "## Kont 2019"
   ]
  },
  {
   "cell_type": "markdown",
   "metadata": {},
   "source": [
    "### 5) Lese fra tekstfil (5%)\n",
    "\n",
    "Du er quizmaster på en pub, og elsker å stille obskure spørsmål om blant annet hovedstader og vil lage et Python-program for å automatisk sjekke fasit på en del mulige spørsmål. Du har allerede laget en tekstfil med nyttig data du fant på Wikipedia.\n",
    "\n",
    "```txt\n",
    "1;China PR;Beijing;20,693,000;1.52%\n",
    "2;India;New Delhi;16,787,949[2];1.10%\n",
    "3;Japan;Tokyo;13,491,000[3];10.67%\n",
    "4;Philippines;Manila;12,877,253[4];12.8%\n",
    "5;Russia;Moscow;11,541,000[5];8.07%\n",
    "6;Egypt;Cairo;10,230,350;11.10%\n",
    "``` \n",
    "\n",
    "Det første steget er å lage en funksjon som leser alle disse linjene til en liste av strenger, der hver streng tilsvarer en linje.\n",
    "\n",
    "Eks:\n",
    "```python\n",
    "['1;China PR;Beijing;20,693,000[1];1.52%', '2;India;New Delhi;16,787,949[2];1.10%',\n",
    "'3;Japan;Tokyo;13,491,000[3];10.67%', '4;Philippines;Manila;12,877,253[4];12.8%',\n",
    "'5;Russia;Moscow;11,541,000[5];8.07%', '6;Egypt;Cairo;10,230,350;11.10%' ]\n",
    "```\n",
    "\n",
    "Sett sammen de følgende linjene med kode til en fullstendig funksjon som beskrevet over. Husk riktig indentering:\n",
    "\n",
    "- `with open(filename, 'r') as file`\n",
    "- `result.append(line.strip())`\n",
    "- `for line in file:`\n",
    "- `return result`\n",
    "- `result = []`\n",
    "- `def file_to_list(filename):`"
   ]
  },
  {
   "cell_type": "code",
   "execution_count": 86,
   "metadata": {},
   "outputs": [],
   "source": [
    "def file_to_list(filename):\n",
    "    result = []\n",
    "    with open(filename, 'r') as file:\n",
    "        for line in file:\n",
    "            result.append(line.strip())\n",
    "            \n",
    "    return result"
   ]
  },
  {
   "cell_type": "markdown",
   "metadata": {},
   "source": [
    "### 6) Konvertere til tall (5%)\n",
    "\n",
    "På Wikipedia, og dermed også i fila du har lagd, har folketallene til hovedstadene inkludert komma for hvert tredje siffer for å øke leseligheten. Bak noen av tallene er det også fotnoter i klammeparanteser, se f.eks. Tokyo. `13,491,000[3]`. For å kunne konvertere fra streng til tall må vi kvitte oss med både klammeparanteser og heltall.\n",
    "\n",
    "Skriv en funksjon `population_to_int(population)` som tar inn en string og returnerer et heltall. Du kan anta at strengen som kommer inn ikke inneholder noen andre uvedkommede tegn enn fotnoter og komma.\n",
    "\n",
    "Eksempel på kjøringer\n",
    "```python\n",
    ">>> population_to_int('13,491,000[3]')\n",
    "13491000\n",
    ">>> population_to_int('10,230,350')\n",
    "10230350\n",
    ">>> population_to_int('1,435')\n",
    "1435\n",
    "```"
   ]
  },
  {
   "cell_type": "code",
   "execution_count": 90,
   "metadata": {},
   "outputs": [
    {
     "name": "stdout",
     "output_type": "stream",
     "text": [
      "13491000\n",
      "10230350\n",
      "1435\n"
     ]
    }
   ],
   "source": [
    "def population_to_int(population):\n",
    "    \"\"\"Takes a population string and converts it to a int\"\"\"\n",
    "\n",
    "    # First remove any commas\n",
    "    population = population.replace(\",\", \"\")\n",
    "    \n",
    "    # Then remove clam paranthesis with any number in it\n",
    "    while '[' in population and ']' in population:\n",
    "        start = population.index('[')\n",
    "        end = population.index(']', start)\n",
    "        population = population[:start] + population[end+1:]\n",
    "        \n",
    "    return int(population)\n",
    "    \n",
    "print(population_to_int('13,491,000[3]'))\n",
    "print(population_to_int('10,230,350'))\n",
    "print(population_to_int('1,435'))"
   ]
  },
  {
   "cell_type": "markdown",
   "metadata": {},
   "source": [
    "#### Her skulle det vært oppgaver 7-9, men de er tatt ut"
   ]
  },
  {
   "cell_type": "markdown",
   "metadata": {},
   "source": [
    "### 10) Unike bokstaver (7.5%)\n",
    "\n",
    "Du er nå gitt en ferdig behandlet 2d-liste på følgende format:\n",
    "\n",
    "```python\n",
    "countries = [\n",
    "    [\"China PR\", \"Beijing\", 20693000],\n",
    "    [\"India\", \"New Delhi\", 16787949],\n",
    "    [\"Japan\", \"Tokyo\", 13491000],\n",
    "    [\"Philippines\", \"Manilla\", 12877253],\n",
    "    [\"Russia\", \"Moscow\", 11541000],\n",
    "    [\"Egypt\", \"Cairo\", 10230350]\n",
    "]\n",
    "```\n",
    "\n",
    "Altså `[land, hovedstad, folketall]`. Skriv en funksjon `no_common_letters(countries)` som gitt denne listen finner alle land-hovedstad par med ingen felles bokstaver i navnet.\n",
    "\n",
    "Eks med listen over:\n",
    "\n",
    "```python\n",
    ">>> no_common_letters(countries)\n",
    "[[\"Japan\", \"Tokyo\"], [\"Egypt\", \"Cairo\"]]\n",
    "```"
   ]
  },
  {
   "cell_type": "code",
   "execution_count": 92,
   "metadata": {},
   "outputs": [
    {
     "name": "stdout",
     "output_type": "stream",
     "text": [
      "[['Japan', 'Tokyo'], ['Egypt', 'Cairo']]\n"
     ]
    }
   ],
   "source": [
    "def no_common_letters(countries):\n",
    "    \"\"\"Finds every pair of country and capital where they have no common letters\"\"\"\n",
    "    \n",
    "    no_commons_list = []\n",
    "    \n",
    "    for country, capital, _ in countries:\n",
    "        country_chars = set([c for c in country])\n",
    "\n",
    "        no_commons = True\n",
    "        \n",
    "        for c in capital:\n",
    "            if c in country_chars:\n",
    "                no_commons = False\n",
    "                break\n",
    "        \n",
    "        no_commons_list.append([country, capital]) if no_commons else None  \n",
    "    \n",
    "    return no_commons_list\n",
    "\n",
    "countries = [\n",
    "    [\"China PR\", \"Beijing\", 20693000],\n",
    "    [\"India\", \"New Delhi\", 16787949],\n",
    "    [\"Japan\", \"Tokyo\", 13491000],\n",
    "    [\"Philippines\", \"Manilla\", 12877253],\n",
    "    [\"Russia\", \"Moscow\", 11541000],\n",
    "    [\"Egypt\", \"Cairo\", 10230350]\n",
    "]\n",
    "print(no_common_letters(countries))\n",
    "            "
   ]
  },
  {
   "cell_type": "markdown",
   "metadata": {},
   "source": [
    "#### Her skulle det vært en oppgave 11, men den er tatt ut"
   ]
  },
  {
   "cell_type": "markdown",
   "metadata": {},
   "source": [
    "### 12) Lage dictionary (10%)\n",
    "\n",
    "En annen spørsmålstype du vurderer til quizzen din dreier seg om hovedstadsnavn hvor ingen bokstav forekommer to eller flere ganger. F.eks. vil \"Berlin\" tilfredsstille dette, med 6 unike bokstaver, mens \"Oslo\" ikke, fordi det har to \"o\"-er. \n",
    "\n",
    "Funksjonen `unique_letters()` skal gå gjennom hele lista av hovedsteder, med format som gitt tidligere:\n",
    "\n",
    "```python\n",
    "countries = [\n",
    "    [\"China PR\", \"Beijing\", 20693000],\n",
    "    [\"India\", \"New Delhi\", 16787949],\n",
    "    [\"Japan\", \"Tokyo\", 13491000],\n",
    "    [\"Philippines\", \"Manilla\", 12877253],\n",
    "    [\"Russia\", \"Moscow\", 11541000],\n",
    "    [\"Egypt\", \"Cairo\", 10230350]\n",
    "]\n",
    "```\n",
    "\n",
    "Den skal finne alle hovedstader som tilfredsstiller kravet, og returnere en **dictionary**. Nøkkelen i dictionaryet skal være **antall bokstaver**. \n",
    "Resultatet (med en liste som inneholdt alle hovedsteder i verden) ville inneholdt blant annet dette:\n",
    "\n",
    "```python\n",
    "{\n",
    "    10: [\"Bridgetown\"],\n",
    "    7: [\"Algiers\", \"Yaoundé\", \"Conakry\", \"Belfast\"],\n",
    "    9: [\"Singapore\", \"Bucharest\", \"Mogadishu\", \"Edinburgh\"],\n",
    "    ...\n",
    "}\n",
    "```\n",
    "\n",
    "Merk at \"Port Vila\" hører til i kategorien for 8 bokstaver, ikke 9, altså mellomrom teller _ikke_ som bokstaver."
   ]
  },
  {
   "cell_type": "code",
   "execution_count": 96,
   "metadata": {},
   "outputs": [
    {
     "name": "stdout",
     "output_type": "stream",
     "text": [
      "{4: ['Rome'],\n",
      " 5: ['Cairo', 'Abuja', 'Hanoi', 'Paris', 'Seoul'],\n",
      " 6: ['Berlin', 'Tehran', 'Riyadh'],\n",
      " 10: ['Bridgetown']}\n"
     ]
    }
   ],
   "source": [
    "def unique_letters(countries):\n",
    "    \"\"\"Returns a dict with all capitals with only unique letters and with length as key\"\"\"\n",
    "    \n",
    "    dictionary = {}\n",
    "    \n",
    "    for _, capital, _ in countries:\n",
    "        \n",
    "        unique = set(capital)\n",
    "        \n",
    "        if len(capital) == len(unique):\n",
    "            \n",
    "            # Check if key exists\n",
    "            if len(capital) not in dictionary.keys():\n",
    "                \n",
    "                # init key\n",
    "                dictionary[len(capital)] = []\n",
    "            \n",
    "            dictionary[len(capital)].append(capital)\n",
    "            \n",
    "    return dictionary\n",
    "\n",
    "countries = [\n",
    "    [\"China PR\", \"Beijing\", 20693000],\n",
    "    [\"India\", \"New Delhi\", 16787949],\n",
    "    [\"Japan\", \"Tokyo\", 13491000],\n",
    "    [\"Philippines\", \"Manila\", 12877253],\n",
    "    [\"Russia\", \"Moscow\", 11541000],\n",
    "    [\"Egypt\", \"Cairo\", 10230350],\n",
    "    [\"United States\", \"Washington, D.C.\", 705749],\n",
    "    [\"Indonesia\", \"Jakarta\", 10348348],\n",
    "    [\"Brazil\", \"Brasília\", 3015268],\n",
    "    [\"Pakistan\", \"Islamabad\", 1014825],\n",
    "    [\"Nigeria\", \"Abuja\", 1235880],\n",
    "    [\"Bangladesh\", \"Dhaka\", 8906039],\n",
    "    [\"Mexico\", \"Mexico City\", 8918653],\n",
    "    [\"Vietnam\", \"Hanoi\", 8000000],\n",
    "    [\"Ethiopia\", \"Addis Ababa\", 3340000],\n",
    "    [\"Germany\", \"Berlin\", 3748000],\n",
    "    [\"Turkey\", \"Ankara\", 5503985],\n",
    "    [\"Iran\", \"Tehran\", 8846782],\n",
    "    [\"Thailand\", \"Bangkok\", 10539000],\n",
    "    [\"France\", \"Paris\", 11020000],\n",
    "    [\"United Kingdom\", \"London\", 8982000],\n",
    "    [\"Italy\", \"Rome\", 2873000],\n",
    "    [\"South Africa\", \"Pretoria\", 741651],\n",
    "    [\"South Korea\", \"Seoul\", 9776000],\n",
    "    [\"Spain\", \"Madrid\", 6642000],\n",
    "    [\"Australia\", \"Canberra\", 426704],\n",
    "    [\"Canada\", \"Ottawa\", 994837],\n",
    "    [\"Saudi Arabia\", \"Riyadh\", 6506700],\n",
    "    [\"Colombia\", \"Bogotá\", 10700000],\n",
    "    [\"Argentina\", \"Buenos Aires\", 3075646],\n",
    "    [\"Barbados\", \"Bridgetown\", 277921]\n",
    "]\n",
    "pprint.pprint(unique_letters(countries))\n"
   ]
  }
 ],
 "metadata": {
  "kernelspec": {
   "display_name": "Python 3.9.10 64-bit (microsoft store)",
   "language": "python",
   "name": "python3"
  },
  "language_info": {
   "codemirror_mode": {
    "name": "ipython",
    "version": 3
   },
   "file_extension": ".py",
   "mimetype": "text/x-python",
   "name": "python",
   "nbconvert_exporter": "python",
   "pygments_lexer": "ipython3",
   "version": "3.10.13"
  },
  "toc": {
   "base_numbering": 1,
   "nav_menu": {},
   "number_sections": false,
   "sideBar": true,
   "skip_h1_title": false,
   "title_cell": "Table of Contents",
   "title_sidebar": "Contents",
   "toc_cell": false,
   "toc_position": {},
   "toc_section_display": true,
   "toc_window_display": false
  },
  "vscode": {
   "interpreter": {
    "hash": "84613ed7f399af20e1e2ef8af506be689ae865345b9dceeaa3cba33ce1bef069"
   }
  }
 },
 "nbformat": 4,
 "nbformat_minor": 2
}
