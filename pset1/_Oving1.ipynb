{
 "cells": [
  {
   "cell_type": "markdown",
   "metadata": {
    "run_control": {
     "frozen": true
    }
   },
   "source": [
    "# Øving 1\n",
    "\n",
    "**Læringsmål:**\n",
    "\n",
    "* Kunne bruke vanlige regneoperatorer i Python: addisjon + , subtraksjon – , multiplikasjon * , divisjon / , heltallsdivisjon '// , modulo % og potens **\n",
    "* Forstå forskjellen på de fire elementære datatypene: heltall (int), flyttall (float), tekststrenger (str) og sannhetsverdier (boolean)\n",
    "* Skjønne hvordan regneoperatorene virker for de ulike datatypene\n",
    "* Kunne bruke vitenskapelig notasjon for spesielt små og spesielt store flyttall\n",
    "* Forstå at kode må være uten feil for å kjøre, og kunne rette enkle syntaksfeil\n",
    "* Forstå hvorfor og hvordan vi bruker variable i programmering, og at variabeltilordning ikke er det samme som matematisk likhet\n",
    "* Kunne skrive ut til skjerm og lese inn data fra brukeren via tastaturet med standardfunksjonene print() og input()\n",
    "* Kunne utføre enkel konvertering mellom datatyper med standardfunksjoner som int() og float()\n",
    "\n",
    "**Starting Out with Python**\n",
    "\n",
    "* Kap. 2: Input, Processing, and Output\n",
    "\n",
    "\n",
    " \n",
    "\n",
    "## Godkjenning:\n",
    "\n",
    "For å få godkjent øvingen må du gjøre [Intro til Jupyter](Intro%20til%20jupyter.ipynb) oppgaven, [Funksjoner og kalkulasjoner](Kalkulasjoner.ipynb) oppgaven, [Plotting](Plotting.ipynb) oppgaven og ***2*** av ***8*** andre oppgaver. \n",
    "\n",
    "Oppgaver som er litt ekstra vanskelig er markert med stjerne. Oppgaver som går forbi det som er blitt forelest er markert med to stjerner.\n",
    "\n",
    "Alle oppgavene skal demonstreres til en læringsassistent på sal. I oppgaver der du skriver programkode skal også denne vises fram. Lykke til!\n",
    "\n",
    "\n",
    "Oppgave | Tema | Vanskelighetsgrad\n",
    "--- | --- | ---\n",
    "[Intro til Jupyter](Intro%20til%20jupyter.ipynb) | Jupyter notebooks | \n",
    "[Funksjoner og kalkulasjoner](Funksjoner%20og%20kalkulasjoner.ipynb)|Funksjoner og matteoperasjoner|\n",
    "[Plotting](Plotting.ipynb) | Plotting |\n",
    "[Tall- og Typekonvertering](Tall-%20og%20Typekonvertering.ipynb)| Konvertering |\n",
    "[Geometri](Geometri.ipynb)| Matematiske funksjoner |\n",
    "[Variable](Variable.ipynb)|Variabler|\n",
    "[Priser med og uten moms](Priser%20med%20og%20uten%20moms.ipynb)|Matteoperasjoner|\n",
    "[Avrundingsfeil - subtaksjon](Avrundingsfeil%20-%20subtraksjon.ipynb) | Flyttallrepresenatsjon | ![img](./../../Resources/Images/star_yellow.svg)\n",
    "[Avrundingsfeil - summering](Avrundingsfeil%20-%20summering.ipynb) | Flyttallrepresenatsjon | ![img](./../../Resources/Images/star_yellow.svg)\n",
    "[Vitenskapelig notasjon](Vitenskapelig%20notasjon.ipynb)|Konvertering|![img](./../../Resources/Images/star_yellow.svg)\n",
    "[Tetraeder](Tetraeder.ipynb)| Matematiske funksjoner |"
   ]
  }
 ],
 "metadata": {
  "celltoolbar": "Edit Metadata",
  "kernelspec": {
   "display_name": "Python 3 (ipykernel)",
   "language": "python",
   "name": "python3"
  },
  "language_info": {
   "codemirror_mode": {
    "name": "ipython",
    "version": 3
   },
   "file_extension": ".py",
   "mimetype": "text/x-python",
   "name": "python",
   "nbconvert_exporter": "python",
   "pygments_lexer": "ipython3",
   "version": "3.10.8"
  },
  "toc": {
   "base_numbering": 1,
   "nav_menu": {},
   "number_sections": false,
   "sideBar": true,
   "skip_h1_title": false,
   "title_cell": "Table of Contents",
   "title_sidebar": "Contents",
   "toc_cell": false,
   "toc_position": {},
   "toc_section_display": true,
   "toc_window_display": false
  }
 },
 "nbformat": 4,
 "nbformat_minor": 4
}
