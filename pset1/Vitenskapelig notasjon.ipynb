{
 "cells": [
  {
   "cell_type": "markdown",
   "metadata": {
    "run_control": {
     "frozen": true
    }
   },
   "source": [
    "<nav class=\"navbar navbar-default\">\n",
    "  <div class=\"container-fluid\">\n",
    "    <div class=\"navbar-header\">\n",
    "      <a class=\"navbar-brand\" href=\"_Oving1.ipynb\">Øving 1</a>\n",
    "    </div>\n",
    "    <ul class=\"nav navbar-nav\">\n",
    "        <li><a href=\"Intro%20til%20jupyter.ipynb\">Intro til Jupyter</a></li>\n",
    "        <li><a href=\"Funksjoner%20og%20kalkulasjoner.ipynb\">Funksjoner og kalkulasjoner</a></li>\n",
    "        <li><a href=\"Plotting.ipynb\">Plotting</a></li>\n",
    "        <li><a href=\"Tall-%20og%20Typekonvertering.ipynb\">Tall- og Typekonvertering</a></li>\n",
    "        <li><a href=\"Geometri.ipynb\">Geometri</a></li>\n",
    "        <li><a href=\"Variable.ipynb\">Variable</a></li>\n",
    "        <li><a href=\"Priser%20med%20og%20uten%20moms.ipynb\">Priser med og uten moms</a></li>\n",
    "        <li><a href=\"Avrundingsfeil%20-%20subtraksjon.ipynb\">Avrundingsfeil - subtraksjon</a></li>\n",
    "        <li><a href=\"Avrundingsfeil%20-%20summering.ipynb\">Avrundingsfeil - summering</a></li>\n",
    "        <li class = \"active\"><a href=\"Vitenskapelig%20notasjon.ipynb\">Vitenskapelig notasjon</a></li>\n",
    "        <li><a href=\"Tetraeder.ipynb\">Tetraeder</a></li>\n",
    "    </ul>\n",
    "  </div>\n",
    "</nav>\n",
    "\n",
    "# Vitenskapelig notasjon\n",
    "\n",
    "**Læringsmål:**\n",
    "\n",
    "* Vitenskapelig notasjon for spesielt små og spesielt store flyttall"
   ]
  },
  {
   "cell_type": "markdown",
   "metadata": {
    "heading_collapsed": true,
    "run_control": {
     "frozen": true
    }
   },
   "source": [
    "## Nyttig info om formatering av store (og små) tall"
   ]
  },
  {
   "cell_type": "markdown",
   "metadata": {
    "deletable": false,
    "editable": false,
    "hidden": true,
    "run_control": {
     "frozen": true
    }
   },
   "source": [
    "Når vi skriver flyttall i Python, er det enkleste ofte å skrive tallet rett frem, for eksempel 9.80665 eller 0.0002. Hvis tallet blir veldig stort (~$10^{6}$) eller lite (~$10^{-6}$), er det derimot tidkrevende å skrive tallet fullt ut, samtidig som at det lett dukker opp slurvefeil. Da vil resultatet av en beregning bli helt feil. Derfor er det vanlig å bruke vitenskapelig notasjon for store og små tall.\n",
    "\n",
    "I Python kan vi skrive tallene 3.0 × 10 $^{9}$ og 3.19 × 10$^{-10}$ ved bruk av multiplikasjon(`*`) og potensregning(`**`) slik: `3.0*10**9` og `3.19*10 **(-10)`. Det vil gi riktig resultat, men kaster bort tid og strøm på å gjøre helt unyttige beregninger, først en potensering, så en multiplikasjon, for å finne fram til et tall vi egentlig allerede vet hva er. Det er derfor bedre å bruke notasjonen `3.0e9` og `3.19e-10`, hvor tallet bak `e` viser tierpotensen for å uttrykke store og små tall. \n",
    "\n",
    "Notasjonen med `e` (som her ikke har noe med konstanten e å gjøre) lar oss legge tallet rett inn i variabelen uten noe regning. Eksemplet under viser bruk av denne notasjonen i linje 3.\n",
    "\n",
    "Eksempel på kode (**Prøv å kjør koden!**)"
   ]
  },
  {
   "cell_type": "code",
   "execution_count": 3,
   "metadata": {
    "ExecuteTime": {
     "end_time": "2019-07-01T12:28:51.461020Z",
     "start_time": "2019-07-01T12:28:46.220125Z"
    },
    "hidden": true
   },
   "outputs": [
    {
     "name": "stdout",
     "output_type": "stream",
     "text": [
      "Bra! Men for å nå igjen lyset...\n",
      "...må du løpe 100000000.0 ganger fortere\n",
      "som også kan skrives 1.0e+08 ganger fortere.\n"
     ]
    }
   ],
   "source": [
    "tid_60m = 20\n",
    "m_sek = 60/tid_60m\n",
    "lysfart = 3.0e8\n",
    "x = lysfart / m_sek\n",
    "print('Bra! Men for å nå igjen lyset...')\n",
    "print(f'...må du løpe {x} ganger fortere')\n",
    "print(f'som også kan skrives {format(x, \".1e\")} ganger fortere.')"
   ]
  },
  {
   "cell_type": "markdown",
   "metadata": {
    "hidden": true,
    "run_control": {
     "frozen": true
    }
   },
   "source": [
    "`.1e` i format viser at det er ønskelig med én desimal i den vitenskapelige notasjonen. `.2e` ville gitt `1.00e+08`. I tillegg til å bruke `format()`-funksjonen, kan f-strings \"innebygd\" formatere strenger:"
   ]
  },
  {
   "cell_type": "code",
   "execution_count": 4,
   "metadata": {
    "hidden": true
   },
   "outputs": [
    {
     "name": "stdout",
     "output_type": "stream",
     "text": [
      "Uten formatering er x = 3.3333333333333334e-09\n",
      "Med formaterting er x = 3.333e-09\n"
     ]
    }
   ],
   "source": [
    "lysfart = 3.0e8\n",
    "x = 1/lysfart\n",
    "print(f'Uten formatering er x = {x}')\n",
    "print(f'Med formaterting er x = {x:.3e}')"
   ]
  },
  {
   "cell_type": "markdown",
   "metadata": {
    "hidden": true
   },
   "source": [
    "Hvor `x:` sier \"la oss formatere stringen `x`\", og `.3e` sier at vi skal ha tre desimaler og vitenskapelig notasjon, slik som i eksempelet over."
   ]
  },
  {
   "cell_type": "markdown",
   "metadata": {
    "heading_collapsed": true,
    "run_control": {
     "frozen": true
    }
   },
   "source": [
    "## a) "
   ]
  },
  {
   "cell_type": "markdown",
   "metadata": {
    "hidden": true,
    "run_control": {
     "frozen": true
    }
   },
   "source": [
    "Plancks konstant, $6.626*10^{-34} J/s$, karakteriserer et _kvant_, den minste enheten av energi. Einstein viste, ved hjelp av Plancks konstant, at et _foton_ med frekvens $\\nu$ har energi $E = h\\nu$, hvor $h$ er _Plancks konstant_.\n",
    "\n",
    "I denne oppgaven skal du lage en funksjon `E(v)` som tar inn en frekvens $\\nu$ og gir ut energien til fotonet. Bruk vitenskapelig notasjon for Plancks konstant.\n",
    "\n",
    "***Skriv koden din i blokka under.***"
   ]
  },
  {
   "cell_type": "code",
   "execution_count": 5,
   "metadata": {
    "hidden": true
   },
   "outputs": [],
   "source": [
    "def E(v):\n",
    "    \"\"\"\n",
    "    Funksjonen tar in farten v og returnerer Energien\n",
    "    \"\"\"\n",
    "    h = 6.626e-34\n",
    "    return v*h"
   ]
  },
  {
   "cell_type": "markdown",
   "metadata": {
    "hidden": true
   },
   "source": [
    "Har du skrevet funksjonen rett, skal kodeblokken under gi følgende output:\n",
    "\n",
    "```python\n",
    "Rødt lys, som har frekvens 4.29e+14Hz, har en energi på 2.84e-19J\n",
    "```"
   ]
  },
  {
   "cell_type": "code",
   "execution_count": 6,
   "metadata": {
    "hidden": true
   },
   "outputs": [
    {
     "name": "stdout",
     "output_type": "stream",
     "text": [
      "Rødt lys, som har frekvens 4.29e+14Hz, har en energi på 2.84e-19J\n"
     ]
    }
   ],
   "source": [
    "v = 4.29e+14\n",
    "print(f'Rødt lys, som har frekvens {v:.2e}Hz, har en energi på {E(v):.2e}J')"
   ]
  },
  {
   "cell_type": "markdown",
   "metadata": {
    "heading_collapsed": true,
    "run_control": {
     "frozen": true
    }
   },
   "source": [
    "## b) "
   ]
  },
  {
   "cell_type": "markdown",
   "metadata": {
    "hidden": true
   },
   "source": [
    "Avogadros konstant 6.022 × 10<sup>23</sup> sier hvor mange molekyler av et stoff som fins i ett mol av stoffet. Lag en funksjon `molekyler_av_stoff(g, molvekt)` som bruker Avogadros konstant for å finne antall molekyler av et stoff, gitt antall `gram` man har av stoffet og `molvekt`en til stoffet.\n",
    " \n",
    "***Skriv koden din i kodeblokken under.***"
   ]
  },
  {
   "cell_type": "code",
   "execution_count": 9,
   "metadata": {
    "hidden": true
   },
   "outputs": [],
   "source": [
    "def molekyler_av_stoff(g, molvekt):\n",
    "    \"\"\"\n",
    "    Funksjon som tar inn g og molvekt og returnerer antall molekyler av et stoff\n",
    "    \"\"\"\n",
    "    AVOGADROS = 6.022e23\n",
    "    return g/molvekt*AVOGADROS"
   ]
  },
  {
   "cell_type": "markdown",
   "metadata": {
    "hidden": true
   },
   "source": [
    "Har du skrevet funksjonen rett, vil kodeblokken under gi følgende output:\n",
    "\n",
    "  \n",
    "```python\n",
    "Du har 1.7e+25 mokelyker vann\n",
    "```"
   ]
  },
  {
   "cell_type": "code",
   "execution_count": 10,
   "metadata": {
    "hidden": true
   },
   "outputs": [
    {
     "name": "stdout",
     "output_type": "stream",
     "text": [
      "Du har 1.7e+25 mokelyker vann\n"
     ]
    }
   ],
   "source": [
    "stoff = \"vann\"\n",
    "g = 500\n",
    "molvekt = 18\n",
    "\n",
    "molekyler = molekyler_av_stoff(g, molvekt)\n",
    "\n",
    "print(f'Du har {molekyler:.1e} mokelyker {stoff}')"
   ]
  },
  {
   "cell_type": "markdown",
   "metadata": {
    "deletable": false,
    "editable": false,
    "heading_collapsed": true,
    "hidden": true,
    "run_control": {
     "frozen": true
    }
   },
   "source": [
    "#### Hint"
   ]
  },
  {
   "cell_type": "markdown",
   "metadata": {
    "hidden": true,
    "run_control": {
     "frozen": true
    }
   },
   "source": [
    "Regn først ut antall mol ved å ta hvor mye stoff du har i antall gram og dele på molvekten. Deretter multipliserer du antall mol med avogadros tall."
   ]
  }
 ],
 "metadata": {
  "kernelspec": {
   "display_name": "Python 3 (ipykernel)",
   "language": "python",
   "name": "python3"
  },
  "language_info": {
   "codemirror_mode": {
    "name": "ipython",
    "version": 3
   },
   "file_extension": ".py",
   "mimetype": "text/x-python",
   "name": "python",
   "nbconvert_exporter": "python",
   "pygments_lexer": "ipython3",
   "version": "3.10.9"
  },
  "toc": {
   "base_numbering": 1,
   "nav_menu": {},
   "number_sections": false,
   "sideBar": true,
   "skip_h1_title": false,
   "title_cell": "Table of Contents",
   "title_sidebar": "Contents",
   "toc_cell": false,
   "toc_position": {},
   "toc_section_display": true,
   "toc_window_display": false
  }
 },
 "nbformat": 4,
 "nbformat_minor": 4
}
