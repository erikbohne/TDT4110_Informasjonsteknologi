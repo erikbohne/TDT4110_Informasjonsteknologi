{
 "cells": [
  {
   "cell_type": "markdown",
   "id": "b2dd49dc",
   "metadata": {},
   "source": [
    "<nav class=\"navbar navbar-default\">\n",
    "  <div class=\"container-fluid\">\n",
    "    <div class=\"navbar-header\">\n",
    "      <a class=\"navbar-brand\" href=\"_Oving1.ipynb\">Øving 1</a>\n",
    "    </div>\n",
    "    <ul class=\"nav navbar-nav\">\n",
    "        <li><a href=\"Intro%20til%20jupyter.ipynb\">Intro til Jupyter</a></li>\n",
    "        <li><a href=\"Funksjoner%20og%20kalkulasjoner.ipynb\">Funksjoner og kalkulasjoner</a></li>\n",
    "        <li><a href=\"Plotting.ipynb\">Plotting</a></li>\n",
    "        <li><a href=\"Tall-%20og%20Typekonvertering.ipynb\">Tall- og Typekonvertering</a></li>\n",
    "        <li><a href=\"Geometri.ipynb\">Geometri</a></li>\n",
    "        <li><a href=\"Variable.ipynb\">Variable</a></li>\n",
    "        <li><a href=\"Priser%20med%20og%20uten%20moms.ipynb\">Priser med og uten moms</a></li>\n",
    "        <li class = \"active\"><a href=\"Avrundingsfeil%20-%20subtraksjon.ipynb\">Avrundingsfeil - subtraksjon</a></li>\n",
    "        <li><a href=\"Avrundingsfeil%20-%20summering.ipynb\">Avrundingsfeil - summering</a></li>\n",
    "        <li><a href=\"Vitenskapelig%20notasjon.ipynb\">Vitenskapelig notasjon</a></li>\n",
    "        <li><a href=\"Tetraeder.ipynb\">Tetraeder</a></li>\n",
    "    </ul>\n",
    "  </div>\n",
    "</nav>\n",
    "\n",
    "# Avrundingsfeil, subtraksjon mellom nesten like tall\n",
    "\n",
    "**Læringsmål:**\n",
    "\n",
    "* Avrundingsfeil\n",
    "* Flyttallrepresentasjon\n",
    "* Binære tall"
   ]
  },
  {
   "cell_type": "markdown",
   "id": "528e52b5",
   "metadata": {
    "heading_collapsed": true
   },
   "source": [
    "## Tutorial: Binære tall"
   ]
  },
  {
   "cell_type": "markdown",
   "id": "7293b584",
   "metadata": {
    "hidden": true
   },
   "source": [
    "Du har sikkert hørt at datamaskiner er bygd opp av $1$-ere og $0$-ere. Dette er sant, og tallen kalles for binære tall. Binære tall er egentlig ikke noe skummelt, men kan være vankskelig å \"wrappe\" hodet rundt i starten. \n",
    "\n",
    "Til vanlig er vi vant med titallsystemet (base 10). Alle tall vi vanligvis jobber med og tenker på er bygd opp av tallene fra $0-9$. F.eks er $153$ bygd opp av $1$, $5$ og $3$. Binære tall er også kalt base 2 eller totallsystemet, og basen vår i totallsystemet er tallene $0$ og $1$. Med andre ord er alle tall i totallsystemet bygget opp av disse to tallene. For eksempel er $153$ i binært $10011001$.\n",
    "\n",
    "Andre måter å tenke på denne oppbyggingen av tall er ved hjelp av base-tallet ($10$ eller $2$). F.eks er $153$ lik $1 * 10^2 + 5 * 10^1 + 3 * 10^0$ (eller $100 + 50 + 3$). Akkurat det samme gjelder for binære tall. $10011001 = 1 * 2^7 + 0 * 2^6 + 0 * 2^5 + 1 * 2^4 + 1 * 2^3 + 0 * 2^2 + 0 * 2^1 + 1 * 2^0 = 153$"
   ]
  },
  {
   "cell_type": "markdown",
   "id": "9af175c4",
   "metadata": {
    "heading_collapsed": true
   },
   "source": [
    "## Tutorial: Flyttallrepresentasjon"
   ]
  },
  {
   "cell_type": "markdown",
   "id": "0aac08d2",
   "metadata": {
    "hidden": true
   },
   "source": [
    "Ved bruk av samme måte som vi kan representere heltall i base 10 med basetallet ($1 * 10^2 + 5 * 10^1 + 3 * 10^0$), kan vi representere desimaltall (flytall) med basetallet. Vi bare gjør eksponenten negativ. For eksempel har tallet $0.125$ (base 10) verdien $\\frac{1}{10} + \\frac{2}{100} + \\frac{5}{10000}$ eller $1 * 10^{-1} + 2 * 10^{-2} + 5 * 10^{-3}$ . I totallsystemet (eller base 2 / binært / binary) er $0.125$ lik $0.001$. Representert ved hjelp av basetallet får vi $\\frac{0}{2} + \\frac{0}{4} + \\frac{1}{8}$ (eller $0 * 2^{-1} + 0 * 2^{-2} + 1 * 2^{-3}$). \n",
    "\n",
    "Dessverre, kan vi ikke representere alle mulige desimaltall helt korrekt. $\\frac{1}{3}$ (base 10) vet vi er $0.33333...$. dette kan vi runde av til$0.3$, som blir $\\frac{3}{10}$. Eventuelt kan vi være mer presise ved å gjøre $\\frac{3}{10} + \\frac{3}{100}$ og få $0.33$ eller $\\frac{3}{10} + \\frac{3}{100} + \\frac{3}{1000}$ for å få $0.333$ osv.. I binært er dette enda verre. Ta for eksempel desimaltallet $0.1$ (base 10). Dette tallet kan ikke representeres nøyaktig med binære tall. Vi kan jo prøve. Fra over vet vi at flyttall i binært representeres ved $2$ med negative eksponenter: \n",
    "* $1 * 2^{-1} = 0.5$. Det vil si vi er over $0.1$. Det binære tallet vårt er hittil $0.0$\n",
    "* Hva med $1 * 2^{-2}$? Det er $0.25$ - fortsatt over. Det binære tallet vårt er hittil $0.00$\n",
    "* $1 * 2^{-3}$? $0.125$. Fortsatt over. Det binære tallet vårt er hittil $0.000$\n",
    "* $1 * 2^{-4}$? $0.0625$. Kult, nå er vi under. Det binære tallet vårt er nå $0.0001$, men vi er nå under $0.1$ (base 10)\n",
    "* $1 * 2^{-4} + 1 * 2^{-5} = 0.09375$. Under $0.1$, så vi har det binære tallet $0.00011$ nå.\n",
    "* $1 * 2^{-4} + 1 * 2^{-5} + 1 * 2^{-6} = 0.109375$. Nå er vi over igjen, så vi får det binære tallet $0.000110$\n",
    "* $1 * 2^{-4} + 1 * 2^{-5} + 1 * 2^{-7} = 0.1015625$. Forstatt over, så vi får det binære tallet $0.0001100$\n",
    "* La oss ta én til før vi stopper. $1 * 2^{-4} + 1 * 2^{-5} + 1 * 2^{-8} = 0.09765625$. Nå er vi under igjen og får det binære tallet $0.00011001$. \n",
    "\n",
    "Slik kan vi fortsette ut i evigheten, uten å få nøyaktig $0.1$. Vi approksimerer derfor $0.1$ til et tall _veldig nærme_ $0.1$, men ikke akkurat $0.1$. Dette skjer i datamaskiner og i Python også, noe som gjør at vi kan få avrundingsfeil. Et veldig klassisk eksempel på dette er $0.1 + 0.2$, som vi forventer at skal bli $0.3$. Prøv å kjøre kodeblokken under og se hva output blir."
   ]
  },
  {
   "cell_type": "code",
   "execution_count": 1,
   "id": "61abb57c",
   "metadata": {
    "hidden": true
   },
   "outputs": [
    {
     "name": "stdout",
     "output_type": "stream",
     "text": [
      "0.1 + 0.2 = 0.30000000000000004\n",
      "0.1 + 0.2 == 0.3? False\n"
     ]
    }
   ],
   "source": [
    "print(f'0.1 + 0.2 = {0.1 + 0.2}')\n",
    "print(f'0.1 + 0.2 == 0.3? {0.1 + 0.2 == 0.3}')"
   ]
  },
  {
   "cell_type": "markdown",
   "id": "6590f7e5",
   "metadata": {
    "hidden": true
   },
   "source": [
    "I kodeblokken over ser du at $0.1 + 0.2$ faktisk ikke er $0.3$ i Python. Dette er siden vi ikke kan representere $0.1$ og $0.2$ nøyaktig i binær form. \n",
    "\n",
    "Python representerer flyttall med 32 bits, etter IEEE 754-standarden. Denne standarden sier, forkortet, at tall :\n",
    "\n",
    "* Bruk en bit til fortegn (sign) ($+ / -$)\n",
    "* Bruk 8 bit til eksponent (exponent)\n",
    "* Bruk 23 bit til signifikanten (fraction)\n",
    "\n",
    "Det er en matematisk formel for å representere slike tall, men her ser vi på et litt lettere eksempel. Ta tallet $625.9$. Det kan skrives som $0.6259 * 10^3$. Her er $0.6259$ _signifikanten_ og $3$ er _eksponenten_. I binært, etter IEEE 745-standarden, er dette $0\\;10001000\\;00111000111100110011010$ (delt opp slik at det blir lettere å lese). Den første biten ($0$) sier at dette er et positivt tall (fortegnet). De åtte neste bitsene ($10001000$) er eksponenten ($136$). Dette er en veldig høy eksponent, og dette er fordi den faktiske eksponenten er $127$ mindre, da altså $9$. De siste $23$ bitene ($00111000111100110011010$) er signifikanten. Denne blir regnet ut til å være $2^0 + (2^{-3} + 2^{-4} + 2^{-5} + 2^{-9} + 2^{-10}+ 2^{- 11} + 2^{-12}+ 2^{-15} + 2^{-16} + 2^{-19} + 2{-20} + 2^{-22}) = 1.22246098518$ hvor parentesen er signifikanten omgjort til binærrepresentasjon av flyttall. Resultatet blir $1.22246098518 * 2^9 = 625.9$ (ish). (Signifikant ganger 2 opphøyd i eksponent)\n",
    "\n",
    "En slik $32$-bit representasjon av flyttall kalles for \"single precision\" floating point number. Dersom vi hadde brukt $64$ bit for å representere hadde vi hatt en \"double precision\" floating point number. \n",
    "\n",
    "Du kan lese mer om IEEE 754-standarden [her](https://en.wikipedia.org/wiki/IEEE_754)."
   ]
  },
  {
   "cell_type": "markdown",
   "id": "d6016823",
   "metadata": {
    "heading_collapsed": true
   },
   "source": [
    "## a) Tredje kvadratsetning"
   ]
  },
  {
   "cell_type": "markdown",
   "id": "b3be988f",
   "metadata": {
    "hidden": true
   },
   "source": [
    "Matematisk er $(a+b)(a-b)$ ekvivalent med $a^2 – b^2$ og de to skal dermed ideelt sett gi samme resultat. Beregninger med flyttall med endelig presisjon i en datamaskin kan imidlertid gi ulike resultat, hvor typisk den ene utregningsmåten er mer sårbar for avrundingsfeil enn den andre.\n",
    "\n",
    "Lag tre funksjoner:\n",
    "\n",
    "* `a_pluss_b_ganger_a_minus_b(a, b)` som tar inn tallene `a` og `b` og returnerer $(a+b)(a-b)$\n",
    "* `a_opphoyd_i_annen_minus_b_opphoyd_i_annen(a, b)` som tar inn tallene `a` og `b` og returnerer $a^2 – b^2$\n",
    "* `avvik(a, b)` som tar inn tallene `a` og `b` og returnerer avviket mellom $(a+b)(a-b)$ og $a^2 – b^2$\n",
    "\n",
    "Svar også på følgende spørsmål:\n",
    "\n",
    "Hvorfor skjer det en slik avrundingsfeil? Hvilken av måtene å regne ut $a^2 - b^2$ er å foretrekke?\n",
    "\n",
    "***Skriv koden din i kodeblokken under. Skriv svaret på spørsmålet som en kommentar i koden***"
   ]
  },
  {
   "cell_type": "code",
   "execution_count": 6,
   "id": "b0ce1918",
   "metadata": {
    "hidden": true
   },
   "outputs": [
    {
     "name": "stdout",
     "output_type": "stream",
     "text": [
      "0.21^2 - 0.2^2 = 0.0040999999999999925\n",
      "0.21^2 - 0.2^2 = 0.004099999999999986\n",
      "Avvik mellom de to regnemetodene = 6.938893903907228e-18\n"
     ]
    }
   ],
   "source": [
    "def a_pluss_b_ganger_a_minus_b(a, b):\n",
    "    \"\"\"\n",
    "    tar inn tallene a og b og returnerer (a+b)(a-b)\n",
    "    \"\"\"\n",
    "    return (a+b)*(a-b)\n",
    "    \n",
    "def a_opphoyd_i_annen_minus_b_opphoyd_i_annen(a, b):\n",
    "    \"\"\"\n",
    "    tar inn tallene a og b og returnerer a^2 - b^2\n",
    "    \"\"\"\n",
    "    return a**2 - b**2\n",
    "    \n",
    "def avvik(a, b):\n",
    "    \"\"\"\n",
    "    tar inn tallene a og b og returnerer avviket mellom (a+b)(a-b) og a^2 - b^2\n",
    "    \"\"\"\n",
    "    avviket = a_pluss_b_ganger_a_minus_b(a, b) - a_opphoyd_i_annen_minus_b_opphoyd_i_annen(a, b)\n",
    "    return avviket\n",
    "\n",
    "# Definerer a og b\n",
    "a = 0.21\n",
    "b = 0.2\n",
    "\n",
    "# Printer resultatene\n",
    "print(f'{a}^2 - {b}^2 = {a_pluss_b_ganger_a_minus_b(a, b)}')\n",
    "print(f'{a}^2 - {b}^2 = {a_opphoyd_i_annen_minus_b_opphoyd_i_annen(a, b)}')\n",
    "print(f'Avvik mellom de to regnemetodene = {avvik(a, b)}')"
   ]
  },
  {
   "cell_type": "markdown",
   "id": "ce653a5b",
   "metadata": {
    "hidden": true
   },
   "source": [
    "Hvis du har gjort alt rett, skal kodeblokken under gi følgende output:\n",
    "\n",
    "```python\n",
    "0.21^2 - 0.2^2 = 0.0040999999999999925\n",
    "0.21^2 - 0.2^2 = 0.004099999999999986\n",
    "Avvik mellom de to regnemetodene = 6.938893903907228e-18\n",
    "```"
   ]
  },
  {
   "cell_type": "code",
   "execution_count": 7,
   "id": "a98b289c",
   "metadata": {
    "hidden": true
   },
   "outputs": [
    {
     "name": "stdout",
     "output_type": "stream",
     "text": [
      "0.21^2 - 0.2^2 = 0.0040999999999999925\n",
      "0.21^2 - 0.2^2 = 0.004099999999999986\n",
      "Avvik mellom de to regnemetodene = 6.938893903907228e-18\n"
     ]
    }
   ],
   "source": [
    "a = 0.21\n",
    "b = 0.2\n",
    "\n",
    "print(f'0.21^2 - 0.2^2 = {a_pluss_b_ganger_a_minus_b(a, b)}')\n",
    "print(f'0.21^2 - 0.2^2 = {a_opphoyd_i_annen_minus_b_opphoyd_i_annen(a, b)}')\n",
    "print(f'Avvik mellom de to regnemetodene = {avvik(a, b)}')"
   ]
  },
  {
   "cell_type": "markdown",
   "id": "f790cf1e",
   "metadata": {
    "heading_collapsed": true
   },
   "source": [
    "## b) Flate trekanter"
   ]
  },
  {
   "cell_type": "markdown",
   "id": "e8a56652",
   "metadata": {
    "hidden": true
   },
   "source": [
    "Hvis man ikke kjenner høyden på en trekant (og dermed ikke kan bruke den vanligste formelen for beregning av areal), men kjenner lengden på alle de tre sidene $a$, $b$ og $c$, kan man regne ut arealet ved formelen $A = \\sqrt{s(s-a)(s-b)(s-c)}$ , der $s = (a+b+c)/2$. Hvis trekanten er svært flat, vil den lengste siden $a$ være nesten like stor som $s$, slik at faktoren (s-a) gir subtraksjon av to nesten like tall, som er kjent for å kunne gi avrundingsfeil. For å unngå dette problemet, kan man i stedet bruke formelen $A = \\frac{\\sqrt{(a + (b + c))(c - (a - b))(c + (a - b))(a + (b - c))}}{4}$. Matematisk er de to formlene ekvivalente, men i praktisk beregning kan de gi ulike resultat.\n",
    "\n",
    "Funksjonen for $s$ og funksjon for avvik mellom de to formlene er allerede laget for deg under. Husk å kjøre denne kodeblokken om du vil bruke disse funksjonene:"
   ]
  },
  {
   "cell_type": "code",
   "execution_count": 19,
   "id": "cb218f8c",
   "metadata": {
    "hidden": true
   },
   "outputs": [],
   "source": [
    "def side(a, b, c):\n",
    "    return (a + b + c) / 2\n",
    "\n",
    "def avvik2(a, b, c):\n",
    "    return areal1(a, b, c) - areal2(a, b, c)"
   ]
  },
  {
   "cell_type": "markdown",
   "id": "351496aa",
   "metadata": {
    "hidden": true
   },
   "source": [
    "Din oppgave er:\n",
    "\n",
    "* Lag to funksjoner. `areal1(a, b, c)` tar inn sidene i en trekant, `a`, `b` og `c` og returnerer arealet av trekanten basert på den første formelen over. Den andre funksjonen `areal2(a, b, c)` gjør det samme, men med den andre formelen.\n",
    "* Kall på funksjonen `avvik2(a, b, c)` med forskjellige verdier av `a`, `b` og `c`, og observer når det dukker opp et avvik mellom de to formlene\n",
    "\n",
    "***Skriv koden din i kodeblokken under***"
   ]
  },
  {
   "cell_type": "code",
   "execution_count": 20,
   "id": "ee108f02",
   "metadata": {
    "hidden": true
   },
   "outputs": [],
   "source": [
    "import numpy as np\n",
    "\n",
    "def areal1(a, b, c):\n",
    "    \"\"\"\n",
    "    Regner ut arealet av trekanten gitt sidene a, b og c\n",
    "    \"\"\"\n",
    "    s = side(a, b, c)\n",
    "    return np.sqrt(s*(s-a)*(s-b)*(s-c))\n",
    "\n",
    "def areal2(a, b, c):\n",
    "    \"\"\"\n",
    "    Regner ut arealet av trekanten gitt sidene a, b og c\n",
    "    \"\"\"\n",
    "    return np.sqrt((a+(b+c))*(c-(a-b))*(c+(a-b))*(a+(b-c)))/4"
   ]
  },
  {
   "cell_type": "markdown",
   "id": "bb54fc16",
   "metadata": {
    "hidden": true
   },
   "source": [
    "Hvis du har skrevet funksjonene rett, skal kodeblokken nedenfor, med `a = 4`, `b = 3.9` og `c = a + b - 1` gi følgende output:\n",
    "\n",
    "```python\n",
    "Areal med første formel: 6.635510530471639\n",
    "Areal med andre formel: 6.635510530471637\n",
    "Avvik mellom formlene: 1.7763568394002505e-15\n",
    "```"
   ]
  },
  {
   "cell_type": "code",
   "execution_count": 21,
   "id": "539ddbdb",
   "metadata": {
    "hidden": true
   },
   "outputs": [
    {
     "name": "stdout",
     "output_type": "stream",
     "text": [
      "Areal med første formel: 6.635510530471639\n",
      "Areal med andre formel: 6.635510530471637\n",
      "Avvik mellom formlene: 1.7763568394002505e-15\n"
     ]
    }
   ],
   "source": [
    "# Lek deg med a, b og c her!\n",
    "\n",
    "a = 4\n",
    "b = 3.9\n",
    "c = a + b - 1\n",
    "\n",
    "print(f'Areal med første formel: {areal1(a, b, c)}')\n",
    "print(f'Areal med andre formel: {areal2(a, b, c)}')\n",
    "print(f'Avvik mellom formlene: {avvik2(a, b, c)}')"
   ]
  },
  {
   "cell_type": "markdown",
   "id": "bc4a5ad7",
   "metadata": {
    "hidden": true
   },
   "source": [
    "### Hint:"
   ]
  },
  {
   "cell_type": "markdown",
   "id": "2c916dde",
   "metadata": {
    "hidden": true
   },
   "source": [
    "Husk å importere `numpy` og bruke `np.sqrt()` for kvadratrot."
   ]
  }
 ],
 "metadata": {
  "kernelspec": {
   "display_name": "Python 3 (ipykernel)",
   "language": "python",
   "name": "python3"
  },
  "language_info": {
   "codemirror_mode": {
    "name": "ipython",
    "version": 3
   },
   "file_extension": ".py",
   "mimetype": "text/x-python",
   "name": "python",
   "nbconvert_exporter": "python",
   "pygments_lexer": "ipython3",
   "version": "3.10.8"
  }
 },
 "nbformat": 4,
 "nbformat_minor": 5
}
