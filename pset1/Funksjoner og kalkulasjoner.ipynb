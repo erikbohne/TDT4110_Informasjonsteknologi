{
 "cells": [
  {
   "cell_type": "markdown",
   "metadata": {
    "run_control": {
     "frozen": true
    }
   },
   "source": [
    "<nav class=\"navbar navbar-default\">\n",
    "  <div class=\"container-fluid\">\n",
    "    <div class=\"navbar-header\">\n",
    "      <a class=\"navbar-brand\" href=\"_Oving1.ipynb\">Øving 1</a>\n",
    "    </div>\n",
    "    <ul class=\"nav navbar-nav\">\n",
    "        <li><a href=\"Intro%20til%20jupyter.ipynb\">Intro til Jupyter</a></li>\n",
    "        <li class = \"active\"><a href=\"Funksjoner%20og%20kalkulasjoner.ipynb\">Funksjoner og kalkulasjoner</a></li>\n",
    "        <li><a href=\"Plotting.ipynb\">Plotting</a></li>\n",
    "        <li><a href=\"Tall-%20og%20Typekonvertering.ipynb\">Tall- og Typekonvertering</a></li>\n",
    "        <li><a href=\"Geometri.ipynb\">Geometri</a></li>\n",
    "        <li><a href=\"Variable.ipynb\">Variable</a></li>\n",
    "        <li><a href=\"Priser%20med%20og%20uten%20moms.ipynb\">Priser med og uten moms</a></li>\n",
    "        <li><a href=\"Avrundingsfeil%20-%20subtraksjon.ipynb\">Avrundingsfeil - subtraksjon</a></li>\n",
    "        <li><a href=\"Avrundingsfeil%20-%20summering.ipynb\">Avrundingsfeil - summering</a></li>\n",
    "        <li><a href=\"Vitenskapelig%20notasjon.ipynb\">Vitenskapelig notasjon</a></li>\n",
    "        <li><a href=\"Tetraeder.ipynb\">Tetraeder</a></li>\n",
    "    </ul>\n",
    "  </div>\n",
    "</nav>\n",
    "\n",
    "# Funksjoner og kalkulasjoner\n",
    "\n",
    "**Læringsmål**:\n",
    "\n",
    "* Funksjoner\n",
    "* Aritmetikk\n",
    "* Matematiske utrykk i Python\n",
    "\n",
    "\n",
    "I denne oppgaven skal du lære hvordan du skriver matematiske uttrykk for å gjøre utregninger i Python. I tillegg skal du lære enkel bruk og opprettelse av funksjoner."
   ]
  },
  {
   "cell_type": "markdown",
   "metadata": {
    "deletable": false,
    "heading_collapsed": true,
    "run_control": {
     "frozen": true
    },
    "solution": "hidden"
   },
   "source": [
    "### Tutorial - Matteoperasjoner del 1: Vanlige operatorer, parenteser, presedens\n",
    "Les gjerne denne før du starter med oppgavene"
   ]
  },
  {
   "cell_type": "markdown",
   "metadata": {
    "deletable": false,
    "editable": false,
    "hidden": true,
    "run_control": {
     "frozen": true
    }
   },
   "source": [
    "Det er mange likheter mellom Python og vanlig matematisk skrivemåte av aritmetiske uttrykk, men også noen forskjeller.\n",
    "\n",
    "Tabellen under oppsummerer det mest grunnleggende:\n",
    "    \n",
    "Matematikk | Python | Merknad\n",
    "--- | --- | ---\n",
    "a + b | a + b | Det er vanlig å sette et mellomrom på hver side av + men ikke påkrevd. <br> Kunne også ha skrevet a+b. Samme gjelder for andre regneoperatorer. <br> Smak og behag, men litt luft gjør ofte uttrykk lettere å lese.\n",
    "a - b | a - b | Bruk det vanlige bindestrek-tegnet for minus\n",
    "a · b |a * b| Bruk stjerntegn (asterisk) for multiplikasjon\n",
    "ab|<span style=\"color:red\">**NEI**</span>| I Python må gangetegn **alltid** skrives eksplisitt, kan ikke utelates\n",
    "a : b|a / b|Vanlig skråstrek brukes for divisjon, **ikke** kolon eller horsintal brøkstrek.\n",
    "a<sup>b</sup>|a ** b| Dobbel stjerne for potens. De to stjernene må stå kloss inntil hverandre.\n",
    "[(a + b) * c - d]|((a + b) * c - d)|I matematisk notasjon brukes av og til ulike parentessymboler () [] {} <br> hvis det er uttrykk med flere nivåer av parenteser nøstet inn i hverandre. <br> I Python må vanlig parentes () brukes for **alle** nivåer. [] og {} har en annen betydning.\n",
    "\n",
    "**Presedens** mellom operatorer fungerer som i matematikken.\n",
    "\n",
    "* Multiplikasjon og divisjon har høyere presedens enn addisjon og subtraksjon.\n",
    " * 3 + 2 * 5 blir 13, fordi * gjøres før +.\n",
    " * 5 - 1 / 2 blir 4.5, fordi / gjøres før -.\n",
    "* Potens har høyere presedens enn multiplikasjon og divisjon.\n",
    " * 5 * 2 ** 3 blir 40, fordi ** gjøres før *.\n",
    "* Parenteser kan brukes for å få en annen rekkefølge på regneoperasjonene:\n",
    " * (3 + 2) * 5 blir 25, fordi + gjøres før *.\n",
    " * (5 - 1) / 2 blir 2, fordi - gjøres før /.\n",
    " * (5 * 2) ** 3 blir 343, fordi * nå gjøres før **.\n",
    "* Hvis du skal \"oversette\" et matematisk uttrykk med parenteser til Python, bruk parenteser på samme sted også i Python-koden.\n",
    "\n",
    "**I noen tilfeller kan du trenge ekstra parenteser i Python-koden som ikke var i det matematiske uttrykket. F.eks.:** \n",
    "\n",
    " $$\\frac{2-x}{2+x}$$  \n",
    "\n",
    "Horisontal brøkstrek viser tydelig at hele 2-x er teller og hele 3+x nevner. Med Pythons skråstrek for divisjon må man bruke parenteser her: (2 - x) / (3 + x)\n",
    "\n",
    " $$3^{xy+1}$$\n",
    "\n",
    "Opphøyet skrift viser at hele xy+1 er potensen. I Python må man skrive 3 ** (x * y + 1)."
   ]
  },
  {
   "cell_type": "markdown",
   "metadata": {
    "deletable": false,
    "editable": false,
    "heading_collapsed": true,
    "run_control": {
     "frozen": true
    }
   },
   "source": [
    "### a) Korrekt programmering av aritmetiske utrykk"
   ]
  },
  {
   "cell_type": "markdown",
   "metadata": {
    "deletable": false,
    "hidden": true,
    "run_control": {
     "frozen": true
    }
   },
   "source": [
    "Skriv følgende matematikk-setninger korrekt i Python:\n",
    "\n",
    "La $a$ være $2$\n",
    "\n",
    "La $b$ være $3$\n",
    "\n",
    "La $c$ være $5a + b$\n",
    "\n",
    "La $d$ være $a * b + c$\n",
    "\n",
    "La $e$ være $\\frac{-b + 4}{a - 4}$\n",
    "\n",
    "La $f$ være $5^{a * b + 2}$\n",
    "\n",
    "La $g$ være $[(a + b) * c - d]$\n",
    "\n",
    "**_Skriv koden din i kodeblokken under_**"
   ]
  },
  {
   "cell_type": "code",
   "execution_count": 6,
   "metadata": {
    "hidden": true
   },
   "outputs": [],
   "source": [
    "a = 2\n",
    "b = 3\n",
    "c = 5*a + b\n",
    "d = a * b + c\n",
    "e = (-b + 4) / (a - 4)\n",
    "f = 5 ** (a * b + 2)\n",
    "g = (a + b) * c - d"
   ]
  },
  {
   "cell_type": "markdown",
   "metadata": {
    "hidden": true
   },
   "source": [
    "Kjør kodeblokken under for å se at koden din fungerer som forventet. Hvis du har gjort alt rett, vil output være:\n",
    "\n",
    "```python\n",
    "2\n",
    "3\n",
    "13\n",
    "19\n",
    "-0.5\n",
    "390625\n",
    "46\n",
    "```"
   ]
  },
  {
   "cell_type": "code",
   "execution_count": 7,
   "metadata": {
    "hidden": true
   },
   "outputs": [
    {
     "name": "stdout",
     "output_type": "stream",
     "text": [
      "2\n",
      "3\n",
      "13\n",
      "19\n",
      "-0.5\n",
      "390625\n",
      "46\n"
     ]
    }
   ],
   "source": [
    "# Kjør denne kodeblokken for å sjekke at koden du har skrevet over er rett\n",
    "print(a)\n",
    "print(b)\n",
    "print(c)\n",
    "print(d)\n",
    "print(e)\n",
    "print(f)\n",
    "print(g)"
   ]
  },
  {
   "cell_type": "markdown",
   "metadata": {
    "heading_collapsed": true
   },
   "source": [
    "### Tutorial - Funksjoner:\n",
    "Les gjerne denne før du begynner på oppgaven"
   ]
  },
  {
   "cell_type": "markdown",
   "metadata": {
    "hidden": true
   },
   "source": [
    "I tillegg til likheter mellom matematikk og Python med hensyn til aritmetiske uttrykk, finnes det likheter for funksjoner. I matematikken mapper funksjoner en input $X$ til en output $Y$. Vi kan for eksempel ha funksjonen $f(x) = 2x + 3$, som mapper inputen $x$ til $2x + 3$. Setter man inn en verdi i denne funksjonen, f.eks $2$, vil man få outputen $2 * 2 + 3 = 4 + 3 = 7$. \n",
    "\n",
    "Det samme gjelder for funksjoner i Python. Forskjellen mellom funksjoner i Python og funksjoner i matematikken er at  i Python trenger ikke nødvendigvis funksjonene å være matematiske. I tillegg er det en forskjell i opprettelsen av funksjonene. Denne øvingen vil gi en smakebit på bruk av funksjoner i Python, resten kommer i en senere øving. \n",
    "\n",
    "I denne øvingen skal du lære å skrive matematiske funksjoner, som over, i Python. En funksjon i Python defineres med `def`-nøkkelordet. Deretter kommer et funksjonsnavn, for eksempel `f`. Funksjonsnavnet kan være hva som helst, så lenge det følger de vanlige reglene for variabelnavn. Funksjonsdefinisjonen avsluttes med parenteser `()` og kolon `:`. Parentesene kan være tomme, eller de kan inneholde _parametere_ som i matematikken. Et parameter i matematikken er gjerne `x`, og er et tall. I Python kan parameterene være av hvilken som helst variabeltype, og er en helt vanlig variabel.\n",
    "\n",
    "Etter definisjonen av funksjonen kommer funksjonskroppen. Her skiller funksjonene i Python seg mest ut fra matematiske funksjoner. Matematiske funksjoner gir deg kun ett output. De gjør kun én ting. Funksjoner i Python kan være lengre og gjøre flere ting før den gir output. Dette kan f.eks være å sjekke at parameteren som gis med i funksjonen er korrekt, eller mellomlagre verdier og gjøre flere utregninger. \n",
    "\n",
    "Når en funksjon i Python skal gi output brukes `return`-nøkkelordet. Her sier man \"returner denne verdien\". Den returnerte verdien kan være av hvilken som helst variabeltype, i motsetning til matematikken som gir et tall som output. "
   ]
  },
  {
   "cell_type": "markdown",
   "metadata": {
    "hidden": true
   },
   "source": [
    "Eksempel på den matematiske funksjonen $f(x) = 2x + 3$ i Python:"
   ]
  },
  {
   "cell_type": "code",
   "execution_count": 8,
   "metadata": {
    "hidden": true
   },
   "outputs": [],
   "source": [
    "def f(x): # Definerer funksjonen\n",
    "    return 2 * x + 3 # Returnerer parameteren x ganget med 2 og plusset med 3"
   ]
  },
  {
   "cell_type": "markdown",
   "metadata": {
    "hidden": true
   },
   "source": [
    "Når en funksjon står for seg selv, som funksjonen over, får vi ingen output når vi kjører koden. Funksjonen er kun _definert_, akkurat som når man oppretter seg en variabel. På samme måte som man ikke kan bruke variabler før de er definert, kan man ikke bruke funksjoner før de er definert:\n",
    "\n",
    "```py\n",
    "# Her kan man ikke bruke a eller min_funksjon\n",
    "\n",
    "a = 1.3 # Assosierer navnet a med et flyttallsobjekt i minnet\n",
    "\n",
    "# Her kan man bruke a, men ikke min_funksjon\n",
    "\n",
    "def min_funksjon(): # Assosierer navnet min_funksjon med et funksjonsobjekt i minnet\n",
    "\n",
    "# Her kan man bruke begge\n",
    "```\n",
    "\n",
    "\n",
    "Prøv å kjøre kodeblokken over og se at du ikke får noe output.\n",
    "\n",
    "Når en funksjon er definert, kan vi _kalle_ på den. Dette kan man gjøre ved å skrive funksjonsnavnet, etterfulgt av parenteser og eventuelle _argumenter_ i parentesene. Kodeblokken under kaller på funksjonen `f(x)`, med argumentet $2$. Prøv å kjøre den!"
   ]
  },
  {
   "cell_type": "code",
   "execution_count": 9,
   "metadata": {
    "hidden": true
   },
   "outputs": [
    {
     "data": {
      "text/plain": [
       "7"
      ]
     },
     "execution_count": 9,
     "metadata": {},
     "output_type": "execute_result"
    }
   ],
   "source": [
    "f(2)"
   ]
  },
  {
   "cell_type": "markdown",
   "metadata": {
    "heading_collapsed": true
   },
   "source": [
    "### b) Skrive funksjonsuttrykk riktig i Python"
   ]
  },
  {
   "cell_type": "markdown",
   "metadata": {
    "hidden": true
   },
   "source": [
    "**Skriv følgende matematiske funksjoner i Python:**\n",
    "\n",
    "$f(x) = 2x + 1$\n",
    "\n",
    "$g(x) = \\frac{-4x + 2}{5x + 3}$\n",
    "\n",
    "$h(x) = x^2 + 2x + 1$\n",
    "\n",
    "$i(x) = \\sqrt(x)$\n",
    "\n",
    "$j(x) = \\sin{x} + \\cos{x}$\n",
    "\n",
    "**_Skriv koden din i kodeblokken under_**"
   ]
  },
  {
   "cell_type": "markdown",
   "metadata": {
    "hidden": true
   },
   "source": [
    "**Hint:** Bruk av **numpy** biblioteket kan gjøre noen av funksjonene lettere "
   ]
  },
  {
   "cell_type": "code",
   "execution_count": 12,
   "metadata": {
    "hidden": true
   },
   "outputs": [],
   "source": [
    "import numpy as np\n",
    "\n",
    "def f(x):\n",
    "    return 2 * x + 1\n",
    "\n",
    "def g(x):\n",
    "    return (-4 * x + 2) / (5 * x + 3)\n",
    "\n",
    "def h(x):\n",
    "    return x ** 2 + 2 * x + 1\n",
    "\n",
    "def i(x):\n",
    "    return np.sqrt(x)\n",
    "\n",
    "def j(x):\n",
    "    return np.sin(x) + np.cos(x)"
   ]
  },
  {
   "cell_type": "markdown",
   "metadata": {
    "hidden": true
   },
   "source": [
    "Kjør kodeblokken under for å se at koden din fungerer som forventet. Hvis du har gjort alt rett, vil output være:\n",
    "\n",
    "```python\n",
    "21\n",
    "-0.6428571428571429\n",
    "16\n",
    "2.0\n",
    "-0.6752620891999122\n",
    "```"
   ]
  },
  {
   "cell_type": "code",
   "execution_count": 13,
   "metadata": {
    "hidden": true
   },
   "outputs": [
    {
     "name": "stdout",
     "output_type": "stream",
     "text": [
      "21\n",
      "-0.6428571428571429\n",
      "16\n",
      "2.0\n",
      "-0.6752620891999122\n"
     ]
    }
   ],
   "source": [
    "print(f(10))\n",
    "print(g(5))\n",
    "print(h(3))\n",
    "print(i(4))\n",
    "print(j(5))"
   ]
  },
  {
   "cell_type": "markdown",
   "metadata": {
    "deletable": false,
    "heading_collapsed": true,
    "run_control": {
     "frozen": true
    },
    "solution": "hidden"
   },
   "source": [
    "### Tutorial - Matteoperasjoner del 2: Heltallsdivisjon og Modulo:\n",
    "\n",
    "Les gjerne denne før du begynner på neste oppgave"
   ]
  },
  {
   "cell_type": "markdown",
   "metadata": {
    "deletable": false,
    "editable": false,
    "hidden": true,
    "run_control": {
     "frozen": true
    }
   },
   "source": [
    "I tillegg til vanlig divisjon / har Python også heltallsdivisjon som skrives // og modulo som skrives med operatoren %.\n",
    "\n",
    "Heltallsdivisjon og modulo minner om måten du lærte divisjon på barneskolen før du hadde lært desimaltall, altså med hele tall og rest.\n",
    "\n",
    "Tabellen under illustrerer hvordan disse operatorene virker:\n",
    "\n",
    "**Utrykk i Python**|**Resultat**|**Forklaring**\n",
    "---|---|---\n",
    "17 / 5\t|3.4\t|Vanlig divisjon\n",
    "17 // 5|\t3\t|Heltallsdivisjon, gir hvor mange hele ganger nevneren 5 går opp i telleren 17\n",
    "17 % 5\t|2|\tModulo, gir resten av 17 // 5, dvs. de 2 som blir til over\n",
    "7.75 / 2.5\t|3.1|\tVanlig divisjon\n",
    "7.75 // 2.5\t|3.0|\tHeltallsdivisjon, gir hvor mange hele ganger nevneren 2.5 går opp i 7.75.<br> Her blir svaret et flyttall (3.0) heller enn heltallet 3, fordi teller og nevner er flyttall.\n",
    "7.75 % 2.5\t|0.25|\tModulo, Resten av 7.75//2.5 er 0.25 fordi 2.5 * 3.0 er 7.5\n",
    "\n",
    "Heltallsdivisjon og modulo har en rekke nyttige bruksområder i programmering.\n",
    "\n",
    "Ett eksempel er regning med enheter som aggregeres på andre måter enn det typiske 10, 100, 1000, slik som 60 sekund per minutt, 60 minutt per time, 24 timer per døgn, 7 døgn per uke.\n",
    "\n",
    "Koden under viser hvordan // og % kan brukes til slike beregninger. Prøv å kjør den."
   ]
  },
  {
   "cell_type": "code",
   "execution_count": 14,
   "metadata": {
    "hidden": true
   },
   "outputs": [
    {
     "name": "stdout",
     "output_type": "stream",
     "text": [
      "1\n",
      "(2, 1)\n"
     ]
    }
   ],
   "source": [
    "def antall_hele_uker(dager):\n",
    "    return dager // 7\n",
    "\n",
    "def antall_uker_dager(dager):\n",
    "    uker = dager // 7\n",
    "    dager = dager % 7\n",
    "    return uker, dager\n",
    "\n",
    "print(antall_hele_uker(10))\n",
    "print(antall_uker_dager(15))"
   ]
  },
  {
   "cell_type": "markdown",
   "metadata": {
    "ExecuteTime": {
     "end_time": "2019-07-01T09:01:23.971652Z",
     "start_time": "2019-07-01T09:01:23.962336Z"
    },
    "deletable": false,
    "editable": false,
    "hidden": true,
    "run_control": {
     "frozen": true
    }
   },
   "source": [
    "Det fins også mange andre nyttige anvendelser av // og %, som vil vise seg etter hvert som vi kommer til mer avanserte problemer."
   ]
  },
  {
   "cell_type": "markdown",
   "metadata": {
    "deletable": false,
    "heading_collapsed": true,
    "run_control": {
     "frozen": true
    }
   },
   "source": [
    "### c) Bruk av heltallsdivisjon og modulo"
   ]
  },
  {
   "cell_type": "markdown",
   "metadata": {
    "hidden": true
   },
   "source": [
    "Lag tre funksjoner `antall_minutt_sekund(minutter)`, `antall_dogn_timer(timer)` og `antall_timer_minutt_sekund(sek)`, som gjør om sekunder til hele minutter, timer til hele døgn og sekunder til timer og minutter.\n",
    "\n",
    "**_Skriv koden din i kodeblokken under_**"
   ]
  },
  {
   "cell_type": "code",
   "execution_count": 17,
   "metadata": {
    "hidden": true
   },
   "outputs": [],
   "source": [
    "def antall_minutt_sekund(minutter):\n",
    "    return minutter // 60\n",
    "\n",
    "def antall_dogn_timer(timer):\n",
    "    return timer // 24\n",
    "\n",
    "def antall_timer_minutt_sekund(sek):\n",
    "    timer = sek // 3600\n",
    "    minutter = sek % 60\n",
    "    return timer, minutter"
   ]
  },
  {
   "cell_type": "markdown",
   "metadata": {
    "hidden": true
   },
   "source": [
    "Kjør kodeblokken under for å se at koden din fungerer som forventet"
   ]
  },
  {
   "cell_type": "code",
   "execution_count": 18,
   "metadata": {
    "hidden": true,
    "scrolled": true
   },
   "outputs": [
    {
     "name": "stdout",
     "output_type": "stream",
     "text": [
      "2\n",
      "3\n",
      "(5, 32)\n"
     ]
    }
   ],
   "source": [
    "print(antall_minutt_sekund(120))\n",
    "print(antall_dogn_timer(75))\n",
    "print(antall_timer_minutt_sekund(19832))"
   ]
  },
  {
   "cell_type": "markdown",
   "metadata": {
    "deletable": false,
    "hidden": true,
    "run_control": {
     "frozen": true
    }
   },
   "source": [
    "**Riktig utskrift hvis du har fått det til, skal bli**\n",
    "```\n",
    "2\n",
    "3\n",
    "(5, 32)\n",
    "```"
   ]
  }
 ],
 "metadata": {
  "kernelspec": {
   "display_name": "Python 3 (ipykernel)",
   "language": "python",
   "name": "python3"
  },
  "language_info": {
   "codemirror_mode": {
    "name": "ipython",
    "version": 3
   },
   "file_extension": ".py",
   "mimetype": "text/x-python",
   "name": "python",
   "nbconvert_exporter": "python",
   "pygments_lexer": "ipython3",
   "version": "3.10.8"
  },
  "toc": {
   "base_numbering": 1,
   "nav_menu": {},
   "number_sections": false,
   "sideBar": true,
   "skip_h1_title": false,
   "title_cell": "Table of Contents",
   "title_sidebar": "Contents",
   "toc_cell": false,
   "toc_position": {},
   "toc_section_display": true,
   "toc_window_display": false
  }
 },
 "nbformat": 4,
 "nbformat_minor": 4
}
