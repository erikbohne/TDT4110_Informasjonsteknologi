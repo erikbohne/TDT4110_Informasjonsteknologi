{
 "cells": [
  {
   "cell_type": "markdown",
   "metadata": {
    "deletable": false,
    "editable": false,
    "run_control": {
     "frozen": true
    }
   },
   "source": [
    "<nav class=\"navbar navbar-default\">\n",
    "  <div class=\"container-fluid\">\n",
    "    <div class=\"navbar-header\">\n",
    "      <a class=\"navbar-brand\" href=\"_Oving5.ipynb\">Øving 5</a>\n",
    "    </div>\n",
    "    <ul class=\"nav navbar-nav\">\n",
    "      <li ><a href=\"Generelt%20om%20lister.ipynb\">Generelt om lister</a></li>\n",
    "    <li ><a href=\"Lett%20og%20blandet.ipynb\">Lett og blandet</a></li>\n",
    "    <li ><a href=\"Intro%20til%20numpy-arrays.ipynb\">Intro til numpy-arrays</a></li>\n",
    "    <li ><a href=\"Kodeforstaelse.ipynb\">Kodeforståelse</a></li>\n",
    "    <li ><a href=\"Vektorer.ipynb\">Vektorer</a></li>\n",
    "    <li ><a href=\"Lister%20og%20lokker.ipynb\">Lister og løkker</a></li>\n",
    "    <li ><a href=\"Teoridelen%20paa%20eksamen.ipynb\">Teoridelen på eksamen</a></li>\n",
    "    <li ><a href=\"Gangetabell%20og%20lister.ipynb\">Gangetabell og lister</a></li>\n",
    "    <li ><a href=\"Lotto.ipynb\">Lotto</a></li>\n",
    "    <li ><a href=\"Tannfeen.ipynb\">Tannfeen</a></li>\n",
    "        <li class=\"active\"><a href=\"Chattebot.ipynb\">Chattebot</a></li>\n",
    "    <li ><a href=\"Matriseaddisjon.ipynb\">Matriseaddisjon</a></li>\n",
    "    </ul>\n",
    "  </div>\n",
    "</nav>\n",
    "\n",
    "# Matriseaddisjon\n",
    "\n",
    "**Læringsmål:**\n",
    "\n",
    "* Lister av flere dimensjoner\n",
    "\n",
    "\n",
    "I denne oppgaven skal du implementere noen funksjoner slik at to matriser blir skrevet ut på et fint format og addert med hverandre. \n",
    "\n",
    "En matrise er et godt eksempel på en todimensjonal liste av tall som har et bestemt antall rader x og et bestemt antall kolonner y. Du kan tenke på en matrise som en liste med x antall elementer, hvor hvert element er en liste av størrelse y. I denne oppgaven skal vi se på matriseaddisjon. I denne oppgaven definerer vi addisjon av to matriser på samme måte som med vektoraddisjon: dersom vi skal summere matrise a med b og kaller den nye matrisen for c, vil *c[x][y]* være *a[x][y]* + *b[x][y]*, hvor *c[x][y]* er elementet i matrisen c som befinner seg på rad *x* og kolonne *y*.\n",
    "\n",
    "Du får gitt en main-funksjon med følgende kode:"
   ]
  },
  {
   "cell_type": "code",
   "execution_count": 14,
   "metadata": {
    "ExecuteTime": {
     "end_time": "2019-07-03T11:03:43.356638Z",
     "start_time": "2019-07-03T11:03:43.345161Z"
    }
   },
   "outputs": [
    {
     "name": "stdout",
     "output_type": "stream",
     "text": [
      "A = \n",
      "   6    3    4 \n",
      "   0    8    8 \n",
      "   6    0    1 \n",
      "   4    5    2 \n",
      "\n",
      "B = \n",
      "   5    7    5    1 \n",
      "   4    2    1    1 \n",
      "   3    4    8    2 \n",
      "\n",
      "C = \n",
      "   7    6    8    0 \n",
      "   8    2    5    0 \n",
      "   5    4    0    4 \n",
      "\n",
      "Matrices must have the same shape\n",
      "B+C = \n",
      "  12   13   13    1 \n",
      "  12    4    6    1 \n",
      "   8    8    8    6 \n",
      "\n"
     ]
    }
   ],
   "source": [
    "def main():\n",
    "    A = random_matrix(4,3)\n",
    "    print_matrix(A, 'A')\n",
    "    B = random_matrix(3,4)\n",
    "    print_matrix(B, 'B')\n",
    "    C = random_matrix(3,4)\n",
    "    print_matrix(C, 'C')\n",
    "    D = matrix_addition(A,B)\n",
    "    E = matrix_addition(B,C)\n",
    "    print_matrix(E, 'B+C' )\n",
    "    \n",
    "main()"
   ]
  },
  {
   "cell_type": "markdown",
   "metadata": {
    "ExecuteTime": {
     "end_time": "2019-07-03T11:03:58.395784Z",
     "start_time": "2019-07-03T11:03:58.385979Z"
    },
    "deletable": false,
    "editable": false,
    "run_control": {
     "frozen": true
    }
   },
   "source": [
    "som, etter at du har gjort oppgaven, skal gi følgende utskrift:\n",
    "\n",
    "```python\n",
    "A=[\n",
    "   [1, 8, 4, 3]\n",
    "   [5, 1, 5, 8]\n",
    "   [9, 5, 8, 0]\n",
    "  ]\n",
    "B=[\n",
    "   [7, 3, 3]\n",
    "   [2, 1, 7]\n",
    "   [2, 2, 3]\n",
    "   [3, 5, 9]\n",
    "  ]\n",
    "C=[\n",
    "   [4, 4, 6]\n",
    "   [1, 9, 0]\n",
    "   [9, 8, 5]\n",
    "   [2, 9, 5]\n",
    "  ]\n",
    "Matrisene er ikke av samme dimensjon # A og B har ulike dimensjoner (ulikt antall rader og kolonner)\n",
    "B+C=[\n",
    "     [11, 7, 9]\n",
    "     [3, 10, 7]\n",
    "     [11, 10, 8]\n",
    "     [5, 14, 14]\n",
    "    ]\n",
    "    ```\n",
    "    "
   ]
  },
  {
   "cell_type": "markdown",
   "metadata": {},
   "source": [
    "**Din oppgave**\n",
    "\n",
    "Implementer funksjonene `random_matrise(bredde, høyde)`, `print_matrise(matrise, navn)` og `matrise_addisjon(a, b)` slik at utskriften av `main()` gir utskriften over. Du kan velge om du bruker vanlige lister eller numpy-arrays i denne oppgaven. Numpy-arrays har flere fordeler her, blant annet at man kan legge sammen to matriser med \"+\" og dette vil funke som det gjør i matte(slik utskriften over viser). Merk at dette ikke er tilfelle med vanlige lister så da må du selv itere gjennom listene og legge sammen tallene. Det er mange måter å løse oppgaven på. Hvis du trenger en \"tom\" array i numpy, kan en array med alle verdier lik 0 lages med [numpy.zeros](https://numpy.org/doc/stable/reference/generated/numpy.zeros.html).\n",
    "\n",
    "1. Funksjonen `random_matrise(bredde, høyde)` skal returnere en matrise med *høyde* antall rader og *bredde* antall kolonner. Matrisen skal være fylt med tilfeldige tall fra og med 0 til 10. Bruk random-biblioteket. \n",
    "2. `print_matrise(matrise, navn)` skal printe ut matrisene på samme format som vist i utskriften over. \n",
    "3. `matrise_addisjon(a, b)` skal ta inn to matriser og returnere en matrise som er summen av a og b. Dersom to matriser er av ulik størrelse er det umulig å addere matrisene og \"Matrisene er ikke av samme dimensjon\" skal skrives ut. \n",
    "\n",
    "***Skriv koden din i boksen under.***"
   ]
  },
  {
   "cell_type": "code",
   "execution_count": 13,
   "metadata": {},
   "outputs": [],
   "source": [
    "import numpy as np\n",
    "\n",
    "def random_matrix(m,n):\n",
    "    matrix = np.zeros((m,n))\n",
    "    for i in range(m):\n",
    "        for j in range(n):\n",
    "            matrix[i,j] = np.random.randint(0,9)\n",
    "    return matrix\n",
    "\n",
    "def print_matrix(matrix, name):\n",
    "    print(f'{name} = ')\n",
    "    for row in matrix:\n",
    "        for element in row:\n",
    "            print(f'{element:4.0f}', end=' ')\n",
    "        print()\n",
    "    print()\n",
    "    \n",
    "def matrix_addition(A,B):\n",
    "    \n",
    "    # Check if the matrices have the same shape\n",
    "    if A.shape != B.shape:\n",
    "        print('Matrices must have the same shape')\n",
    "        return None\n",
    "    \n",
    "    m,n = A.shape\n",
    "    C = np.zeros((m,n))\n",
    "    for i in range(m):\n",
    "        for j in range(n):\n",
    "            C[i,j] = A[i,j] + B[i,j]\n",
    "    return C\n",
    "\n",
    "\n",
    "\n"
   ]
  },
  {
   "cell_type": "markdown",
   "metadata": {
    "deletable": false,
    "editable": false,
    "heading_collapsed": true,
    "run_control": {
     "frozen": true
    }
   },
   "source": [
    "#### Hint"
   ]
  },
  {
   "cell_type": "markdown",
   "metadata": {
    "deletable": false,
    "editable": false,
    "hidden": true,
    "run_control": {
     "frozen": true
    }
   },
   "source": [
    "For å sjekke om to matriser er av samme dimensjon må du sjekke om de både har samme antall rader og samme antall kolonner. len(matrise) returnerer antall rader en matrise har, og len(matrise[0]) returnerer antall kolonner i matrisen. Dette funker også for numpy arrays. "
   ]
  }
 ],
 "metadata": {
  "kernelspec": {
   "display_name": "Python 3.10.6 64-bit",
   "language": "python",
   "name": "python3"
  },
  "language_info": {
   "codemirror_mode": {
    "name": "ipython",
    "version": 3
   },
   "file_extension": ".py",
   "mimetype": "text/x-python",
   "name": "python",
   "nbconvert_exporter": "python",
   "pygments_lexer": "ipython3",
   "version": "3.10.9"
  },
  "toc": {
   "base_numbering": 1,
   "nav_menu": {},
   "number_sections": false,
   "sideBar": true,
   "skip_h1_title": false,
   "title_cell": "Table of Contents",
   "title_sidebar": "Contents",
   "toc_cell": false,
   "toc_position": {},
   "toc_section_display": true,
   "toc_window_display": false
  },
  "vscode": {
   "interpreter": {
    "hash": "aee8b7b246df8f9039afb4144a1f6fd8d2ca17a180786b69acc140d282b71a49"
   }
  }
 },
 "nbformat": 4,
 "nbformat_minor": 2
}
