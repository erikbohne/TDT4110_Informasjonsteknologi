{
 "cells": [
  {
   "cell_type": "markdown",
   "metadata": {
    "deletable": false,
    "editable": false,
    "run_control": {
     "frozen": true
    }
   },
   "source": [
    "# Øving 5\n",
    "\n",
    "**Læringsmål:**  \n",
    "\n",
    "* Lister\n",
    "* Numpy\n",
    "* Nettverk\n",
    "\n",
    "\n",
    "## Godkjenning:\n",
    "\n",
    "For å få godkjent øvingen må du gjøre ***Intro til numpy-arrays*** og ***4*** av de ***11***  andre oppgavene. \n",
    "\n",
    "Oppgaver som er litt ekstra vanskelig er markert med stjerne.\n",
    "\n",
    "Alle oppgavene skal demonstreres til en læringsassistent på sal. I oppgaver der du skriver programkode skal også denne vises fram. Lykke til!\n",
    "\n",
    "Oppgave | Tema | Vanskelighetsgrad\n",
    "--- | --- | ---\n",
    "[Generelt om lister](Generelt%20om%20lister.ipynb) |Lister| \n",
    "[Lett og blandet om lister](Lett%20og%20blandet.ipynb)|Lister|\n",
    "[Intro til numpy-arrays](Intro%20til%20numpy-arrays.ipynb)|Numpy|\n",
    "[Kodeforståelse](Kodeforstaelse.ipynb)|Kodeforståelse|\n",
    "[Vektorer](Vektorer.ipynb)|Lister|\n",
    "[Lister og løkker](Lister%20og%20lokker.ipynb)|Lister og løkker|\n",
    "[Teoridelen på eksamen](Teoridelen%20paa%20eksamen.ipynb)|Lister|\n",
    "[Gangetabell og lister](Gangetabell%20og%20lister.ipynb)|2D-Lister|\n",
    "[Lotto](Lotto.ipynb)|Lister|![img](./../../Resources/Images/star_yellow.svg)\n",
    "[Tannfeen](Tannfeen.ipynb)|2D-lister, Løkker|![img](./../../Resources/Images/star_yellow.svg)\n",
    "[Chattebot](Chattebot.ipynb)|Lister, Input| ![img](./../../Resources/Images/star_yellow.svg)\n",
    "[Matriseaddisjon](Matriseaddisjon.ipynb)|2D-Lister|![img](./../../Resources/Images/star_yellow.svg)"
   ]
  }
 ],
 "metadata": {
  "kernelspec": {
   "display_name": "Python 3.10.6 64-bit",
   "language": "python",
   "name": "python3"
  },
  "language_info": {
   "codemirror_mode": {
    "name": "ipython",
    "version": 3
   },
   "file_extension": ".py",
   "mimetype": "text/x-python",
   "name": "python",
   "nbconvert_exporter": "python",
   "pygments_lexer": "ipython3",
   "version": "3.10.6"
  },
  "toc": {
   "base_numbering": 1,
   "nav_menu": {},
   "number_sections": false,
   "sideBar": true,
   "skip_h1_title": false,
   "title_cell": "Table of Contents",
   "title_sidebar": "Contents",
   "toc_cell": false,
   "toc_position": {},
   "toc_section_display": true,
   "toc_window_display": false
  },
  "vscode": {
   "interpreter": {
    "hash": "aee8b7b246df8f9039afb4144a1f6fd8d2ca17a180786b69acc140d282b71a49"
   }
  }
 },
 "nbformat": 4,
 "nbformat_minor": 2
}
