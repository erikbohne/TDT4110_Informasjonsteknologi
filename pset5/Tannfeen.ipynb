{
 "cells": [
  {
   "cell_type": "markdown",
   "metadata": {
    "deletable": false,
    "run_control": {
     "frozen": true
    }
   },
   "source": [
    "<nav class=\"navbar navbar-default\">\n",
    "  <div class=\"container-fluid\">\n",
    "    <div class=\"navbar-header\">\n",
    "      <a class=\"navbar-brand\" href=\"_Oving5.ipynb\">Øving 5</a>\n",
    "    </div>\n",
    "    <ul class=\"nav navbar-nav\">\n",
    "      <li ><a href=\"Generelt%20om%20lister.ipynb\">Generelt om lister</a></li>\n",
    "    <li ><a href=\"Lett%20og%20blandet.ipynb\">Lett og blandet</a></li>\n",
    "    <li ><a href=\"Intro%20til%20numpy-arrays.ipynb\">Intro til numpy-arrays</a></li>\n",
    "    <li ><a href=\"Kodeforstaelse.ipynb\">Kodeforståelse</a></li>\n",
    "    <li ><a href=\"Vektorer.ipynb\">Vektorer</a></li>\n",
    "    <li ><a href=\"Lister%20og%20lokker.ipynb\">Lister og løkker</a></li>\n",
    "    <li ><a href=\"Teoridelen%20paa%20eksamen.ipynb\">Teoridelen på eksamen</a></li>\n",
    "    <li ><a href=\"Gangetabell%20og%20lister.ipynb\">Gangetabell og lister</a></li>\n",
    "    <li ><a href=\"Lotto.ipynb\">Lotto</a></li>\n",
    "    <li ><a href=\"Tannfeen.ipynb\">Tannfeen</a></li>\n",
    "        <li class=\"active\"><a href=\"Chattebot.ipynb\">Chattebot</a></li>\n",
    "    <li ><a href=\"Matriseaddisjon.ipynb\">Matriseaddisjon</a></li>\n",
    "    </ul>\n",
    "  </div>\n",
    "</nav>\n",
    "\n",
    "# Tannfeen\n",
    "\n",
    "**Læringsmål:**\n",
    "\n",
    "* Lister\n",
    "* Løkker\n",
    " \n",
    "\n",
    "*Overformynderiet for tannfeer og python-programmerere* har vedtatt at istedenfor å betale 20 kroner for hver enkelt tann et barn mister og putter i vannglasset sitt, er de nå nødt til å betale per gram tann. Det ble bestemt at ett gram tann er verd 1 krone. Tannfeer vil helst bruke så store mynter de kan (i verdi). Gyldige mynter er [20,10,5,1].\n",
    "\n",
    "Siden tannfeen besøker så mange, vil de ha et program som skal kunne regne ut dette fra lister. Det vil si at programmet tar inn en liste av tannvekter, og får tilbake en liste (av lister) over hvilke mynter som trengs for tennene.\n",
    "\n",
    "Eksempel:\n",
    "\n",
    "```python\n",
    "teeth = [53,28]\n",
    "tooth_fairy(teeth)\n",
    "\n",
    ">>> [[2,1,0,3],[1,0,1,3]]\n",
    "```\n",
    "\n",
    "Eksempelet over vil si at for 53g vil man få 2 stk 20kr, 1 stk 10kr, 0 stk 5kr og 3 stk 1kr, og for 28g vil man få 1 stk 20kr, 0 stk 10kr, 1 stk 5kr og 3 stk 1kr.\n",
    "\n",
    "**Oppgave:** Lag programmet og test med listen under."
   ]
  },
  {
   "cell_type": "code",
   "execution_count": 2,
   "metadata": {
    "ExecuteTime": {
     "end_time": "2019-07-03T10:42:45.712190Z",
     "start_time": "2019-07-03T10:42:45.702194Z"
    }
   },
   "outputs": [],
   "source": [
    "teeth = [95,103,71,99,114,64,95,53,97,114,109,11,2,21,45,2,26,81,54,14,118,108,117,27,115,43,70,58,107]"
   ]
  },
  {
   "cell_type": "code",
   "execution_count": 3,
   "metadata": {
    "ExecuteTime": {
     "end_time": "2019-07-03T10:42:50.281923Z",
     "start_time": "2019-07-03T10:42:50.277659Z"
    }
   },
   "outputs": [
    {
     "data": {
      "text/plain": [
       "[[4, 1, 1, 0],\n",
       " [5, 0, 0, 3],\n",
       " [3, 1, 0, 1],\n",
       " [4, 1, 1, 4],\n",
       " [5, 1, 0, 4],\n",
       " [3, 0, 0, 4],\n",
       " [4, 1, 1, 0],\n",
       " [2, 1, 0, 3],\n",
       " [4, 1, 1, 2],\n",
       " [5, 1, 0, 4],\n",
       " [5, 0, 1, 4],\n",
       " [0, 1, 0, 1],\n",
       " [0, 0, 0, 2],\n",
       " [1, 0, 0, 1],\n",
       " [2, 0, 1, 0],\n",
       " [0, 0, 0, 2],\n",
       " [1, 0, 1, 1],\n",
       " [4, 0, 0, 1],\n",
       " [2, 1, 0, 4],\n",
       " [0, 1, 0, 4],\n",
       " [5, 1, 1, 3],\n",
       " [5, 0, 1, 3],\n",
       " [5, 1, 1, 2],\n",
       " [1, 0, 1, 2],\n",
       " [5, 1, 1, 0],\n",
       " [2, 0, 0, 3],\n",
       " [3, 1, 0, 0],\n",
       " [2, 1, 1, 3],\n",
       " [5, 0, 1, 2]]"
      ]
     },
     "execution_count": 3,
     "metadata": {},
     "output_type": "execute_result"
    }
   ],
   "source": [
    "def tooth_fairy(teeth):\n",
    "    \"\"\"Skriv koden din her\"\"\"\n",
    "    \n",
    "    # List to store the coins for each tooth\n",
    "    coin_per_tooth = []\n",
    "        \n",
    "    # Possible coins\n",
    "    coins = [20, 10, 5, 1]\n",
    "    \n",
    "    # Iterate over all teeth and find the coins\n",
    "    for tooth in teeth:\n",
    "        \n",
    "        if tooth == 0:\n",
    "            continue\n",
    "        \n",
    "        # Empty list of coins for this tooth\n",
    "        tooth_coins = []\n",
    "        \n",
    "        # Iterate over all coins\n",
    "        for coin in coins:\n",
    "            \n",
    "            # Find the number of coins\n",
    "            num_coins = tooth // coin\n",
    "            \n",
    "            # Update the tooth\n",
    "            tooth = tooth % coin\n",
    "            \n",
    "            # Add the coins to the list\n",
    "            tooth_coins.append(num_coins)\n",
    "        \n",
    "        # Add the coins for this tooth to the list\n",
    "        coin_per_tooth.append(tooth_coins)\n",
    "        \n",
    "    return coin_per_tooth\n",
    "\n",
    "# Call the function\n",
    "tooth_fairy(teeth)"
   ]
  },
  {
   "cell_type": "markdown",
   "metadata": {
    "deletable": false,
    "editable": false,
    "run_control": {
     "frozen": true
    }
   },
   "source": [
    "Dersom du skrevet koden riktig skal listen over gi følgende utskrift:\n",
    "\n",
    "```python\n",
    "[[4, 1, 1, 0], [5, 0, 0, 3], [3, 1, 0, 1], [4, 1, 1, 4], [5, 1, 0, 4], [3, 0, 0, 4],  \n",
    "[4, 1, 1, 0], [2, 1, 0, 3], [4, 1, 1, 2], [5, 1, 0, 4], [5, 0, 1, 4], [0, 1, 0, 1],  \n",
    "[0, 0, 0, 2], [1, 0, 0, 1], [2, 0, 1, 0], [0, 0, 0, 2], [1, 0, 1, 1], [4, 0, 0, 1],  \n",
    "[2, 1, 0, 4], [0, 1, 0, 4], [5, 1, 1, 3], [5, 0, 1, 3], [5, 1, 1, 2], [1, 0, 1, 2],  \n",
    "[5, 1, 1, 0], [2, 0, 0, 3], [3, 1, 0, 0], [2, 1, 1, 3], [5, 0, 1, 2]]\n",
    "```\n",
    "På penere form:\n",
    "```python\n",
    "20: 4 , 10: 1 , 5: 1 , 1: 0\n",
    "20: 5 , 10: 0 , 5: 0 , 1: 3\n",
    "20: 3 , 10: 1 , 5: 0 , 1: 1\n",
    "20: 4 , 10: 1 , 5: 1 , 1: 4\n",
    "20: 5 , 10: 1 , 5: 0 , 1: 4\n",
    "20: 3 , 10: 0 , 5: 0 , 1: 4\n",
    "20: 4 , 10: 1 , 5: 1 , 1: 0\n",
    "20: 2 , 10: 1 , 5: 0 , 1: 3\n",
    "20: 4 , 10: 1 , 5: 1 , 1: 2\n",
    "20: 5 , 10: 1 , 5: 0 , 1: 4\n",
    "20: 5 , 10: 0 , 5: 1 , 1: 4\n",
    "20: 0 , 10: 1 , 5: 0 , 1: 1\n",
    "20: 0 , 10: 0 , 5: 0 , 1: 2\n",
    "20: 1 , 10: 0 , 5: 0 , 1: 1\n",
    "20: 2 , 10: 0 , 5: 1 , 1: 0\n",
    "20: 0 , 10: 0 , 5: 0 , 1: 2\n",
    "20: 1 , 10: 0 , 5: 1 , 1: 1\n",
    "20: 4 , 10: 0 , 5: 0 , 1: 1\n",
    "20: 2 , 10: 1 , 5: 0 , 1: 4\n",
    "20: 0 , 10: 1 , 5: 0 , 1: 4\n",
    "20: 5 , 10: 1 , 5: 1 , 1: 3\n",
    "20: 5 , 10: 0 , 5: 1 , 1: 3\n",
    "20: 5 , 10: 1 , 5: 1 , 1: 2\n",
    "20: 1 , 10: 0 , 5: 1 , 1: 2\n",
    "20: 5 , 10: 1 , 5: 1 , 1: 0\n",
    "20: 2 , 10: 0 , 5: 0 , 1: 3\n",
    "20: 3 , 10: 1 , 5: 0 , 1: 0\n",
    "20: 2 , 10: 1 , 5: 1 , 1: 3\n",
    "20: 5 , 10: 0 , 5: 1 , 1: 2\n",
    "```"
   ]
  }
 ],
 "metadata": {
  "celltoolbar": "Edit Metadata",
  "kernelspec": {
   "display_name": "Python 3.10.6 64-bit",
   "language": "python",
   "name": "python3"
  },
  "language_info": {
   "codemirror_mode": {
    "name": "ipython",
    "version": 3
   },
   "file_extension": ".py",
   "mimetype": "text/x-python",
   "name": "python",
   "nbconvert_exporter": "python",
   "pygments_lexer": "ipython3",
   "version": "3.10.13"
  },
  "toc": {
   "base_numbering": 1,
   "nav_menu": {},
   "number_sections": false,
   "sideBar": true,
   "skip_h1_title": false,
   "title_cell": "Table of Contents",
   "title_sidebar": "Contents",
   "toc_cell": false,
   "toc_position": {},
   "toc_section_display": true,
   "toc_window_display": false
  },
  "vscode": {
   "interpreter": {
    "hash": "aee8b7b246df8f9039afb4144a1f6fd8d2ca17a180786b69acc140d282b71a49"
   }
  }
 },
 "nbformat": 4,
 "nbformat_minor": 2
}
