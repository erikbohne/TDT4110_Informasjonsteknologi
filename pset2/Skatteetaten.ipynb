{
 "cells": [
  {
   "cell_type": "markdown",
   "metadata": {
    "deletable": false,
    "editable": false,
    "run_control": {
     "frozen": true
    }
   },
   "source": [
    "<nav class=\"navbar navbar-default\">\n",
    "  <div class=\"container-fluid\">\n",
    "    <div class=\"navbar-header\">\n",
    "      <a class=\"navbar-brand\" href=\"_Oving2.ipynb\">Øving 2</a>\n",
    "    </div>\n",
    "    <ul class=\"nav navbar-nav\">\n",
    "    <li><a href=\"Ulike%20typer%20if-setninger.ipynb\">Ulike typer if-setninger</a></li>\n",
    "    <li><a href=\"Sammenligning%20av%20strenger.ipynb\">Sammenligning av strenger</a></li>\n",
    "    <li><a href=\"Logiske%20operatorer%20og%20logiske%20uttrykk.ipynb\">Logiske operatorer og logiske uttrykk</a></li>\n",
    "    <li><a href=\"Forbrytelse%20og%20straff.ipynb\">Forbrytelse og straff</a></li>\n",
    "    <li ><a href=\"Aarstider.ipynb\">Årstider</a></li>\n",
    "    <li class=\"active\"><a href=\"Tekstbasert%20spill.ipynb\">Tekstbasert spill</a></li>\n",
    "    <li><a href=\"Andregradsligning.ipynb\">Andregradsligning</a></li>\n",
    "    <li><a href=\"Betingede%20funksjoner.ipynb\">Betingede funksjoner</a></li>\n",
    "    <li><a href=\"Sjakkbrett.ipynb\">Sjakkbrett</a></li>\n",
    "    <li><a href=\"Billettpriser%20og%20rabatter.ipynb\">Billettpriser og rabatter</a></li>\n",
    "    <li><a href=\"Skatteetaten.ipynb\">Skatteetaten</a></li>\n",
    "    <li><a href=\"Epletigging.ipynb\">Datamaskinen som tigget epler</a></li>\n",
    "    </ul>\n",
    "  </div>\n",
    "</nav>\n",
    "\n",
    "# Skatteetaten\n",
    "\n",
    "**Læringsmål:**\n",
    "\n",
    "* Betingelser\n",
    " \n",
    "\n",
    "I denne oppgaven skal du lage et program som tar inn opplysninger om utleie av eiendom fra en bruker. Programmet vil så beregne hvor stor andel av inntekten som er skattbar.  \n",
    "\n",
    "Regler for skatt finnes på Skatteetaten sine hjemmesider, men er ikke nødvendig å sette seg inn i: \n",
    "\n",
    "http://www.skatteetaten.no/no/Person/Selvangivelse/tema-og-fradrag/Jobb-og-utdanning/delingsokonomi/utleie-av-bolig-og-fritidsbolig/\n",
    "\n",
    " \n",
    "\n"
   ]
  },
  {
   "cell_type": "markdown",
   "metadata": {
    "deletable": false,
    "editable": false,
    "run_control": {
     "frozen": true
    }
   },
   "source": [
    "### a)"
   ]
  },
  {
   "cell_type": "markdown",
   "metadata": {
    "deletable": false,
    "run_control": {
     "frozen": true
    }
   },
   "source": [
    "Lag et program som ber brukeren om opplysninger og svarer om inntekten er skattepliktig eller skattefri. \n",
    "\n",
    "Regler som må implementeres:\n",
    "\n",
    "* Hvis du bruker minst halvparten av boligen du eier til eget bruk, beregnet etter utleieverdi, er det skattefritt å leie ut resten.\n",
    "* Leier du ut mer enn halvparten av egen bolig, men for under 20 000 kr i året er det også skattefritt.\n",
    "* Leier du ut hele eller mer enn halvparten av egen bolig for over 20 000 kr i året er samtlige leieinntekter for hele året skattepliktige. \n",
    "\n",
    "**Eksempel på kjøring av kode:**\n",
    " \n",
    "```python\n",
    ">>>skattepliktig_beløp(19500, 60)\n",
    "\n",
    "INFO: Denne funksjonen besvarer om utleie av boligen din er skattepliktig.\n",
    "Skattepliktig beløp er: 0kr\n",
    "```\n",
    "\n",
    "\n",
    "```python\n",
    ">>>skattepliktig_beløp(60000, 55)\n",
    "\n",
    "INFO: Denne funksjonen besvarer om utleie av boligen din er skattepliktig.\n",
    "Skattepliktig beløp er: 60000kr\n",
    "```"
   ]
  },
  {
   "cell_type": "code",
   "execution_count": 2,
   "metadata": {},
   "outputs": [
    {
     "name": "stdout",
     "output_type": "stream",
     "text": [
      "INFO: Denne funksjonen besvarer om utleie av boligen din er skattepliktig.\n",
      "Skattepliktig beløp er: 0kr\n",
      "INFO: Denne funksjonen besvarer om utleie av boligen din er skattepliktig.\n",
      "Skattepliktig beløp er: 60000kr\n"
     ]
    },
    {
     "data": {
      "text/plain": [
       "1"
      ]
     },
     "execution_count": 2,
     "metadata": {},
     "output_type": "execute_result"
    }
   ],
   "source": [
    "\"\"\"\n",
    "Funksjon som tar inn årlig leieinntekt og hvor mange prosent av leiligheten som er utleid\n",
    "og returnerer skyldig skattebeløp i antall kroner\n",
    "\"\"\"\n",
    "def skattepliktig_beløp(leieinntekt, prosent_utleid):\n",
    "    print('INFO: Denne funksjonen besvarer om utleie av boligen din er skattepliktig.')\n",
    "    \n",
    "    if prosent_utleid > 50 and leieinntekt > 20000:\n",
    "        beløp = leieinntekt\n",
    "    else:\n",
    "        beløp = 0\n",
    "    \n",
    "    print(f\"Skattepliktig beløp er: {beløp}kr\")\n",
    "    return 1\n",
    "\n",
    "# Tester funksjonen:\n",
    "skattepliktig_beløp(19500, 60)\n",
    "skattepliktig_beløp(60000, 55)\n"
   ]
  },
  {
   "cell_type": "markdown",
   "metadata": {
    "deletable": false,
    "editable": false,
    "run_control": {
     "frozen": true
    }
   },
   "source": [
    "### b)"
   ]
  },
  {
   "cell_type": "markdown",
   "metadata": {
    "deletable": false,
    "run_control": {
     "frozen": true
    }
   },
   "source": [
    "For å leie ut *sekundærbolig* eller *fritidsbolig* gjelder det særskilte regler. Lag en tilsvarende funksjon som dekker disse behovene. (Se samme nettside for mer informasjon om ønskelig.)\n",
    "\n",
    "Regler som må implementeres:\n",
    "\n",
    "* Sekundærbolig:\n",
    " * Utleie av sekundærbolig beskattes fra første krone.\n",
    "* Fritidsbolig:\n",
    " * Der du helt eller delvis bruker fritidsboligen til fritidsformål, og selv bruker eiendommen i rimelig omfang over tid, så vil utleieinntekter inntil kr 10 000 være skattefrie.\n",
    " * Av det overskytende beløp regnes 85 prosent som skattepliktig inntekt.\n",
    " * Dersom fritidsboligen anses som utleiehytte blir det beskatning fra første krone.\n",
    " * Om du leier ut flere enn en fritidsbolig vil grensen på 10 000 gjelde per fritidsbolig.\n",
    " \n",
    "**Eksempel på kjøring av kode:**\n",
    " \n",
    "```python\n",
    "INFO\n",
    "Dette programmet besvarer om din utleie en annen type bolig,\n",
    "her sekundær- eller fritidsbolig, er skattepliktig.\n",
    "Først trenger vi å vite om du leier ut en sekundær- eller en fritidsbolig.\n",
    "---------------------------------------------------------------------\n",
    "DATAINNHENTING:\n",
    "Skriv inn type annen bolig (sekundærbolig/fritidsbolig) du har leid ut: Fritidsbolig\n",
    "    \n",
    "INFO\n",
    "Du har valgt fritidsbolig.\n",
    "Nå trenger vi først å vite om fritidsboligen(e) primært brukes til utleie eller fritid.\n",
    "Deretter trenger vi å vite hvor mange fritidsbolig(er) du leier ut.\n",
    "Til slutt trenger vi å vite hvor store utleieinntekter du har pr. fritidsbolig.\n",
    "\n",
    "---------------------------------------------------------------------\n",
    "DATAINNHENTING:\n",
    "Skriv inn formålet med fritidsboligen(e): Fritid\n",
    "Skriv inn antallet fritidsboliger du leier ut: 3\n",
    "Skriv inn utleieinntekten pr. fritidsbolig: 15000\n",
    "    \n",
    "---------------------------------------------------------------------\n",
    "SKATTEBEREGNING:\n",
    "Inntekten er skattepliktig\n",
    "Overskytende beløp pr. fritidsbolig er 5000\n",
    "Skattepliktig inntekt pr. fritidsbolig er 4250\n",
    "Totalt skattepliktig beløp er 12750\n",
    "```\n",
    "\n",
    "For å få til oppgaven vil det være nødvendig å bruke `input()`-funksjonen for å ta inn den nødvendige informasjonen om boligtype, og dersom det er en fritidsbolig må resten av informasjonen også innhentes.\n",
    "\n",
    "***Skriv koden din her:***"
   ]
  },
  {
   "cell_type": "code",
   "execution_count": 12,
   "metadata": {},
   "outputs": [
    {
     "name": "stdout",
     "output_type": "stream",
     "text": [
      "INFO\n",
      "Dette programmet besvarer om din utleie av en annen type bolig,\n",
      "her sekundær- eller fritidsbolig, er skattepliktig.\n",
      "Først trenger vi å vite om du leier ut en sekundær- eller en fritidsbolig.\n",
      "---------------------------------------------------------------------\n",
      "DATAINNHENTING:\n",
      "---------------------------------------------------------------------\n",
      "INFO\n",
      "Du har valgt fritidsbolig.\n",
      "Nå trenger vi først å vite om fritidsboligen(e) primært brukes til utleie eller fritid.\n",
      "Deretter trenger vi å vite hvor mange fritidsbolig(er) du leier ut.\n",
      "Til slutt trenger vi å vite hvor store utleieinntekter du har pr. fritidsbolig.\n",
      "\n",
      "DATAINNHENTING:\n",
      "---------------------------------------------------------------------\n",
      "SKATTEBEREGNING:\n",
      "Inntekten er skattepliktig fra første krone.\n"
     ]
    }
   ],
   "source": [
    "def skattepliktig_beløp():\n",
    "    print(\"INFO\")\n",
    "    print(\"Dette programmet besvarer om din utleie av en annen type bolig,\")\n",
    "    print(\"her sekundær- eller fritidsbolig, er skattepliktig.\")\n",
    "    print(\"Først trenger vi å vite om du leier ut en sekundær- eller en fritidsbolig.\")\n",
    "    print(\"---------------------------------------------------------------------\")\n",
    "    \n",
    "    print(\"DATAINNHENTING:\")\n",
    "    boligtype = input(\"Skriv inn type annen bolig (sekundærbolig/fritidsbolig) du har leid ut: \")\n",
    "    \n",
    "    print(\"---------------------------------------------------------------------\")\n",
    "    print(\"INFO\")\n",
    "    print(f\"Du har valgt {boligtype}.\")\n",
    "    \n",
    "    if boligtype.lower() == \"sekundærbolig\":\n",
    "        print(\"Inntekten er skattepliktig fra første krone.\")\n",
    "        \n",
    "    elif boligtype.lower() == \"fritidsbolig\":\n",
    "        print(f\"Nå trenger vi først å vite om {boligtype}en(e) primært brukes til utleie eller fritid.\")\n",
    "        print(f\"Deretter trenger vi å vite hvor mange {boligtype}(er) du leier ut.\")\n",
    "        print(f\"Til slutt trenger vi å vite hvor store utleieinntekter du har pr. {boligtype}.\")\n",
    "        \n",
    "        print(\"\")\n",
    "        print(\"DATAINNHENTING:\")\n",
    "        formål = input(f\"Skriv inn formålet med {boligtype}(en/e): \")\n",
    "        antall = int(input(f\"Skriv inn antallet {boligtype}er du leier ut: \"))\n",
    "        leieinntekt = int(input(f\"Skriv inn utleieinntekten pr. {boligtype}: \"))\n",
    "        \n",
    "        print(\"---------------------------------------------------------------------\")\n",
    "        print(\"SKATTEBEREGNING:\")\n",
    "        \n",
    "        if formål.lower() == \"utleie\":\n",
    "            print(\"Inntekten er skattepliktig fra første krone.\")\n",
    "        else:\n",
    "            total_skattepliktig_beløp = 0\n",
    "            for i in range(antall):\n",
    "                overskytende = leieinntekt - 10000\n",
    "                if overskytende > 0:\n",
    "                    skattepliktig = overskytende * 0.85\n",
    "                else:\n",
    "                    skattepliktig = 0\n",
    "                \n",
    "                total_skattepliktig_beløp += skattepliktig\n",
    "                print(f\"Overskytende beløp pr. fritidsbolig er {overskytende}\")\n",
    "                print(f\"Skattepliktig inntekt pr. fritidsbolig er {skattepliktig}\")\n",
    "                \n",
    "            print(f\"Totalt skattepliktig beløp er {total_skattepliktig_beløp}\")\n",
    "\n",
    "skattepliktig_beløp()\n"
   ]
  },
  {
   "cell_type": "markdown",
   "metadata": {
    "deletable": false,
    "editable": false,
    "run_control": {
     "frozen": true
    }
   },
   "source": [
    "### c)"
   ]
  },
  {
   "cell_type": "markdown",
   "metadata": {
    "deletable": false,
    "editable": false,
    "run_control": {
     "frozen": true
    }
   },
   "source": [
    "Sett sammen del (a) og (b) til et større program som først spør brukeren hva som er blitt leid ut (egen bolig / sekundærbolig / fritidsbolig), og deretter regner ut passende skattesats. Du kan delvis kopiere koden fra de tidligere deloppgavene.\n",
    "\n",
    "***Skriv koden din her:***"
   ]
  },
  {
   "cell_type": "code",
   "execution_count": 14,
   "metadata": {},
   "outputs": [
    {
     "name": "stdout",
     "output_type": "stream",
     "text": [
      "INFO: Denne funksjonen besvarer om utleie av boligen din er skattepliktig.\n",
      "Skattepliktig beløp er: 0kr\n"
     ]
    }
   ],
   "source": [
    "def skattepliktig_beløp_a(leieinntekt, prosent_utleid):\n",
    "    print('INFO: Denne funksjonen besvarer om utleie av boligen din er skattepliktig.')\n",
    "    \n",
    "    if prosent_utleid >= 50 and leieinntekt > 20000:\n",
    "        beløp = leieinntekt\n",
    "    else:\n",
    "        beløp = 0\n",
    "    \n",
    "    print(f\"Skattepliktig beløp er: {beløp}kr\")\n",
    "    return 1\n",
    "\n",
    "def skattepliktig_beløp_b():\n",
    "    print(\"INFO\")\n",
    "    print(\"Dette programmet besvarer om din utleie av en annen type bolig,\")\n",
    "    print(\"her sekundær- eller fritidsbolig, er skattepliktig.\")\n",
    "    print(\"Først trenger vi å vite om du leier ut en sekundær- eller en fritidsbolig.\")\n",
    "    print(\"---------------------------------------------------------------------\")\n",
    "    \n",
    "    print(\"DATAINNHENTING:\")\n",
    "    boligtype = input(\"Skriv inn type annen bolig (sekundærbolig/fritidsbolig) du har leid ut: \")\n",
    "    \n",
    "    print(\"---------------------------------------------------------------------\")\n",
    "    print(\"INFO\")\n",
    "    print(f\"Du har valgt {boligtype}.\")\n",
    "    \n",
    "    if boligtype.lower() == \"sekundærbolig\":\n",
    "        print(\"Inntekten er skattepliktig fra første krone.\")\n",
    "        \n",
    "    elif boligtype.lower() == \"fritidsbolig\":\n",
    "        print(f\"Nå trenger vi først å vite om {boligtype}en(e) primært brukes til utleie eller fritid.\")\n",
    "        print(f\"Deretter trenger vi å vite hvor mange {boligtype}(er) du leier ut.\")\n",
    "        print(f\"Til slutt trenger vi å vite hvor store utleieinntekter du har pr. {boligtype}.\")\n",
    "        \n",
    "        print(\"\")\n",
    "        print(\"DATAINNHENTING:\")\n",
    "        formål = input(f\"Skriv inn formålet med {boligtype}(en/e): \")\n",
    "        antall = int(input(f\"Skriv inn antallet {boligtype}er du leier ut: \"))\n",
    "        leieinntekt = int(input(f\"Skriv inn utleieinntekten pr. {boligtype}: \"))\n",
    "        \n",
    "        print(\"---------------------------------------------------------------------\")\n",
    "        print(\"SKATTEBEREGNING:\")\n",
    "        \n",
    "        if formål.lower() == \"utleie\":\n",
    "            print(\"Inntekten er skattepliktig fra første krone.\")\n",
    "        else:\n",
    "            total_skattepliktig_beløp = 0\n",
    "            for i in range(antall):\n",
    "                overskytende = leieinntekt - 10000\n",
    "                if overskytende > 0:\n",
    "                    skattepliktig = overskytende * 0.85\n",
    "                else:\n",
    "                    skattepliktig = 0\n",
    "                \n",
    "                total_skattepliktig_beløp += skattepliktig\n",
    "                print(f\"Overskytende beløp pr. fritidsbolig er {overskytende}\")\n",
    "                print(f\"Skattepliktig inntekt pr. fritidsbolig er {skattepliktig}\")\n",
    "                \n",
    "            print(f\"Totalt skattepliktig beløp er {total_skattepliktig_beløp}\")\n",
    "\n",
    "\n",
    "\n",
    "bolig_type = input(\"Hva har du leid ut? (egen bolig/sekundærbolig/fritidsbolig): \").lower()\n",
    "    \n",
    "if bolig_type == 'egen bolig':\n",
    "    leieinntekt = int(input(\"Skriv inn årlig leieinntekt: \"))\n",
    "    prosent_utleid = int(input(\"Hvor mange prosent av leiligheten er utleid?: \"))\n",
    "    skattepliktig_beløp_a(leieinntekt, prosent_utleid)\n",
    "elif bolig_type in ['sekundærbolig', 'fritidsbolig']:\n",
    "    skattepliktig_beløp_b()\n",
    "else:\n",
    "    print(\"Ugyldig valg. Prøv igjen.\")"
   ]
  }
 ],
 "metadata": {
  "celltoolbar": "Edit Metadata",
  "kernelspec": {
   "display_name": "Python 3",
   "language": "python",
   "name": "python3"
  },
  "language_info": {
   "codemirror_mode": {
    "name": "ipython",
    "version": 3
   },
   "file_extension": ".py",
   "mimetype": "text/x-python",
   "name": "python",
   "nbconvert_exporter": "python",
   "pygments_lexer": "ipython3",
   "version": "3.10.9"
  },
  "toc": {
   "base_numbering": 1,
   "nav_menu": {},
   "number_sections": false,
   "sideBar": true,
   "skip_h1_title": false,
   "title_cell": "Table of Contents",
   "title_sidebar": "Contents",
   "toc_cell": false,
   "toc_position": {},
   "toc_section_display": true,
   "toc_window_display": false
  }
 },
 "nbformat": 4,
 "nbformat_minor": 2
}
