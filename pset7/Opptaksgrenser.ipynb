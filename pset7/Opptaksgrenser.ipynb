{
 "cells": [
  {
   "cell_type": "markdown",
   "metadata": {
    "deletable": false,
    "editable": false,
    "run_control": {
     "frozen": true
    }
   },
   "source": [
    "<nav class=\"navbar navbar-default\">\n",
    "  <div class=\"container-fluid\">\n",
    "    <div class=\"navbar-header\">\n",
    "      <a class=\"navbar-brand\" href=\"_Oving7.ipynb\">Øving 7</a>\n",
    "    </div>\n",
    "    <ul class=\"nav navbar-nav\">\n",
    "    <li><a href=\"Generelt%20om%20dictionary.ipynb\">Generelt om dictionary</a></li>\n",
    "    <li><a href=\"Innebygde%20funksjoner%20i%20dictionaries.ipynb\">Innebygde funksjoner</a></li>\n",
    "    <li><a href=\"Generelt%20om%20sets.ipynb\">Generelt om sets</a></li>\n",
    "    <li><a href=\"Generelt%20om%20filbehandling.ipynb\">Generelt om filbehandling</a></li>\n",
    "    <li><a href=\"Osteviruset.ipynb\">Osteviruset</a></li>\n",
    "    <li><a href=\"Bursdagsdatabasen.ipynb\">Bursdagsdatabasen</a></li>\n",
    "    <li><a href=\"Tallak%20teller%20antall%20tall.ipynb\">Tallak teller antall tall</a></li>\n",
    "    <li><a href=\"Enhetstesting.ipynb\">Enhetstesting</a></li>\n",
    "    <li><a href=\"Tidtaking.ipynb\">Tidtaking</a></li>\n",
    "    <li><a href=\"Moduler.ipynb\">Moduler</a></li>\n",
    "    <li class = \"active\"><a href=\"Opptaksgrenser.ipynb\">Opptaksgrenser</a></li>\n",
    "    <li><a href=\"Soke%20i%20tekst.ipynb\">Søke i tekst</a></li>\n",
    "    <li><a href=\"Tre%20paa%20rad.ipynb\">Tre på rad</a></li>\n",
    "    </ul>\n",
    "  </div>\n",
    "</nav>\n",
    "\n",
    "\n",
    "# Opptaksgrenser\n",
    "\n",
    "**Læringsmål:**\n",
    "\n",
    "* Lese fra filer\n",
    "* dictionaries\n",
    "\n",
    "I denne oppgaven skal vi lese inn en fil med opptaksgrensene fra Samordna Opptak.\n",
    "\n",
    "Filen er på CSV-format (Comma Separated Values), noe som betyr at hver linje er en liste med felter separert med komma. Tekstfelter er omsluttet av fnutter (\").\n",
    "\n",
    "* Første felt er studiets navn\n",
    "* Andre felt er poenggrensen (enten et tall, eller \"Alle\" dersom alle kom inn)\n",
    "\n",
    "F.eks. linjen: **\"NTNU 194459 Antikkens kultur\",\"Alle\"** sier at alle som søkte kom inn på Dragvoll-studiet “Antikkens kultur” ved NTNU.\n",
    "\n",
    "Hver funksjon i de følgende deloppgavene tar data fra filen **poenggrenser_2011.csv** som input. Derfor er det veldig praktisk å lagre innholdet i en variabel, slik at du slipper å lese den på nytt hver gang."
   ]
  },
  {
   "cell_type": "markdown",
   "metadata": {
    "deletable": false,
    "editable": false,
    "heading_collapsed": true,
    "run_control": {
     "frozen": true
    }
   },
   "source": [
    "### a)"
   ]
  },
  {
   "cell_type": "markdown",
   "metadata": {
    "deletable": false,
    "editable": false,
    "hidden": true,
    "run_control": {
     "frozen": true
    }
   },
   "source": [
    "Les fra fila `poenggrenser_2011.csv` og lagre innholdet i en variabel.\n",
    "\n",
    "***Skriv koden din i boksen under.***"
   ]
  },
  {
   "cell_type": "code",
   "execution_count": 85,
   "metadata": {
    "hidden": true
   },
   "outputs": [],
   "source": [
    "import csv\n",
    "\n",
    "def load_data(filename):\n",
    "    with open(filename, 'r', encoding='utf-8') as file:\n",
    "        data = [row for row in csv.reader(file, delimiter=',')]\n",
    "    return data\n",
    "\n",
    "poenggrenser = load_data(\"data/poenggrenser_2011.csv\")"
   ]
  },
  {
   "cell_type": "markdown",
   "metadata": {
    "deletable": false,
    "editable": false,
    "heading_collapsed": true,
    "run_control": {
     "frozen": true
    }
   },
   "source": [
    "### b)"
   ]
  },
  {
   "cell_type": "markdown",
   "metadata": {
    "deletable": false,
    "editable": false,
    "hidden": true,
    "run_control": {
     "frozen": true
    }
   },
   "source": [
    "Skriv en funksjon som finner ut hvor mange studier som tok inn alle søkere. \n",
    "\n",
    "***Husk at du nå i alle deloppgavene kan bruke variabelen du definerte i a så lenge du har kjørt den kodesnutten først!***\n",
    "\n",
    "*Eksempel på kjøring av kode:*\n",
    "```python\n",
    "Antall studier hvor alle kom inn: 590\n",
    "```\n",
    "***Skriv koden din i boksen under.***"
   ]
  },
  {
   "cell_type": "code",
   "execution_count": 86,
   "metadata": {
    "hidden": true
   },
   "outputs": [
    {
     "name": "stdout",
     "output_type": "stream",
     "text": [
      "Studier hvor alle ble tatt inn: 590\n"
     ]
    }
   ],
   "source": [
    "def everyone_was_accepted():\n",
    "    return sum([1 for row in poenggrenser if row[1] == \"Alle\"])\n",
    "\n",
    "print(\"Studier hvor alle ble tatt inn:\", everyone_was_accepted())"
   ]
  },
  {
   "cell_type": "markdown",
   "metadata": {
    "deletable": false,
    "editable": false,
    "heading_collapsed": true,
    "run_control": {
     "frozen": true
    }
   },
   "source": [
    "### b)"
   ]
  },
  {
   "cell_type": "markdown",
   "metadata": {
    "deletable": false,
    "editable": false,
    "hidden": true,
    "run_control": {
     "frozen": true
    }
   },
   "source": [
    "Skriv en funksjon som finner gjennomsnittlig opptaksgrense for NTNU. Ikke ta med studier som tok inn alle søkere.\n",
    "\n",
    "*Eksempel på kjøring av kode:*\n",
    "```python\n",
    "Gjennomsnittlig opptaksgrense for NTNU var: 46.29\n",
    "```\n",
    "***Skriv koden din i boksen under.***"
   ]
  },
  {
   "cell_type": "code",
   "execution_count": 100,
   "metadata": {
    "hidden": true
   },
   "outputs": [
    {
     "name": "stdout",
     "output_type": "stream",
     "text": [
      "Gjennomsnittlig opptaksgrense for NTNU var: 46.3\n"
     ]
    }
   ],
   "source": [
    "def average_points(poenggrenser):\n",
    "    total_points = 0\n",
    "    ntnu_studies = 0\n",
    "    for studie, poeng in poenggrenser:\n",
    "        studie = studie.strip('\"').split(' ')[0]\n",
    "        if studie == \"NTNU\" and poeng != \"Alle\":\n",
    "            total_points += float(poeng.strip('\"'))\n",
    "            ntnu_studies += 1\n",
    "    return total_points / ntnu_studies if ntnu_studies else 0\n",
    "\n",
    "print(\"Gjennomsnittlig opptaksgrense for NTNU var:\", round(average_points(poenggrenser), 2))"
   ]
  },
  {
   "cell_type": "markdown",
   "metadata": {
    "deletable": false,
    "editable": false,
    "heading_collapsed": true,
    "hidden": true,
    "run_control": {
     "frozen": true
    }
   },
   "source": [
    "#### Hint"
   ]
  },
  {
   "cell_type": "markdown",
   "metadata": {
    "deletable": false,
    "editable": false,
    "hidden": true,
    "run_control": {
     "frozen": true
    }
   },
   "source": [
    "For å sjekke om studiet var på NTNU kan du hente ut de fire første bokstavene i hver linje. Hvis du har en string studie kan du gjøre dette ved å skrive: studie[1:5]"
   ]
  },
  {
   "cell_type": "markdown",
   "metadata": {
    "deletable": false,
    "editable": false,
    "heading_collapsed": true,
    "run_control": {
     "frozen": true
    }
   },
   "source": [
    "### c)"
   ]
  },
  {
   "cell_type": "markdown",
   "metadata": {
    "deletable": false,
    "editable": false,
    "hidden": true,
    "run_control": {
     "frozen": true
    }
   },
   "source": [
    "Skriv en funksjon som finner studiet med laveste opptaksgrense (som IKKE tok inn alle søkere).\n",
    "\n",
    "*Eksempel på kjøring av kode:*\n",
    "```python\n",
    "Studiet som hadde den laveste opptaksgrensen var: AHO 189343 Industridesign\n",
    "```\n",
    "***Skriv koden din i boksen under.***"
   ]
  },
  {
   "cell_type": "code",
   "execution_count": 102,
   "metadata": {
    "hidden": true
   },
   "outputs": [
    {
     "name": "stdout",
     "output_type": "stream",
     "text": [
      "Studiet som hadde den laveste opptaksgrensen var: AHO 189343 Industridesign\n"
     ]
    }
   ],
   "source": [
    "def lowest_admission_score(poenggrenser):\n",
    "    lowest_score = float(\"inf\")\n",
    "    lowest_study = None\n",
    "    for row in poenggrenser:\n",
    "        studie, poeng = row\n",
    "        if poeng.strip('\"') != \"Alle\" and float(poeng.strip('\"')) < lowest_score:\n",
    "            lowest_score = float(poeng.strip('\"'))\n",
    "            lowest_study = studie.strip('\"')\n",
    "    return lowest_study\n",
    "\n",
    "print(\"Studiet som hadde den laveste opptaksgrensen var:\", lowest_admission_score(poenggrenser))"
   ]
  },
  {
   "cell_type": "markdown",
   "metadata": {
    "deletable": false,
    "editable": false,
    "heading_collapsed": true,
    "run_control": {
     "frozen": true
    }
   },
   "source": [
    "### d)"
   ]
  },
  {
   "cell_type": "markdown",
   "metadata": {
    "deletable": false,
    "editable": false,
    "hidden": true,
    "run_control": {
     "frozen": true
    }
   },
   "source": [
    "Lag en dictionary som har studiestedet som nøkkel og en liste med dictionaries som verdi. Denne listen med dictionaries skal ha navnet på linjen som nøkkel og opptakspoengene til den tilsvarende linjen som verdi. Dersom en linje har navnet \"Fysikk og Matematikk\" trenger du kun å ta hensyn til det første ordet, dvs. \"Fysikk\". \n",
    "\n",
    "**Eksempel på utskrift:**\n",
    "\n",
    "```python\n",
    "ATH [{'Kristendom': ' Alle'}, {'Interkulturell': ' Alle'}, {'Musikk': ' Alle'}, {'Teologi': ' Alle'}, {'Kristendom': ' Alle'}, {'Psykologi': ' Alle'}, {'Musikk': ' Alle'}, {'Interkulturell': ' Alle'}, {'Psykologi': ' Alle'}, {'Praktisk': ' Alle'}]\n",
    "AHO [{'Arkitekt': '12.3'}, {'Industridesign': '11.7'}]\n",
    "BDH [{'Sykepleierutdanning': '45.5'}]\n",
    "MF [{'Kristendom/RLE': ' Alle'}, {'Samfunnsfag': ' Alle'}, {'Interkulturell': ' Alle'}, {'Teologi': ' Alle'}, {'Religion': ' Alle'}, {'Ungdom': ' Alle'}, {'Lektor-': ' Alle'}, {'Teologi': ' Alle'}]\n",
    "DHS [{'Sykepleierutdanning': '48.3'}, {'Vernepleierutdanning': '41.8'}, {'Sosialt': '49.1'}, {'Sosialt': '42.4'}, {'Ergoterapeututdanning': '32.6'}]\n",
    "DMMH [{'Førskolelærerutdanning': '36.3'}, {'Førskolelærer': '39.1'}, {'Førskolelærer': '44'}, {'Førskolelærer': '46.2'}, {'Førskolelærer': ' Alle'}]\n",
    ".\n",
    ".\n",
    ".\n",
    "UIT [{'Ingeniør': ' Alle'}, {'Ingeniør': ' Alle'}, {'Ingeniør': ' Alle'}, {'Ingeniør': ' Alle'}, {'Sykepleierutdanning': '43.8'}, {'Lærerutdanning': ' Alle'}, {'Lærerutdanning': ' Alle'}, {'Førskolelærerutdanning': ' Alle'}, ....\n",
    "```\n",
    "***Skriv koden din i boksen under.***"
   ]
  },
  {
   "cell_type": "code",
   "execution_count": 103,
   "metadata": {
    "hidden": true
   },
   "outputs": [
    {
     "name": "stdout",
     "output_type": "stream",
     "text": [
      "ATH [{'Kristendom': 'Alle'}, {'Interkulturell': 'Alle'}, {'Musikk': 'Alle'}, {'Teologi': 'Alle'}, {'Kristendom': 'Alle'}, {'Psykologi': 'Alle'}, {'Musikk': 'Alle'}, {'Interkulturell': 'Alle'}, {'Psykologi': 'Alle'}, {'Praktisk': 'Alle'}]\n",
      "AHO [{'Arkitekt': '12.3'}, {'Industridesign': '11.7'}]\n",
      "BDH [{'Sykepleierutdanning': '45.5'}]\n",
      "MF [{'Kristendom/RLE': 'Alle'}, {'Samfunnsfag': 'Alle'}, {'Interkulturell': 'Alle'}, {'Teologi': 'Alle'}, {'Religion': 'Alle'}, {'Ungdom': 'Alle'}, {'Lektor-': 'Alle'}, {'Teologi': 'Alle'}]\n",
      "DHS [{'Sykepleierutdanning': '48.3'}, {'Vernepleierutdanning': '41.8'}, {'Sosialt': '49.1'}, {'Sosialt': '42.4'}, {'Ergoterapeututdanning': '32.6'}]\n",
      "DMMH [{'Førskolelærerutdanning': '36.3'}, {'Førskolelærer': '39.1'}, {'Førskolelærer': '44'}, {'Førskolelærer': '46.2'}, {'Førskolelærer': 'Alle'}]\n",
      "FIH [{'Teologi': 'Alle'}, {'Kristendom': 'Alle'}, {'Musikk': 'Alle'}]\n",
      "HDH [{'Sykepleierutdanning': '46.1'}]\n",
      "HIAK [{'Sykepleierutdanning': '45.3'}, {'Vernepleierutdanning': '47.4'}, {'Vernepleierutdanning': '39.3'}, {'Vernepleierutdanning': '39.9'}, {'Yrkesfaglærerutd.': 'Alle'}, {'Yrkesfaglærerutd.': 'Alle'}, {'Yrkesfaglærerutd.': 'Alle'}, {'Yrkesfaglærerutd.': 'Alle'}, {'Yrkesfaglærerutd.': 'Alle'}, {'Yrkesfaglærerutd.': 'Alle'}, {'Yrkesfaglærerutd.': 'Alle'}, {'Yrkesfaglærerutd.': 'Alle'}, {'Yrkesfaglærerutd.': 'Alle'}, {'Yrkesfaglærerutd.': 'Alle'}, {'Produktdesign': 'Alle'}, {'Samfunnsernæring': '49.7'}, {'Trafikklærerutdanning': 'Alle'}, {'Læringspsykologi': '48.4'}, {'Husøkonomi': 'Alle'}, {'Kostøkonomi': 'Alle'}]\n",
      "HIB [{'Ingeniør': 'Alle'}, {'Ingeniør': 'Alle'}, {'Ingeniør': 'Alle'}, {'Ingeniør': 'Alle'}, {'Ingeniør': '43.8'}, {'Ingeniør': '39.8'}, {'Ingeniør': 'Alle'}, {'Ingeniør': 'Alle'}, {'Ingeniør': 'Alle'}, {'Ingeniør': 'Alle'}, {'Sykepleierutdanning': '41.2'}, {'Vernepleierutdanning': '38.2'}, {'Sosialt': '45.8'}, {'Ingeniør': '44.8'}, {'Førskolelærerutdanning': 'Alle'}, {'Førskolelærerutd.': 'Alle'}, {'Førskolelærerutd': '34.8'}, {'Folkehelsearbeid': '45.5'}, {'Økonomi': '46.6'}, {'Informasjonsteknologi': 'Alle'}, {'Idrett': '44.7'}, {'Tegnspråk': 'Alle'}, {'Grunnskolelærer': '40.5'}, {'Grunnskolelærer': 'Alle'}, {'Grunnskolelærer': 'Alle'}, {'Grunnskolelærer': 'Alle'}, {'Grunnskolelærer': 'Alle'}, {'Grunnskolelærer': 'Alle'}, {'Grunnskolelærer': '44.3'}, {'Drama': '39.2'}, {'Grunnskolelærer': '43.8'}, {'Grunnskolelærer': '44.7'}, {'Grunnskolelærer': '40.4'}, {'Grunnskolelærer': '43.5'}, {'Grunnskolelærer': 'Alle'}, {'Musikk': '46.3'}, {'Ergoterapeututdanning': '42.5'}, {'Radiografutdanning': '36.2'}, {'Bioingeniørutdanning': '42.3'}, {'Fysioterapeututdanning': '49.7'}, {'Landmåling': '35.6'}, {'Ingeniør': '45.5'}]\n",
      "HIBU [{'Ingeniør': 'Alle'}, {'Ingeniør': 'Alle'}, {'Ingeniør': 'Alle'}, {'Sykepleier': '30.4'}, {'Lysdesign': 'Alle'}, {'Økonomi': 'Alle'}, {'Økonomi': 'Alle'}, {'Juss': '43.8'}, {'Visuell': '43.8'}, {'Økonomi': 'Alle'}, {'Reiselivsledelse': 'Alle'}, {'Økonomi': 'Alle'}, {'Dynamisk': 'Alle'}, {'IT': 'Alle'}, {'Økonomi': '29.1'}, {'Økonomi': 'Alle'}, {'Juss': '45.2'}, {'Grunnskolelærer': 'Alle'}, {'IT': 'Alle'}, {'Engelsk': 'Alle'}, {'Grunnskolelærer': 'Alle'}, {'Grunnskolelærer': 'Alle'}, {'Grunnskolelærer': 'Alle'}, {'Norsk': 'Alle'}, {'Radiograf': '30.8'}, {'Juss': '41.8'}, {'Statsvitenskap': '36.5'}, {'Optometri': 'Alle'}]\n",
      "HIG [{'Ingeniør': 'Alle'}, {'Ingeniør': 'Alle'}, {'Ingeniør': 'Alle'}, {'Ingeniør': 'Alle'}, {'Medieteknologi': 'Alle'}, {'Sykepleierutdanning': '30.7'}, {'Sykepleierutdanning': 'Alle'}, {'Sykepleierutdanning': 'Alle'}, {'Sykepleierutdanning': 'Alle'}, {'Sykepleierutdanning': 'Alle'}, {'Teknologidesign': 'Alle'}, {'Landmåling': 'Alle'}, {'Geografiske': 'Alle'}, {'Mediemanagement': 'Alle'}, {'Mediedesign': '42'}, {'Økonomi': 'Alle'}, {'Medie-': 'Alle'}, {'Landmåling': 'Alle'}, {'Medieproduksjon': 'Alle'}, {'Økonomi': 'Alle'}, {'Drift': 'Alle'}, {'Programvareutvikling': 'Alle'}, {'Geografiske': 'Alle'}, {'Økonomi': 'Alle'}, {'Geomatikk': 'Alle'}, {'Informasjonssikkerhet': 'Alle'}, {'Teknologidesign': 'Alle'}, {'Medieproduksjon': 'Alle'}, {'Spillprogrammering': 'Alle'}, {'Radiografutdanning': 'Alle'}, {'Teknologidesign': 'Alle'}, {'Mediemanagement': 'Alle'}]\n",
      "HIH [{'Økonomi': 'Alle'}, {'Sykepleierutdanning': '38.2'}, {'Sykepleierutdanning': 'Alle'}, {'Vernepleierutdanning': 'Alle'}, {'Barnevernspedagogutdanning': '35.2'}, {'Barnevernspedagogutdanning': '40.7'}, {'Økonomi': 'Alle'}, {'Regnskap': 'Alle'}, {'Handel': 'Alle'}]\n",
      "HIM [{'Sykepleierutdanning': '30.3'}, {'Sykepleierutdanning': 'Alle'}, {'Vernepleierutdanning': '42.4'}, {'Bedriftsøkonomi': 'Alle'}, {'Idrett': '39.6'}, {'Informasjonsbehandling': 'Alle'}, {'Statsvitenskap': 'Alle'}, {'Jus': '39.1'}, {'Logistikk': 'Alle'}, {'Revisjon': 'Alle'}, {'Økonomi': 'Alle'}, {'IT': 'Alle'}, {'Siviløkonom': '41'}, {'Internasjonal': 'Alle'}, {'Sport': '39.4'}, {'Petroleumslogistikk': 'Alle'}, {'Jus': 'Alle'}, {'Petroleumslogistikk': '44.9'}]\n",
      "HIN [{'Ingeniør': 'Alle'}, {'Ingeniør': 'Alle'}, {'Ingeniør': 'Alle'}, {'Ingeniør': 'Alle'}, {'Ingeniør': 'Alle'}, {'Ingeniør': 'Alle'}, {'Ingeniør': 'Alle'}, {'Ingeniør': 'Alle'}, {'Sykepleierutdanning': 'Alle'}, {'Ingeniør': 'Alle'}, {'Ingeniør': 'Alle'}, {'Ingeniør': 'Alle'}, {'Ingeniør': 'Alle'}, {'Ingeniør': 'Alle'}, {'Økonomi': 'Alle'}, {'Elektroteknikk': 'Alle'}, {'Data/IT': 'Alle'}, {'Ingeniørdesign': 'Alle'}, {'Integrert': 'Alle'}, {'Industriell': 'Alle'}, {'Satelitteknologi': 'Alle'}, {'Internasjonal': 'Alle'}]\n",
      "HINE [{'Førskolelærer': 'Alle'}, {'Førskolelærerutdanning': 'Alle'}, {'Engelsk': 'Alle'}, {'Kunst': 'Alle'}, {'Grunnskolelærer': 'Alle'}, {'Design': 'Alle'}, {'Informasjonsteknologi': 'Alle'}, {'Engelsk': 'Alle'}, {'Kunst': 'Alle'}, {'Grunnskolelærer': 'Alle'}, {'Grunnskolelærer': 'Alle'}, {'Naturfag': 'Alle'}, {'Kreativt': 'Alle'}, {'Samfunnsfag': 'Alle'}, {'Kreativt': 'Alle'}, {'Drama': 'Alle'}]\n",
      "HINT [{'Sykepleierutdanning': '40.9'}, {'Sykepleierutdanning': 'Alle'}, {'Vernepleierutdanning': 'Alle'}, {'Førskolelærerutdanning': 'Alle'}, {'Idrett': '41.8'}, {'Sosiologi': 'Alle'}, {'Revisjon': 'Alle'}, {'Husdyrfag': 'Alle'}, {'Utmarksforvaltning': 'Alle'}, {'Økonomi': 'Alle'}, {'Naturforvaltning': 'Alle'}, {'Geografi': 'Alle'}, {'Kommunal': 'Alle'}, {'Husdyrvelferd': 'Alle'}, {'Multimedieteknologi': 'Alle'}, {'Kroppsøving': '45'}, {'Grønn': 'Alle'}, {'Regnskap': 'Alle'}, {'Grunnskolelærerutdanning': 'Alle'}, {'Friluftsliv': 'Alle'}, {'Engelsk': 'Alle'}, {'Faglærerutd': 'Alle'}, {'Kunst': 'Alle'}, {'Kroppsøving': 'Alle'}, {'Grunnskolelærerutdanning': 'Alle'}, {'Musikk': 'Alle'}, {'Spill-': 'Alle'}, {'Samfunnsfag': 'Alle'}, {'Trafikklærerutdanning': '42.1'}, {'Farmasiutdanning': 'Alle'}]\n",
      "HSF [{'Ingeniør': 'Alle'}, {'Sykepleierutdanning': 'Alle'}, {'Sykepleierutdanning': 'Alle'}, {'Sykepleierutdanning': 'Alle'}, {'Vernepleierutdanning': 'Alle'}, {'Barnevernspedagogutdanning': 'Alle'}, {'Sosialt': '32.2'}, {'Førskolelærerutdanning': 'Alle'}, {'Førskolelærerutdanning': 'Alle'}, {'Bedriftsøkonomi': 'Alle'}, {'Engelsk': 'Alle'}, {'Idrett': '38.2'}, {'Samfunnsfag': 'Alle'}, {'Jus': '34.6'}, {'Friluftsliv': 'Alle'}, {'Landskapsplanlegging': 'Alle'}, {'Reiselivsledelse': 'Alle'}, {'Ungdomssosiologi': 'Alle'}, {'Eiendomsmegling': 'Alle'}, {'Økonomi': 'Alle'}, {'Naturfag': 'Alle'}, {'Idrett': '40.7'}, {'Geologi': 'Alle'}, {'Historie': 'Alle'}, {'Idrett': '32.1'}, {'Grunnskulelærarutdanning': 'Alle'}, {'Grunnskulelærarutdanning': 'Alle'}, {'Grunnskulelærarutdanning': 'Alle'}, {'Reiseliv': 'Alle'}, {'Fornybar': 'Alle'}, {'Sosiologi': 'Alle'}]\n",
      "STAF [{'Kristendom': 'Alle'}, {'Musikk': 'Alle'}, {'Teologi': 'Alle'}]\n",
      "HSH [{'Ingeniør': 'Alle'}, {'Ingeniør': 'Alle'}, {'Ingeniør': 'Alle'}, {'Sykepleierutdanning': '31.3'}, {'Sykepleierutdanning': '31.5'}, {'Førskolelærerutd.': 'Alle'}, {'Førskolelærerutd.': 'Alle'}, {'Faglærerutdanning': 'Alle'}, {'Maritim': '37.3'}, {'Økonomi': 'Alle'}, {'Kunst': 'Alle'}, {'Grunnskolelærerutdanning': 'Alle'}, {'Engelsk': 'Alle'}, {'Idrett/Kroppsøving': '34.4'}, {'Grunnskolelærerutdanning': 'Alle'}, {'Samfunnsfag': 'Alle'}]\n",
      "HIT [{'Ingeniør': 'Alle'}, {'Ingeniør': 'Alle'}, {'Ingeniør': 'Alle'}, {'Økonomi': 'Alle'}, {'Sykepleierutdanning': '32.2'}, {'Sykepleierutdanning': 'Alle'}, {'Vernepleierutdanning': '32.1'}, {'Vernepleierutdanning': 'Alle'}, {'Barnevern': '32.8'}, {'Ingeniør': 'Alle'}, {'Førskolelærerutdanning': 'Alle'}, {'Førskolelærer': 'Alle'}, {'Førskolelærerutdanning': 'Alle'}, {'Førskolelærerutdanning': 'Alle'}, {'Faglærer': 'Alle'}, {'Faglærer': 'Alle'}, {'Bedriftsøkonomi': 'Alle'}, {'Bedriftsøkonomi': '33.6'}, {'Engelsk': 'Alle'}, {'Friluftsliv': 'Alle'}, {'Historie': 'Alle'}, {'Idrett': '34.3'}, {'Informasjonsbehandling': 'Alle'}, {'Informasjonsbehandling': 'Alle'}, {'Norsk': 'Alle'}, {'Kultur-arrangering': 'Alle'}, {'Friluftsliv': 'Alle'}, {'Kultur-arrangering': 'Alle'}, {'Reiseliv': 'Alle'}, {'Revisjon': 'Alle'}, {'Internasjonal': 'Alle'}, {'Eiendomsmegling': '37.3'}, {'Økonomi': 'Alle'}, {'Økologi': 'Alle'}, {'Informatikk': 'Alle'}, {'Idéhistorie': 'Alle'}, {'Idrettsvitenskap': 'Alle'}, {'Visuelle': 'Alle'}, {'Folkekunst': 'Alle'}, {'Folkemusikk': 'Alle'}, {'Natur': 'Alle'}, {'Forurensing': 'Alle'}, {'Informasjonssystemer': 'Alle'}, {'Humanistiske': 'Alle'}, {'Leire': 'Alle'}, {'Form': 'Alle'}, {'Grunnskolelærer': 'Alle'}, {'Grunnskolelærer': 'Alle'}, {'Grunnskolelærer': 'Alle'}, {'Grunnskolelærer': 'Alle'}, {'Digital': 'Alle'}, {'Natur': 'Alle'}, {'Historie': 'Alle'}, {'Folkekunst': 'Alle'}, {'Folkemusikk': 'Alle'}, {'Kunst': 'Alle'}, {'Tegning': 'Alle'}, {'Kroppsøving': 'Alle'}, {'Grunnskolelærer': 'Alle'}, {'Grunnskolelærer': 'Alle'}, {'Grunnskolelærer': 'Alle'}, {'Norsk': 'Alle'}, {'Ingeniør': 'Alle'}, {'Innovasjon': 'Alle'}, {'Spansk': 'Alle'}]\n",
      "HIVE [{'Ingeniør': 'Alle'}, {'Ingeniør': 'Alle'}, {'Ingeniør': 'Alle'}, {'Ingeniør': 'Alle'}, {'Skipsfart': 'Alle'}, {'Sykepleierutdanning': '33.5'}, {'Førskolelærerutdanning': 'Alle'}, {'Førskolelærerutdanning': 'Alle'}, {'Bedriftsøkonomi': '33.8'}, {'Engelsk': 'Alle'}, {'Historie': 'Alle'}, {'Matematikk': 'Alle'}, {'Sosiologi': '35.6'}, {'Samfunnsfag': 'Alle'}, {'Revisjon': 'Alle'}, {'Ungdomskunnskap': 'Alle'}, {'Maritim': 'Alle'}, {'Nautikk': 'Alle'}, {'Økonomi': '36.7'}, {'Informasjonssystemer': 'Alle'}, {'Internasjonal': 'Alle'}, {'Idrett': '39.6'}, {'Mat': 'Alle'}, {'Informasjonssystemer': 'Alle'}, {'Historie': 'Alle'}, {'Grunnskolelærerutdanning': 'Alle'}, {'Grunnskolelærerutdanning': 'Alle'}, {'IKT': 'Alle'}, {'Religion': 'Alle'}, {'Kunst': 'Alle'}, {'Idrett': '40.8'}, {'Grunnskolelærerutdanning': 'Alle'}, {'Naturfag': 'Alle'}, {'Musikk': 'Alle'}, {'Norsk': 'Alle'}, {'Teater': 'Alle'}, {'Ingeniør': 'Alle'}, {'Sosiologi': 'Alle'}, {'Spansk': 'Alle'}]\n",
      "HIØ [{'Ingeniør': 'Alle'}, {'Ingeniør': 'Alle'}, {'Ingeniør': 'Alle'}, {'Ingeniør': 'Alle'}, {'Økonomi': 'Alle'}, {'Sykepleierutdanning': '32.9'}, {'Sykepleierutdanning': 'Alle'}, {'Vernepleierutdanning': '31.5'}, {'Vernepleierutdanning': 'Alle'}, {'Barnevern': '37.9'}, {'Sosialt': '39.3'}, {'Førskolelærerutdanning': 'Alle'}, {'Førskolelærerutdanning': 'Alle'}, {'Engelsk': 'Alle'}, {'Norsk': 'Alle'}, {'Statsvitenskap': 'Alle'}, {'Tysk': 'Alle'}, {'Informatikk': 'Alle'}, {'Revisjon': 'Alle'}, {'Bedriftsøkonomi': 'Alle'}, {'Informasjonssystemer': 'Alle'}, {'Internasjonal': 'Alle'}, {'Samfunn': 'Alle'}, {'Kunst': 'Alle'}, {'Grunnskolelærerutdanning': 'Alle'}, {'Fransk': 'Alle'}, {'Informasjonsteknologi': 'Alle'}, {'Religion': 'Alle'}, {'Kroppsøving': '33.5'}, {'Grunnskolelærerutdanning': 'Alle'}, {'Matematikk': 'Alle'}, {'Naturfag': 'Alle'}, {'Musikk': 'Alle'}, {'Samfunnsfag': 'Alle'}, {'Bioingeniørutdanning': 'Alle'}, {'Ingeniør': 'Alle'}, {'Digital': 'Alle'}, {'Innovasjon': '32.4'}, {'Arbeids-': 'Alle'}, {'Spansk': 'Alle'}]\n",
      "HIÅ [{'Ingeniør': 'Alle'}, {'Ingeniør': 'Alle'}, {'Ingeniør': 'Alle'}, {'Ingeniør': 'Alle'}, {'Sykepleierutdanning': '29.1'}, {'Shipping': 'Alle'}, {'Økonomi': '36.5'}, {'Medisinsk': 'Alle'}, {'Bachelor': 'Alle'}, {'Maritim': '43.2'}, {'Økonomi': '39.1'}, {'Handels-': '34.1'}, {'Shipping': '35.8'}, {'Eksportmarkedsføring': '35.5'}, {'Ingeniør': 'Alle'}, {'Bioingeniør': 'Alle'}, {'Innovasjonsledelse': '37.4'}]\n",
      "HD [{'Sykepleierutdanning': '42.7'}]\n",
      "LDH [{'Sykepleierutdanning': '43'}]\n",
      "MHS [{'Kristendomskunnskap/RLE': 'Alle'}, {'Interkult.': 'Alle'}, {'Teologi': 'Alle'}, {'Religion': 'Alle'}, {'Samfunnsfag': 'Alle'}, {'Teologi': 'Alle'}]\n",
      "NHH [{'Siviløkonomutdanningen': '55.2'}]\n",
      "NTNU [{'Afrikastudier': '33.8'}, {'Yrkesfaglærerutd.': 'Alle'}, {'Yrkesfaglærerutdanning': 'Alle'}, {'Yrkesfaglærerutdanning': 'Alle'}, {'Engelsk': '42.9'}, {'Rådgiving': 'Alle'}, {'Fransk': 'Alle'}, {'Historie': '40'}, {'Biologi': '51.1'}, {'Informatikk': 'Alle'}, {'Kunsthistorie': 'Alle'}, {'Matematikk': '47.6'}, {'Nordisk': 'Alle'}, {'Pedagogikk': '39.2'}, {'Statsvitenskap': '46.1'}, {'Samfunnsøkonomi': '45'}, {'Sosiologi': '44.1'}, {'Studier': '41.8'}, {'Tysk': 'Alle'}, {'Kunsthistorie': 'Alle'}, {'Geografi': '39.9'}, {'Samfunnskunnskap': '42.2'}, {'Latin': 'Alle'}, {'Emnestudier': '41.1'}, {'Biologi': '49.4'}, {'Filosofi': '41.9'}, {'Sosialantropologi': '43'}, {'Informatikk': '44.3'}, {'Musikkvitenskap': 'Alle'}, {'Geografi': '30'}, {'Drama': '41.2'}, {'Bevegelsesvitenskap': '44.7'}, {'Allmenn': 'Alle'}, {'Lingvistikk': 'Alle'}, {'Antikkens': 'Alle'}, {'Musikkteknologi': '45.6'}, {'Arkeologi': '39.1'}, {'Filosofi': '34.8'}, {'Historie': '33.5'}, {'Samfunns-': '42.4'}, {'Allmenn': 'Alle'}, {'Kristendomsk.': 'Alle'}, {'Film-': '46.6'}, {'Kroppsøving': '51.8'}, {'Lektorutdanning': '49.5'}, {'Lektorutdanning': '44.3'}, {'Lektorutdanning': 'Alle'}, {'Lektorutdanning': '45.8'}, {'Lektorutdanning': 'Alle'}, {'Emnestudier': 'Alle'}, {'Medisin': '58.4'}, {'Psykologi': '48'}, {'Materialteknologi': '51.9'}, {'Arkitekt': '52.7'}, {'Petroleumsfag': '51.9'}, {'Bygg-': '51.9'}, {'Datateknikk': '50.9'}, {'Elektronikk': '47.8'}, {'Fysikk': '56.5'}, {'Industriell': '52.6'}, {'Marin': '53.1'}, {'Produktutvikling': '52.8'}, {'Industriell': '58.9'}, {'Industriell': '54.4'}, {'Energi': '54.6'}, {'Kommunikasjonsteknologi': '49.6'}, {'Europastudier': 'Alle'}, {'Europastudier': 'Alle'}, {'Europastudier': 'Alle'}, {'Teknisk': '51.5'}, {'Samfunnsøkonomi': '46.6'}, {'Lektorutdanning': '48.6'}, {'Filmvitenskap': 'Alle'}, {'Medievitenskap': '38.5'}, {'Pedagogikk': '35'}, {'Bioteknologi': '52.6'}, {'Fysikk': '52.7'}, {'Geologi': '47.2'}, {'Kjemi': '49.2'}, {'Matematiske': '49.8'}, {'Afrikastudier': 'Alle'}, {'Europastudier': '42.4'}, {'Politisk': '44.4'}, {'Psykologi': '46.7'}, {'Sosialantropologi': '37.5'}, {'Sosiologi': '39.3'}, {'Statsvitenskap': '44.6'}, {'Engelsk': '35.6'}, {'Fransk': 'Alle'}, {'Nordisk': 'Alle'}, {'Tysk': 'Alle'}, {'Samfunnsøkonomi': '43.9'}, {'Språklig': 'Alle'}, {'Kulturminneforvaltning': 'Alle'}, {'Ingeniørvitenskap': '52'}, {'Religionsvitenskap': 'Alle'}, {'Spansk': '36.9'}, {'Religionsvitenskap': 'Alle'}, {'Fonetikk': 'Alle'}, {'Klassisk': 'Alle'}, {'Lektorutdanning': '46.3'}, {'Nanoteknologi': '61.9'}, {'Psykologi': '55.2'}, {'Lektorutdanning': '48.4'}, {'Tekniske': '51.5'}]\n",
      "NLA [{'Førskolelærerutdanning': 'Alle'}, {'Menighetspedagogikk': 'Alle'}, {'KRLE': 'Alle'}, {'Pedagogikk': '34.6'}, {'Interkulturell': '36.3'}, {'Teologi': 'Alle'}, {'Kristendomskunnskap': 'Alle'}, {'Kristendom': 'Alle'}, {'Grunnskolelærerutdanning': 'Alle'}, {'Grunnskolelærerutdanning': 'Alle'}, {'Interkulturell': 'Alle'}, {'Interkulturell': 'Alle'}, {'Pedagogikk': '43.3'}, {'Interkulturell': 'Alle'}, {'Religion': 'Alle'}]\n",
      "SA/SH [{'Samisk': 'Alle'}, {'Duodji': 'Alle'}, {'Reindriftsstudier': 'Alle'}, {'Samisk': 'Alle'}, {'Samisk': 'Alle'}, {'Samisk': 'Alle'}]\n",
      "UIA [{'Ingeniør': 'Alle'}, {'Ingeniør': 'Alle'}, {'Ingeniør': 'Alle'}, {'Ingeniør': 'Alle'}, {'Ingeniør': 'Alle'}, {'Sykepleierutdanning': '40.1'}, {'Sykepleierutdanning': '37.5'}, {'Vernepleierutdanning': '37.1'}, {'Sosionomutdanning': '41.8'}, {'Grunnskolelærerutdanning': 'Alle'}, {'Grunnskolelærerutdanning': 'Alle'}, {'Førskolelærerutd.': 'Alle'}, {'Førskolelærerutd.': 'Alle'}, {'Multimedieteknologi': 'Alle'}, {'Faglærerutdanning': 'Alle'}, {'Engelsk': 'Alle'}, {'Friluftsliv': 'Alle'}, {'Fransk': 'Alle'}, {'Historie': 'Alle'}, {'Biologi': 'Alle'}, {'IT': 'Alle'}, {'Kunstfag': 'Alle'}, {'Folkehelsearbeid': '40.5'}, {'Matematikk': 'Alle'}, {'Nordisk': 'Alle'}, {'Statsvitenskap': '36.9'}, {'Samfunnsfag': '35'}, {'Utviklingsstudiet': '41.8'}, {'IT': '33'}, {'Matematisk': 'Alle'}, {'Oversetting': 'Alle'}, {'Opplevelsesbasert': '36.6'}, {'Revisjon': '39.7'}, {'Biologi': 'Alle'}, {'Skolebibliotekkunnskap': 'Alle'}, {'Økonomi': '45.8'}, {'Filosofi': 'Alle'}, {'Økonomi': '42.7'}, {'Økonomi': '40.1'}, {'Kunstfag': 'Alle'}, {'Idrett': '42.9'}, {'Litteratur': 'Alle'}, {'Samfunnsendring': 'Alle'}, {'Historie': 'Alle'}, {'Religion': 'Alle'}, {'Utviklingsstudier': '39.3'}, {'Grunnskolelærerutdanning': 'Alle'}, {'Grunnskolelærerutdanning': 'Alle'}, {'Drama': 'Alle'}, {'Kunst': 'Alle'}, {'Ernæring': '40.5'}, {'Idrett': '43.5'}, {'Grunnskolelærerutdanning': '38.7'}, {'Religion': 'Alle'}, {'Fysikk': 'Alle'}, {'Mediefag': '36.9'}, {'Musikk': '42.9'}, {'Pedagogikk': '37.3'}, {'Tysk': 'Alle'}, {'Bioingeniør': '41.5'}, {'Industriell': '48.1'}, {'Kommunikasjon': 'Alle'}, {'Ingeniør': 'Alle'}, {'Informasjons-': 'Alle'}, {'Lektorutdanning': 'Alle'}, {'Kommunikasjon': '40'}, {'Pedagogikk': '31.3'}, {'Matematikk': 'Alle'}, {'Ernæring': '46.8'}, {'Statsvitenskap': '40'}, {'Engelsk': 'Alle'}, {'Nordisk': 'Alle'}, {'Arbeids-': 'Alle'}, {'Spansk': 'Alle'}, {'Litteratur': 'Alle'}]\n",
      "UMB [{'Grunnstudium': '53.3'}, {'Eiendomsfag': '44.8'}, {'Frie': 'Alle'}, {'Bioteknologi': '47.7'}, {'Landskapsingeniør': '48'}, {'Husdyrvitenskap': 'Alle'}, {'Skogfag': 'Alle'}, {'Biologi': '44.1'}, {'Kjemi': 'Alle'}, {'Økonomi': '47.2'}, {'Miljø': 'Alle'}, {'Økologi': 'Alle'}, {'Geomatikk:': 'Alle'}, {'Samfunnsøkonomi': '46.2'}, {'Internasjonale': '48.4'}, {'Hestefag': 'Alle'}, {'Landskapsarkitektur': '54.7'}, {'Byggeteknikk': '49.8'}, {'Maskin-': '43.2'}, {'Industriell': '52.3'}, {'Kjemi': 'Alle'}, {'Miljøfysikk': '49.2'}, {'Vann-': 'Alle'}, {'Geomatikk:': 'Alle'}, {'Fornybar': '51.5'}, {'Plantevitenskap': 'Alle'}, {'Lektorutdanning': 'Alle'}, {'Energi-': '42.9'}, {'Matvitenskap': 'Alle'}, {'By-': '47.7'}]\n",
      "UIO [{'Engelsk': '58.7'}, {'Fransk': '55.9'}, {'Historie': '57.1'}, {'Nordisk': '57.8'}, {'Norsk': '51.2'}, {'Tegnspråk': 'Alle'}, {'Tverrfaglige': '53.8'}, {'Realfag': 'Alle'}, {'Kunsthistorie': '56.7'}, {'Matematikk': 'Alle'}, {'Kultur': '53'}, {'Biologi': '44.4'}, {'Musikkvitenskap': 'Alle'}, {'Samfunnsgeografi': '52.5'}, {'Estetiske': '50.6'}, {'Offentlig': '54.2'}, {'Portugisisk': '42.4'}, {'Antikk': '46.8'}, {'Midtøstenstudier': 'Alle'}, {'Kunsthistorie': '49'}, {'Informatikk:': 'Alle'}, {'Helseledelse': '53.5'}, {'Tegnspråk': 'Alle'}, {'Arkeologi': '48.5'}, {'Filosofi': '48.4'}, {'Teologi': 'Alle'}, {'Historie': '48.3'}, {'Religion': '45'}, {'Russisk': '38'}, {'Italiensk': '41.3'}, {'Japansk': '49.7'}, {'Kinesisk': '52.4'}, {'Arkivkunnskap': '53.9'}, {'Medievitenskap': '56.3'}, {'Allmenn': '56.7'}, {'Kristendom': '47.8'}, {'Tysk': '51.8'}, {'Samfunnsøkonomisk': '55'}, {'Farmasi': '50.4'}, {'Master': 'Alle'}, {'Master': '63'}, {'Rettsvitenskap': '58.1'}, {'Rettsvitenskap': '55.7'}, {'Medisin': '68'}, {'Odontologi': '63.9'}, {'Medisin': '66.1'}, {'Odontologi': 'Alle'}, {'Psykologi': '57'}, {'Teologi': 'Alle'}, {'Nederlandsk': 'Alle'}, {'Fransk': '40.4'}, {'Tysk': 'Alle'}, {'Lektorprogrammet': 'Alle'}, {'Informatikk:': 'Alle'}, {'Informatikk:': '46'}, {'Informatikk:': '38.8'}, {'Informatikk:': '45.5'}, {'Demokrati': '50'}, {'Lektorprogrammet': 'Alle'}, {'Lektorprogrammet': '49.3'}, {'Medievitenskap': '50.2'}, {'Pedagogikk': '46.5'}, {'Spesialpedagogikk': '46.4'}, {'Elektronikk': 'Alle'}, {'Fysikk': '40.9'}, {'Geofag:': '43.8'}, {'Kjemi': 'Alle'}, {'Matematikk': '51.8'}, {'Materialer': 'Alle'}, {'Molekylærbiologi': '41.7'}, {'India': '48'}, {'Europastudier': '51.8'}, {'Internasjonale': '58.1'}, {'Tverrfaglige': '47.6'}, {'Kriminologi': '53.3'}, {'Psykologi': '55.9'}, {'Sosialantropologi': '50.2'}, {'Sosiologi': '50.4'}, {'Statsvitenskap': '54.2'}, {'Utviklingsstudier': '51.7'}, {'Nordiske': '46.9'}, {'Lingvistikk': '55.7'}, {'Samfunnsøkonomi': '55.5'}, {'Tannpleie': '54.2'}, {'Kulturarv': '49.8'}, {'Spansk': '60.2'}, {'Latin-Amerika-studier': '45.5'}, {'Nord-Amerika-studier': '44.8'}, {'Engelsk': '51.6'}, {'Allmenn': '50.9'}, {'Midtøsten-studier': '52'}, {'Spansk': '52.8'}, {'Religionshistorie': '42'}, {'Lektorprogrammet': 'Alle'}, {'Psykologi': '64.9'}, {'Psykologi': '63'}]\n",
      "UIS [{'Bygg': '40.7'}, {'Data': 'Alle'}, {'Elektro': 'Alle'}, {'Kjemi': 'Alle'}, {'Maskin': 'Alle'}, {'Petroleumsteknologi': '44'}, {'Fjernsyns-': '45.8'}, {'Sykepleierutdanning': '36.3'}, {'Barnevern': '37.1'}, {'Sosialt': '39.8'}, {'Førskolelærerutdanning': 'Alle'}, {'Engelsk': '32.3'}, {'Historie': 'Alle'}, {'Religionsstudier': 'Alle'}, {'Kunst-': 'Alle'}, {'Matematikk': 'Alle'}, {'Nordisk': 'Alle'}, {'Sosiologi': '35.9'}, {'Hotelledelse': 'Alle'}, {'Reiselivsledelse': 'Alle'}, {'Regnskap': '39.2'}, {'Økonomi': '46.7'}, {'Økonomi': '43.9'}, {'Kroppsøving/idrett': '38.9'}, {'Journalistikk': '48.4'}, {'Historie': 'Alle'}, {'Kunst': '43'}, {'Grunnskolelærerutdanning': 'Alle'}, {'Drama': 'Alle'}, {'Kroppsøving/idrett': '42.2'}, {'Grunnskolelærerutdanning': 'Alle'}, {'Konstruksjoner': '38.7'}, {'Industriell': '49.9'}, {'Petroleumsteknologi': '46.8'}, {'Offshoreteknologi': '45.7'}, {'Informasjonsteknologi': '41.5'}, {'Adjunkt-': 'Alle'}, {'Matematikk': 'Alle'}, {'Biologisk': 'Alle'}, {'Sosiologi': '32.9'}, {'Statsvitenskap': '41.7'}, {'Engelsk': 'Alle'}, {'Nordisk': 'Alle'}, {'Byutvikling': 'Alle'}, {'Petroleumsgeologi': '41.4'}]\n",
      "UIT [{'Ingeniør': 'Alle'}, {'Ingeniør': 'Alle'}, {'Ingeniør': 'Alle'}, {'Ingeniør': 'Alle'}, {'Sykepleierutdanning': '43.8'}, {'Lærerutdanning': 'Alle'}, {'Lærerutdanning': 'Alle'}, {'Førskolelærerutdanning': 'Alle'}, {'Førskolelærerutdanning': 'Alle'}, {'Allmenn': 'Alle'}, {'Bedriftsøkonomi': '38.6'}, {'Engelsk': 'Alle'}, {'Fransk': 'Alle'}, {'Historie': 'Alle'}, {'Matematikk': 'Alle'}, {'Nordisk': 'Alle'}, {'Kjønnsstudier': 'Alle'}, {'Nordsamisk': 'Alle'}, {'Bioteknologi': 'Alle'}, {'Datasikkerhet': 'Alle'}, {'Biologi': 'Alle'}, {'Fiskeri-': 'Alle'}, {'Økonomi': '38.6'}, {'Informatikk': 'Alle'}, {'Biomedisin': 'Alle'}, {'Samfunnsplanlegging': 'Alle'}, {'Kunstvitenskap': 'Alle'}, {'Arkeologi': 'Alle'}, {'Filosofi': 'Alle'}, {'Historie': 'Alle'}, {'Religionsvitenskap': 'Alle'}, {'Russlandsstudier': 'Alle'}, {'Antikkens': 'Alle'}, {'Historie': 'Alle'}, {'Allmenn': 'Alle'}, {'Allmenn': 'Alle'}, {'Engelsk': 'Alle'}, {'Religionsvitenskap': 'Alle'}, {'Luftfartsfag': 'Alle'}, {'Allmenn': 'Alle'}, {'Drama': 'Alle'}, {'Ergoterapeututdanning': '41.4'}, {'Radiografutdanning': '40'}, {'Bioingeniørutdanning': 'Alle'}, {'Fysioterapeututdanning': '53.6'}, {'Farmasi': 'Alle'}, {'Fiskehelse': 'Alle'}, {'Russisk': 'Alle'}, {'Rettsvitenskap': '47.3'}, {'Medisinske': 'Alle'}, {'Medisin': '61.2'}, {'Odontologi': '58.8'}, {'Tannpleierutdanning': '49.9'}, {'Psykologi': '42.6'}, {'Energi': 'Alle'}, {'Dataanalyse': 'Alle'}, {'Informatikk': 'Alle'}, {'Antikkens': 'Alle'}, {'Industriell': 'Alle'}, {'Romfysikk': 'Alle'}, {'Lektorutdanning': 'Alle'}, {'Lektorutdanning': 'Alle'}, {'Dokumentasjonsvitenskap': 'Alle'}, {'Pedagogikk': 'Alle'}, {'Fysikk': 'Alle'}, {'Geologi': 'Alle'}, {'Kjemi': 'Alle'}, {'Matematikk': 'Alle'}, {'Ledelse': '38.7'}, {'Psykologi': '41.6'}, {'Samfunnssikkerhet': 'Alle'}, {'Politikk': 'Alle'}, {'Sosialantropologi': 'Alle'}, {'Sosiologi': 'Alle'}, {'Statsvitenskap': 'Alle'}, {'Språk': 'Alle'}, {'Språk': 'Alle'}, {'Samfunnsøkonomi': 'Alle'}, {'Religionsvitenskap': 'Alle'}, {'Spansk': 'Alle'}, {'Nordisk': 'Alle'}]\n"
     ]
    }
   ],
   "source": [
    "def create_dictionary(poenggrenser):\n",
    "    studies_dict = {}\n",
    "    for row in poenggrenser:\n",
    "        studie, poeng = row\n",
    "        study_location, studie_name = studie.strip('\"').split(' ')[0], studie.strip('\"').split(' ')[2]\n",
    "        study_dict = {studie_name: poeng.strip('\"')}\n",
    "        \n",
    "        if study_location in studies_dict:\n",
    "            studies_dict[study_location].append(study_dict)\n",
    "        else:\n",
    "            studies_dict[study_location] = [study_dict]\n",
    "    \n",
    "    return studies_dict\n",
    "\n",
    "studies_dict = create_dictionary(poenggrenser)\n",
    "for location, studies in studies_dict.items():\n",
    "    print(location, studies)\n"
   ]
  }
 ],
 "metadata": {
  "kernelspec": {
   "display_name": "Python 3 (ipykernel)",
   "language": "python",
   "name": "python3"
  },
  "language_info": {
   "codemirror_mode": {
    "name": "ipython",
    "version": 3
   },
   "file_extension": ".py",
   "mimetype": "text/x-python",
   "name": "python",
   "nbconvert_exporter": "python",
   "pygments_lexer": "ipython3",
   "version": "3.10.13"
  },
  "toc": {
   "base_numbering": 1,
   "nav_menu": {},
   "number_sections": false,
   "sideBar": true,
   "skip_h1_title": false,
   "title_cell": "Table of Contents",
   "title_sidebar": "Contents",
   "toc_cell": false,
   "toc_position": {},
   "toc_section_display": true,
   "toc_window_display": false
  }
 },
 "nbformat": 4,
 "nbformat_minor": 2
}
