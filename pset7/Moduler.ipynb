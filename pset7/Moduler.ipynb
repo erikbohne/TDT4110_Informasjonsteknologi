{
 "cells": [
  {
   "cell_type": "markdown",
   "id": "6b270412",
   "metadata": {
    "deletable": false,
    "editable": false,
    "run_control": {
     "frozen": true
    }
   },
   "source": [
    "<nav class=\"navbar navbar-default\">\n",
    "  <div class=\"container-fluid\">\n",
    "    <div class=\"navbar-header\">\n",
    "      <a class=\"navbar-brand\" href=\"_Oving7.ipynb\">Øving 7</a>\n",
    "    </div>\n",
    "    <ul class=\"nav navbar-nav\">\n",
    "    <li><a href=\"Generelt%20om%20dictionary.ipynb\">Generelt om dictionary</a></li>\n",
    "    <li><a href=\"Innebygde%20funksjoner%20i%20dictionaries.ipynb\">Innebygde funksjoner</a></li>\n",
    "    <li><a href=\"Generelt%20om%20sets.ipynb\">Generelt om sets</a></li>\n",
    "    <li><a href=\"Generelt%20om%20filbehandling.ipynb\">Generelt om filbehandling</a></li>\n",
    "    <li><a href=\"Osteviruset.ipynb\">Osteviruset</a></li>\n",
    "    <li><a href=\"Bursdagsdatabasen.ipynb\">Bursdagsdatabasen</a></li>\n",
    "    <li><a href=\"Tallak%20teller%20antall%20tall.ipynb\">Tallak teller antall tall</a></li>\n",
    "    <li><a href=\"Enhetstesting.ipynb\">Enhetstesting</a></li>\n",
    "    <li><a href=\"Tidtaking.ipynb\">Tidtaking</a></li>\n",
    "    <li class = \"active\"><a href=\"Moduler.ipynb\">Moduler</a></li>\n",
    "    <li><a href=\"Opptaksgrenser.ipynb\">Opptaksgrenser</a></li>\n",
    "    <li><a href=\"Soke%20i%20tekst.ipynb\">Søke i tekst</a></li>\n",
    "    <li><a href=\"Tre%20paa%20rad.ipynb\">Tre på rad</a></li>\n",
    "    </ul>\n",
    "  </div>\n",
    "</nav>\n",
    "\n",
    "\n",
    "# Moduler\n",
    "\n",
    "**Læringsmål:**\n",
    "\n",
    "* Importere moduler\n",
    "* Lage egne moduler"
   ]
  },
  {
   "cell_type": "markdown",
   "id": "56b78311",
   "metadata": {
    "deletable": false,
    "editable": false,
    "run_control": {
     "frozen": true
    }
   },
   "source": [
    "I denne oppgaven skal du lære hvordan du importerer, bruker og lager egne moduler."
   ]
  },
  {
   "cell_type": "markdown",
   "id": "5d318b82",
   "metadata": {
    "deletable": false,
    "editable": false,
    "heading_collapsed": true,
    "run_control": {
     "frozen": true
    }
   },
   "source": [
    "## Tutorial: Moduler\n",
    "Les gjerne denne før du setter i gang med oppgaven."
   ]
  },
  {
   "cell_type": "markdown",
   "id": "0b5edc4f",
   "metadata": {
    "deletable": false,
    "editable": false,
    "hidden": true,
    "run_control": {
     "frozen": true
    }
   },
   "source": [
    "Moduler i Python er ekstern kode som kan importeres inn i din egen kode. Du er allerede vant med å bruke det _eksterne_ biblioteket **numpy**, som er en slik modul. **Numpy** er en såkalt _open source_ modul med over 1300 bidragsytere. All koden til **numpy** biblioteket kan sees [her](https://github.com/numpy/numpy). Som sagt er **numpy** en ektern modul, og vi må installere den før vi kan bruke den. Det finnes også innebygde moduler i Python, som f.eks math-modulen. Denne er faktisk skrevet i programmeringsspråket C, og kan sees [her](https://github.com/python/cpython/blob/main/Modules/mathmodule.c). Denne trenger vi ikke installere før vi kan bruke den, da den er inkludert i Python installasjonen vår. Kodeblokken under gir deg en liten refresher på hvordan du importerer og bruker moduler og funksjoner fra moduler:"
   ]
  },
  {
   "cell_type": "code",
   "execution_count": 1,
   "id": "f8a8cec1",
   "metadata": {
    "hidden": true
   },
   "outputs": [
    {
     "name": "stdout",
     "output_type": "stream",
     "text": [
      "2\n",
      "2.0\n",
      "[(1, 2), (1, 3), (1, 4), (2, 1), (2, 3), (2, 4), (3, 1), (3, 2), (3, 4), (4, 1), (4, 2), (4, 3)]\n"
     ]
    }
   ],
   "source": [
    "import math # Importerer hele math modulen\n",
    "import numpy as np # Importerer numpy modulen og kaller den for np, slik at vi slipper å skrive numpy hver gang vi skal bruke den\n",
    "from itertools import permutations # Importerer bare én funksjon fra modulen itertools\n",
    "\n",
    "print(math.ceil(1.4)) # Bruker ceil-funksjonen i math modulen\n",
    "print(np.ceil(1.4)) # Bruker ceil-funksjonen i numpy modulen\n",
    "\n",
    "l = [1, 2, 3, 4]\n",
    "print(list(permutations(l, 2))) # Bruker permutations funksjonen fra itertools modulen"
   ]
  },
  {
   "cell_type": "markdown",
   "id": "1d64ea9c",
   "metadata": {
    "deletable": false,
    "editable": false,
    "hidden": true,
    "run_control": {
     "frozen": true
    }
   },
   "source": [
    "Å importere moduler gjør at vi slipper å ha all koden vi bruker i vår egen kode. Tenk bare hvor mye kode og rot det hadde blitt om vi måtte inkludere all **Numpy**-koden i vår egen kode hver gang vi skulle brukt den!\n",
    "\n",
    "Vi kan lett lage våre egne moduler også. Dette er veldig nyttig når vi skirver større programmer og ikke ønsker gigantiske filer hvor all koden står i én fil. Kanskje vil du separere ut kode som bare skal være hjelpefunksjoner, slik som en funskjon som skal finne gjennomsnitt, eller du vil dele opp koden din slik at hver fil omhandler ét tema. Tenk deg at du skal lage et program som skal plotte mange forskjellige matematiske funksjoner. Da kan det være fint å ha alle de matematiske funksjonene i én fil, og logikken og funksjonene for plotting i en annen. Da blir koden mer ryddig og lesbar.\n",
    "\n",
    "Moduler vi skriver selv er helt vanlige **.py**-filer som inneholder Python kode. Vi har laget en modul til denne øvingen, som kan sees [her](./functions.py). Moduler du lager på egenhånd importeres og brukes akkurat som andre moduler."
   ]
  },
  {
   "cell_type": "markdown",
   "id": "66185ce1",
   "metadata": {
    "deletable": false,
    "editable": false,
    "heading_collapsed": true,
    "run_control": {
     "frozen": true
    }
   },
   "source": [
    "## Tutorial: Lage egne moduler i JupyterLab\n",
    "Les gjerne denne før du setter i gang med oppgaven"
   ]
  },
  {
   "cell_type": "markdown",
   "id": "34b43007",
   "metadata": {
    "deletable": false,
    "editable": false,
    "hidden": true,
    "run_control": {
     "frozen": true
    }
   },
   "source": [
    "Hvordan du lager egne moduler i JupyterLab er ganske likt slik du ville gjort det i en IDE. Her er en step-by-step guide for hvordan du kan lage din egen modul i JupyterLab:\n",
    "\n",
    "1. Pass på at du er i samme mappe som øvings-notebooken i mappesystemet til Jupyter.\n",
    "2. Klikk på \"File\" -> \"New\" -> \"Python File\"  (øverst til venstre)\n",
    "3. Nå ble det laget en ny Python-fil med navn \"untitled.py\". Høyreklikk på denne i filutforskerern, velg \"rename\", og skriv inn ønsket navn på filen (modulen)\n",
    "4. Skriv koden din i python-filen (kan f.eks. definere flere funksjoner)\n",
    "5. Nå er modulen klar. Den kan nå importeres av notebooks (eller andre Python-filer) i samme mappe.\n",
    "\n",
    "Hvis navnet på filen din er `modul.py`, og har en funksjon som heter `foo`, kan den importeres og brukes slik:\n",
    "\n",
    "```python\n",
    "import modul\n",
    "\n",
    "modul.foo()\n",
    "\n",
    "```\n",
    "\n",
    "Hvis du ønsker å bruke et alias for modulen, slik vi ofte gjør med numpy (np), kan det gjøres slik:\n",
    "\n",
    "```python\n",
    "import modul as m\n",
    "\n",
    "m.foo()\n",
    "\n",
    "```\n",
    "Her er `m` alias for `modul`. Du kan velge navn på alias helt selv."
   ]
  },
  {
   "cell_type": "markdown",
   "id": "cce1529e",
   "metadata": {
    "deletable": false,
    "editable": false,
    "heading_collapsed": true,
    "run_control": {
     "frozen": true
    }
   },
   "source": [
    "## a)"
   ]
  },
  {
   "cell_type": "markdown",
   "id": "0145d7b8",
   "metadata": {
    "deletable": false,
    "editable": false,
    "hidden": true,
    "run_control": {
     "frozen": true
    }
   },
   "source": [
    "Vi har laget en modul som du skal bruke i denne oppgaven. Modulen heter `min_modul` og inneholder en ny datatype som vi har skrevet selv, kalt `Stack`. En `Stack` er ikke en ukjent datatype, og er en standard datatype i andre programmeringsspråk. Python, derimot, har ikke denne innebygd, derfor må vi lage den selv slik at vi kan bruke den. Du kan se koden [her](./min_modul.py). Oppførselen til en `Stack` er beskrevet nedenfor:\n",
    "\n",
    "* En Stack er en type liste, men vi kan kun hente ut første element. Hvert element som blir lagt til i listen, blir lagt til som første element i Stacken.\n",
    "* `s = Stack(*args)` oppretter en ny Stack\n",
    "* `s.push(elem)` pusher `elem` inn på Stacken\n",
    "* `s.peek()` lar oss se hva det første elementet i Stacken er\n",
    "* `s.pop()` fjerner det første elementet fra Stacken og returnerer det til oss\n",
    "* `s.is_empty()` returnerer `True` dersom Stacken er tom og `False` om den har elementer\n",
    "* `s.clear()` fjerner alle elementene i Stacken\n",
    "\n",
    "```python\n",
    ">>> s = Stack(5, 4, 3, 2, 1)\n",
    ">>> s\n",
    "[5, 4, 3, 2, 1]\n",
    ">>> s.peek()\n",
    "5\n",
    ">>> s.pop()\n",
    "5\n",
    ">>> s\n",
    "[4, 3, 2, 1]\n",
    ">>> s.push(10)\n",
    ">>> s\n",
    "[10, 4, 3, 2, 1]\n",
    ">>> s.is_empty()\n",
    "False\n",
    ">>> s.clear()\n",
    ">>> s.is_empty()\n",
    "True\n",
    "```\n",
    "\n",
    "I denne oppgaven skal du bruke datatypen `Stack` som defniert i `min_modul`. Altså skal du importere modulen og bruke datatypen definert der. Du skal også lage en funksjon `convert(n, b)` som konverterer tallet `n` i base 10 til base `b`, ved hjelp av en `Stack`. Algoritmen for `convert` er beskrevet nedenfor:\n",
    "\n",
    "1. Del `n` på `b`\n",
    "2. Lagre kvotienten og resten i to variabler `k` og `r`\n",
    "3. La `k = n` og fortsett steg 1 og 2 til `k = 0`\n",
    "4. Når `k = 0` er det konverterte tallet alle rest-verdiene du har funnet, i reversert rekkefølge.\n",
    "\n",
    "Eksempel på å konvertere `50` i base 10 til base 2:\n",
    "\n",
    "```\n",
    "50 / 2 = 25 * 2 + 0\n",
    "25 / 2 = 12 * 2 + 1\n",
    "12 / 2 = 6 * 2 + 0\n",
    "6 / 2 = 3 * 2 + 0\n",
    "3 / 2 = 1 * 2 + 1\n",
    "1 / 2 = 0 * 1 + 1\n",
    "\n",
    "50b10 == 110010b2\n",
    "```\n",
    "\n",
    "***Skriv koden din i kodeblokken under***"
   ]
  },
  {
   "cell_type": "code",
   "execution_count": 6,
   "id": "f8662ac5",
   "metadata": {
    "hidden": true
   },
   "outputs": [],
   "source": [
    "# Import module including the Stack class\n",
    "from min_modul import Stack\n",
    "\n",
    "def convert(n, b):\n",
    "    \"\"\"Converts a decimal number to a number in base b and returns the result as a list\"\"\"\n",
    "    s = Stack()\n",
    "    while n > 0: # While the quotient is greater than zero\n",
    "        s.push(n % b) # Push the remainder of the quotient divided by b to the stack\n",
    "        n = n // b # Divide the quotient by b and assign the result to n\n",
    "    result = []\n",
    "    while not s.is_empty(): # While the stack is not empty\n",
    "        result.append(s.pop()) # Append the popped value to the result list\n",
    "    \n",
    "    # Reverse the list and return it\n",
    "    return result[::-1]"
   ]
  },
  {
   "cell_type": "markdown",
   "id": "b863fcb3",
   "metadata": {
    "deletable": false,
    "editable": false,
    "hidden": true,
    "run_control": {
     "frozen": true
    }
   },
   "source": [
    "Hvis du har skrevet funksjonen rett, skal kodeblokken under gi følgende output:\n",
    "\n",
    "```python\n",
    "[1, 1, 0, 0, 1, 0]\n",
    "[1, 3, 2, 4, 3]\n",
    "[1, 1]\n",
    "```"
   ]
  },
  {
   "cell_type": "code",
   "execution_count": 7,
   "id": "38025941",
   "metadata": {
    "hidden": true
   },
   "outputs": [
    {
     "name": "stdout",
     "output_type": "stream",
     "text": [
      "[1, 1, 0, 0, 1, 0]\n",
      "[1, 3, 2, 4, 3]\n",
      "[1, 1]\n"
     ]
    }
   ],
   "source": [
    "print(convert(50, 2))\n",
    "print(convert(1073, 5))\n",
    "print(convert(4, 3))"
   ]
  },
  {
   "cell_type": "markdown",
   "id": "5a32c9dc",
   "metadata": {
    "deletable": false,
    "editable": false,
    "heading_collapsed": true,
    "run_control": {
     "frozen": true
    }
   },
   "source": [
    "## b)"
   ]
  },
  {
   "cell_type": "markdown",
   "id": "8368382f",
   "metadata": {
    "deletable": false,
    "editable": false,
    "hidden": true,
    "run_control": {
     "frozen": true
    }
   },
   "source": [
    "I denne oppgaven skal du lage din egen modul. Denne trenger _ikke_ være en ny datatype slik som i oppgave a). Du står fritt til å lage en modul du selv ønsker. Dette kan være enkle funksjoner eller konstanter, eller mer avansert som i forrige oppgave. Eneste krav til denne oppgaven er at du importerer og bruker modulen din på forskjellige måter i koden her. \n",
    "\n",
    "Lag din egen modul og importer forskjellige funksjoner/konstanter på forskjellige måter.\n",
    "\n",
    "***Skriv koden din i kodeblokkene under***"
   ]
  },
  {
   "cell_type": "code",
   "execution_count": 11,
   "id": "4241bc94",
   "metadata": {
    "hidden": true
   },
   "outputs": [
    {
     "name": "stdout",
     "output_type": "stream",
     "text": [
      "heipådeggamlesjokkosei\n"
     ]
    }
   ],
   "source": [
    "# Importer hele modulen her, uten å gi den noe navn. Kjør litt kode fra modulen\n",
    "import text\n",
    "\n",
    "tekst = text.Text(\"Dette er en tekst som jeg har skrevet helt selv. Den er skrevet for å teste modulen jeg har laget som blant annet vil printe at heipådeggamlesjokkosei er det lengste ordet i denne teksten. Det er et ord som jeg fant på selv.\")\n",
    "\n",
    "print(tekst.longest_word())"
   ]
  },
  {
   "cell_type": "code",
   "execution_count": 12,
   "id": "c479a934",
   "metadata": {
    "hidden": true
   },
   "outputs": [
    {
     "name": "stdout",
     "output_type": "stream",
     "text": [
      ".netsket enned eresrever nak gej mo ekkejs gej liv åN\n"
     ]
    }
   ],
   "source": [
    "import text as t # Importer modulen og kall den for t\n",
    "\n",
    "tekst = t.Text(\"Nå vil jeg sjekke om jeg kan reversere denne teksten.\")\n",
    "\n",
    "print(tekst.reverse())"
   ]
  },
  {
   "cell_type": "code",
   "execution_count": 16,
   "id": "abf7a713",
   "metadata": {
    "hidden": true
   },
   "outputs": [
    {
     "name": "stdout",
     "output_type": "stream",
     "text": [
      "\n",
      "    Word count: 51\n",
      "    Character count: 232\n",
      "    Longest word: teksten,\n",
      "    \n"
     ]
    }
   ],
   "source": [
    "from text import Text # Importer bare klassen Text fra modulen text\n",
    "\n",
    "tekst = Text(\"Nå skal jeg sjekke hvor mange ord og tegn det er i denne teksten, derfor skal jeg skrive en liten historie om Mons. Mons er en glad gutt som liker å spise is. En dag spiste han så mye is at han ble kvalm. Da gikk han hjem og la seg.\")\n",
    "\n",
    "print(\n",
    "    f\"\"\"\n",
    "    Word count: {tekst.count_words()}\n",
    "    Character count: {tekst.count_chars()}\n",
    "    Longest word: {tekst.longest_word()}\n",
    "    \"\"\"\n",
    ")"
   ]
  }
 ],
 "metadata": {
  "kernelspec": {
   "display_name": "Python 3.9.7 ('tdt4195')",
   "language": "python",
   "name": "python3"
  },
  "language_info": {
   "codemirror_mode": {
    "name": "ipython",
    "version": 3
   },
   "file_extension": ".py",
   "mimetype": "text/x-python",
   "name": "python",
   "nbconvert_exporter": "python",
   "pygments_lexer": "ipython3",
   "version": "3.10.13"
  },
  "vscode": {
   "interpreter": {
    "hash": "63b89d9bfc14eb4486c27c9b239bf0a08c4c63a21c176f83036370f0e204c130"
   }
  }
 },
 "nbformat": 4,
 "nbformat_minor": 5
}
