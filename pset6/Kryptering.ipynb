{
 "cells": [
  {
   "cell_type": "markdown",
   "metadata": {
    "deletable": false,
    "run_control": {
     "frozen": true
    }
   },
   "source": [
    "<nav class=\"navbar navbar-default\">\n",
    "  <div class=\"container-fluid\">\n",
    "    <div class=\"navbar-header\">\n",
    "      <a class=\"navbar-brand\" href=\"_Oving6.ipynb\">Øving 6</a>\n",
    "    </div>\n",
    "    <ul class=\"nav navbar-nav\">\n",
    "    <li ><a href=\"Aksessering.ipynb\">Aksessering av karakter</a></li>\n",
    "    <li ><a href=\"Strenger%20og%20konkatinering.ipynb\">Konkatinering</a></li>\n",
    "    <li ><a href=\"Slicing.ipynb\">Slicing</a></li>\n",
    "    <li ><a href=\"Tekstbehandling.ipynb\">Tekstbehandling</a></li>\n",
    "    <li ><a href=\"Strenghandtering.ipynb\">Strenghåndtering</a></li>\n",
    "    <li ><a href=\"Innebygde%20funksjoner.ipynb\">Innebygde funksjoner og lister</a></li>\n",
    "    <li ><a href=\"Fjesboka.ipynb\">Fjesboka</a></li>\n",
    "    <li ><a href=\"Akkorder%20og%20toner.ipynb\">Akkorder og toner</a></li>\n",
    "    <li><a href=\"Ideel%20gasslov.ipynb\">Ideel Gasslov</a></li>\n",
    "    <li><a href=\"Sammenhengende%20tallrekke.ipynb\">Sammenhengende Tallrekke</a></li>\n",
    "    <li ><a href=\"Sortering.ipynb\">Sortering</a></li>\n",
    "    <li ><a href=\"Strengmanipulasjon.ipynb\">Strengmanipulasjon</a></li>\n",
    "    <li class=\"active\"><a href=\"Kryptering.ipynb\">Kryptering</a></li>\n",
    "    <li ><a href=\"Litt%20sjakk.ipynb\">Litt Sjakk</a></li>\n",
    "    <li ><a href=\"Lister%20og%20tupler.ipynb\">Lister og tupler</a></li>\n",
    "    </ul>\n",
    "  </div>\n",
    "</nav>\n",
    "\n",
    "# Kryptering\n",
    "\n",
    "**Læringsmål:**\n",
    "\n",
    "* Lister\n",
    "* Tekstbehandling\n",
    "* Nettverkssikkerhet \n",
    "\n",
    "\n",
    "James Bond er på et topphemmelig oppdrag i Langtvekkistan for MI6. Han ønsker å kunne kommunisere med oppdragsgiveren sin via internett, men myndighetene i Langtvekkistan overvåker alt som sendes over nett i landet. Derfor må Bond og MI6 bruke noe som heter [kryptering](https://www.datatilsynet.no/regelverk-og-skjema/behandle-personopplysninger/kryptering/) (datatilsynet) når de kommuniserer, slik at de vet at ingen andre kan lese meldingene de sender seg i mellom. Oppdraget ditt er nå å lage denne krypteringen og for å gjøre det bruker vi en metode kalt \"[One-time pad](https://en.wikipedia.org/wiki/One-time_pad)\". Den fungerer slik: \n",
    "\n",
    "Krypteringen foregår ved at man har en melding M og en nøkkel K, og regner ut C definert under: \n",
    "\n",
    "* m = bokstav i ordet M\n",
    "* k = hemmelig bokstav fra ordet K\n",
    "* c = m [XOR](https://en.wikipedia.org/wiki/Exclusive_or) k (den krypterte bokstaven i C)\n",
    "(dvs. 1101 XOR 1011 = 0110)\n",
    "\n",
    "For å dekryptere meldingen kan vi ved hjelp av passordet gjøre den motsatte operasjonen i og med at:\n",
    "\n",
    "* m = c XOR k\n",
    "\n",
    "Du kan fritt bruke disse hjelpefunksjoner i oppgaven:"
   ]
  },
  {
   "cell_type": "code",
   "execution_count": 3,
   "metadata": {
    "ExecuteTime": {
     "end_time": "2019-07-04T08:47:20.839175Z",
     "start_time": "2019-07-04T08:47:20.824023Z"
    }
   },
   "outputs": [],
   "source": [
    "import binascii\n",
    " \n",
    "def toHex(word):\n",
    "    return int(str(binascii.hexlify(word), 'ascii'), 16)\n",
    " \n",
    "def toString(word):\n",
    "    return str(binascii.unhexlify(hex(word)[2:]), 'ascii')"
   ]
  },
  {
   "cell_type": "markdown",
   "metadata": {
    "deletable": false,
    "editable": false,
    "run_control": {
     "frozen": true
    }
   },
   "source": [
    "`toHex` tar ikke inn en normal streng, men tar inn en binær streng. Koden nedenfor viser hvordan du konverterer en vanlig streng til binærstreng:\n",
    "\n",
    "```python\n",
    "string = bytes(string, encoding = 'ascii')\n",
    "```"
   ]
  },
  {
   "cell_type": "markdown",
   "metadata": {
    "deletable": false,
    "editable": false,
    "run_control": {
     "frozen": true
    }
   },
   "source": [
    "### a)"
   ]
  },
  {
   "cell_type": "markdown",
   "metadata": {
    "deletable": false,
    "editable": false,
    "run_control": {
     "frozen": true
    }
   },
   "source": [
    "Lag en funksjon `encrypt(message, key)` som tar inn en streng `message` og en nøkkel `key` (som er like lang som message, dvs. len(key)=len(message)) og returnerer det krypterte ordet ved å bruke XOR-operasjonen. \n",
    "\n",
    "Du må først gjøre om strengene `message` og `key` til heksadesimal v.h.a. funksjonen `toHex(word)` definert over. \n",
    "\n",
    "Funksjonen skal returnere heltallet `code` som er gitt ved M XOR K.\n",
    "\n",
    "Hint: XOR i python implementeres med `^`-operatoren.\n",
    "\n",
    "**Eksempel på kjøring:**\n",
    "```python\n",
    "print(encrypt('hei','abc')) #msg='hei', key='abc'\n",
    "-> 591626\n",
    "```\n",
    "\n",
    "***Skriv koden din i kodeblokken under og test at den fungerer:***"
   ]
  },
  {
   "cell_type": "code",
   "execution_count": 16,
   "metadata": {
    "ExecuteTime": {
     "end_time": "2019-07-04T08:56:37.033656Z",
     "start_time": "2019-07-04T08:56:37.027416Z"
    }
   },
   "outputs": [
    {
     "name": "stdout",
     "output_type": "stream",
     "text": [
      "591626\n"
     ]
    }
   ],
   "source": [
    "def encrypt(message, key):\n",
    "    \"\"\"Inputs message and key (with same length as message), returns encrypted message using XOR-encryption\"\"\"\n",
    "    encrypted = b\"\"\n",
    "    for i in range(len(message)):\n",
    "        encrypted += bytes([ord(message[i]) ^ ord(key[i])])\n",
    "    return int.from_bytes(encrypted, byteorder='big')\n",
    "\n",
    "print(encrypt(\"hei\", \"abc\"))"
   ]
  },
  {
   "cell_type": "markdown",
   "metadata": {
    "deletable": false,
    "editable": false,
    "run_control": {
     "frozen": true
    }
   },
   "source": [
    "### b)"
   ]
  },
  {
   "cell_type": "markdown",
   "metadata": {
    "deletable": false,
    "editable": false,
    "run_control": {
     "frozen": true
    }
   },
   "source": [
    "Lag en funksjon `decrypt(code, key)` som tar inn en kode generert fra encrypt og nøkkelen **key**, og returnerer meldingen. \n",
    "\n",
    "Husk at M = C XOR K.\n",
    "\n",
    "**Eksempel på kjøring:**\n",
    "```python\n",
    "print(decrypt(591626,'abc')) #key = 'abc', code = 591626\n",
    "-> hei\n",
    "```\n",
    "\n",
    "***Skriv koden din under og test at den fungerer:***"
   ]
  },
  {
   "cell_type": "code",
   "execution_count": 15,
   "metadata": {},
   "outputs": [
    {
     "data": {
      "text/plain": [
       "'hei'"
      ]
     },
     "execution_count": 15,
     "metadata": {},
     "output_type": "execute_result"
    }
   ],
   "source": [
    "def decrypt(code, key):\n",
    "    \"\"\"Inputs code and key (with same length as code), returns decrypted message using XOR-encryption\"\"\"\n",
    "    key_hex = toHex(key.encode())\n",
    "    decrypted_hex = code ^ key_hex\n",
    "    decrypted_message = toString(decrypted_hex)\n",
    "    return decrypted_message\n",
    "\n",
    "decrypt(encrypt(\"hei\", \"abc\"), \"abc\")"
   ]
  },
  {
   "cell_type": "markdown",
   "metadata": {
    "deletable": false,
    "editable": false,
    "heading_collapsed": true,
    "run_control": {
     "frozen": true
    }
   },
   "source": [
    "#### Hint"
   ]
  },
  {
   "cell_type": "markdown",
   "metadata": {
    "deletable": false,
    "editable": false,
    "hidden": true,
    "run_control": {
     "frozen": true
    }
   },
   "source": [
    "Her må du bruke både toHex og toString."
   ]
  },
  {
   "cell_type": "markdown",
   "metadata": {
    "deletable": false,
    "editable": false,
    "run_control": {
     "frozen": true
    }
   },
   "source": [
    "### c)"
   ]
  },
  {
   "cell_type": "markdown",
   "metadata": {
    "deletable": false,
    "editable": false,
    "run_control": {
     "frozen": true
    }
   },
   "source": [
    " Lag en funksjon `main()` som tar inn en setning fra bruker, genererer en tilfeldig nøkkel, skriver ut den krypterte setningen og så den dekrypterte setningen.\n",
    " \n",
    " **Eksempel på kjøring.**\n",
    " ```python\n",
    "Hva er meldingen? God dag, Bob Bernt\n",
    "Krypto: 8976018785527472660004435694777950941489408\n",
    "Melding: God dag, Bob Bernt\n",
    "```\n",
    "\n",
    "***Skriv koden din under og test at den fungerer:***"
   ]
  },
  {
   "cell_type": "code",
   "execution_count": 23,
   "metadata": {
    "ExecuteTime": {
     "end_time": "2019-07-04T09:04:56.317142Z",
     "start_time": "2019-07-04T09:04:56.310545Z"
    }
   },
   "outputs": [
    {
     "name": "stdout",
     "output_type": "stream",
     "text": [
      "Message: God dag, Bob Bernt\n",
      "Encrypted message: 4271225957211303469696781953611596834606878\n",
      "Decrypted message: God dag, Bob Bernt\n"
     ]
    }
   ],
   "source": [
    "import numpy as np\n",
    "\n",
    "def main():\n",
    "    \"\"\"Main function\"\"\"\n",
    "    message = input(\"Message: \")\n",
    "    print(\"Message: \" + message)\n",
    "    key = \"\".join([chr(np.random.randint(97, 123)) for i in range(len(message))]) # Random key with length of message and with letters a-z\n",
    "    print(f\"Encrypted message: {encrypt(message, key)}\")\n",
    "    decrypted = decrypt(encrypt(message, key), key)\n",
    "    print(\"Decrypted message: \" + decrypted)\n",
    "    \n",
    "main()"
   ]
  }
 ],
 "metadata": {
  "celltoolbar": "Edit Metadata",
  "kernelspec": {
   "display_name": "Python 3",
   "language": "python",
   "name": "python3"
  },
  "language_info": {
   "codemirror_mode": {
    "name": "ipython",
    "version": 3
   },
   "file_extension": ".py",
   "mimetype": "text/x-python",
   "name": "python",
   "nbconvert_exporter": "python",
   "pygments_lexer": "ipython3",
   "version": "3.10.13"
  },
  "toc": {
   "base_numbering": 1,
   "nav_menu": {},
   "number_sections": false,
   "sideBar": true,
   "skip_h1_title": false,
   "title_cell": "Table of Contents",
   "title_sidebar": "Contents",
   "toc_cell": false,
   "toc_position": {},
   "toc_section_display": true,
   "toc_window_display": false
  }
 },
 "nbformat": 4,
 "nbformat_minor": 2
}
