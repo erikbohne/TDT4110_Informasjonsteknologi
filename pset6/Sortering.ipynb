{
 "cells": [
  {
   "cell_type": "markdown",
   "metadata": {
    "deletable": false,
    "run_control": {
     "frozen": true
    }
   },
   "source": [
    "<nav class=\"navbar navbar-default\">\n",
    "  <div class=\"container-fluid\">\n",
    "    <div class=\"navbar-header\">\n",
    "      <a class=\"navbar-brand\" href=\"_Oving6.ipynb\">Øving 6</a>\n",
    "    </div>\n",
    "    <ul class=\"nav navbar-nav\">\n",
    "    <li ><a href=\"Aksessering.ipynb\">Aksessering av karakter</a></li>\n",
    "    <li ><a href=\"Strenger%20og%20konkatinering.ipynb\">Konkatinering</a></li>\n",
    "    <li ><a href=\"Slicing.ipynb\">Slicing</a></li>\n",
    "    <li ><a href=\"Tekstbehandling.ipynb\">Tekstbehandling</a></li>\n",
    "    <li ><a href=\"Strenghandtering.ipynb\">Strenghåndtering</a></li>\n",
    "    <li ><a href=\"Innebygde%20funksjoner.ipynb\">Innebygde funksjoner og lister</a></li>\n",
    "    <li ><a href=\"Fjesboka.ipynb\">Fjesboka</a></li>\n",
    "    <li ><a href=\"Akkorder%20og%20toner.ipynb\">Akkorder og toner</a></li>\n",
    "    <li ><a href=\"Ideel%20gasslov.ipynb\">Ideel Gasslov</a></li>\n",
    "    <li><a href=\"Sammenhengende%20tallrekke.ipynb\">Sammenhengende Tallrekke</a></li>\n",
    "    <li  class=\"active\"><a href=\"Sortering.ipynb\">Sortering</a></li>\n",
    "    <li ><a href=\"Strengmanipulasjon.ipynb\">Strengmanipulasjon</a></li>\n",
    "    <li ><a href=\"Kryptering.ipynb\">Kryptering</a></li>\n",
    "    <li ><a href=\"Litt%20sjakk.ipynb\">Litt Sjakk</a></li>\n",
    "    <li ><a href=\"Lister%20og%20tupler.ipynb\">Lister og tupler</a></li>\n",
    "    </ul>\n",
    "  </div>\n",
    "</nav>\n",
    "\n",
    "# Sortering\n",
    "\n",
    "**Læringsmål:**\n",
    "\n",
    "* Lister\n",
    "* Sortering\n",
    "\n",
    "Sortering av tall er en vanlig aktivitet i dataverden. Det er derfor utviklet mange mer eller mindre avanserte algoritmer for å gjøre dette effektivt (få antall beregninger). \n",
    "\n",
    "I denne oppgaven skal vi implementere to enkle sorteringsalgoritmer: [Bubble Sort](https://en.wikipedia.org/wiki/Bubble_sort) og [Selection Sort](https://en.wikipedia.org/wiki/Selection_sort). "
   ]
  },
  {
   "cell_type": "markdown",
   "metadata": {
    "deletable": false,
    "editable": false,
    "run_control": {
     "frozen": true
    }
   },
   "source": [
    "### a)"
   ]
  },
  {
   "cell_type": "markdown",
   "metadata": {
    "deletable": false,
    "editable": false,
    "run_control": {
     "frozen": true
    }
   },
   "source": [
    "Skriv funksjonen bubble_sort(list), forklart under.\n",
    "\n",
    "* Så lenge listen er usortert:\n",
    " * Gå gjennom hele listen\n",
    "   * Hvis elementet på plass i er større enn elementet på plass i+1\n",
    "     * Bytt plass på de to elementene\n",
    "     \n",
    "Funksjonen skal returnere den sorterte listen.\n",
    "\n",
    "**Eksempel på kjøring:**\n",
    "```python\n",
    "liste = [9,1,34,7,2,3,45,6,78,56,36,65,33,21,23,34,45,6]\n",
    "print(bubble_sort(liste))\n",
    "# Output blir:\n",
    "# [1, 2, 3, 6, 6, 7, 9, 21, 23, 33, 34, 34, 36, 45, 45, 56, 65, 78]\n",
    "```\n",
    "\n",
    "***Skriv koden din i kodeblokken under:***"
   ]
  },
  {
   "cell_type": "code",
   "execution_count": 1,
   "metadata": {},
   "outputs": [],
   "source": [
    "def bubble_sort(list):\n",
    "    \"\"\"Returns a sorted list using bubble sort\"\"\"\n",
    "    for i in range(len(list)):\n",
    "        for j in range(len(list)-1):\n",
    "            if list[j] > list[j+1]:\n",
    "                list[j], list[j+1] = list[j+1], list[j]\n",
    "    return list"
   ]
  },
  {
   "cell_type": "markdown",
   "metadata": {
    "deletable": false,
    "editable": false,
    "run_control": {
     "frozen": true
    }
   },
   "source": [
    "**Testkode**"
   ]
  },
  {
   "cell_type": "code",
   "execution_count": 2,
   "metadata": {},
   "outputs": [
    {
     "name": "stdout",
     "output_type": "stream",
     "text": [
      "[1, 2, 3, 6, 6, 7, 9, 21, 23, 33, 34, 34, 36, 45, 45, 56, 65, 78]\n"
     ]
    }
   ],
   "source": [
    "liste = [9,1,34,7,2,3,45,6,78,56,36,65,33,21,23,34,45,6]\n",
    "print(bubble_sort(liste))"
   ]
  },
  {
   "cell_type": "markdown",
   "metadata": {
    "deletable": false,
    "editable": false,
    "run_control": {
     "frozen": true
    }
   },
   "source": [
    "### b)"
   ]
  },
  {
   "cell_type": "markdown",
   "metadata": {
    "deletable": false,
    "editable": false,
    "run_control": {
     "frozen": true
    }
   },
   "source": [
    "Skriv funksjonen `selection_sort(list)`, forklart under.\n",
    "\n",
    "* Lag en ny liste \n",
    "* Gå gjennom hele den usorterte listen\n",
    " * Finn det største tallet i den usorterte listen\n",
    "   * Legg dette inn fremst i den nye listen\n",
    "   * Fjern elementet fra den usorterte listen\n",
    "   \n",
    "Funksjonen skal returnere den sorterte listen.\n",
    "\n",
    "**Eksempel på kjøring:**\n",
    "```python\n",
    "liste = [9,1,34,7,2,3,45,6,78,56,36,65,33,21,23,34,45,6]\n",
    "print(selection_sort(liste))\n",
    "# Output blir:\n",
    "# [1, 2, 3, 6, 6, 7, 9, 21, 23, 33, 34, 34, 36, 45, 45, 56, 65, 78]\n",
    "```\n",
    "\n",
    "**Skriv koden din i kodeblokken under:**"
   ]
  },
  {
   "cell_type": "code",
   "execution_count": 3,
   "metadata": {},
   "outputs": [],
   "source": [
    "def selection_sort(list):\n",
    "    \"\"\"Returns a sorted list using selection sort\"\"\"\n",
    "    for i in range(len(list)):\n",
    "        min = i\n",
    "        for j in range(i+1, len(list)):\n",
    "            if list[min] > list[j]:\n",
    "                min = j\n",
    "        list[i], list[min] = list[min], list[i]\n",
    "    return list"
   ]
  },
  {
   "cell_type": "markdown",
   "metadata": {
    "deletable": false,
    "editable": false,
    "run_control": {
     "frozen": true
    }
   },
   "source": [
    "**Testkode**"
   ]
  },
  {
   "cell_type": "code",
   "execution_count": 4,
   "metadata": {},
   "outputs": [
    {
     "name": "stdout",
     "output_type": "stream",
     "text": [
      "[1, 2, 3, 6, 6, 7, 9, 21, 23, 33, 34, 34, 36, 45, 45, 56, 65, 78]\n"
     ]
    }
   ],
   "source": [
    "liste = [9,1,34,7,2,3,45,6,78,56,36,65,33,21,23,34,45,6]\n",
    "print(selection_sort(liste))"
   ]
  },
  {
   "cell_type": "markdown",
   "metadata": {
    "deletable": false,
    "editable": false,
    "run_control": {
     "frozen": true
    }
   },
   "source": [
    "### c) (Frivillig)"
   ]
  },
  {
   "cell_type": "markdown",
   "metadata": {
    "deletable": false,
    "editable": false,
    "run_control": {
     "frozen": true
    }
   },
   "source": [
    "Hvilken av de to algoritmene er \"best\"/raskest til å sortere? Her kan det være lurt å lese seg opp på \"store O\"."
   ]
  },
  {
   "cell_type": "markdown",
   "metadata": {},
   "source": [
    "**Svar:**\n",
    "\n",
    "The big O of bubble sort is O(n^2) and the big O of selection sort is O(n^2). This should indicate that they are equally fast. At least the ratios between the two algorithms should be the same for different lengths.\n",
    "\n",
    "However, testing them on a list of 1000 random numbers, bubble sort took around 0.08 seconds, while selection sort took 0.02 seconds (tested a couple of times). This is probably because selection sort has fewer swaps than bubble sort, and swapping is a very expensive operation."
   ]
  },
  {
   "cell_type": "code",
   "execution_count": 20,
   "metadata": {},
   "outputs": [
    {
     "name": "stdout",
     "output_type": "stream",
     "text": [
      "Bubble: 9.505379915237427\n",
      "Selection: 2.5696609020233154\n"
     ]
    }
   ],
   "source": [
    "import time\n",
    "import random\n",
    "\n",
    "def random_list(length):\n",
    "    \"\"\"Returns a list of random numbers\"\"\"\n",
    "    list = []\n",
    "    for i in range(length):\n",
    "        list.append(random.randint(0,100))\n",
    "    return list\n",
    "\n",
    "def time_sort(sort, length):\n",
    "    \"\"\"Returns the time it takes to sort a list of random numbers\"\"\"\n",
    "    list = random_list(length)\n",
    "    start = time.time()\n",
    "    sort(list)\n",
    "    end = time.time()\n",
    "    return end - start\n",
    "\n",
    "print(f\"Bubble: {time_sort(bubble_sort, 10000)}\")\n",
    "print(f\"Selection: {time_sort(selection_sort, 10000)}\")"
   ]
  }
 ],
 "metadata": {
  "celltoolbar": "Edit Metadata",
  "kernelspec": {
   "display_name": "Python 3",
   "language": "python",
   "name": "python3"
  },
  "language_info": {
   "codemirror_mode": {
    "name": "ipython",
    "version": 3
   },
   "file_extension": ".py",
   "mimetype": "text/x-python",
   "name": "python",
   "nbconvert_exporter": "python",
   "pygments_lexer": "ipython3",
   "version": "3.10.13"
  },
  "toc": {
   "base_numbering": 1,
   "nav_menu": {},
   "number_sections": false,
   "sideBar": true,
   "skip_h1_title": false,
   "title_cell": "Table of Contents",
   "title_sidebar": "Contents",
   "toc_cell": false,
   "toc_position": {},
   "toc_section_display": true,
   "toc_window_display": false
  }
 },
 "nbformat": 4,
 "nbformat_minor": 2
}
